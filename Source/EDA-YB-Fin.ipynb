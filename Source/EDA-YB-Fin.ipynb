{
 "cells": [
  {
   "cell_type": "code",
   "execution_count": 14,
   "metadata": {
    "collapsed": true
   },
   "outputs": [],
   "source": [
    "import pandas as pd\n",
    "import numpy as np\n",
    "import datetime as dt\n",
    "import pylab as pl\n",
    "import matplotlib.pyplot as plt\n",
    "from scipy.stats import norm\n",
    "%matplotlib inline\n",
    "import seaborn as sns\n",
    "import itertools\n",
    "import scipy.stats as scs\n",
    "from scipy.spatial.distance import pdist, squareform\n",
    "from sklearn.cluster import KMeans \n",
    "from sklearn.metrics import silhouette_score, silhouette_samples\n",
    "import matplotlib.cm as cm\n",
    "from IPython.display import HTML, display"
   ]
  },
  {
   "cell_type": "code",
   "execution_count": 15,
   "metadata": {
    "collapsed": true
   },
   "outputs": [],
   "source": [
    "df = pd.read_csv(\"YesBank-datadump.csv\")"
   ]
  },
  {
   "cell_type": "code",
   "execution_count": 16,
   "metadata": {
    "collapsed": false
   },
   "outputs": [],
   "source": [
    "df.columns = df.columns.str.lstrip()"
   ]
  },
  {
   "cell_type": "code",
   "execution_count": 17,
   "metadata": {
    "collapsed": false
   },
   "outputs": [],
   "source": [
    "df.columns = df.columns.str.lower()"
   ]
  },
  {
   "cell_type": "code",
   "execution_count": 18,
   "metadata": {
    "collapsed": false
   },
   "outputs": [],
   "source": [
    "df.columns = df.columns.str.replace(\" \", \"_\")"
   ]
  },
  {
   "cell_type": "code",
   "execution_count": 19,
   "metadata": {
    "collapsed": false
   },
   "outputs": [
    {
     "data": {
      "text/plain": [
       "Index([u'activity_type', u'user_id', u'rm_id', u'user_os', u'viewing_app',\n",
       "       u'user_groups', u'shared_date', u'shared_time', u'title_of_content',\n",
       "       u'share_channel', u'viewed', u'time_spent_in_seconds',\n",
       "       u'last_activity_date', u'last_activity_time'],\n",
       "      dtype='object')"
      ]
     },
     "execution_count": 19,
     "metadata": {},
     "output_type": "execute_result"
    }
   ],
   "source": [
    "df.columns"
   ]
  },
  {
   "cell_type": "markdown",
   "metadata": {},
   "source": [
    "# EDA & Feature Engineering"
   ]
  },
  {
   "cell_type": "code",
   "execution_count": 20,
   "metadata": {
    "collapsed": false
   },
   "outputs": [
    {
     "data": {
      "text/plain": [
       "array(['MAC_OS_X_IPHONE', nan, 'ANDROID4', 'ANDROID6', 'ANDROID_MOBILE',\n",
       "       'ANDROID5', 'WINDOWS_10', 'WINDOWS_7', 'iOS9_IPHONE', 'MAC_OS_X'], dtype=object)"
      ]
     },
     "execution_count": 20,
     "metadata": {},
     "output_type": "execute_result"
    }
   ],
   "source": [
    "df[\"user_os\"].unique()\n"
   ]
  },
  {
   "cell_type": "code",
   "execution_count": 21,
   "metadata": {
    "collapsed": false
   },
   "outputs": [],
   "source": [
    "df.rename(columns={'user_os': 'viewing_device'}, inplace=True)\n",
    "df[\"viewing_device\"].replace({\"WINDOWS_7\" : \"Laptop/Desktop\", \"WINDOWS_10\" : \"Laptop/Desktop\", \"MAC_OS_X\" : \"Laptop/Desktop\"}, inplace = True)\n",
    "df[\"viewing_device\"].replace({\"ANDROID_MOBILE\" : \"Phone\", \"ANDROID6\" : \"Phone\", \"ANDROID4\" : \"Phone\", \"ANDROID5\" : \"Phone\", \"MAC_OS_X_IPHONE\" : \"Phone\", \"iOS9_IPHONE\" : \"Phone\", \"iOS8_1_IPHONE\" : \"Phone\", \"iOS8_3_IPHONE\" : \"Phone\", \"iOS9_IPHONE\" : \"Phone\"}, inplace=True)\n"
   ]
  },
  {
   "cell_type": "code",
   "execution_count": 26,
   "metadata": {
    "collapsed": false
   },
   "outputs": [
    {
     "data": {
      "text/plain": [
       "array(['SAFARI', nan, 'CHROME_MOBILE', 'MOBILE_SAFARI', 'CHROME'], dtype=object)"
      ]
     },
     "execution_count": 26,
     "metadata": {},
     "output_type": "execute_result"
    }
   ],
   "source": [
    "df.browser.unique()\n"
   ]
  },
  {
   "cell_type": "code",
   "execution_count": 24,
   "metadata": {
    "collapsed": false
   },
   "outputs": [
    {
     "data": {
      "text/plain": [
       "array(['SAFARI', nan, 'CHROME_MOBILE', 'MOBILE_SAFARI', 'CHROME'], dtype=object)"
      ]
     },
     "execution_count": 24,
     "metadata": {},
     "output_type": "execute_result"
    }
   ],
   "source": [
    "df.rename(columns={'viewing_app': 'browser'}, inplace=True)\n",
    "df[\"browser\"].replace({\"CHROME45\" : \"CHROME\", \"CHROME51\" : \"CHROME\", \"CHROME33\" : \"CHROME\", \"CHROME30\" : \"CHROME\", \"CHROME47\" : \"CHROME\", \"CHROME49\" : \"CHROME\", \"CHROME42\" : \"CHROME\", \"CHROME48\" : \"CHROME\", \"CHROME38\" : \"CHROME\", \"FIREFOX44\" : \"FIREFOX\", \"FIREFOX47\" : \"FIREFOX\", \"FIREFOX43\" : \"FIREFOX\", \"FIREFOX37\" : \"FIREFOX\", \"EDGE12\" : \"EDGE\"}, inplace = True)\n",
    "df[\"browser\"].replace({\"EDGE13\" : \"EDGE\", \"EDGE14\" : \"EDGE\", \"IE7\" : \"IE\", \"IE10\" : \"IE\", \"IE11\" : \"IE\", \"SAFARI9\" : \"SAFARI\", \"APPLE_WEB_KIT\" : \"SAFARI\"}, inplace=True)\n",
    "df.browser.unique()"
   ]
  },
  {
   "cell_type": "code",
   "execution_count": 27,
   "metadata": {
    "collapsed": false
   },
   "outputs": [],
   "source": [
    "df[\"shared_date\"] = pd.to_datetime(df[\"shared_date\"], format=\"%d-%b-%Y\")"
   ]
  },
  {
   "cell_type": "code",
   "execution_count": 28,
   "metadata": {
    "collapsed": false
   },
   "outputs": [],
   "source": [
    "df[\"last_activity_date\"] = pd.to_datetime(df[\"last_activity_date\"], format=\"%d-%b-%Y\")"
   ]
  },
  {
   "cell_type": "code",
   "execution_count": 31,
   "metadata": {
    "collapsed": false
   },
   "outputs": [
    {
     "data": {
      "text/plain": [
       "array([19,  9, 20, 21, 22, 11, 18, 17, 16, 15, 14, 13, 12, 10, 23,  8,  2,\n",
       "        0,  1])"
      ]
     },
     "execution_count": 31,
     "metadata": {},
     "output_type": "execute_result"
    }
   ],
   "source": [
    "df['weekday'] = df['last_activity_date'].dt.dayofweek\n",
    "df[\"weekday_name\"] = df['last_activity_date'].dt.weekday_name\n",
    "df[\"month\"] = df['last_activity_date'].dt.month\n",
    "df[\"time_of_day\"] = pd.to_datetime(df['last_activity_time'], format='%H:%M').dt.hour\n",
    "df.time_of_day.unique()"
   ]
  },
  {
   "cell_type": "code",
   "execution_count": 32,
   "metadata": {
    "collapsed": false
   },
   "outputs": [
    {
     "data": {
      "text/plain": [
       "array([4, 2, 3, 1])"
      ]
     },
     "execution_count": 32,
     "metadata": {},
     "output_type": "execute_result"
    }
   ],
   "source": [
    "# 1: Night(Midnight to 6 am), 2: Morning(6 am to Noon), 3: Afternoon(Noon to 6 pm), 4: Evening(6 pm to Midnight)\n",
    "df[\"time_of_day\"].replace({0 : 1, 2 : 1, 3 : 1, 4 : 1, 5 : 1}, inplace = True)\n",
    "df[\"time_of_day\"].replace({6 : 2, 7 : 2, 8 : 2, 9 : 2, 10 : 2, 11 : 2}, inplace = True)\n",
    "df[\"time_of_day\"].replace({12 : 3, 13 : 3, 14 : 3, 15 : 3, 16 : 3, 17 : 3}, inplace = True)\n",
    "df[\"time_of_day\"].replace({18 : 4, 19 : 4, 20 : 4, 21 : 4, 22 : 4, 23 : 4,}, inplace = True)\n",
    "df.time_of_day.unique()"
   ]
  },
  {
   "cell_type": "code",
   "execution_count": 34,
   "metadata": {
    "collapsed": false
   },
   "outputs": [],
   "source": [
    "df['hour'] = pd.to_datetime(df['last_activity_time'], format='%H:%M').dt.hour"
   ]
  },
  {
   "cell_type": "code",
   "execution_count": 35,
   "metadata": {
    "collapsed": false
   },
   "outputs": [
    {
     "data": {
      "text/plain": [
       "array([1, 0])"
      ]
     },
     "execution_count": 35,
     "metadata": {},
     "output_type": "execute_result"
    }
   ],
   "source": [
    "df.viewed.unique()"
   ]
  },
  {
   "cell_type": "code",
   "execution_count": 36,
   "metadata": {
    "collapsed": true
   },
   "outputs": [],
   "source": [
    "df[\"time_spent_mins\"] = df[\"time_spent_in_seconds\"]/60."
   ]
  },
  {
   "cell_type": "code",
   "execution_count": 37,
   "metadata": {
    "collapsed": false
   },
   "outputs": [],
   "source": [
    "hour_grouped = df.groupby(\"time_of_day\")[\"time_spent_mins\"].sum()"
   ]
  },
  {
   "cell_type": "code",
   "execution_count": 38,
   "metadata": {
    "collapsed": false
   },
   "outputs": [],
   "source": [
    "# plot = plt.bar(xrange(0,4),(df.groupby(\"time_of_day\")[\"time_spent_mins\"].sum()))\n",
    "# plt.xticks(xrange(0,4),[\"Night\", \"Morning\", \"Afternoon\", \"Evening\"])\n"
   ]
  },
  {
   "cell_type": "code",
   "execution_count": 39,
   "metadata": {
    "collapsed": false
   },
   "outputs": [
    {
     "data": {
      "text/plain": [
       "538"
      ]
     },
     "execution_count": 39,
     "metadata": {},
     "output_type": "execute_result"
    }
   ],
   "source": [
    "#sns.distplot(df[\"time_spent_mins\"], color=\"m\")\n",
    "len(df)"
   ]
  },
  {
   "cell_type": "code",
   "execution_count": 93,
   "metadata": {
    "collapsed": false
   },
   "outputs": [
    {
     "data": {
      "text/plain": [
       "<matplotlib.text.Text at 0x120221090>"
      ]
     },
     "execution_count": 93,
     "metadata": {},
     "output_type": "execute_result"
    },
    {
     "data": {
      "image/png": "[encoded data removed]",
      "text/plain": [
       "<matplotlib.figure.Figure at 0x1202d2590>"
      ]
     },
     "metadata": {},
     "output_type": "display_data"
    }
   ],
   "source": [
    "new_df = df[df[\"time_spent_mins\"] <= 10]\n",
    "plot = plt.hist(new_df[\"time_spent_mins\"])\n",
    "plt.xlabel(\"View Time in Minutes\")\n",
    "plt.ylabel(\"Number of Users\")\n",
    "#plt.boxplot(new_df[\"time_spent_mins\"])\n",
    "\n",
    "# len(new_df) \n",
    "# 1917 (22% reduced)\n",
    "#sns.distplot(new_df[\"time_spent_mins\"], color=\"g\")"
   ]
  },
  {
   "cell_type": "markdown",
   "metadata": {},
   "source": [
    "# SHARE DATA ANALYSIS"
   ]
  },
  {
   "cell_type": "code",
   "execution_count": 41,
   "metadata": {
    "collapsed": false
   },
   "outputs": [
    {
     "data": {
      "text/plain": [
       "Index([u'activity_type', u'user_id', u'rm_id', u'viewing_device', u'browser',\n",
       "       u'user_groups', u'shared_date', u'shared_time', u'title_of_content',\n",
       "       u'share_channel', u'viewed', u'time_spent_in_seconds',\n",
       "       u'last_activity_date', u'last_activity_time', u'weekday',\n",
       "       u'weekday_name', u'month', u'time_of_day', u'hour', u'time_spent_mins'],\n",
       "      dtype='object')"
      ]
     },
     "execution_count": 41,
     "metadata": {},
     "output_type": "execute_result"
    }
   ],
   "source": [
    "share_df = df[df.activity_type == \"SHARE\"]\n",
    "share_df.columns"
   ]
  },
  {
   "cell_type": "code",
   "execution_count": 42,
   "metadata": {
    "collapsed": false
   },
   "outputs": [],
   "source": [
    "y_time_spent = share_df.groupby(\"weekday\")[\"time_spent_mins\"].sum"
   ]
  },
  {
   "cell_type": "code",
   "execution_count": 43,
   "metadata": {
    "collapsed": false
   },
   "outputs": [],
   "source": [
    "#sns.stripplot(x=share_df[\"weekday_name\"], y=share_df[\"time_spent_mins\"], data=share_df, jitter=True)"
   ]
  },
  {
   "cell_type": "code",
   "execution_count": 44,
   "metadata": {
    "collapsed": false
   },
   "outputs": [
    {
     "data": {
      "text/plain": [
       "(140, 100)"
      ]
     },
     "execution_count": 44,
     "metadata": {},
     "output_type": "execute_result"
    }
   ],
   "source": [
    "len(share_df), len(share_df.user_id.unique())"
   ]
  },
  {
   "cell_type": "code",
   "execution_count": 45,
   "metadata": {
    "collapsed": false
   },
   "outputs": [
    {
     "name": "stderr",
     "output_type": "stream",
     "text": [
      "/Users/urmimukherjee/anaconda2/lib/python2.7/site-packages/ipykernel/__main__.py:1: SettingWithCopyWarning: \n",
      "A value is trying to be set on a copy of a slice from a DataFrame.\n",
      "Try using .loc[row_indexer,col_indexer] = value instead\n",
      "\n",
      "See the caveats in the documentation: http://pandas.pydata.org/pandas-docs/stable/indexing.html#indexing-view-versus-copy\n",
      "  if __name__ == '__main__':\n"
     ]
    },
    {
     "data": {
      "text/plain": [
       "array([ 0,  1,  7,  5, 14,  4,  2])"
      ]
     },
     "execution_count": 45,
     "metadata": {},
     "output_type": "execute_result"
    }
   ],
   "source": [
    "share_df['num_of_day_from_share_view'] = (share_df[\"last_activity_date\"] - share_df[\"shared_date\"]).astype(dt.timedelta).map(lambda x: 0 if pd.isnull(x) else x.days)\n",
    "share_df[\"num_of_day_from_share_view\"].unique()\n",
    "\n",
    "# sns.distplot(share_df[\"num_of_day_from_share_view\"], color=\"m\")"
   ]
  },
  {
   "cell_type": "code",
   "execution_count": 46,
   "metadata": {
    "collapsed": false
   },
   "outputs": [
    {
     "data": {
      "text/plain": [
       "(array([ 0.68367347,  0.00510204,  0.00510204,  0.00510204,  0.        ,\n",
       "         0.00510204,  0.        ,  0.        ,  0.        ,  0.01020408]),\n",
       " array([  0. ,   1.4,   2.8,   4.2,   5.6,   7. ,   8.4,   9.8,  11.2,\n",
       "         12.6,  14. ]),\n",
       " <a list of 10 Patch objects>)"
      ]
     },
     "execution_count": 46,
     "metadata": {},
     "output_type": "execute_result"
    },
    {
     "data": {
      "image/png": "[encoded data removed]",
      "text/plain": [
       "<matplotlib.figure.Figure at 0x11ed46910>"
      ]
     },
     "metadata": {},
     "output_type": "display_data"
    }
   ],
   "source": [
    "import pylab as pl\n",
    "h = sorted(share_df[\"num_of_day_from_share_view\"])  #sorted\n",
    "\n",
    "fit = norm.pdf(h, np.mean(h), np.std(h))  #this is a fitting indeed\n",
    "\n",
    "pl.plot(h,fit,'-o')\n",
    "\n",
    "pl.hist(h,normed=True)"
   ]
  },
  {
   "cell_type": "code",
   "execution_count": 47,
   "metadata": {
    "collapsed": false
   },
   "outputs": [
    {
     "data": {
      "text/plain": [
       "<module 'pylab' from '/Users/urmimukherjee/anaconda2/lib/python2.7/site-packages/pylab.pyc'>"
      ]
     },
     "execution_count": 47,
     "metadata": {},
     "output_type": "execute_result"
    },
    {
     "data": {
      "image/png": "[encoded data removed]",
      "text/plain": [
       "<matplotlib.figure.Figure at 0x11ee7d710>"
      ]
     },
     "metadata": {},
     "output_type": "display_data"
    }
   ],
   "source": [
    "import pylab as pl\n",
    "days_share_view = share_df[share_df[\"num_of_day_from_share_view\"]<=100]\n",
    "len(share_df),len(days_share_view)\n",
    "h = sorted(days_share_view[\"num_of_day_from_share_view\"]) #sorted\n",
    "\n",
    "fit = norm.pdf(h, np.mean(h), np.std(h))  #this is a fitting indeed\n",
    "\n",
    "pl.plot(h,fit,'-o')\n",
    "\n",
    "pl.hist(h,normed=True)\n",
    "pl"
   ]
  },
  {
   "cell_type": "code",
   "execution_count": 98,
   "metadata": {
    "collapsed": false
   },
   "outputs": [
    {
     "data": {
      "text/plain": [
       "<matplotlib.text.Text at 0x12095b190>"
      ]
     },
     "execution_count": 98,
     "metadata": {},
     "output_type": "execute_result"
    },
    {
     "data": {
      "image/png": "[encoded data removed]",
      "text/plain": [
       "<matplotlib.figure.Figure at 0x120841250>"
      ]
     },
     "metadata": {},
     "output_type": "display_data"
    }
   ],
   "source": [
    "plt.bar(xrange(0,7), df.groupby(\"weekday\")[\"time_spent_mins\"].sum())\n",
    "plt.xticks(xrange(0,7),[\"Sun\", \"Mon\", \"Tue\", \"Wed\", \"Thu\", \"Fri\", \"Sat\"])\n",
    "plt.xlabel(\"Day of Week\")\n",
    "plt.ylabel(\"Total Time Spent in Minutes\")"
   ]
  },
  {
   "cell_type": "code",
   "execution_count": 96,
   "metadata": {
    "collapsed": false
   },
   "outputs": [],
   "source": [
    "# uniq_titles = np.sort(share_df.title_of_content.unique())\n",
    "# uniq_title_num_share = share_df.groupby(\"title_of_content\")[\"activity_type\"].count()\n",
    "# #uniq_titles \n",
    "# uniq_title_num_share"
   ]
  },
  {
   "cell_type": "code",
   "execution_count": 49,
   "metadata": {
    "collapsed": false
   },
   "outputs": [],
   "source": [
    "# import pylab as pl\n",
    "# h = sorted(share_df[\"time_spent_mins\"])  #sorted\n",
    "\n",
    "# fit = norm.pdf(h, np.mean(h), np.std(h))  #this is a fitting indeed\n",
    "\n",
    "# pl.plot(h,fit,'-o')\n",
    "\n",
    "# pl.hist(h,normed=True)\n"
   ]
  },
  {
   "cell_type": "code",
   "execution_count": 50,
   "metadata": {
    "collapsed": false
   },
   "outputs": [],
   "source": [
    "#share_df[\"weekday\"].plot.kde()"
   ]
  },
  {
   "cell_type": "code",
   "execution_count": 51,
   "metadata": {
    "collapsed": false
   },
   "outputs": [],
   "source": [
    "# plot = plt.bar(xrange(0,7),(share_df.groupby(\"weekday\")[\"time_spent_mins\"].sum()))\n",
    "# plt.xticks(xrange(0,7),[\"Sunday\", \"Monday\", \"Tuesday\", \"Wednesday\", \"Thursday\", \"Friday\", \"Saturday\"])\n",
    "# share_weekday = share_df.groupby(\"weekday\")[\"time_spent_mins\"].sum()"
   ]
  },
  {
   "cell_type": "code",
   "execution_count": 52,
   "metadata": {
    "collapsed": false
   },
   "outputs": [],
   "source": [
    "# plot = plt.bar(xrange(0,7),(share_df.groupby(\"month\")[\"time_spent_mins\"].sum()))\n",
    "# plt.xticks(xrange(0,7),[\"Feb\", \"Mar\", \"Apr\", \"May\", \"Jun\", \"Jul\", \"Aug\"])"
   ]
  },
  {
   "cell_type": "code",
   "execution_count": 53,
   "metadata": {
    "collapsed": false
   },
   "outputs": [],
   "source": [
    "# import pylab as pl\n",
    "# new_share = share_df[share_df[\"time_spent_mins\"]<=8]\n",
    "# h = sorted(new_share[\"time_spent_mins\"])  #sorted\n",
    "\n",
    "# fit = norm.pdf(h, np.mean(h), np.std(h))  #this is a fitting indeed\n",
    "\n",
    "# pl.plot(h,fit,'-o')\n",
    "# pl.axvline(x=np.mean(h)+np.std(h),color='r', linestyle='--')\n",
    "# pl.axvline(x=np.mean(h)-np.std(h),color='r', linestyle='--')\n",
    "# pl.hist(h,normed=True)\n"
   ]
  },
  {
   "cell_type": "code",
   "execution_count": 54,
   "metadata": {
    "collapsed": false
   },
   "outputs": [],
   "source": [
    "#h = plt.hist(share_df.time_spent_mins)"
   ]
  },
  {
   "cell_type": "code",
   "execution_count": 55,
   "metadata": {
    "collapsed": false
   },
   "outputs": [
    {
     "data": {
      "text/plain": [
       "array([nan, 'ANDROID', 'IOS', 'WEB'], dtype=object)"
      ]
     },
     "execution_count": 55,
     "metadata": {},
     "output_type": "execute_result"
    }
   ],
   "source": [
    "#sns.stripplot(x=\"share_channel\", y=\"time_spent_mins\", data=share_df)\n",
    "df.share_channel.unique()\n"
   ]
  },
  {
   "cell_type": "code",
   "execution_count": 57,
   "metadata": {
    "collapsed": false
   },
   "outputs": [
    {
     "data": {
      "text/plain": [
       "([<matplotlib.axis.XTick at 0x11f217050>,\n",
       "  <matplotlib.axis.XTick at 0x11f250f90>,\n",
       "  <matplotlib.axis.XTick at 0x11f1e5a10>],\n",
       " <a list of 3 Text xticklabel objects>)"
      ]
     },
     "execution_count": 57,
     "metadata": {},
     "output_type": "execute_result"
    },
    {
     "data": {
      "image/png": "[encoded data removed]",
      "text/plain": [
       "<matplotlib.figure.Figure at 0x11f008f90>"
      ]
     },
     "metadata": {},
     "output_type": "display_data"
    }
   ],
   "source": [
    "plt.bar(xrange(0,3),(share_df.groupby(\"share_channel\")[\"time_spent_mins\"].count()))\n",
    "plt.xticks(xrange(0,3),[\"ANDROID\",\"IOS\", \"WEB\"])\n",
    "# plt.xlabel(\"Share Channel\")\n",
    "# plt.ylabel(\"Number of Shares\")\n",
    "# plt.title(\"TW - Num Shares Vs Share Channel\")"
   ]
  },
  {
   "cell_type": "code",
   "execution_count": 58,
   "metadata": {
    "collapsed": false
   },
   "outputs": [],
   "source": [
    "#sns.stripplot(x=\"time_of_day\", y=\"time_spent_mins\", data=share_df)\n"
   ]
  },
  {
   "cell_type": "markdown",
   "metadata": {},
   "source": [
    "# VIEW DATA ANALYSIS"
   ]
  },
  {
   "cell_type": "code",
   "execution_count": 59,
   "metadata": {
    "collapsed": false
   },
   "outputs": [],
   "source": [
    "view_df = df[(df.activity_type == \"VIEW\")]\n",
    "view_df = view_df.drop([\"share_channel\", \"user_groups\", \"shared_date\", \"shared_time\", \"rm_id\"], axis =1)\n"
   ]
  },
  {
   "cell_type": "code",
   "execution_count": 60,
   "metadata": {
    "collapsed": false
   },
   "outputs": [
    {
     "data": {
      "text/plain": [
       "(398, 90)"
      ]
     },
     "execution_count": 60,
     "metadata": {},
     "output_type": "execute_result"
    }
   ],
   "source": [
    "len(view_df), len(view_df.user_id.unique())"
   ]
  },
  {
   "cell_type": "code",
   "execution_count": 61,
   "metadata": {
    "collapsed": false
   },
   "outputs": [
    {
     "data": {
      "text/plain": [
       "64"
      ]
     },
     "execution_count": 61,
     "metadata": {},
     "output_type": "execute_result"
    }
   ],
   "source": [
    "len(view_df.title_of_content.unique())\n"
   ]
  },
  {
   "cell_type": "code",
   "execution_count": 62,
   "metadata": {
    "collapsed": false
   },
   "outputs": [],
   "source": [
    "#view_df.head()"
   ]
  },
  {
   "cell_type": "code",
   "execution_count": 63,
   "metadata": {
    "collapsed": false
   },
   "outputs": [
    {
     "data": {
      "text/plain": [
       "<matplotlib.lines.Line2D at 0x11f453550>"
      ]
     },
     "execution_count": 63,
     "metadata": {},
     "output_type": "execute_result"
    },
    {
     "data": {
      "image/png": "[encoded data removed]",
      "text/plain": [
       "<matplotlib.figure.Figure at 0x11b9fac50>"
      ]
     },
     "metadata": {},
     "output_type": "display_data"
    }
   ],
   "source": [
    "#### import pylab as pl\n",
    "new_view = view_df[view_df[\"time_spent_mins\"] <= 4]\n",
    "len(new_view) #(20 mins, 1874/2085, 10% reduced) (12 mins, 1746/2085, 16% reduced)(6 mins, 1607/2085, 23% reduced)\n",
    "# (4 mins, 1513/2085, 28% reduced)\n",
    "\n",
    "h = sorted(new_df[\"time_spent_mins\"])  #sorted\n",
    "\n",
    "fit = norm.pdf(h, np.mean(h), np.std(h))  #this is a fitting indeed\n",
    "\n",
    "pl.plot(h,fit,'-o')\n",
    "\n",
    "pl.hist(h, normed= True)\n",
    "\n",
    "pl.axvline(x = np.mean(h), linestyle='--')\n",
    "pl.axvline(x = np.mean(h) + np.std(h), linestyle='--')\n",
    "pl.axvline(x = np.mean(h) + 2*np.std(h), linestyle='--')\n"
   ]
  },
  {
   "cell_type": "code",
   "execution_count": 64,
   "metadata": {
    "collapsed": false
   },
   "outputs": [],
   "source": [
    "#(view_df.groupby(\"view_app_group\")[\"time_spent_mins\"].sum()).plot.kde()\n"
   ]
  },
  {
   "cell_type": "code",
   "execution_count": 65,
   "metadata": {
    "collapsed": false
   },
   "outputs": [
    {
     "data": {
      "text/plain": [
       "(array([ 213.,   60.,   34.,   66.,    9.,    2.,    8.,    4.,    1.,    1.]),\n",
       " array([ 0.        ,  0.58333333,  1.16666667,  1.75      ,  2.33333333,\n",
       "         2.91666667,  3.5       ,  4.08333333,  4.66666667,  5.25      ,\n",
       "         5.83333333]),\n",
       " <a list of 10 Patch objects>)"
      ]
     },
     "execution_count": 65,
     "metadata": {},
     "output_type": "execute_result"
    },
    {
     "data": {
      "image/png": "[encoded data removed]",
      "text/plain": [
       "<matplotlib.figure.Figure at 0x11f1d8d90>"
      ]
     },
     "metadata": {},
     "output_type": "display_data"
    }
   ],
   "source": [
    "plt.hist(view_df[\"time_spent_mins\"])"
   ]
  },
  {
   "cell_type": "code",
   "execution_count": 91,
   "metadata": {
    "collapsed": false
   },
   "outputs": [
    {
     "data": {
      "text/plain": [
       "(4.4222222222222225, 6.0936720871878931)"
      ]
     },
     "execution_count": 91,
     "metadata": {},
     "output_type": "execute_result"
    }
   ],
   "source": [
    "from collections import Counter\n",
    "user_id_list = [j.user_id for i,j in df.iterrows() if j[\"activity_type\"] == \"VIEW\"]\n",
    "num_views = Counter(user_id_list)\n",
    "best, views = [], []\n",
    "#best = sorted(num_views, key=lambda x : num_views[x])\n",
    "for w in sorted(num_views, key=num_views.get, reverse=True):\n",
    "    best.extend([w, num_views[w]]), views.append(num_views[w])\n",
    "np.array(views).mean(), np.array(views).std()"
   ]
  },
  {
   "cell_type": "code",
   "execution_count": 89,
   "metadata": {
    "collapsed": false
   },
   "outputs": [
    {
     "data": {
      "text/plain": [
       "(array([ 43.,   8.,   7.,  10.,   1.,   1.,   2.,   1.,   3.,   0.,   1.,\n",
       "          2.,   3.,   1.,   2.,   1.,   0.,   1.,   0.,   0.,   0.,   0.,\n",
       "          0.,   0.,   0.,   0.,   0.,   0.,   0.,   0.,   0.,   0.,   1.,\n",
       "          0.,   0.,   0.,   0.,   0.,   0.,   1.]),\n",
       " array([  1. ,   1.9,   2.8,   3.7,   4.6,   5.5,   6.4,   7.3,   8.2,\n",
       "          9.1,  10. ,  10.9,  11.8,  12.7,  13.6,  14.5,  15.4,  16.3,\n",
       "         17.2,  18.1,  19. ,  19.9,  20.8,  21.7,  22.6,  23.5,  24.4,\n",
       "         25.3,  26.2,  27.1,  28. ,  28.9,  29.8,  30.7,  31.6,  32.5,\n",
       "         33.4,  34.3,  35.2,  36.1,  37. ]),\n",
       " <a list of 40 Patch objects>)"
      ]
     },
     "execution_count": 89,
     "metadata": {},
     "output_type": "execute_result"
    },
    {
     "data": {
      "image/png": "[encoded data removed]",
      "text/plain": [
       "<matplotlib.figure.Figure at 0x1200c0a50>"
      ]
     },
     "metadata": {},
     "output_type": "display_data"
    }
   ],
   "source": [
    "plt.hist(views, bins= 40)"
   ]
  },
  {
   "cell_type": "code",
   "execution_count": 66,
   "metadata": {
    "collapsed": false
   },
   "outputs": [
    {
     "data": {
      "text/plain": [
       "[nan, 'CHROME', 'CHROME_MOBILE', 'MOBILE_SAFARI', 'SAFARI']"
      ]
     },
     "execution_count": 66,
     "metadata": {},
     "output_type": "execute_result"
    }
   ],
   "source": [
    "sorted(view_df.browser.unique())"
   ]
  },
  {
   "cell_type": "code",
   "execution_count": 67,
   "metadata": {
    "collapsed": false
   },
   "outputs": [
    {
     "data": {
      "text/plain": [
       "([<matplotlib.axis.XTick at 0x11f5a97d0>,\n",
       "  <matplotlib.axis.XTick at 0x11f61d1d0>,\n",
       "  <matplotlib.axis.XTick at 0x11f5dd490>,\n",
       "  <matplotlib.axis.XTick at 0x11f6d1d10>],\n",
       " <a list of 4 Text xticklabel objects>)"
      ]
     },
     "execution_count": 67,
     "metadata": {},
     "output_type": "execute_result"
    },
    {
     "data": {
      "image/png": "[encoded data removed]",
      "text/plain": [
       "<matplotlib.figure.Figure at 0x11f287110>"
      ]
     },
     "metadata": {},
     "output_type": "display_data"
    }
   ],
   "source": [
    "plt.bar(xrange(0,len(view_df.groupby(\"browser\")[\"time_spent_mins\"].sum())), view_df.groupby(\"browser\")[\"time_spent_mins\"].sum())\n",
    "plt.xticks(xrange(0,4),['CHR',\"M-CH\",'M-SAF','SAF'])\n",
    "# plt.xlabel(\"Viewing Application\")\n",
    "# plt.ylabel(\"Total View Time in Minutes\")\n",
    "# plt.title(\"Time Spent Vs View App\")"
   ]
  },
  {
   "cell_type": "code",
   "execution_count": 86,
   "metadata": {
    "collapsed": false
   },
   "outputs": [
    {
     "data": {
      "text/plain": [
       "([<matplotlib.axis.XTick at 0x11fd3cb10>,\n",
       "  <matplotlib.axis.XTick at 0x11f8e9310>,\n",
       "  <matplotlib.axis.XTick at 0x11fe40bd0>,\n",
       "  <matplotlib.axis.XTick at 0x11ff41990>],\n",
       " <a list of 4 Text xticklabel objects>)"
      ]
     },
     "execution_count": 86,
     "metadata": {},
     "output_type": "execute_result"
    },
    {
     "data": {
      "image/png": "[encoded data removed]",
      "text/plain": [
       "<matplotlib.figure.Figure at 0x11fe40a50>"
      ]
     },
     "metadata": {},
     "output_type": "display_data"
    }
   ],
   "source": [
    "plt.bar(xrange(0,4), view_df.groupby(\"time_of_day\")[\"time_spent_mins\"].count())\n",
    "plt.xticks(xrange(0,4),[\"Night\", \"Morning\", \"Afternoon\", \"Evening\"])\n",
    "# plt.xlabel(\"Time of Day\")\n",
    "# plt.ylabel(\"Total View Time in Minutes\")\n",
    "# plt.title(\"TW - Time Spent Vs Time of Day\")"
   ]
  },
  {
   "cell_type": "code",
   "execution_count": 69,
   "metadata": {
    "collapsed": false
   },
   "outputs": [],
   "source": [
    "def get_view_time_per_user(unique_users, view_df):\n",
    "    for user in unique_users:\n",
    "        temp_time = view_df[\"user_id\"]"
   ]
  },
  {
   "cell_type": "code",
   "execution_count": 70,
   "metadata": {
    "collapsed": false
   },
   "outputs": [
    {
     "data": {
      "text/plain": [
       "([<matplotlib.axis.XTick at 0x11f1fad50>,\n",
       "  <matplotlib.axis.XTick at 0x11efbc790>,\n",
       "  <matplotlib.axis.XTick at 0x11f5c77d0>,\n",
       "  <matplotlib.axis.XTick at 0x11f732890>,\n",
       "  <matplotlib.axis.XTick at 0x11f732fd0>,\n",
       "  <matplotlib.axis.XTick at 0x11f799750>,\n",
       "  <matplotlib.axis.XTick at 0x11f799e90>],\n",
       " <a list of 7 Text xticklabel objects>)"
      ]
     },
     "execution_count": 70,
     "metadata": {},
     "output_type": "execute_result"
    },
    {
     "data": {
      "image/png": "[encoded data removed]",
      "text/plain": [
       "<matplotlib.figure.Figure at 0x11f5908d0>"
      ]
     },
     "metadata": {},
     "output_type": "display_data"
    }
   ],
   "source": [
    "plt.bar(xrange(0,7), view_df.groupby(\"weekday\")[\"time_spent_mins\"].sum())\n",
    "plt.xticks(xrange(0,7),[\"Sun\", \"Mon\", \"Tue\", \"Wed\", \"Thu\", \"Fri\", \"Sat\"])\n",
    "#plt.xlabel(\"Day of Week\")\n",
    "#plt.ylabel(\"Total View Time in Minutes\")\n",
    "#plt.title(\"TW - Time Spent Vs Day of Week\")"
   ]
  },
  {
   "cell_type": "code",
   "execution_count": 71,
   "metadata": {
    "collapsed": false
   },
   "outputs": [],
   "source": [
    "# Get the time spent on different apps\n",
    "# def get_time_spent(view_df):\n",
    "#     time_spent_secs = view_df[\"time_spent_in_seconds\"].sum()\n",
    "#     view_apps = view_df[\"view_app_group\"].unique()\n",
    "\n",
    "#     time_spent_dict = {}\n",
    "#     for v in view_apps:\n",
    "#         temp_time = view_df[view_df.view_app_group == v][\"time_spent_in_seconds\"].sum()\n",
    "#         time_spent_dict[v] = [temp_time, float(temp_time)*100/time_spent_secs]\n",
    "#     return time_spent_dict\n",
    "\n",
    "# get_time_spent(view_df)"
   ]
  },
  {
   "cell_type": "code",
   "execution_count": 73,
   "metadata": {
    "collapsed": false
   },
   "outputs": [
    {
     "data": {
      "text/plain": [
       "([<matplotlib.axis.XTick at 0x11f8b9890>,\n",
       "  <matplotlib.axis.XTick at 0x11f929a50>],\n",
       " <a list of 2 Text xticklabel objects>)"
      ]
     },
     "execution_count": 73,
     "metadata": {},
     "output_type": "execute_result"
    },
    {
     "data": {
      "image/png": "[encoded data removed]",
      "text/plain": [
       "<matplotlib.figure.Figure at 0x11f5c7cd0>"
      ]
     },
     "metadata": {},
     "output_type": "display_data"
    }
   ],
   "source": [
    "plt.bar(xrange(0,2), view_df.groupby(\"viewing_device\")[\"time_spent_mins\"].sum())\n",
    "plt.xticks(xrange(0,2),[\"Laptop/Desktop\", \"Phone\"])"
   ]
  },
  {
   "cell_type": "code",
   "execution_count": 74,
   "metadata": {
    "collapsed": false
   },
   "outputs": [],
   "source": [
    "#sns.stripplot(x=\"view_app_group\", y=\"time_spent_mins\", data=view_df)\n",
    "#plt.bar(xrange(0,8), view_df.groupby(\"view_app_group\")[\"time_spent_mins\"].sum())"
   ]
  },
  {
   "cell_type": "code",
   "execution_count": 75,
   "metadata": {
    "collapsed": false
   },
   "outputs": [],
   "source": [
    "#sns.boxplot(x=\"view_app_group\", y=\"time_spent_mins\", data=view_df, hue = \"view_app_group\")\n"
   ]
  },
  {
   "cell_type": "code",
   "execution_count": 76,
   "metadata": {
    "collapsed": false
   },
   "outputs": [],
   "source": [
    "#sns.barplot(x=\"view_app_group\", y=\"time_spent_mins\", data=view_df, hue = \"view_app_group\")\n"
   ]
  },
  {
   "cell_type": "code",
   "execution_count": 77,
   "metadata": {
    "collapsed": false
   },
   "outputs": [],
   "source": [
    "#sns.countplot(x=\"view_app_group\", data=view_df, hue = \"view_app_group\")\n"
   ]
  },
  {
   "cell_type": "code",
   "execution_count": 78,
   "metadata": {
    "collapsed": false
   },
   "outputs": [],
   "source": [
    "#plt.bar(xrange(0,9),view_df.groupby(\"view_app_group\")[\"time_spent_mins\"].sum())"
   ]
  },
  {
   "cell_type": "code",
   "execution_count": 79,
   "metadata": {
    "collapsed": false
   },
   "outputs": [],
   "source": [
    "#sns.stripplot(x=view_df[\"view_app_group\"], y=view_df[\"time_spent_mins\"], data=view_df, jitter=True)\n"
   ]
  },
  {
   "cell_type": "code",
   "execution_count": 80,
   "metadata": {
    "collapsed": false
   },
   "outputs": [],
   "source": [
    "#sns.stripplot(x=view_df[\"weekday\"], y=view_df[\"time_spent_mins\"], data=view_df, jitter=True)\n",
    "\n"
   ]
  },
  {
   "cell_type": "code",
   "execution_count": 83,
   "metadata": {
    "collapsed": false
   },
   "outputs": [
    {
     "data": {
      "text/plain": [
       "([<matplotlib.axis.XTick at 0x11fb1d510>,\n",
       "  <matplotlib.axis.XTick at 0x11fae4a90>,\n",
       "  <matplotlib.axis.XTick at 0x11f952e50>],\n",
       " <a list of 3 Text xticklabel objects>)"
      ]
     },
     "execution_count": 83,
     "metadata": {},
     "output_type": "execute_result"
    },
    {
     "data": {
      "image/png": "[encoded data removed]",
      "text/plain": [
       "<matplotlib.figure.Figure at 0x11f952c10>"
      ]
     },
     "metadata": {},
     "output_type": "display_data"
    }
   ],
   "source": [
    "plt.bar(xrange(0,len(view_df.groupby(\"month\")[\"time_spent_mins\"].sum())), view_df.groupby(\"month\")[\"time_spent_mins\"].sum())\n",
    "plt.xticks(xrange(0,3),[\"Feb\", \"Mar\", \"Apr\"])"
   ]
  },
  {
   "cell_type": "code",
   "execution_count": 82,
   "metadata": {
    "collapsed": false
   },
   "outputs": [],
   "source": [
    "# clusterer = KMeans(n_clusters=7, random_state=10)\n",
    "# clusterer.fit(X)\n",
    "\n"
   ]
  },
  {
   "cell_type": "code",
   "execution_count": null,
   "metadata": {
    "collapsed": true
   },
   "outputs": [],
   "source": []
  },
  {
   "cell_type": "code",
   "execution_count": null,
   "metadata": {
    "collapsed": true
   },
   "outputs": [],
   "source": []
  }
 ],
 "metadata": {
  "kernelspec": {
   "display_name": "Python [conda root]",
   "language": "python",
   "name": "conda-root-py"
  },
  "language_info": {
   "codemirror_mode": {
    "name": "ipython",
    "version": 2
   },
   "file_extension": ".py",
   "mimetype": "text/x-python",
   "name": "python",
   "nbconvert_exporter": "python",
   "pygments_lexer": "ipython2",
   "version": "2.7.13"
  }
 },
 "nbformat": 4,
 "nbformat_minor": 2
}
