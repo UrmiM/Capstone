{
 "cells": [
  {
   "cell_type": "code",
   "execution_count": 1,
   "metadata": {
    "collapsed": true
   },
   "outputs": [],
   "source": [
    "import pandas as pd\n",
    "import numpy as np\n",
    "import datetime as dt\n",
    "import pylab as pl\n",
    "import matplotlib.pyplot as plt\n",
    "from scipy.stats import norm\n",
    "%matplotlib inline\n",
    "import seaborn as sns\n",
    "import itertools\n",
    "import scipy.stats as scs\n",
    "from scipy.spatial.distance import pdist, squareform\n",
    "from sklearn.cluster import KMeans \n",
    "from sklearn.metrics import silhouette_score, silhouette_samples\n",
    "from scipy.cluster.hierarchy import linkage, dendrogram\n",
    "import matplotlib.cm as cm\n",
    "from IPython.display import HTML, display"
   ]
  },
  {
   "cell_type": "code",
   "execution_count": 2,
   "metadata": {
    "collapsed": false
   },
   "outputs": [],
   "source": [
    "df = pd.read_csv(\"shareViewDataRM-ext.csv\")"
   ]
  },
  {
   "cell_type": "code",
   "execution_count": 3,
   "metadata": {
    "collapsed": false
   },
   "outputs": [],
   "source": [
    "df.columns = df.columns.str.lstrip()"
   ]
  },
  {
   "cell_type": "code",
   "execution_count": 4,
   "metadata": {
    "collapsed": false
   },
   "outputs": [],
   "source": [
    "df.columns = df.columns.str.lower()"
   ]
  },
  {
   "cell_type": "code",
   "execution_count": 5,
   "metadata": {
    "collapsed": false
   },
   "outputs": [],
   "source": [
    "df.columns = df.columns.str.replace(\" \", \"_\")"
   ]
  },
  {
   "cell_type": "code",
   "execution_count": 6,
   "metadata": {
    "collapsed": false
   },
   "outputs": [
    {
     "data": {
      "text/html": [
       "<div>\n",
       "<style>\n",
       "    .dataframe thead tr:only-child th {\n",
       "        text-align: right;\n",
       "    }\n",
       "\n",
       "    .dataframe thead th {\n",
       "        text-align: left;\n",
       "    }\n",
       "\n",
       "    .dataframe tbody tr th {\n",
       "        vertical-align: top;\n",
       "    }\n",
       "</style>\n",
       "<table border=\"1\" class=\"dataframe\">\n",
       "  <thead>\n",
       "    <tr style=\"text-align: right;\">\n",
       "      <th></th>\n",
       "      <th>activity_type</th>\n",
       "      <th>user_id</th>\n",
       "      <th>rm_id</th>\n",
       "      <th>user_os</th>\n",
       "      <th>viewing_app</th>\n",
       "      <th>view_app_group</th>\n",
       "      <th>user_groups</th>\n",
       "      <th>shared_date</th>\n",
       "      <th>shared_hour</th>\n",
       "      <th>shared_time</th>\n",
       "      <th>title_of_content</th>\n",
       "      <th>doc_type</th>\n",
       "      <th>share_channel</th>\n",
       "      <th>viewed</th>\n",
       "      <th>time_spent_in_seconds</th>\n",
       "      <th>last_activity_date</th>\n",
       "      <th>last_activity_time</th>\n",
       "    </tr>\n",
       "  </thead>\n",
       "  <tbody>\n",
       "    <tr>\n",
       "      <th>0</th>\n",
       "      <td>SHARE</td>\n",
       "      <td>5931852</td>\n",
       "      <td>197521.0</td>\n",
       "      <td>NaN</td>\n",
       "      <td>NaN</td>\n",
       "      <td>NaN</td>\n",
       "      <td>Client Solutions</td>\n",
       "      <td>18-Aug-2017</td>\n",
       "      <td>0.0</td>\n",
       "      <td>0:53:39</td>\n",
       "      <td>English/Writing GameScapes and Games</td>\n",
       "      <td>Folder</td>\n",
       "      <td>WEB</td>\n",
       "      <td>1</td>\n",
       "      <td>5505</td>\n",
       "      <td>18-Aug-2017</td>\n",
       "      <td>22:43:00</td>\n",
       "    </tr>\n",
       "    <tr>\n",
       "      <th>1</th>\n",
       "      <td>VIEW</td>\n",
       "      <td>5931852</td>\n",
       "      <td>NaN</td>\n",
       "      <td>WINDOWS_7</td>\n",
       "      <td>CHROME</td>\n",
       "      <td>CHROME</td>\n",
       "      <td>NaN</td>\n",
       "      <td>NaN</td>\n",
       "      <td>NaN</td>\n",
       "      <td>NaN</td>\n",
       "      <td>Introductions and Conclusions: Set the Stage</td>\n",
       "      <td>Intro</td>\n",
       "      <td>NaN</td>\n",
       "      <td>1</td>\n",
       "      <td>285</td>\n",
       "      <td>18-Aug-2017</td>\n",
       "      <td>22:37:45</td>\n",
       "    </tr>\n",
       "    <tr>\n",
       "      <th>2</th>\n",
       "      <td>VIEW</td>\n",
       "      <td>5931852</td>\n",
       "      <td>NaN</td>\n",
       "      <td>WINDOWS_7</td>\n",
       "      <td>CHROME</td>\n",
       "      <td>CHROME</td>\n",
       "      <td>NaN</td>\n",
       "      <td>NaN</td>\n",
       "      <td>NaN</td>\n",
       "      <td>NaN</td>\n",
       "      <td>Paragraph Structure: Find the Balance</td>\n",
       "      <td>Parag</td>\n",
       "      <td>NaN</td>\n",
       "      <td>1</td>\n",
       "      <td>1635</td>\n",
       "      <td>18-Aug-2017</td>\n",
       "      <td>22:00:03</td>\n",
       "    </tr>\n",
       "    <tr>\n",
       "      <th>3</th>\n",
       "      <td>VIEW</td>\n",
       "      <td>5931852</td>\n",
       "      <td>NaN</td>\n",
       "      <td>WINDOWS_7</td>\n",
       "      <td>CHROME</td>\n",
       "      <td>CHROME</td>\n",
       "      <td>NaN</td>\n",
       "      <td>NaN</td>\n",
       "      <td>NaN</td>\n",
       "      <td>NaN</td>\n",
       "      <td>Paragraph Structure: Find the Balance</td>\n",
       "      <td>Parag</td>\n",
       "      <td>NaN</td>\n",
       "      <td>1</td>\n",
       "      <td>3555</td>\n",
       "      <td>18-Aug-2017</td>\n",
       "      <td>21:00:01</td>\n",
       "    </tr>\n",
       "    <tr>\n",
       "      <th>4</th>\n",
       "      <td>VIEW</td>\n",
       "      <td>5931852</td>\n",
       "      <td>NaN</td>\n",
       "      <td>WINDOWS_7</td>\n",
       "      <td>CHROME</td>\n",
       "      <td>CHROME</td>\n",
       "      <td>NaN</td>\n",
       "      <td>NaN</td>\n",
       "      <td>NaN</td>\n",
       "      <td>NaN</td>\n",
       "      <td>Paragraph Structure: Find the Balance</td>\n",
       "      <td>Parag</td>\n",
       "      <td>NaN</td>\n",
       "      <td>1</td>\n",
       "      <td>30</td>\n",
       "      <td>18-Aug-2017</td>\n",
       "      <td>20:59:28</td>\n",
       "    </tr>\n",
       "    <tr>\n",
       "      <th>5</th>\n",
       "      <td>SHARE</td>\n",
       "      <td>5864595</td>\n",
       "      <td>197521.0</td>\n",
       "      <td>NaN</td>\n",
       "      <td>NaN</td>\n",
       "      <td>NaN</td>\n",
       "      <td>Client Solutions</td>\n",
       "      <td>10-Aug-2017</td>\n",
       "      <td>3.0</td>\n",
       "      <td>3:27:06</td>\n",
       "      <td>English/Writing GameScapes and Games</td>\n",
       "      <td>Folder</td>\n",
       "      <td>WEB</td>\n",
       "      <td>1</td>\n",
       "      <td>1240</td>\n",
       "      <td>18-Aug-2017</td>\n",
       "      <td>20:56:00</td>\n",
       "    </tr>\n",
       "    <tr>\n",
       "      <th>6</th>\n",
       "      <td>VIEW</td>\n",
       "      <td>5864595</td>\n",
       "      <td>NaN</td>\n",
       "      <td>WINDOWS_7</td>\n",
       "      <td>IE11</td>\n",
       "      <td>IE11</td>\n",
       "      <td>NaN</td>\n",
       "      <td>NaN</td>\n",
       "      <td>NaN</td>\n",
       "      <td>NaN</td>\n",
       "      <td>Thesis Statements: What's the Point?</td>\n",
       "      <td>Thesi</td>\n",
       "      <td>NaN</td>\n",
       "      <td>1</td>\n",
       "      <td>5</td>\n",
       "      <td>18-Aug-2017</td>\n",
       "      <td>20:55:11</td>\n",
       "    </tr>\n",
       "    <tr>\n",
       "      <th>7</th>\n",
       "      <td>SHARE</td>\n",
       "      <td>5926033</td>\n",
       "      <td>197521.0</td>\n",
       "      <td>NaN</td>\n",
       "      <td>NaN</td>\n",
       "      <td>NaN</td>\n",
       "      <td>Client Solutions</td>\n",
       "      <td>17-Aug-2017</td>\n",
       "      <td>21.0</td>\n",
       "      <td>21:41:24</td>\n",
       "      <td>Business Foundations</td>\n",
       "      <td>Folder</td>\n",
       "      <td>WEB</td>\n",
       "      <td>0</td>\n",
       "      <td>0</td>\n",
       "      <td>17-Aug-2017</td>\n",
       "      <td>21:41:24</td>\n",
       "    </tr>\n",
       "    <tr>\n",
       "      <th>8</th>\n",
       "      <td>SHARE</td>\n",
       "      <td>3837716</td>\n",
       "      <td>197521.0</td>\n",
       "      <td>NaN</td>\n",
       "      <td>NaN</td>\n",
       "      <td>NaN</td>\n",
       "      <td>Client Solutions</td>\n",
       "      <td>17-Aug-2017</td>\n",
       "      <td>21.0</td>\n",
       "      <td>21:33:05</td>\n",
       "      <td>Business Foundations</td>\n",
       "      <td>Folder</td>\n",
       "      <td>WEB</td>\n",
       "      <td>1</td>\n",
       "      <td>51490</td>\n",
       "      <td>17-Aug-2017</td>\n",
       "      <td>21:33:05</td>\n",
       "    </tr>\n",
       "    <tr>\n",
       "      <th>9</th>\n",
       "      <td>VIEW</td>\n",
       "      <td>197521</td>\n",
       "      <td>NaN</td>\n",
       "      <td>WINDOWS_10</td>\n",
       "      <td>CHROME</td>\n",
       "      <td>CHROME</td>\n",
       "      <td>NaN</td>\n",
       "      <td>NaN</td>\n",
       "      <td>NaN</td>\n",
       "      <td>NaN</td>\n",
       "      <td>DEMO - Planning and Writing</td>\n",
       "      <td>DEMO</td>\n",
       "      <td>NaN</td>\n",
       "      <td>1</td>\n",
       "      <td>350</td>\n",
       "      <td>17-Aug-2017</td>\n",
       "      <td>3:11:48</td>\n",
       "    </tr>\n",
       "    <tr>\n",
       "      <th>10</th>\n",
       "      <td>VIEW</td>\n",
       "      <td>197521</td>\n",
       "      <td>NaN</td>\n",
       "      <td>WINDOWS_10</td>\n",
       "      <td>CHROME</td>\n",
       "      <td>CHROME</td>\n",
       "      <td>NaN</td>\n",
       "      <td>NaN</td>\n",
       "      <td>NaN</td>\n",
       "      <td>NaN</td>\n",
       "      <td>Topics and Learning Objectives</td>\n",
       "      <td>Topic</td>\n",
       "      <td>NaN</td>\n",
       "      <td>1</td>\n",
       "      <td>35</td>\n",
       "      <td>17-Aug-2017</td>\n",
       "      <td>3:08:54</td>\n",
       "    </tr>\n",
       "    <tr>\n",
       "      <th>11</th>\n",
       "      <td>VIEW</td>\n",
       "      <td>197521</td>\n",
       "      <td>NaN</td>\n",
       "      <td>WINDOWS_10</td>\n",
       "      <td>CHROME</td>\n",
       "      <td>CHROME</td>\n",
       "      <td>NaN</td>\n",
       "      <td>NaN</td>\n",
       "      <td>NaN</td>\n",
       "      <td>NaN</td>\n",
       "      <td>Topics and Learning Objectives</td>\n",
       "      <td>Topic</td>\n",
       "      <td>NaN</td>\n",
       "      <td>1</td>\n",
       "      <td>25</td>\n",
       "      <td>17-Aug-2017</td>\n",
       "      <td>3:04:10</td>\n",
       "    </tr>\n",
       "    <tr>\n",
       "      <th>12</th>\n",
       "      <td>VIEW</td>\n",
       "      <td>197521</td>\n",
       "      <td>NaN</td>\n",
       "      <td>WINDOWS_10</td>\n",
       "      <td>CHROME</td>\n",
       "      <td>CHROME</td>\n",
       "      <td>NaN</td>\n",
       "      <td>NaN</td>\n",
       "      <td>NaN</td>\n",
       "      <td>NaN</td>\n",
       "      <td>VIDEO - Trailer (3:32)</td>\n",
       "      <td>VIDEO</td>\n",
       "      <td>NaN</td>\n",
       "      <td>1</td>\n",
       "      <td>5</td>\n",
       "      <td>17-Aug-2017</td>\n",
       "      <td>3:03:59</td>\n",
       "    </tr>\n",
       "    <tr>\n",
       "      <th>13</th>\n",
       "      <td>VIEW</td>\n",
       "      <td>197521</td>\n",
       "      <td>NaN</td>\n",
       "      <td>WINDOWS_10</td>\n",
       "      <td>CHROME</td>\n",
       "      <td>CHROME</td>\n",
       "      <td>NaN</td>\n",
       "      <td>NaN</td>\n",
       "      <td>NaN</td>\n",
       "      <td>NaN</td>\n",
       "      <td>Topics &amp; Learning Objectives</td>\n",
       "      <td>Topic</td>\n",
       "      <td>NaN</td>\n",
       "      <td>1</td>\n",
       "      <td>20</td>\n",
       "      <td>17-Aug-2017</td>\n",
       "      <td>3:03:38</td>\n",
       "    </tr>\n",
       "    <tr>\n",
       "      <th>14</th>\n",
       "      <td>SHARE</td>\n",
       "      <td>3010402</td>\n",
       "      <td>5538419.0</td>\n",
       "      <td>NaN</td>\n",
       "      <td>NaN</td>\n",
       "      <td>NaN</td>\n",
       "      <td>NaN</td>\n",
       "      <td>16-Aug-2017</td>\n",
       "      <td>15.0</td>\n",
       "      <td>15:44:41</td>\n",
       "      <td>Mission 14: Spring MVC</td>\n",
       "      <td>Folder</td>\n",
       "      <td>WEB</td>\n",
       "      <td>0</td>\n",
       "      <td>0</td>\n",
       "      <td>16-Aug-2017</td>\n",
       "      <td>15:44:41</td>\n",
       "    </tr>\n",
       "    <tr>\n",
       "      <th>15</th>\n",
       "      <td>SHARE</td>\n",
       "      <td>229551</td>\n",
       "      <td>229551.0</td>\n",
       "      <td>NaN</td>\n",
       "      <td>NaN</td>\n",
       "      <td>NaN</td>\n",
       "      <td>Cengage,Advanced,stage 1,Toolwire Sales</td>\n",
       "      <td>16-Aug-2017</td>\n",
       "      <td>3.0</td>\n",
       "      <td>3:19:36</td>\n",
       "      <td>Voorhees College_FacultyResources</td>\n",
       "      <td>Folder</td>\n",
       "      <td>WEB</td>\n",
       "      <td>1</td>\n",
       "      <td>8305</td>\n",
       "      <td>16-Aug-2017</td>\n",
       "      <td>3:19:36</td>\n",
       "    </tr>\n",
       "    <tr>\n",
       "      <th>16</th>\n",
       "      <td>SHARE</td>\n",
       "      <td>2266502</td>\n",
       "      <td>229551.0</td>\n",
       "      <td>NaN</td>\n",
       "      <td>NaN</td>\n",
       "      <td>NaN</td>\n",
       "      <td>Cengage,Advanced,stage 1,Toolwire Sales</td>\n",
       "      <td>27-Apr-2016</td>\n",
       "      <td>3.0</td>\n",
       "      <td>3:36:24</td>\n",
       "      <td>Communication</td>\n",
       "      <td>Folder</td>\n",
       "      <td>WEB</td>\n",
       "      <td>1</td>\n",
       "      <td>297</td>\n",
       "      <td>15-Aug-2017</td>\n",
       "      <td>23:39:00</td>\n",
       "    </tr>\n",
       "    <tr>\n",
       "      <th>17</th>\n",
       "      <td>VIEW</td>\n",
       "      <td>2266502</td>\n",
       "      <td>NaN</td>\n",
       "      <td>WINDOWS_10</td>\n",
       "      <td>CHROME</td>\n",
       "      <td>CHROME</td>\n",
       "      <td>NaN</td>\n",
       "      <td>NaN</td>\n",
       "      <td>NaN</td>\n",
       "      <td>NaN</td>\n",
       "      <td>VIDEO (3:32)</td>\n",
       "      <td>VIDEO</td>\n",
       "      <td>NaN</td>\n",
       "      <td>1</td>\n",
       "      <td>25</td>\n",
       "      <td>15-Aug-2017</td>\n",
       "      <td>23:37:59</td>\n",
       "    </tr>\n",
       "    <tr>\n",
       "      <th>18</th>\n",
       "      <td>SHARE</td>\n",
       "      <td>5735336</td>\n",
       "      <td>5538419.0</td>\n",
       "      <td>NaN</td>\n",
       "      <td>NaN</td>\n",
       "      <td>NaN</td>\n",
       "      <td>NaN</td>\n",
       "      <td>12-Aug-2017</td>\n",
       "      <td>1.0</td>\n",
       "      <td>1:20:16</td>\n",
       "      <td>Mission 14: Spring MVC</td>\n",
       "      <td>Folder</td>\n",
       "      <td>WEB</td>\n",
       "      <td>0</td>\n",
       "      <td>0</td>\n",
       "      <td>12-Aug-2017</td>\n",
       "      <td>1:20:16</td>\n",
       "    </tr>\n",
       "    <tr>\n",
       "      <th>19</th>\n",
       "      <td>SHARE</td>\n",
       "      <td>2934058</td>\n",
       "      <td>211675.0</td>\n",
       "      <td>NaN</td>\n",
       "      <td>NaN</td>\n",
       "      <td>NaN</td>\n",
       "      <td>NaN</td>\n",
       "      <td>10-Aug-2017</td>\n",
       "      <td>11.0</td>\n",
       "      <td>11:29:01</td>\n",
       "      <td>Mission 12: Spring Core</td>\n",
       "      <td>Folder</td>\n",
       "      <td>WEB</td>\n",
       "      <td>0</td>\n",
       "      <td>0</td>\n",
       "      <td>10-Aug-2017</td>\n",
       "      <td>11:29:01</td>\n",
       "    </tr>\n",
       "    <tr>\n",
       "      <th>20</th>\n",
       "      <td>SHARE</td>\n",
       "      <td>1657717</td>\n",
       "      <td>197521.0</td>\n",
       "      <td>NaN</td>\n",
       "      <td>NaN</td>\n",
       "      <td>NaN</td>\n",
       "      <td>Client Solutions</td>\n",
       "      <td>10-Aug-2017</td>\n",
       "      <td>4.0</td>\n",
       "      <td>4:15:28</td>\n",
       "      <td>English/Writing GameScapes and Games</td>\n",
       "      <td>Folder</td>\n",
       "      <td>WEB</td>\n",
       "      <td>0</td>\n",
       "      <td>0</td>\n",
       "      <td>10-Aug-2017</td>\n",
       "      <td>4:15:28</td>\n",
       "    </tr>\n",
       "    <tr>\n",
       "      <th>21</th>\n",
       "      <td>VIEW</td>\n",
       "      <td>5864595</td>\n",
       "      <td>NaN</td>\n",
       "      <td>WINDOWS_7</td>\n",
       "      <td>CHROME</td>\n",
       "      <td>CHROME</td>\n",
       "      <td>NaN</td>\n",
       "      <td>NaN</td>\n",
       "      <td>NaN</td>\n",
       "      <td>NaN</td>\n",
       "      <td>Sentence Structure: Writer��s Block II</td>\n",
       "      <td>Sente</td>\n",
       "      <td>NaN</td>\n",
       "      <td>1</td>\n",
       "      <td>230</td>\n",
       "      <td>10-Aug-2017</td>\n",
       "      <td>4:00:03</td>\n",
       "    </tr>\n",
       "    <tr>\n",
       "      <th>22</th>\n",
       "      <td>VIEW</td>\n",
       "      <td>5864595</td>\n",
       "      <td>NaN</td>\n",
       "      <td>WINDOWS_7</td>\n",
       "      <td>CHROME</td>\n",
       "      <td>CHROME</td>\n",
       "      <td>NaN</td>\n",
       "      <td>NaN</td>\n",
       "      <td>NaN</td>\n",
       "      <td>NaN</td>\n",
       "      <td>Sentence Structure: Writer��s Block II</td>\n",
       "      <td>Sente</td>\n",
       "      <td>NaN</td>\n",
       "      <td>1</td>\n",
       "      <td>295</td>\n",
       "      <td>10-Aug-2017</td>\n",
       "      <td>3:55:08</td>\n",
       "    </tr>\n",
       "    <tr>\n",
       "      <th>23</th>\n",
       "      <td>VIEW</td>\n",
       "      <td>5864595</td>\n",
       "      <td>NaN</td>\n",
       "      <td>WINDOWS_7</td>\n",
       "      <td>CHROME</td>\n",
       "      <td>CHROME</td>\n",
       "      <td>NaN</td>\n",
       "      <td>NaN</td>\n",
       "      <td>NaN</td>\n",
       "      <td>NaN</td>\n",
       "      <td>Sentence Types: Writer's Block</td>\n",
       "      <td>Sente</td>\n",
       "      <td>NaN</td>\n",
       "      <td>1</td>\n",
       "      <td>190</td>\n",
       "      <td>10-Aug-2017</td>\n",
       "      <td>3:45:55</td>\n",
       "    </tr>\n",
       "    <tr>\n",
       "      <th>24</th>\n",
       "      <td>VIEW</td>\n",
       "      <td>5864595</td>\n",
       "      <td>NaN</td>\n",
       "      <td>WINDOWS_7</td>\n",
       "      <td>CHROME</td>\n",
       "      <td>CHROME</td>\n",
       "      <td>NaN</td>\n",
       "      <td>NaN</td>\n",
       "      <td>NaN</td>\n",
       "      <td>NaN</td>\n",
       "      <td>Writing Basics: Getting Started</td>\n",
       "      <td>Writi</td>\n",
       "      <td>NaN</td>\n",
       "      <td>1</td>\n",
       "      <td>520</td>\n",
       "      <td>10-Aug-2017</td>\n",
       "      <td>3:30:01</td>\n",
       "    </tr>\n",
       "    <tr>\n",
       "      <th>25</th>\n",
       "      <td>SHARE</td>\n",
       "      <td>197521</td>\n",
       "      <td>197521.0</td>\n",
       "      <td>NaN</td>\n",
       "      <td>NaN</td>\n",
       "      <td>NaN</td>\n",
       "      <td>Client Solutions</td>\n",
       "      <td>10-Aug-2017</td>\n",
       "      <td>1.0</td>\n",
       "      <td>1:16:16</td>\n",
       "      <td>English/Writing GameScapes and Games</td>\n",
       "      <td>Folder</td>\n",
       "      <td>WEB</td>\n",
       "      <td>1</td>\n",
       "      <td>185</td>\n",
       "      <td>10-Aug-2017</td>\n",
       "      <td>1:16:16</td>\n",
       "    </tr>\n",
       "    <tr>\n",
       "      <th>26</th>\n",
       "      <td>SHARE</td>\n",
       "      <td>2241865</td>\n",
       "      <td>5538419.0</td>\n",
       "      <td>NaN</td>\n",
       "      <td>NaN</td>\n",
       "      <td>NaN</td>\n",
       "      <td>NaN</td>\n",
       "      <td>9-Aug-2017</td>\n",
       "      <td>0.0</td>\n",
       "      <td>0:29:19</td>\n",
       "      <td>Mission 10: FSD_MongoNode</td>\n",
       "      <td>Folder</td>\n",
       "      <td>WEB</td>\n",
       "      <td>0</td>\n",
       "      <td>0</td>\n",
       "      <td>9-Aug-2017</td>\n",
       "      <td>0:29:19</td>\n",
       "    </tr>\n",
       "    <tr>\n",
       "      <th>27</th>\n",
       "      <td>SHARE</td>\n",
       "      <td>5831244</td>\n",
       "      <td>205963.0</td>\n",
       "      <td>NaN</td>\n",
       "      <td>NaN</td>\n",
       "      <td>NaN</td>\n",
       "      <td>Toolwire Sales</td>\n",
       "      <td>3-Aug-2017</td>\n",
       "      <td>6.0</td>\n",
       "      <td>6:04:40</td>\n",
       "      <td>Pearson Food Safety</td>\n",
       "      <td>Folder</td>\n",
       "      <td>WEB</td>\n",
       "      <td>0</td>\n",
       "      <td>0</td>\n",
       "      <td>3-Aug-2017</td>\n",
       "      <td>6:04:40</td>\n",
       "    </tr>\n",
       "    <tr>\n",
       "      <th>28</th>\n",
       "      <td>VIEW</td>\n",
       "      <td>197521</td>\n",
       "      <td>NaN</td>\n",
       "      <td>WINDOWS_10</td>\n",
       "      <td>CHROME</td>\n",
       "      <td>CHROME</td>\n",
       "      <td>NaN</td>\n",
       "      <td>NaN</td>\n",
       "      <td>NaN</td>\n",
       "      <td>NaN</td>\n",
       "      <td>Sentences and Paragraphs: Laying the Bricks</td>\n",
       "      <td>Sente</td>\n",
       "      <td>NaN</td>\n",
       "      <td>1</td>\n",
       "      <td>55</td>\n",
       "      <td>2-Aug-2017</td>\n",
       "      <td>22:34:11</td>\n",
       "    </tr>\n",
       "    <tr>\n",
       "      <th>29</th>\n",
       "      <td>VIEW</td>\n",
       "      <td>197521</td>\n",
       "      <td>NaN</td>\n",
       "      <td>WINDOWS_10</td>\n",
       "      <td>CHROME</td>\n",
       "      <td>CHROME</td>\n",
       "      <td>NaN</td>\n",
       "      <td>NaN</td>\n",
       "      <td>NaN</td>\n",
       "      <td>NaN</td>\n",
       "      <td>Sentence Structure: Writer��s Block II</td>\n",
       "      <td>Sente</td>\n",
       "      <td>NaN</td>\n",
       "      <td>1</td>\n",
       "      <td>90</td>\n",
       "      <td>2-Aug-2017</td>\n",
       "      <td>22:26:42</td>\n",
       "    </tr>\n",
       "    <tr>\n",
       "      <th>30</th>\n",
       "      <td>VIEW</td>\n",
       "      <td>197521</td>\n",
       "      <td>NaN</td>\n",
       "      <td>WINDOWS_10</td>\n",
       "      <td>CHROME</td>\n",
       "      <td>CHROME</td>\n",
       "      <td>NaN</td>\n",
       "      <td>NaN</td>\n",
       "      <td>NaN</td>\n",
       "      <td>NaN</td>\n",
       "      <td>Grammar: He Said, She Said</td>\n",
       "      <td>Gramm</td>\n",
       "      <td>NaN</td>\n",
       "      <td>1</td>\n",
       "      <td>15</td>\n",
       "      <td>2-Aug-2017</td>\n",
       "      <td>21:26:10</td>\n",
       "    </tr>\n",
       "    <tr>\n",
       "      <th>31</th>\n",
       "      <td>VIEW</td>\n",
       "      <td>197521</td>\n",
       "      <td>NaN</td>\n",
       "      <td>WINDOWS_10</td>\n",
       "      <td>CHROME</td>\n",
       "      <td>CHROME</td>\n",
       "      <td>NaN</td>\n",
       "      <td>NaN</td>\n",
       "      <td>NaN</td>\n",
       "      <td>NaN</td>\n",
       "      <td>Sentence Types: Writer's Block</td>\n",
       "      <td>Sente</td>\n",
       "      <td>NaN</td>\n",
       "      <td>1</td>\n",
       "      <td>10</td>\n",
       "      <td>2-Aug-2017</td>\n",
       "      <td>21:24:04</td>\n",
       "    </tr>\n",
       "    <tr>\n",
       "      <th>32</th>\n",
       "      <td>VIEW</td>\n",
       "      <td>197521</td>\n",
       "      <td>NaN</td>\n",
       "      <td>WINDOWS_10</td>\n",
       "      <td>CHROME</td>\n",
       "      <td>CHROME</td>\n",
       "      <td>NaN</td>\n",
       "      <td>NaN</td>\n",
       "      <td>NaN</td>\n",
       "      <td>NaN</td>\n",
       "      <td>Writing Basics: Getting Started</td>\n",
       "      <td>Writi</td>\n",
       "      <td>NaN</td>\n",
       "      <td>1</td>\n",
       "      <td>15</td>\n",
       "      <td>2-Aug-2017</td>\n",
       "      <td>21:21:27</td>\n",
       "    </tr>\n",
       "    <tr>\n",
       "      <th>33</th>\n",
       "      <td>SHARE</td>\n",
       "      <td>3127028</td>\n",
       "      <td>211675.0</td>\n",
       "      <td>NaN</td>\n",
       "      <td>NaN</td>\n",
       "      <td>NaN</td>\n",
       "      <td>NaN</td>\n",
       "      <td>1-Aug-2017</td>\n",
       "      <td>1.0</td>\n",
       "      <td>1:04:06</td>\n",
       "      <td>Mission 12: Spring Core</td>\n",
       "      <td>Folder</td>\n",
       "      <td>WEB</td>\n",
       "      <td>0</td>\n",
       "      <td>0</td>\n",
       "      <td>1-Aug-2017</td>\n",
       "      <td>1:04:06</td>\n",
       "    </tr>\n",
       "    <tr>\n",
       "      <th>34</th>\n",
       "      <td>VIEW</td>\n",
       "      <td>5538419</td>\n",
       "      <td>NaN</td>\n",
       "      <td>WINDOWS_10</td>\n",
       "      <td>CHROME</td>\n",
       "      <td>CHROME</td>\n",
       "      <td>NaN</td>\n",
       "      <td>NaN</td>\n",
       "      <td>NaN</td>\n",
       "      <td>NaN</td>\n",
       "      <td>Desktop</td>\n",
       "      <td>Deskt</td>\n",
       "      <td>NaN</td>\n",
       "      <td>1</td>\n",
       "      <td>60</td>\n",
       "      <td>1-Aug-2017</td>\n",
       "      <td>0:33:54</td>\n",
       "    </tr>\n",
       "  </tbody>\n",
       "</table>\n",
       "</div>"
      ],
      "text/plain": [
       "   activity_type  user_id      rm_id     user_os viewing_app view_app_group  \\\n",
       "0          SHARE  5931852   197521.0         NaN         NaN            NaN   \n",
       "1           VIEW  5931852        NaN   WINDOWS_7      CHROME         CHROME   \n",
       "2           VIEW  5931852        NaN   WINDOWS_7      CHROME         CHROME   \n",
       "3           VIEW  5931852        NaN   WINDOWS_7      CHROME         CHROME   \n",
       "4           VIEW  5931852        NaN   WINDOWS_7      CHROME         CHROME   \n",
       "5          SHARE  5864595   197521.0         NaN         NaN            NaN   \n",
       "6           VIEW  5864595        NaN   WINDOWS_7        IE11           IE11   \n",
       "7          SHARE  5926033   197521.0         NaN         NaN            NaN   \n",
       "8          SHARE  3837716   197521.0         NaN         NaN            NaN   \n",
       "9           VIEW   197521        NaN  WINDOWS_10      CHROME         CHROME   \n",
       "10          VIEW   197521        NaN  WINDOWS_10      CHROME         CHROME   \n",
       "11          VIEW   197521        NaN  WINDOWS_10      CHROME         CHROME   \n",
       "12          VIEW   197521        NaN  WINDOWS_10      CHROME         CHROME   \n",
       "13          VIEW   197521        NaN  WINDOWS_10      CHROME         CHROME   \n",
       "14         SHARE  3010402  5538419.0         NaN         NaN            NaN   \n",
       "15         SHARE   229551   229551.0         NaN         NaN            NaN   \n",
       "16         SHARE  2266502   229551.0         NaN         NaN            NaN   \n",
       "17          VIEW  2266502        NaN  WINDOWS_10      CHROME         CHROME   \n",
       "18         SHARE  5735336  5538419.0         NaN         NaN            NaN   \n",
       "19         SHARE  2934058   211675.0         NaN         NaN            NaN   \n",
       "20         SHARE  1657717   197521.0         NaN         NaN            NaN   \n",
       "21          VIEW  5864595        NaN   WINDOWS_7      CHROME         CHROME   \n",
       "22          VIEW  5864595        NaN   WINDOWS_7      CHROME         CHROME   \n",
       "23          VIEW  5864595        NaN   WINDOWS_7      CHROME         CHROME   \n",
       "24          VIEW  5864595        NaN   WINDOWS_7      CHROME         CHROME   \n",
       "25         SHARE   197521   197521.0         NaN         NaN            NaN   \n",
       "26         SHARE  2241865  5538419.0         NaN         NaN            NaN   \n",
       "27         SHARE  5831244   205963.0         NaN         NaN            NaN   \n",
       "28          VIEW   197521        NaN  WINDOWS_10      CHROME         CHROME   \n",
       "29          VIEW   197521        NaN  WINDOWS_10      CHROME         CHROME   \n",
       "30          VIEW   197521        NaN  WINDOWS_10      CHROME         CHROME   \n",
       "31          VIEW   197521        NaN  WINDOWS_10      CHROME         CHROME   \n",
       "32          VIEW   197521        NaN  WINDOWS_10      CHROME         CHROME   \n",
       "33         SHARE  3127028   211675.0         NaN         NaN            NaN   \n",
       "34          VIEW  5538419        NaN  WINDOWS_10      CHROME         CHROME   \n",
       "\n",
       "                                user_groups  shared_date  shared_hour  \\\n",
       "0                          Client Solutions  18-Aug-2017          0.0   \n",
       "1                                       NaN          NaN          NaN   \n",
       "2                                       NaN          NaN          NaN   \n",
       "3                                       NaN          NaN          NaN   \n",
       "4                                       NaN          NaN          NaN   \n",
       "5                          Client Solutions  10-Aug-2017          3.0   \n",
       "6                                       NaN          NaN          NaN   \n",
       "7                          Client Solutions  17-Aug-2017         21.0   \n",
       "8                          Client Solutions  17-Aug-2017         21.0   \n",
       "9                                       NaN          NaN          NaN   \n",
       "10                                      NaN          NaN          NaN   \n",
       "11                                      NaN          NaN          NaN   \n",
       "12                                      NaN          NaN          NaN   \n",
       "13                                      NaN          NaN          NaN   \n",
       "14                                      NaN  16-Aug-2017         15.0   \n",
       "15  Cengage,Advanced,stage 1,Toolwire Sales  16-Aug-2017          3.0   \n",
       "16  Cengage,Advanced,stage 1,Toolwire Sales  27-Apr-2016          3.0   \n",
       "17                                      NaN          NaN          NaN   \n",
       "18                                      NaN  12-Aug-2017          1.0   \n",
       "19                                      NaN  10-Aug-2017         11.0   \n",
       "20                         Client Solutions  10-Aug-2017          4.0   \n",
       "21                                      NaN          NaN          NaN   \n",
       "22                                      NaN          NaN          NaN   \n",
       "23                                      NaN          NaN          NaN   \n",
       "24                                      NaN          NaN          NaN   \n",
       "25                         Client Solutions  10-Aug-2017          1.0   \n",
       "26                                      NaN   9-Aug-2017          0.0   \n",
       "27                           Toolwire Sales   3-Aug-2017          6.0   \n",
       "28                                      NaN          NaN          NaN   \n",
       "29                                      NaN          NaN          NaN   \n",
       "30                                      NaN          NaN          NaN   \n",
       "31                                      NaN          NaN          NaN   \n",
       "32                                      NaN          NaN          NaN   \n",
       "33                                      NaN   1-Aug-2017          1.0   \n",
       "34                                      NaN          NaN          NaN   \n",
       "\n",
       "   shared_time                              title_of_content doc_type  \\\n",
       "0      0:53:39          English/Writing GameScapes and Games   Folder   \n",
       "1          NaN  Introductions and Conclusions: Set the Stage    Intro   \n",
       "2          NaN         Paragraph Structure: Find the Balance    Parag   \n",
       "3          NaN         Paragraph Structure: Find the Balance    Parag   \n",
       "4          NaN         Paragraph Structure: Find the Balance    Parag   \n",
       "5      3:27:06          English/Writing GameScapes and Games   Folder   \n",
       "6          NaN          Thesis Statements: What's the Point?    Thesi   \n",
       "7     21:41:24                          Business Foundations   Folder   \n",
       "8     21:33:05                          Business Foundations   Folder   \n",
       "9          NaN                   DEMO - Planning and Writing    DEMO    \n",
       "10         NaN                Topics and Learning Objectives    Topic   \n",
       "11         NaN                Topics and Learning Objectives    Topic   \n",
       "12         NaN                        VIDEO - Trailer (3:32)    VIDEO   \n",
       "13         NaN                  Topics & Learning Objectives    Topic   \n",
       "14    15:44:41                        Mission 14: Spring MVC   Folder   \n",
       "15     3:19:36             Voorhees College_FacultyResources   Folder   \n",
       "16     3:36:24                                 Communication   Folder   \n",
       "17         NaN                                  VIDEO (3:32)    VIDEO   \n",
       "18     1:20:16                        Mission 14: Spring MVC   Folder   \n",
       "19    11:29:01                       Mission 12: Spring Core   Folder   \n",
       "20     4:15:28          English/Writing GameScapes and Games   Folder   \n",
       "21         NaN        Sentence Structure: Writer��s Block II    Sente   \n",
       "22         NaN        Sentence Structure: Writer��s Block II    Sente   \n",
       "23         NaN                Sentence Types: Writer's Block    Sente   \n",
       "24         NaN               Writing Basics: Getting Started    Writi   \n",
       "25     1:16:16          English/Writing GameScapes and Games   Folder   \n",
       "26     0:29:19                     Mission 10: FSD_MongoNode   Folder   \n",
       "27     6:04:40                           Pearson Food Safety   Folder   \n",
       "28         NaN   Sentences and Paragraphs: Laying the Bricks    Sente   \n",
       "29         NaN        Sentence Structure: Writer��s Block II    Sente   \n",
       "30         NaN                    Grammar: He Said, She Said    Gramm   \n",
       "31         NaN                Sentence Types: Writer's Block    Sente   \n",
       "32         NaN               Writing Basics: Getting Started    Writi   \n",
       "33     1:04:06                       Mission 12: Spring Core   Folder   \n",
       "34         NaN                                       Desktop    Deskt   \n",
       "\n",
       "   share_channel  viewed  time_spent_in_seconds last_activity_date  \\\n",
       "0            WEB       1                   5505        18-Aug-2017   \n",
       "1            NaN       1                    285        18-Aug-2017   \n",
       "2            NaN       1                   1635        18-Aug-2017   \n",
       "3            NaN       1                   3555        18-Aug-2017   \n",
       "4            NaN       1                     30        18-Aug-2017   \n",
       "5            WEB       1                   1240        18-Aug-2017   \n",
       "6            NaN       1                      5        18-Aug-2017   \n",
       "7            WEB       0                      0        17-Aug-2017   \n",
       "8            WEB       1                  51490        17-Aug-2017   \n",
       "9            NaN       1                    350        17-Aug-2017   \n",
       "10           NaN       1                     35        17-Aug-2017   \n",
       "11           NaN       1                     25        17-Aug-2017   \n",
       "12           NaN       1                      5        17-Aug-2017   \n",
       "13           NaN       1                     20        17-Aug-2017   \n",
       "14           WEB       0                      0        16-Aug-2017   \n",
       "15           WEB       1                   8305        16-Aug-2017   \n",
       "16           WEB       1                    297        15-Aug-2017   \n",
       "17           NaN       1                     25        15-Aug-2017   \n",
       "18           WEB       0                      0        12-Aug-2017   \n",
       "19           WEB       0                      0        10-Aug-2017   \n",
       "20           WEB       0                      0        10-Aug-2017   \n",
       "21           NaN       1                    230        10-Aug-2017   \n",
       "22           NaN       1                    295        10-Aug-2017   \n",
       "23           NaN       1                    190        10-Aug-2017   \n",
       "24           NaN       1                    520        10-Aug-2017   \n",
       "25           WEB       1                    185        10-Aug-2017   \n",
       "26           WEB       0                      0         9-Aug-2017   \n",
       "27           WEB       0                      0         3-Aug-2017   \n",
       "28           NaN       1                     55         2-Aug-2017   \n",
       "29           NaN       1                     90         2-Aug-2017   \n",
       "30           NaN       1                     15         2-Aug-2017   \n",
       "31           NaN       1                     10         2-Aug-2017   \n",
       "32           NaN       1                     15         2-Aug-2017   \n",
       "33           WEB       0                      0         1-Aug-2017   \n",
       "34           NaN       1                     60         1-Aug-2017   \n",
       "\n",
       "   last_activity_time  \n",
       "0            22:43:00  \n",
       "1            22:37:45  \n",
       "2            22:00:03  \n",
       "3            21:00:01  \n",
       "4            20:59:28  \n",
       "5            20:56:00  \n",
       "6            20:55:11  \n",
       "7            21:41:24  \n",
       "8            21:33:05  \n",
       "9             3:11:48  \n",
       "10            3:08:54  \n",
       "11            3:04:10  \n",
       "12            3:03:59  \n",
       "13            3:03:38  \n",
       "14           15:44:41  \n",
       "15            3:19:36  \n",
       "16           23:39:00  \n",
       "17           23:37:59  \n",
       "18            1:20:16  \n",
       "19           11:29:01  \n",
       "20            4:15:28  \n",
       "21            4:00:03  \n",
       "22            3:55:08  \n",
       "23            3:45:55  \n",
       "24            3:30:01  \n",
       "25            1:16:16  \n",
       "26            0:29:19  \n",
       "27            6:04:40  \n",
       "28           22:34:11  \n",
       "29           22:26:42  \n",
       "30           21:26:10  \n",
       "31           21:24:04  \n",
       "32           21:21:27  \n",
       "33            1:04:06  \n",
       "34            0:33:54  "
      ]
     },
     "execution_count": 6,
     "metadata": {},
     "output_type": "execute_result"
    }
   ],
   "source": [
    "df.head(35)"
   ]
  },
  {
   "cell_type": "markdown",
   "metadata": {},
   "source": [
    "# EDA & Feature Engineering"
   ]
  },
  {
   "cell_type": "code",
   "execution_count": 7,
   "metadata": {
    "collapsed": false
   },
   "outputs": [
    {
     "data": {
      "text/plain": [
       "array([nan, 'WINDOWS_7', 'WINDOWS_10', 'MAC_OS_X', 'MAC_OS_X_IPHONE',\n",
       "       'WINDOWS_XP', 'WINDOWS_81', 'ANDROID6', 'ANDROID_MOBILE',\n",
       "       'CHROME_OS', 'MAC_OS_X_IPAD', 'ANDROID4_TABLET', 'WINDOWS_8',\n",
       "       'iOS8_1_IPAD'], dtype=object)"
      ]
     },
     "execution_count": 7,
     "metadata": {},
     "output_type": "execute_result"
    }
   ],
   "source": [
    "df.user_os.unique()\n"
   ]
  },
  {
   "cell_type": "code",
   "execution_count": 8,
   "metadata": {
    "collapsed": false
   },
   "outputs": [],
   "source": [
    "df.rename(columns={'user_os': 'viewing_device'}, inplace=True)\n",
    "df[\"viewing_device\"].replace({\"MAC_OS_X\" : \"Laptop/Desktop\", \"WINDOWS_XP\" : \"Laptop/Desktop\", \"WINDOWS_8\" : \"Laptop/Desktop\", \"WINDOWS_10\" : \"Laptop/Desktop\", \"WINDOWS_7\" : \"Laptop/Desktop\", \"WINDOWS_81\" : \"Laptop/Desktop\", \"CHROME_OS\" : \"Laptop/Desktop\"}, inplace = True)\n",
    "df[\"viewing_device\"].replace({\"ANDROID_MOBILE\" : \"Phone\", \"ANDROID6\" : \"Phone\", \"ANDROID4\" : \"Phone\", \"ANDROID5\" : \"Phone\",\"ANDROID7\" : \"Phone\", \"MAC_OS_X_IPHONE\" : \"Phone\", \"iOS7_IPHONE\" : \"Phone\", \"iOS8_1_IPHONE\" : \"Phone\", \"iOS8_3_IPHONE\" : \"Phone\", \"iOS9_IPHONE\" : \"Phone\"}, inplace=True)\n",
    "df[\"viewing_device\"].replace({\"ANDROID4_TABLET\" : \"Tablet\", \"ANDROID6_TABLET\" : \"Tablet\", \"iOS8_1_IPAD\" : \"Tablet\", \"MAC_OS_X_IPAD\" : \"Tablet\"}, inplace = True)"
   ]
  },
  {
   "cell_type": "code",
   "execution_count": 9,
   "metadata": {
    "collapsed": false
   },
   "outputs": [
    {
     "data": {
      "text/plain": [
       "array([nan, 'CHROME', 'IE11', 'SAFARI', 'EDGE', 'FIREFOX', 'EDGE14',\n",
       "       'EDGE13', 'EDGE12', 'MOBILE_SAFARI', 'CHROME49', 'FIREFOX34',\n",
       "       'CHROME45', 'CHROME_MOBILE', 'SAFARI9', 'SAFARI5', 'FIREFOX48',\n",
       "       'CHROME48', 'FIREFOX46', 'CHROME41', 'CHROME28'], dtype=object)"
      ]
     },
     "execution_count": 9,
     "metadata": {},
     "output_type": "execute_result"
    }
   ],
   "source": [
    "df.viewing_app.unique()"
   ]
  },
  {
   "cell_type": "code",
   "execution_count": 10,
   "metadata": {
    "collapsed": false
   },
   "outputs": [
    {
     "data": {
      "text/plain": [
       "array([nan, 'CHROME', 'IE11', 'SAFARI', 'EDGE', 'FIREFOX', 'MOBILE_SAFARI',\n",
       "       'CHROME_MOBILE'], dtype=object)"
      ]
     },
     "execution_count": 10,
     "metadata": {},
     "output_type": "execute_result"
    }
   ],
   "source": [
    "df.rename(columns={'viewing_app': 'browser'}, inplace=True)\n",
    "df[\"browser\"].replace({\"CHROME45\" : \"CHROME\", \"CHROME49\" : \"CHROME\", \"CHROME41\" : \"CHROME\", \"CHROME48\" : \"CHROME\", \"CHROME28\" : \"CHROME\", \"FIREFOX34\" : \"FIREFOX\", \"FIREFOX46\" : \"FIREFOX\", \"FIREFOX48\" : \"FIREFOX\", \"EDGE12\" : \"EDGE\"}, inplace = True)\n",
    "df[\"browser\"].replace({\"EDGE13\" : \"EDGE\", \"EDGE14\" : \"EDGE\", \"SAFARI5\" : \"SAFARI\", \"SAFARI9\" : \"SAFARI\"}, inplace=True)\n",
    "df.browser.unique()"
   ]
  },
  {
   "cell_type": "code",
   "execution_count": 11,
   "metadata": {
    "collapsed": false
   },
   "outputs": [],
   "source": [
    "df[\"shared_date\"] = pd.to_datetime(df[\"shared_date\"], format=\"%d-%b-%Y\")"
   ]
  },
  {
   "cell_type": "code",
   "execution_count": 12,
   "metadata": {
    "collapsed": false
   },
   "outputs": [],
   "source": [
    "df[\"last_activity_date\"] = pd.to_datetime(df[\"last_activity_date\"], format=\"%d-%b-%Y\")"
   ]
  },
  {
   "cell_type": "code",
   "execution_count": 13,
   "metadata": {
    "collapsed": false
   },
   "outputs": [],
   "source": [
    "df['weekday'] = df['last_activity_date'].dt.dayofweek\n",
    "df[\"weekday_name\"] = df['last_activity_date'].dt.weekday_name\n",
    "df[\"month\"] = df['last_activity_date'].dt.month\n",
    "df[\"time_of_day\"] = pd.to_datetime(df['last_activity_time'], format='%H:%M:%S').dt.hour"
   ]
  },
  {
   "cell_type": "code",
   "execution_count": 14,
   "metadata": {
    "collapsed": false
   },
   "outputs": [
    {
     "data": {
      "text/plain": [
       "array([2, 3, 1, 4])"
      ]
     },
     "execution_count": 14,
     "metadata": {},
     "output_type": "execute_result"
    }
   ],
   "source": [
    "# 1: Night(Midnight to 6 am), 2: Morning(6 am to Noon), 3: Afternoon(Noon to 6 pm), 4: Evening(6 pm to Midnight)\n",
    "df[\"time_of_day\"].replace({0 : 3, 1 : 3, 2 : 3, 3 : 3, 4 : 3, 5 : 3}, inplace = True)\n",
    "df[\"time_of_day\"].replace({6 : 4, 7 : 4, 8 : 4, 9 : 4, 10 : 4, 11 : 4}, inplace = True)\n",
    "df[\"time_of_day\"].replace({12 : 1, 13 : 1, 14 : 1, 15 : 1, 16 : 1, 17 : 1}, inplace = True)\n",
    "df[\"time_of_day\"].replace({18 : 2, 19 : 2, 20 : 2, 21 : 2, 22 : 2, 23 : 2}, inplace = True)\n",
    "df.time_of_day.unique()"
   ]
  },
  {
   "cell_type": "code",
   "execution_count": 15,
   "metadata": {
    "collapsed": false
   },
   "outputs": [],
   "source": [
    "df['hour'] = pd.to_datetime(df['last_activity_time'], format='%H:%M:%S').dt.hour"
   ]
  },
  {
   "cell_type": "code",
   "execution_count": 16,
   "metadata": {
    "collapsed": false
   },
   "outputs": [
    {
     "data": {
      "text/plain": [
       "array([1, 0])"
      ]
     },
     "execution_count": 16,
     "metadata": {},
     "output_type": "execute_result"
    }
   ],
   "source": [
    "df.viewed.unique()"
   ]
  },
  {
   "cell_type": "code",
   "execution_count": 17,
   "metadata": {
    "collapsed": true
   },
   "outputs": [],
   "source": [
    "df[\"time_spent_mins\"] = df[\"time_spent_in_seconds\"]/60."
   ]
  },
  {
   "cell_type": "code",
   "execution_count": 18,
   "metadata": {
    "collapsed": false
   },
   "outputs": [],
   "source": [
    "hour_grouped = df.groupby(\"time_of_day\")[\"time_spent_mins\"].sum()"
   ]
  },
  {
   "cell_type": "code",
   "execution_count": 19,
   "metadata": {
    "collapsed": false
   },
   "outputs": [],
   "source": [
    "# plot = plt.bar(xrange(0,4),(df.groupby(\"time_of_day\")[\"time_spent_mins\"].sum()))\n",
    "# plt.xticks(xrange(0,4),[\"Night\", \"Morning\", \"Afternoon\", \"Evening\"])\n"
   ]
  },
  {
   "cell_type": "code",
   "execution_count": 20,
   "metadata": {
    "collapsed": false
   },
   "outputs": [
    {
     "data": {
      "text/plain": [
       "2463"
      ]
     },
     "execution_count": 20,
     "metadata": {},
     "output_type": "execute_result"
    }
   ],
   "source": [
    "#sns.distplot(df[\"time_spent_mins\"], color=\"m\")\n",
    "len(df)"
   ]
  },
  {
   "cell_type": "code",
   "execution_count": 21,
   "metadata": {
    "collapsed": false
   },
   "outputs": [
    {
     "data": {
      "text/plain": [
       "1693"
      ]
     },
     "execution_count": 21,
     "metadata": {},
     "output_type": "execute_result"
    },
    {
     "data": {
      "image/png": "[encoded data removed]",
      "text/plain": [
       "<matplotlib.figure.Figure at 0x10e76a350>"
      ]
     },
     "metadata": {},
     "output_type": "display_data"
    }
   ],
   "source": [
    "df = df[df[\"time_spent_mins\"] <= 4]\n",
    "plot = plt.hist(df[\"time_spent_mins\"])\n",
    "#plt.boxplot(new_df[\"time_spent_mins\"])\n",
    "\n",
    "len(df) \n",
    "# 1917 (22% reduced)\n",
    "#sns.distplot(new_df[\"time_spent_mins\"], color=\"g\")"
   ]
  },
  {
   "cell_type": "code",
   "execution_count": 22,
   "metadata": {
    "collapsed": true
   },
   "outputs": [],
   "source": [
    "temp = 0\n",
    "for index, row in df.iterrows():\n",
    "    if row[\"activity_type\"] == \"SHARE\":\n",
    "        temp = row[\"shared_date\"]\n",
    "    else:\n",
    "        if temp == 0:\n",
    "            row[\"shared_date\"] = row[\"last_activity_date\"]\n",
    "        else:\n",
    "            row[\"shared_date\"] = temp         "
   ]
  },
  {
   "cell_type": "code",
   "execution_count": 23,
   "metadata": {
    "collapsed": true
   },
   "outputs": [],
   "source": [
    "df['num_of_day_from_share_view'] = (df[\"last_activity_date\"] - df[\"shared_date\"]).astype(dt.timedelta).map(lambda x: 0 if pd.isnull(x) else x.days)\n"
   ]
  },
  {
   "cell_type": "code",
   "execution_count": 24,
   "metadata": {
    "collapsed": false
   },
   "outputs": [],
   "source": [
    "df = df[df['num_of_day_from_share_view']<2]"
   ]
  },
  {
   "cell_type": "code",
   "execution_count": 25,
   "metadata": {
    "collapsed": false
   },
   "outputs": [
    {
     "data": {
      "text/plain": [
       "1676"
      ]
     },
     "execution_count": 25,
     "metadata": {},
     "output_type": "execute_result"
    }
   ],
   "source": [
    "len(df)"
   ]
  },
  {
   "cell_type": "markdown",
   "metadata": {},
   "source": [
    "# SHARE DATA ANALYSIS"
   ]
  },
  {
   "cell_type": "code",
   "execution_count": 26,
   "metadata": {
    "collapsed": false
   },
   "outputs": [
    {
     "data": {
      "text/plain": [
       "Index([u'activity_type', u'user_id', u'rm_id', u'viewing_device', u'browser',\n",
       "       u'view_app_group', u'user_groups', u'shared_date', u'shared_hour',\n",
       "       u'shared_time', u'title_of_content', u'doc_type', u'share_channel',\n",
       "       u'viewed', u'time_spent_in_seconds', u'last_activity_date',\n",
       "       u'last_activity_time', u'weekday', u'weekday_name', u'month',\n",
       "       u'time_of_day', u'hour', u'time_spent_mins',\n",
       "       u'num_of_day_from_share_view'],\n",
       "      dtype='object')"
      ]
     },
     "execution_count": 26,
     "metadata": {},
     "output_type": "execute_result"
    }
   ],
   "source": [
    "share_df = df[df.activity_type == \"SHARE\"]\n",
    "share_df.columns"
   ]
  },
  {
   "cell_type": "code",
   "execution_count": 64,
   "metadata": {
    "collapsed": false
   },
   "outputs": [
    {
     "data": {
      "text/plain": [
       "(10, 16.3)"
      ]
     },
     "execution_count": 64,
     "metadata": {},
     "output_type": "execute_result"
    }
   ],
   "source": [
    "len(share_df.rm_id.unique()), len(share_df)/float(len(share_df.rm_id.unique()))"
   ]
  },
  {
   "cell_type": "code",
   "execution_count": 27,
   "metadata": {
    "collapsed": false
   },
   "outputs": [],
   "source": [
    "y_time_spent = share_df.groupby(\"weekday\")[\"time_spent_mins\"].sum()"
   ]
  },
  {
   "cell_type": "code",
   "execution_count": 61,
   "metadata": {
    "collapsed": false
   },
   "outputs": [
    {
     "data": {
      "text/plain": [
       "<Container object of 7 artists>"
      ]
     },
     "execution_count": 61,
     "metadata": {},
     "output_type": "execute_result"
    },
    {
     "data": {
      "image/png": "[encoded data removed]",
      "text/plain": [
       "<matplotlib.figure.Figure at 0x11215a910>"
      ]
     },
     "metadata": {},
     "output_type": "display_data"
    }
   ],
   "source": [
    "plt.bar(xrange(0,len(share_df.groupby(\"month\")[\"rm_id\"].count())), share_df.groupby(\"month\")[\"rm_id\"].count())"
   ]
  },
  {
   "cell_type": "code",
   "execution_count": 28,
   "metadata": {
    "collapsed": false
   },
   "outputs": [],
   "source": [
    "#sns.stripplot(x=share_df[\"weekday_name\"], y=share_df[\"time_spent_mins\"], data=share_df, jitter=True)"
   ]
  },
  {
   "cell_type": "code",
   "execution_count": 29,
   "metadata": {
    "collapsed": false
   },
   "outputs": [
    {
     "data": {
      "text/plain": [
       "(163, 123)"
      ]
     },
     "execution_count": 29,
     "metadata": {},
     "output_type": "execute_result"
    }
   ],
   "source": [
    "len(share_df), len(share_df.user_id.unique())"
   ]
  },
  {
   "cell_type": "code",
   "execution_count": 60,
   "metadata": {
    "collapsed": false
   },
   "outputs": [
    {
     "data": {
      "text/plain": [
       "Counter({197521.0: 30,\n",
       "         205963.0: 17,\n",
       "         211675.0: 14,\n",
       "         228993.0: 2,\n",
       "         229551.0: 57,\n",
       "         230605.0: 1,\n",
       "         346016.0: 11,\n",
       "         2978304.0: 6,\n",
       "         3500356.0: 12,\n",
       "         5538419.0: 13})"
      ]
     },
     "execution_count": 60,
     "metadata": {},
     "output_type": "execute_result"
    }
   ],
   "source": [
    "from collections import Counter\n",
    "user_id_list_sh = [j.rm_id for i,j in df.iterrows() if j[\"activity_type\"] == \"SHARE\"]\n",
    "num_shares_dict = Counter(user_id_list_sh)\n",
    "num_shares_dict\n",
    "# num_shares = [v for k,v in num_shares_dict.iteritems()]\n",
    "# len(num_shares),plt.hist(num_shares)"
   ]
  },
  {
   "cell_type": "code",
   "execution_count": 31,
   "metadata": {
    "collapsed": false
   },
   "outputs": [],
   "source": [
    "# sns.distplot(share_df[\"num_of_day_from_share_view\"], color=\"m\")"
   ]
  },
  {
   "cell_type": "code",
   "execution_count": 32,
   "metadata": {
    "collapsed": false
   },
   "outputs": [
    {
     "data": {
      "text/plain": [
       "(array([ 161.,    0.,    0.,    0.,    0.,    0.,    0.,    0.,    0.,    2.]),\n",
       " array([ 0. ,  0.1,  0.2,  0.3,  0.4,  0.5,  0.6,  0.7,  0.8,  0.9,  1. ]),\n",
       " <a list of 10 Patch objects>)"
      ]
     },
     "execution_count": 32,
     "metadata": {},
     "output_type": "execute_result"
    },
    {
     "data": {
      "image/png": "[encoded data removed]",
      "text/plain": [
       "<matplotlib.figure.Figure at 0x111aaa950>"
      ]
     },
     "metadata": {},
     "output_type": "display_data"
    }
   ],
   "source": [
    "import pylab as pl\n",
    "h = sorted(share_df[\"num_of_day_from_share_view\"])  #sorted\n",
    "\n",
    "fit = norm.pdf(h, np.mean(h), np.std(h))  #this is a fitting indeed\n",
    "\n",
    "pl.plot(h,fit,'-o')\n",
    "\n",
    "pl.hist(h)"
   ]
  },
  {
   "cell_type": "code",
   "execution_count": 33,
   "metadata": {
    "collapsed": false
   },
   "outputs": [
    {
     "data": {
      "text/html": [
       "<div>\n",
       "<style>\n",
       "    .dataframe thead tr:only-child th {\n",
       "        text-align: right;\n",
       "    }\n",
       "\n",
       "    .dataframe thead th {\n",
       "        text-align: left;\n",
       "    }\n",
       "\n",
       "    .dataframe tbody tr th {\n",
       "        vertical-align: top;\n",
       "    }\n",
       "</style>\n",
       "<table border=\"1\" class=\"dataframe\">\n",
       "  <thead>\n",
       "    <tr style=\"text-align: right;\">\n",
       "      <th></th>\n",
       "      <th>user_id</th>\n",
       "      <th>rm_id</th>\n",
       "      <th>shared_hour</th>\n",
       "      <th>viewed</th>\n",
       "      <th>time_spent_in_seconds</th>\n",
       "      <th>weekday</th>\n",
       "      <th>month</th>\n",
       "      <th>time_of_day</th>\n",
       "      <th>hour</th>\n",
       "      <th>time_spent_mins</th>\n",
       "      <th>num_of_day_from_share_view</th>\n",
       "    </tr>\n",
       "  </thead>\n",
       "  <tbody>\n",
       "    <tr>\n",
       "      <th>count</th>\n",
       "      <td>1.630000e+02</td>\n",
       "      <td>1.630000e+02</td>\n",
       "      <td>163.000000</td>\n",
       "      <td>163.000000</td>\n",
       "      <td>163.000000</td>\n",
       "      <td>163.000000</td>\n",
       "      <td>163.000000</td>\n",
       "      <td>163.000000</td>\n",
       "      <td>163.000000</td>\n",
       "      <td>163.000000</td>\n",
       "      <td>163.000000</td>\n",
       "    </tr>\n",
       "    <tr>\n",
       "      <th>mean</th>\n",
       "      <td>3.786921e+06</td>\n",
       "      <td>9.929029e+05</td>\n",
       "      <td>10.122699</td>\n",
       "      <td>0.472393</td>\n",
       "      <td>26.349693</td>\n",
       "      <td>2.711656</td>\n",
       "      <td>4.429448</td>\n",
       "      <td>2.515337</td>\n",
       "      <td>9.926380</td>\n",
       "      <td>0.439162</td>\n",
       "      <td>0.012270</td>\n",
       "    </tr>\n",
       "    <tr>\n",
       "      <th>std</th>\n",
       "      <td>2.030893e+06</td>\n",
       "      <td>1.657973e+06</td>\n",
       "      <td>8.169329</td>\n",
       "      <td>0.500776</td>\n",
       "      <td>45.958185</td>\n",
       "      <td>1.443264</td>\n",
       "      <td>1.962517</td>\n",
       "      <td>0.918640</td>\n",
       "      <td>8.197077</td>\n",
       "      <td>0.765970</td>\n",
       "      <td>0.110427</td>\n",
       "    </tr>\n",
       "    <tr>\n",
       "      <th>min</th>\n",
       "      <td>1.975210e+05</td>\n",
       "      <td>1.975210e+05</td>\n",
       "      <td>0.000000</td>\n",
       "      <td>0.000000</td>\n",
       "      <td>0.000000</td>\n",
       "      <td>0.000000</td>\n",
       "      <td>2.000000</td>\n",
       "      <td>1.000000</td>\n",
       "      <td>0.000000</td>\n",
       "      <td>0.000000</td>\n",
       "      <td>0.000000</td>\n",
       "    </tr>\n",
       "    <tr>\n",
       "      <th>25%</th>\n",
       "      <td>1.798722e+06</td>\n",
       "      <td>2.059630e+05</td>\n",
       "      <td>2.000000</td>\n",
       "      <td>0.000000</td>\n",
       "      <td>0.000000</td>\n",
       "      <td>2.000000</td>\n",
       "      <td>3.000000</td>\n",
       "      <td>2.000000</td>\n",
       "      <td>2.000000</td>\n",
       "      <td>0.000000</td>\n",
       "      <td>0.000000</td>\n",
       "    </tr>\n",
       "    <tr>\n",
       "      <th>50%</th>\n",
       "      <td>4.897825e+06</td>\n",
       "      <td>2.295510e+05</td>\n",
       "      <td>9.000000</td>\n",
       "      <td>0.000000</td>\n",
       "      <td>0.000000</td>\n",
       "      <td>3.000000</td>\n",
       "      <td>4.000000</td>\n",
       "      <td>3.000000</td>\n",
       "      <td>8.000000</td>\n",
       "      <td>0.000000</td>\n",
       "      <td>0.000000</td>\n",
       "    </tr>\n",
       "    <tr>\n",
       "      <th>75%</th>\n",
       "      <td>5.106435e+06</td>\n",
       "      <td>3.460160e+05</td>\n",
       "      <td>19.000000</td>\n",
       "      <td>1.000000</td>\n",
       "      <td>34.000000</td>\n",
       "      <td>4.000000</td>\n",
       "      <td>6.000000</td>\n",
       "      <td>3.000000</td>\n",
       "      <td>19.000000</td>\n",
       "      <td>0.566667</td>\n",
       "      <td>0.000000</td>\n",
       "    </tr>\n",
       "    <tr>\n",
       "      <th>max</th>\n",
       "      <td>5.926033e+06</td>\n",
       "      <td>5.538419e+06</td>\n",
       "      <td>23.000000</td>\n",
       "      <td>1.000000</td>\n",
       "      <td>238.000000</td>\n",
       "      <td>6.000000</td>\n",
       "      <td>8.000000</td>\n",
       "      <td>4.000000</td>\n",
       "      <td>23.000000</td>\n",
       "      <td>3.966667</td>\n",
       "      <td>1.000000</td>\n",
       "    </tr>\n",
       "  </tbody>\n",
       "</table>\n",
       "</div>"
      ],
      "text/plain": [
       "            user_id         rm_id  shared_hour      viewed  \\\n",
       "count  1.630000e+02  1.630000e+02   163.000000  163.000000   \n",
       "mean   3.786921e+06  9.929029e+05    10.122699    0.472393   \n",
       "std    2.030893e+06  1.657973e+06     8.169329    0.500776   \n",
       "min    1.975210e+05  1.975210e+05     0.000000    0.000000   \n",
       "25%    1.798722e+06  2.059630e+05     2.000000    0.000000   \n",
       "50%    4.897825e+06  2.295510e+05     9.000000    0.000000   \n",
       "75%    5.106435e+06  3.460160e+05    19.000000    1.000000   \n",
       "max    5.926033e+06  5.538419e+06    23.000000    1.000000   \n",
       "\n",
       "       time_spent_in_seconds     weekday       month  time_of_day        hour  \\\n",
       "count             163.000000  163.000000  163.000000   163.000000  163.000000   \n",
       "mean               26.349693    2.711656    4.429448     2.515337    9.926380   \n",
       "std                45.958185    1.443264    1.962517     0.918640    8.197077   \n",
       "min                 0.000000    0.000000    2.000000     1.000000    0.000000   \n",
       "25%                 0.000000    2.000000    3.000000     2.000000    2.000000   \n",
       "50%                 0.000000    3.000000    4.000000     3.000000    8.000000   \n",
       "75%                34.000000    4.000000    6.000000     3.000000   19.000000   \n",
       "max               238.000000    6.000000    8.000000     4.000000   23.000000   \n",
       "\n",
       "       time_spent_mins  num_of_day_from_share_view  \n",
       "count       163.000000                  163.000000  \n",
       "mean          0.439162                    0.012270  \n",
       "std           0.765970                    0.110427  \n",
       "min           0.000000                    0.000000  \n",
       "25%           0.000000                    0.000000  \n",
       "50%           0.000000                    0.000000  \n",
       "75%           0.566667                    0.000000  \n",
       "max           3.966667                    1.000000  "
      ]
     },
     "execution_count": 33,
     "metadata": {},
     "output_type": "execute_result"
    }
   ],
   "source": [
    "share_df.describe()"
   ]
  },
  {
   "cell_type": "code",
   "execution_count": 34,
   "metadata": {
    "collapsed": false
   },
   "outputs": [
    {
     "data": {
      "text/plain": [
       "<module 'pylab' from '/Users/urmimukherjee/anaconda2/lib/python2.7/site-packages/pylab.pyc'>"
      ]
     },
     "execution_count": 34,
     "metadata": {},
     "output_type": "execute_result"
    },
    {
     "data": {
      "image/png": "[encoded data removed]",
      "text/plain": [
       "<matplotlib.figure.Figure at 0x10e76a550>"
      ]
     },
     "metadata": {},
     "output_type": "display_data"
    }
   ],
   "source": [
    "import pylab as pl\n",
    "days_share_view = share_df[share_df[\"num_of_day_from_share_view\"]<=7]\n",
    "len(share_df),len(days_share_view)\n",
    "h = sorted(days_share_view[\"num_of_day_from_share_view\"]) #sorted\n",
    "\n",
    "# fit = norm.pdf(h, np.mean(h), np.std(h))  #this is a fitting indeed\n",
    "\n",
    "# pl.plot(h,fit,'-o')\n",
    "\n",
    "pl.hist(h)\n",
    "pl"
   ]
  },
  {
   "cell_type": "code",
   "execution_count": 35,
   "metadata": {
    "collapsed": false
   },
   "outputs": [
    {
     "data": {
      "text/plain": [
       "(163, 163)"
      ]
     },
     "execution_count": 35,
     "metadata": {},
     "output_type": "execute_result"
    }
   ],
   "source": [
    "len(share_df),len(days_share_view)"
   ]
  },
  {
   "cell_type": "code",
   "execution_count": 36,
   "metadata": {
    "collapsed": false
   },
   "outputs": [],
   "source": [
    "# uniq_titles = np.sort(share_df.title_of_content.unique())\n",
    "# uniq_title_num_share = share_df.groupby(\"title_of_content\")[\"activity_type\"].count()\n",
    "# #uniq_titles \n",
    "# uniq_title_num_share"
   ]
  },
  {
   "cell_type": "code",
   "execution_count": 37,
   "metadata": {
    "collapsed": false
   },
   "outputs": [],
   "source": [
    "# import pylab as pl\n",
    "# h = sorted(share_df[\"time_spent_mins\"])  #sorted\n",
    "\n",
    "# fit = norm.pdf(h, np.mean(h), np.std(h))  #this is a fitting indeed\n",
    "\n",
    "# pl.plot(h,fit,'-o')\n",
    "\n",
    "# pl.hist(h,normed=True)\n"
   ]
  },
  {
   "cell_type": "code",
   "execution_count": 38,
   "metadata": {
    "collapsed": false
   },
   "outputs": [],
   "source": [
    "#share_df[\"weekday\"].plot.kde()"
   ]
  },
  {
   "cell_type": "code",
   "execution_count": 39,
   "metadata": {
    "collapsed": false
   },
   "outputs": [],
   "source": [
    "# plot = plt.bar(xrange(0,7),(share_df.groupby(\"weekday\")[\"time_spent_mins\"].sum()))\n",
    "# plt.xticks(xrange(0,7),[\"Sunday\", \"Monday\", \"Tuesday\", \"Wednesday\", \"Thursday\", \"Friday\", \"Saturday\"])\n",
    "# share_weekday = share_df.groupby(\"weekday\")[\"time_spent_mins\"].sum()"
   ]
  },
  {
   "cell_type": "code",
   "execution_count": 40,
   "metadata": {
    "collapsed": false
   },
   "outputs": [],
   "source": [
    "# plot = plt.bar(xrange(0,7),(share_df.groupby(\"month\")[\"time_spent_mins\"].sum()))\n",
    "# plt.xticks(xrange(0,7),[\"Feb\", \"Mar\", \"Apr\", \"May\", \"Jun\", \"Jul\", \"Aug\"])"
   ]
  },
  {
   "cell_type": "code",
   "execution_count": 41,
   "metadata": {
    "collapsed": false
   },
   "outputs": [],
   "source": [
    "# import pylab as pl\n",
    "# new_share = share_df[share_df[\"time_spent_mins\"]<=8]\n",
    "# h = sorted(new_share[\"time_spent_mins\"])  #sorted\n",
    "\n",
    "# fit = norm.pdf(h, np.mean(h), np.std(h))  #this is a fitting indeed\n",
    "\n",
    "# pl.plot(h,fit,'-o')\n",
    "# pl.axvline(x=np.mean(h)+np.std(h),color='r', linestyle='--')\n",
    "# pl.axvline(x=np.mean(h)-np.std(h),color='r', linestyle='--')\n",
    "# pl.hist(h,normed=True)\n"
   ]
  },
  {
   "cell_type": "code",
   "execution_count": 42,
   "metadata": {
    "collapsed": false
   },
   "outputs": [],
   "source": [
    "#h = plt.hist(share_df.time_spent_mins)"
   ]
  },
  {
   "cell_type": "code",
   "execution_count": 43,
   "metadata": {
    "collapsed": false
   },
   "outputs": [
    {
     "data": {
      "text/plain": [
       "array(['WEB', 'ANDROID'], dtype=object)"
      ]
     },
     "execution_count": 43,
     "metadata": {},
     "output_type": "execute_result"
    }
   ],
   "source": [
    "#sns.stripplot(x=\"share_channel\", y=\"time_spent_mins\", data=share_df)\n",
    "df.share_channel.unique()\n",
    "share_df.share_channel.unique()"
   ]
  },
  {
   "cell_type": "code",
   "execution_count": 44,
   "metadata": {
    "collapsed": false
   },
   "outputs": [
    {
     "data": {
      "text/plain": [
       "([<matplotlib.axis.XTick at 0x111e7df50>,\n",
       "  <matplotlib.axis.XTick at 0x111f10150>],\n",
       " <a list of 2 Text xticklabel objects>)"
      ]
     },
     "execution_count": 44,
     "metadata": {},
     "output_type": "execute_result"
    },
    {
     "data": {
      "image/png": "[encoded data removed]",
      "text/plain": [
       "<matplotlib.figure.Figure at 0x111aaa810>"
      ]
     },
     "metadata": {},
     "output_type": "display_data"
    }
   ],
   "source": [
    "plt.bar(xrange(0,2),(share_df.groupby(\"share_channel\")[\"time_spent_mins\"].count()))\n",
    "plt.xticks(xrange(0,2),[\"ANDROID\",\"WEB\"])\n",
    "# plt.xlabel(\"Share Channel\")\n",
    "# plt.ylabel(\"Number of Shares\")\n",
    "# plt.title(\"TW - Num Shares Vs Share Channel\")"
   ]
  },
  {
   "cell_type": "code",
   "execution_count": 45,
   "metadata": {
    "collapsed": false
   },
   "outputs": [],
   "source": [
    "#sns.stripplot(x=\"time_of_day\", y=\"time_spent_mins\", data=share_df)\n"
   ]
  },
  {
   "cell_type": "markdown",
   "metadata": {},
   "source": [
    "# VIEW DATA ANALYSIS"
   ]
  },
  {
   "cell_type": "code",
   "execution_count": 46,
   "metadata": {
    "collapsed": false
   },
   "outputs": [
    {
     "data": {
      "text/html": [
       "<div>\n",
       "<style>\n",
       "    .dataframe thead tr:only-child th {\n",
       "        text-align: right;\n",
       "    }\n",
       "\n",
       "    .dataframe thead th {\n",
       "        text-align: left;\n",
       "    }\n",
       "\n",
       "    .dataframe tbody tr th {\n",
       "        vertical-align: top;\n",
       "    }\n",
       "</style>\n",
       "<table border=\"1\" class=\"dataframe\">\n",
       "  <thead>\n",
       "    <tr style=\"text-align: right;\">\n",
       "      <th></th>\n",
       "      <th>user_id</th>\n",
       "      <th>shared_hour</th>\n",
       "      <th>viewed</th>\n",
       "      <th>time_spent_in_seconds</th>\n",
       "      <th>weekday</th>\n",
       "      <th>month</th>\n",
       "      <th>time_of_day</th>\n",
       "      <th>hour</th>\n",
       "      <th>time_spent_mins</th>\n",
       "      <th>num_of_day_from_share_view</th>\n",
       "    </tr>\n",
       "  </thead>\n",
       "  <tbody>\n",
       "    <tr>\n",
       "      <th>count</th>\n",
       "      <td>1.513000e+03</td>\n",
       "      <td>0.0</td>\n",
       "      <td>1513.0</td>\n",
       "      <td>1513.000000</td>\n",
       "      <td>1513.000000</td>\n",
       "      <td>1513.000000</td>\n",
       "      <td>1513.000000</td>\n",
       "      <td>1513.00000</td>\n",
       "      <td>1513.000000</td>\n",
       "      <td>1513.0</td>\n",
       "    </tr>\n",
       "    <tr>\n",
       "      <th>mean</th>\n",
       "      <td>3.204268e+06</td>\n",
       "      <td>NaN</td>\n",
       "      <td>1.0</td>\n",
       "      <td>42.126900</td>\n",
       "      <td>2.678123</td>\n",
       "      <td>3.922009</td>\n",
       "      <td>2.815598</td>\n",
       "      <td>9.69002</td>\n",
       "      <td>0.702115</td>\n",
       "      <td>0.0</td>\n",
       "    </tr>\n",
       "    <tr>\n",
       "      <th>std</th>\n",
       "      <td>2.098783e+06</td>\n",
       "      <td>NaN</td>\n",
       "      <td>0.0</td>\n",
       "      <td>55.199576</td>\n",
       "      <td>1.781416</td>\n",
       "      <td>1.471240</td>\n",
       "      <td>0.874972</td>\n",
       "      <td>7.91078</td>\n",
       "      <td>0.919993</td>\n",
       "      <td>0.0</td>\n",
       "    </tr>\n",
       "    <tr>\n",
       "      <th>min</th>\n",
       "      <td>1.975210e+05</td>\n",
       "      <td>NaN</td>\n",
       "      <td>1.0</td>\n",
       "      <td>0.000000</td>\n",
       "      <td>0.000000</td>\n",
       "      <td>2.000000</td>\n",
       "      <td>1.000000</td>\n",
       "      <td>0.00000</td>\n",
       "      <td>0.000000</td>\n",
       "      <td>0.0</td>\n",
       "    </tr>\n",
       "    <tr>\n",
       "      <th>25%</th>\n",
       "      <td>2.295510e+05</td>\n",
       "      <td>NaN</td>\n",
       "      <td>1.0</td>\n",
       "      <td>5.000000</td>\n",
       "      <td>1.000000</td>\n",
       "      <td>3.000000</td>\n",
       "      <td>2.000000</td>\n",
       "      <td>3.00000</td>\n",
       "      <td>0.083333</td>\n",
       "      <td>0.0</td>\n",
       "    </tr>\n",
       "    <tr>\n",
       "      <th>50%</th>\n",
       "      <td>4.369851e+06</td>\n",
       "      <td>NaN</td>\n",
       "      <td>1.0</td>\n",
       "      <td>17.000000</td>\n",
       "      <td>3.000000</td>\n",
       "      <td>4.000000</td>\n",
       "      <td>3.000000</td>\n",
       "      <td>7.00000</td>\n",
       "      <td>0.283333</td>\n",
       "      <td>0.0</td>\n",
       "    </tr>\n",
       "    <tr>\n",
       "      <th>75%</th>\n",
       "      <td>4.931977e+06</td>\n",
       "      <td>NaN</td>\n",
       "      <td>1.0</td>\n",
       "      <td>50.000000</td>\n",
       "      <td>4.000000</td>\n",
       "      <td>5.000000</td>\n",
       "      <td>3.000000</td>\n",
       "      <td>19.00000</td>\n",
       "      <td>0.833333</td>\n",
       "      <td>0.0</td>\n",
       "    </tr>\n",
       "    <tr>\n",
       "      <th>max</th>\n",
       "      <td>5.931852e+06</td>\n",
       "      <td>NaN</td>\n",
       "      <td>1.0</td>\n",
       "      <td>240.000000</td>\n",
       "      <td>6.000000</td>\n",
       "      <td>8.000000</td>\n",
       "      <td>4.000000</td>\n",
       "      <td>23.00000</td>\n",
       "      <td>4.000000</td>\n",
       "      <td>0.0</td>\n",
       "    </tr>\n",
       "  </tbody>\n",
       "</table>\n",
       "</div>"
      ],
      "text/plain": [
       "            user_id  shared_hour  viewed  time_spent_in_seconds      weekday  \\\n",
       "count  1.513000e+03          0.0  1513.0            1513.000000  1513.000000   \n",
       "mean   3.204268e+06          NaN     1.0              42.126900     2.678123   \n",
       "std    2.098783e+06          NaN     0.0              55.199576     1.781416   \n",
       "min    1.975210e+05          NaN     1.0               0.000000     0.000000   \n",
       "25%    2.295510e+05          NaN     1.0               5.000000     1.000000   \n",
       "50%    4.369851e+06          NaN     1.0              17.000000     3.000000   \n",
       "75%    4.931977e+06          NaN     1.0              50.000000     4.000000   \n",
       "max    5.931852e+06          NaN     1.0             240.000000     6.000000   \n",
       "\n",
       "             month  time_of_day        hour  time_spent_mins  \\\n",
       "count  1513.000000  1513.000000  1513.00000      1513.000000   \n",
       "mean      3.922009     2.815598     9.69002         0.702115   \n",
       "std       1.471240     0.874972     7.91078         0.919993   \n",
       "min       2.000000     1.000000     0.00000         0.000000   \n",
       "25%       3.000000     2.000000     3.00000         0.083333   \n",
       "50%       4.000000     3.000000     7.00000         0.283333   \n",
       "75%       5.000000     3.000000    19.00000         0.833333   \n",
       "max       8.000000     4.000000    23.00000         4.000000   \n",
       "\n",
       "       num_of_day_from_share_view  \n",
       "count                      1513.0  \n",
       "mean                          0.0  \n",
       "std                           0.0  \n",
       "min                           0.0  \n",
       "25%                           0.0  \n",
       "50%                           0.0  \n",
       "75%                           0.0  \n",
       "max                           0.0  "
      ]
     },
     "execution_count": 46,
     "metadata": {},
     "output_type": "execute_result"
    }
   ],
   "source": [
    "view_df = df[(df.activity_type == \"VIEW\")]\n",
    "view_df = view_df.drop([\"share_channel\", \"user_groups\", \"shared_date\", \"shared_time\", \"rm_id\"], axis =1)\n",
    "view_df.describe()"
   ]
  },
  {
   "cell_type": "code",
   "execution_count": 65,
   "metadata": {
    "collapsed": false
   },
   "outputs": [
    {
     "data": {
      "text/plain": [
       "(1513, 183, 163)"
      ]
     },
     "execution_count": 65,
     "metadata": {},
     "output_type": "execute_result"
    }
   ],
   "source": [
    "len(view_df), len(view_df.user_id.unique()),len(share_df)"
   ]
  },
  {
   "cell_type": "code",
   "execution_count": 48,
   "metadata": {
    "collapsed": false
   },
   "outputs": [
    {
     "data": {
      "text/plain": [
       "Index([u'activity_type', u'user_id', u'viewing_device', u'browser',\n",
       "       u'view_app_group', u'shared_hour', u'title_of_content', u'doc_type',\n",
       "       u'viewed', u'time_spent_in_seconds', u'last_activity_date',\n",
       "       u'last_activity_time', u'weekday', u'weekday_name', u'month',\n",
       "       u'time_of_day', u'hour', u'time_spent_mins',\n",
       "       u'num_of_day_from_share_view'],\n",
       "      dtype='object')"
      ]
     },
     "execution_count": 48,
     "metadata": {},
     "output_type": "execute_result"
    }
   ],
   "source": [
    "view_df.columns"
   ]
  },
  {
   "cell_type": "code",
   "execution_count": 62,
   "metadata": {
    "collapsed": false
   },
   "outputs": [
    {
     "data": {
      "text/plain": [
       "9.282208588957054"
      ]
     },
     "execution_count": 62,
     "metadata": {},
     "output_type": "execute_result"
    }
   ],
   "source": [
    "views_per_share = len(view_df)/float(len(share_df))\n",
    "views_per_share"
   ]
  },
  {
   "cell_type": "code",
   "execution_count": 49,
   "metadata": {
    "collapsed": false
   },
   "outputs": [
    {
     "data": {
      "text/plain": [
       "332"
      ]
     },
     "execution_count": 49,
     "metadata": {},
     "output_type": "execute_result"
    }
   ],
   "source": [
    "len(view_df.title_of_content.unique())\n"
   ]
  },
  {
   "cell_type": "code",
   "execution_count": 50,
   "metadata": {
    "collapsed": false
   },
   "outputs": [
    {
     "data": {
      "text/plain": [
       "(array([ 855.,  258.,  103.,   72.,   40.,   67.,   36.,   25.,   23.,   34.]),\n",
       " array([ 0. ,  0.4,  0.8,  1.2,  1.6,  2. ,  2.4,  2.8,  3.2,  3.6,  4. ]),\n",
       " <a list of 10 Patch objects>)"
      ]
     },
     "execution_count": 50,
     "metadata": {},
     "output_type": "execute_result"
    },
    {
     "data": {
      "image/png": "[encoded data removed]",
      "text/plain": [
       "<matplotlib.figure.Figure at 0x111ca3890>"
      ]
     },
     "metadata": {},
     "output_type": "display_data"
    }
   ],
   "source": [
    "plt.hist(view_df[\"time_spent_mins\"])"
   ]
  },
  {
   "cell_type": "code",
   "execution_count": 51,
   "metadata": {
    "collapsed": false
   },
   "outputs": [
    {
     "data": {
      "text/plain": [
       "(array([    0.,     0.,     0.,     0.,     0.,  1513.,     0.,     0.,\n",
       "            0.,     0.]),\n",
       " array([-0.5, -0.4, -0.3, -0.2, -0.1,  0. ,  0.1,  0.2,  0.3,  0.4,  0.5]),\n",
       " <a list of 10 Patch objects>)"
      ]
     },
     "execution_count": 51,
     "metadata": {},
     "output_type": "execute_result"
    },
    {
     "data": {
      "image/png": "[encoded data removed]",
      "text/plain": [
       "<matplotlib.figure.Figure at 0x112168650>"
      ]
     },
     "metadata": {},
     "output_type": "display_data"
    }
   ],
   "source": [
    "plt.hist(view_df[\"num_of_day_from_share_view\"])"
   ]
  },
  {
   "cell_type": "markdown",
   "metadata": {},
   "source": [
    "# NEW ANALYSIS -- Start"
   ]
  },
  {
   "cell_type": "code",
   "execution_count": 52,
   "metadata": {
    "collapsed": false
   },
   "outputs": [],
   "source": [
    "from collections import Counter\n",
    "user_id_list = [j.user_id for i,j in df.iterrows() if j[\"activity_type\"] == \"VIEW\"]\n",
    "num_views = Counter(user_id_list)\n",
    "best, views = {}, []\n",
    "#best = sorted(num_views, key=lambda x : num_views[x])\n",
    "for k,v in num_views.iteritems():\n",
    "    if v<=20:\n",
    "        best[k] = v\n",
    "        views.append(v)\n"
   ]
  },
  {
   "cell_type": "code",
   "execution_count": 53,
   "metadata": {
    "collapsed": false
   },
   "outputs": [
    {
     "data": {
      "text/plain": [
       "(183, 167)"
      ]
     },
     "execution_count": 53,
     "metadata": {},
     "output_type": "execute_result"
    }
   ],
   "source": [
    "len(num_views), len(best), "
   ]
  },
  {
   "cell_type": "code",
   "execution_count": 54,
   "metadata": {
    "collapsed": false
   },
   "outputs": [
    {
     "data": {
      "text/plain": [
       "(array([ 164.,   12.,    2.,    3.,    0.,    1.,    0.,    0.,    0.,    1.]),\n",
       " array([   1.,   20.,   39.,   58.,   77.,   96.,  115.,  134.,  153.,\n",
       "         172.,  191.]),\n",
       " <a list of 10 Patch objects>)"
      ]
     },
     "execution_count": 54,
     "metadata": {},
     "output_type": "execute_result"
    },
    {
     "data": {
      "image/png": "[encoded data removed]",
      "text/plain": [
       "<matplotlib.figure.Figure at 0x1123593d0>"
      ]
     },
     "metadata": {},
     "output_type": "display_data"
    }
   ],
   "source": [
    "plt.hist([num_views[i] for i,j in num_views.iteritems() if num_views[i]>0])"
   ]
  },
  {
   "cell_type": "code",
   "execution_count": 55,
   "metadata": {
    "collapsed": false
   },
   "outputs": [
    {
     "data": {
      "text/plain": [
       "({205963: 13,\n",
       "  207131: 5,\n",
       "  211675: 10,\n",
       "  230605: 13,\n",
       "  268228: 4,\n",
       "  294943: 1,\n",
       "  346016: 7,\n",
       "  474895: 2,\n",
       "  512832: 1,\n",
       "  1389531: 2,\n",
       "  1557433: 3,\n",
       "  1657717: 1,\n",
       "  1744956: 1,\n",
       "  1762318: 1,\n",
       "  1835127: 7,\n",
       "  1904675: 5,\n",
       "  1944078: 1,\n",
       "  1984750: 3,\n",
       "  1985348: 1,\n",
       "  2118564: 1,\n",
       "  2241865: 4,\n",
       "  2264676: 2,\n",
       "  2266502: 1,\n",
       "  2609840: 1,\n",
       "  2639930: 5,\n",
       "  2906142: 2,\n",
       "  2921824: 2,\n",
       "  2978059: 4,\n",
       "  2978304: 6,\n",
       "  3126549: 4,\n",
       "  3221479: 1,\n",
       "  3322140: 5,\n",
       "  3371711: 6,\n",
       "  3500356: 1,\n",
       "  3638233: 1,\n",
       "  3644461: 1,\n",
       "  3644595: 1,\n",
       "  3998761: 1,\n",
       "  3999937: 1,\n",
       "  4013955: 1,\n",
       "  4014001: 1,\n",
       "  4014636: 2,\n",
       "  4014648: 2,\n",
       "  4014682: 3,\n",
       "  4014689: 1,\n",
       "  4014757: 1,\n",
       "  4014763: 2,\n",
       "  4350620: 1,\n",
       "  4350631: 1,\n",
       "  4350664: 1,\n",
       "  4350703: 1,\n",
       "  4350709: 3,\n",
       "  4350715: 1,\n",
       "  4350727: 1,\n",
       "  4350733: 1,\n",
       "  4365931: 3,\n",
       "  4369793: 14,\n",
       "  4369805: 3,\n",
       "  4369818: 10,\n",
       "  4369826: 15,\n",
       "  4369833: 16,\n",
       "  4369845: 20,\n",
       "  4369851: 15,\n",
       "  4369864: 9,\n",
       "  4369889: 17,\n",
       "  4369919: 1,\n",
       "  4369925: 19,\n",
       "  4388760: 4,\n",
       "  4397415: 1,\n",
       "  4647485: 2,\n",
       "  4773993: 2,\n",
       "  4774103: 1,\n",
       "  4783492: 3,\n",
       "  4783552: 3,\n",
       "  4786101: 1,\n",
       "  4786130: 3,\n",
       "  4786177: 1,\n",
       "  4786291: 2,\n",
       "  4786548: 1,\n",
       "  4786595: 1,\n",
       "  4787451: 1,\n",
       "  4788732: 1,\n",
       "  4790054: 2,\n",
       "  4885184: 3,\n",
       "  4891040: 1,\n",
       "  4891046: 1,\n",
       "  4891053: 1,\n",
       "  4891059: 2,\n",
       "  4891065: 1,\n",
       "  4891070: 2,\n",
       "  4891077: 1,\n",
       "  4891085: 1,\n",
       "  4891093: 1,\n",
       "  4893931: 2,\n",
       "  4895566: 2,\n",
       "  4895822: 1,\n",
       "  4896514: 2,\n",
       "  4896976: 1,\n",
       "  4897047: 4,\n",
       "  4897825: 1,\n",
       "  4898693: 3,\n",
       "  4899528: 13,\n",
       "  4901143: 1,\n",
       "  4901208: 2,\n",
       "  4903122: 1,\n",
       "  4903537: 1,\n",
       "  4904906: 1,\n",
       "  4905341: 2,\n",
       "  4907823: 2,\n",
       "  4907883: 2,\n",
       "  4908717: 3,\n",
       "  4910358: 2,\n",
       "  4920168: 2,\n",
       "  4931956: 18,\n",
       "  4931962: 3,\n",
       "  4931968: 3,\n",
       "  4931977: 20,\n",
       "  4931985: 18,\n",
       "  4932006: 16,\n",
       "  4932048: 18,\n",
       "  4938392: 2,\n",
       "  5030309: 2,\n",
       "  5031947: 3,\n",
       "  5059867: 1,\n",
       "  5068388: 1,\n",
       "  5076339: 2,\n",
       "  5076495: 2,\n",
       "  5086183: 3,\n",
       "  5087544: 5,\n",
       "  5088232: 1,\n",
       "  5090942: 2,\n",
       "  5094872: 2,\n",
       "  5096117: 3,\n",
       "  5100565: 1,\n",
       "  5100671: 1,\n",
       "  5105033: 9,\n",
       "  5105143: 3,\n",
       "  5200070: 5,\n",
       "  5200795: 8,\n",
       "  5211072: 3,\n",
       "  5211270: 20,\n",
       "  5213743: 18,\n",
       "  5220703: 2,\n",
       "  5254340: 6,\n",
       "  5282403: 1,\n",
       "  5284191: 1,\n",
       "  5289427: 3,\n",
       "  5302500: 1,\n",
       "  5322448: 13,\n",
       "  5322494: 1,\n",
       "  5335194: 2,\n",
       "  5397812: 3,\n",
       "  5471289: 4,\n",
       "  5471506: 3,\n",
       "  5489727: 3,\n",
       "  5513861: 4,\n",
       "  5519325: 16,\n",
       "  5538419: 3,\n",
       "  5559861: 12,\n",
       "  5565385: 3,\n",
       "  5573020: 4,\n",
       "  5639159: 2,\n",
       "  5649805: 9,\n",
       "  5675465: 1,\n",
       "  5682614: 10,\n",
       "  5864595: 3,\n",
       "  5931852: 1},\n",
       " 167)"
      ]
     },
     "execution_count": 55,
     "metadata": {},
     "output_type": "execute_result"
    }
   ],
   "source": [
    "best, len(best)"
   ]
  },
  {
   "cell_type": "code",
   "execution_count": 56,
   "metadata": {
    "collapsed": false
   },
   "outputs": [
    {
     "data": {
      "text/plain": [
       "(array([ 94.,  35.,   9.,   3.,   6.,   1.,   5.,   5.,   5.,   4.]),\n",
       " array([  1. ,   2.9,   4.8,   6.7,   8.6,  10.5,  12.4,  14.3,  16.2,\n",
       "         18.1,  20. ]),\n",
       " <a list of 10 Patch objects>)"
      ]
     },
     "execution_count": 56,
     "metadata": {},
     "output_type": "execute_result"
    },
    {
     "data": {
      "image/png": "[encoded data removed]",
      "text/plain": [
       "<matplotlib.figure.Figure at 0x1123591d0>"
      ]
     },
     "metadata": {},
     "output_type": "display_data"
    }
   ],
   "source": [
    "plt.hist(views)"
   ]
  },
  {
   "cell_type": "code",
   "execution_count": 57,
   "metadata": {
    "collapsed": false
   },
   "outputs": [
    {
     "data": {
      "text/plain": [
       "([4369925,\n",
       "  5213743,\n",
       "  4931985,\n",
       "  4931956,\n",
       "  4369826,\n",
       "  4932006,\n",
       "  4369833,\n",
       "  4369851,\n",
       "  4932048,\n",
       "  5519325,\n",
       "  4369889],\n",
       " 11)"
      ]
     },
     "execution_count": 57,
     "metadata": {},
     "output_type": "execute_result"
    }
   ],
   "source": [
    "conv_ids = []\n",
    "for k,v in num_views.iteritems(): \n",
    "    if v>14 and v<20:\n",
    "        conv_ids.append(k)\n",
    "conv_ids, len(conv_ids)"
   ]
  },
  {
   "cell_type": "code",
   "execution_count": 58,
   "metadata": {
    "collapsed": false
   },
   "outputs": [
    {
     "ename": "ValueError",
     "evalue": "labels [False False False ..., False False False] not contained in axis",
     "output_type": "error",
     "traceback": [
      "\u001b[0;31m---------------------------------------------------------------------------\u001b[0m",
      "\u001b[0;31mValueError\u001b[0m                                Traceback (most recent call last)",
      "\u001b[0;32m<ipython-input-58-6836eace8120>\u001b[0m in \u001b[0;36m<module>\u001b[0;34m()\u001b[0m\n\u001b[1;32m      5\u001b[0m     \u001b[0mtemp_df\u001b[0m \u001b[0;34m=\u001b[0m \u001b[0mview_df\u001b[0m\u001b[0;34m[\u001b[0m\u001b[0mview_df\u001b[0m\u001b[0;34m[\u001b[0m\u001b[0;34m\"user_id\"\u001b[0m\u001b[0;34m]\u001b[0m \u001b[0;34m==\u001b[0m \u001b[0mconv_ids\u001b[0m\u001b[0;34m[\u001b[0m\u001b[0mi\u001b[0m\u001b[0;34m]\u001b[0m\u001b[0;34m]\u001b[0m\u001b[0;34m\u001b[0m\u001b[0m\n\u001b[1;32m      6\u001b[0m     \u001b[0mconv_df\u001b[0m \u001b[0;34m=\u001b[0m \u001b[0mconv_df\u001b[0m\u001b[0;34m.\u001b[0m\u001b[0mappend\u001b[0m\u001b[0;34m(\u001b[0m\u001b[0mtemp_df\u001b[0m\u001b[0;34m)\u001b[0m\u001b[0;34m\u001b[0m\u001b[0m\n\u001b[0;32m----> 7\u001b[0;31m     \u001b[0mtest_df\u001b[0m\u001b[0;34m.\u001b[0m\u001b[0mdrop\u001b[0m\u001b[0;34m(\u001b[0m\u001b[0mtest_df\u001b[0m\u001b[0;34m[\u001b[0m\u001b[0;34m\"user_id\"\u001b[0m\u001b[0;34m]\u001b[0m \u001b[0;34m==\u001b[0m \u001b[0mconv_ids\u001b[0m\u001b[0;34m[\u001b[0m\u001b[0mi\u001b[0m\u001b[0;34m]\u001b[0m\u001b[0;34m)\u001b[0m\u001b[0;34m\u001b[0m\u001b[0m\n\u001b[0m\u001b[1;32m      8\u001b[0m \u001b[0;34m\u001b[0m\u001b[0m\n",
      "\u001b[0;32m/Users/urmimukherjee/anaconda2/lib/python2.7/site-packages/pandas/core/generic.pyc\u001b[0m in \u001b[0;36mdrop\u001b[0;34m(self, labels, axis, level, inplace, errors)\u001b[0m\n\u001b[1;32m   2159\u001b[0m                 \u001b[0mnew_axis\u001b[0m \u001b[0;34m=\u001b[0m \u001b[0maxis\u001b[0m\u001b[0;34m.\u001b[0m\u001b[0mdrop\u001b[0m\u001b[0;34m(\u001b[0m\u001b[0mlabels\u001b[0m\u001b[0;34m,\u001b[0m \u001b[0mlevel\u001b[0m\u001b[0;34m=\u001b[0m\u001b[0mlevel\u001b[0m\u001b[0;34m,\u001b[0m \u001b[0merrors\u001b[0m\u001b[0;34m=\u001b[0m\u001b[0merrors\u001b[0m\u001b[0;34m)\u001b[0m\u001b[0;34m\u001b[0m\u001b[0m\n\u001b[1;32m   2160\u001b[0m             \u001b[0;32melse\u001b[0m\u001b[0;34m:\u001b[0m\u001b[0;34m\u001b[0m\u001b[0m\n\u001b[0;32m-> 2161\u001b[0;31m                 \u001b[0mnew_axis\u001b[0m \u001b[0;34m=\u001b[0m \u001b[0maxis\u001b[0m\u001b[0;34m.\u001b[0m\u001b[0mdrop\u001b[0m\u001b[0;34m(\u001b[0m\u001b[0mlabels\u001b[0m\u001b[0;34m,\u001b[0m \u001b[0merrors\u001b[0m\u001b[0;34m=\u001b[0m\u001b[0merrors\u001b[0m\u001b[0;34m)\u001b[0m\u001b[0;34m\u001b[0m\u001b[0m\n\u001b[0m\u001b[1;32m   2162\u001b[0m             \u001b[0mdropped\u001b[0m \u001b[0;34m=\u001b[0m \u001b[0mself\u001b[0m\u001b[0;34m.\u001b[0m\u001b[0mreindex\u001b[0m\u001b[0;34m(\u001b[0m\u001b[0;34m**\u001b[0m\u001b[0;34m{\u001b[0m\u001b[0maxis_name\u001b[0m\u001b[0;34m:\u001b[0m \u001b[0mnew_axis\u001b[0m\u001b[0;34m}\u001b[0m\u001b[0;34m)\u001b[0m\u001b[0;34m\u001b[0m\u001b[0m\n\u001b[1;32m   2163\u001b[0m             \u001b[0;32mtry\u001b[0m\u001b[0;34m:\u001b[0m\u001b[0;34m\u001b[0m\u001b[0m\n",
      "\u001b[0;32m/Users/urmimukherjee/anaconda2/lib/python2.7/site-packages/pandas/core/indexes/base.pyc\u001b[0m in \u001b[0;36mdrop\u001b[0;34m(self, labels, errors)\u001b[0m\n\u001b[1;32m   3622\u001b[0m             \u001b[0;32mif\u001b[0m \u001b[0merrors\u001b[0m \u001b[0;34m!=\u001b[0m \u001b[0;34m'ignore'\u001b[0m\u001b[0;34m:\u001b[0m\u001b[0;34m\u001b[0m\u001b[0m\n\u001b[1;32m   3623\u001b[0m                 raise ValueError('labels %s not contained in axis' %\n\u001b[0;32m-> 3624\u001b[0;31m                                  labels[mask])\n\u001b[0m\u001b[1;32m   3625\u001b[0m             \u001b[0mindexer\u001b[0m \u001b[0;34m=\u001b[0m \u001b[0mindexer\u001b[0m\u001b[0;34m[\u001b[0m\u001b[0;34m~\u001b[0m\u001b[0mmask\u001b[0m\u001b[0;34m]\u001b[0m\u001b[0;34m\u001b[0m\u001b[0m\n\u001b[1;32m   3626\u001b[0m         \u001b[0;32mreturn\u001b[0m \u001b[0mself\u001b[0m\u001b[0;34m.\u001b[0m\u001b[0mdelete\u001b[0m\u001b[0;34m(\u001b[0m\u001b[0mindexer\u001b[0m\u001b[0;34m)\u001b[0m\u001b[0;34m\u001b[0m\u001b[0m\n",
      "\u001b[0;31mValueError\u001b[0m: labels [False False False ..., False False False] not contained in axis"
     ]
    }
   ],
   "source": [
    "view_df[\"conv_id\"] = view_df[\"viewed\"]\n",
    "test_df = view_df\n",
    "conv_df = pd.DataFrame()\n",
    "for i in xrange(len(conv_ids)):\n",
    "    temp_df = view_df[view_df[\"user_id\"] == conv_ids[i]]\n",
    "    conv_df = conv_df.append(temp_df)\n",
    "    test_df.drop(test_df[\"user_id\"] == conv_ids[i])\n",
    "    "
   ]
  },
  {
   "cell_type": "code",
   "execution_count": null,
   "metadata": {
    "collapsed": false
   },
   "outputs": [],
   "source": [
    "conv_df.describe()"
   ]
  },
  {
   "cell_type": "code",
   "execution_count": null,
   "metadata": {
    "collapsed": false
   },
   "outputs": [],
   "source": [
    "test_df[\"conv_id\"].replace({1:0}, inplace= True)\n",
    "for k,v in num_views.iteritems():\n",
    "    test_df.loc[test_df['user_id'] == k, 'num_of_views'] = v\n",
    "    test_df.loc[test_df['user_id'] == k, 'total_time_mins'] = test_df[test_df[\"user_id\"] == k][\"time_spent_mins\"].sum()\n",
    "\n",
    "test_df.weekday_name.replace({0:\"Sunday\", 1:\"Monday\"}, inplace= True)\n",
    "test_df.head()"
   ]
  },
  {
   "cell_type": "code",
   "execution_count": null,
   "metadata": {
    "collapsed": false
   },
   "outputs": [],
   "source": [
    "test_df = view_df.append(conv_df)\n",
    "test_df[\"weekday_name\"].unique()"
   ]
  },
  {
   "cell_type": "code",
   "execution_count": null,
   "metadata": {
    "collapsed": false
   },
   "outputs": [],
   "source": [
    "test_df"
   ]
  },
  {
   "cell_type": "code",
   "execution_count": null,
   "metadata": {
    "collapsed": false
   },
   "outputs": [],
   "source": [
    "dummies = pd.get_dummies(test_df, columns=[\"viewing_device\", \"weekday_name\", \"time_of_day\", \"browser\"])"
   ]
  },
  {
   "cell_type": "code",
   "execution_count": null,
   "metadata": {
    "collapsed": false
   },
   "outputs": [],
   "source": [
    "test_df = pd.concat([test_df, dummies])\n",
    "test_df = test_df.drop([\"viewing_device\", \"weekday_name\", \"time_of_day\", \"browser\"], axis=1)\n",
    "test_df.columns"
   ]
  },
  {
   "cell_type": "code",
   "execution_count": null,
   "metadata": {
    "collapsed": false
   },
   "outputs": [],
   "source": [
    "conv_df.title_of_content.unique()"
   ]
  },
  {
   "cell_type": "code",
   "execution_count": null,
   "metadata": {
    "collapsed": true
   },
   "outputs": [],
   "source": [
    "from sklearn.linear_model import LinearRegression\n",
    "from sklearn.linear_model import LogisticRegression\n",
    "from sklearn.model_selection import train_test_split\n",
    "from sklearn.metrics import mean_squared_error, r2_score"
   ]
  },
  {
   "cell_type": "code",
   "execution_count": null,
   "metadata": {
    "collapsed": false
   },
   "outputs": [],
   "source": [
    "test_df.dropna(how= \"any\", inplace= True)\n",
    "len(test_df)\n",
    "x = test_df.as_matrix(columns= [u'time_of_day_1', u'time_of_day_2', u'time_of_day_3', u'time_of_day_4',u'viewing_device_Laptop/Desktop',\n",
    "       u'viewing_device_Phone', u'viewing_device_Tablet',\n",
    "        u'weekday_name_Friday', u'weekday_name_Monday',\n",
    "       u'weekday_name_Saturday', u'weekday_name_Sunday',\n",
    "       u'weekday_name_Thursday', u'weekday_name_Tuesday',\n",
    "       u'weekday_name_Wednesday', 'num_of_views', u'browser_CHROME', u'browser_CHROME_MOBILE',\n",
    "       u'browser_EDGE', u'browser_FIREFOX', u'browser_FIREFOX_MOBILE',\n",
    "       u'browser_IE', u'browser_MOBILE_SAFARI', u'browser_OPERA',\n",
    "       u'browser_SAFARI'])\n",
    "y = test_df.as_matrix(columns= [\"time_spent_mins\"])"
   ]
  },
  {
   "cell_type": "code",
   "execution_count": null,
   "metadata": {
    "collapsed": false
   },
   "outputs": [],
   "source": [
    "x_train, x_test, y_train, y_test = train_test_split(x,y)"
   ]
  },
  {
   "cell_type": "code",
   "execution_count": null,
   "metadata": {
    "collapsed": false
   },
   "outputs": [],
   "source": [
    "Model = LinearRegression()\n",
    "Model.fit(x_train, y_train)\n",
    "Model.predict(x_test)\n",
    "Model.score(x_test,y_test), Model.coef_"
   ]
  },
  {
   "cell_type": "code",
   "execution_count": null,
   "metadata": {
    "collapsed": true
   },
   "outputs": [],
   "source": [
    "test_df.dropna(how= \"any\", inplace= True)\n",
    "len(test_df)\n",
    "x1 = test_df.as_matrix(columns= [u'time_of_day_1', u'time_of_day_2', u'time_of_day_3', u'time_of_day_4',u'viewing_device_Laptop/Desktop',\n",
    "       u'viewing_device_Phone', u'viewing_device_Tablet',\n",
    "        u'weekday_name_Friday', u'weekday_name_Monday',\n",
    "       u'weekday_name_Saturday', u'weekday_name_Sunday',\n",
    "       u'weekday_name_Thursday', u'weekday_name_Tuesday',\n",
    "       u'weekday_name_Wednesday', 'num_of_views', u'browser_CHROME', u'browser_CHROME_MOBILE',\n",
    "       u'browser_EDGE', u'browser_FIREFOX', u'browser_FIREFOX_MOBILE',\n",
    "       u'browser_IE', u'browser_MOBILE_SAFARI', u'browser_OPERA',\n",
    "       u'browser_SAFARI', \"time_spent_mins\"])\n",
    "y1 = test_df.as_matrix(columns= [u'conv_id'])"
   ]
  },
  {
   "cell_type": "code",
   "execution_count": null,
   "metadata": {
    "collapsed": true
   },
   "outputs": [],
   "source": [
    "x1_train, x1_test, y1_train, y1_test = train_test_split(x1,y1)"
   ]
  },
  {
   "cell_type": "code",
   "execution_count": null,
   "metadata": {
    "collapsed": false
   },
   "outputs": [],
   "source": [
    "Model1 = LogisticRegression()\n",
    "Model1.fit(x1_train, y1_train)\n",
    "Model1.predict(x1_test)\n",
    "Model1.score(x1_test,y1_test), Model1.coef_"
   ]
  },
  {
   "cell_type": "code",
   "execution_count": null,
   "metadata": {
    "collapsed": true
   },
   "outputs": [],
   "source": []
  },
  {
   "cell_type": "code",
   "execution_count": null,
   "metadata": {
    "collapsed": false
   },
   "outputs": [],
   "source": [
    "len(conv_df)"
   ]
  },
  {
   "cell_type": "code",
   "execution_count": null,
   "metadata": {
    "collapsed": false
   },
   "outputs": [],
   "source": [
    "plt.bar(xrange(0,len(conv_df.groupby(\"browser\")[\"time_spent_mins\"].count())), conv_df.groupby(\"browser\")[\"time_spent_mins\"].sum())\n",
    "plt.xticks(xrange(0,9),['CHR',\"M-CH\",'EDGE', \"FF\", 'M-FF', 'IE', 'M-SAF', \"OP\",'SAF'])"
   ]
  },
  {
   "cell_type": "code",
   "execution_count": null,
   "metadata": {
    "collapsed": false
   },
   "outputs": [],
   "source": [
    "plt.bar(xrange(0,7), conv_df.groupby(\"weekday\")[\"time_spent_mins\"].count())\n",
    "plt.xticks(xrange(0,7),[\"Sun\", \"Mon\", \"Tue\", \"Wed\", \"Thu\", \"Fri\", \"Sat\"])"
   ]
  },
  {
   "cell_type": "code",
   "execution_count": null,
   "metadata": {
    "collapsed": false
   },
   "outputs": [],
   "source": [
    "plt.bar(xrange(0,4), conv_df.groupby(\"time_of_day\")[\"time_spent_mins\"].sum())\n",
    "plt.xticks(xrange(0,4),[\"Morning\", \"Afternoon\", \"Evening\", \"Night\"])"
   ]
  },
  {
   "cell_type": "code",
   "execution_count": null,
   "metadata": {
    "collapsed": false
   },
   "outputs": [],
   "source": [
    "plt.bar(xrange(0,3), conv_df.groupby(\"viewing_device\")[\"time_spent_mins\"].count())\n",
    "plt.xticks(xrange(0,3),[\"Laptop/Desktop\", \"Phone\", \"Tablet\"])"
   ]
  },
  {
   "cell_type": "code",
   "execution_count": null,
   "metadata": {
    "collapsed": false
   },
   "outputs": [],
   "source": [
    "plt.bar(xrange(0,7), conv_df.groupby(\"month\")[\"time_spent_mins\"].count())\n",
    "plt.xticks(xrange(0,7),[\"Feb\", \"Mar\", \"Apr\", \"May\", \"Jun\", \"Jul\", \"Aug\"])"
   ]
  },
  {
   "cell_type": "code",
   "execution_count": null,
   "metadata": {
    "collapsed": false
   },
   "outputs": [],
   "source": [
    "#### import pylab as pl\n",
    "new_view = view_df[view_df[\"time_spent_mins\"] <= 6]\n",
    "len(new_view) #(20 mins, 1874/2085, 10% reduced) (12 mins, 1746/2085, 16% reduced)(6 mins, 1607/2085, 23% reduced)\n",
    "# (4 mins, 1513/2085, 28% reduced)\n",
    "\n",
    "h = sorted(new_view[\"time_spent_mins\"])  #sorted\n",
    "\n",
    "fit = norm.pdf(h, np.mean(h), np.std(h))  #this is a fitting indeed\n",
    "\n",
    "pl.plot(h,fit,'-o')\n",
    "\n",
    "pl.hist(h, normed= True)\n",
    "\n",
    "pl.axvline(x = np.mean(h), linestyle='--')\n",
    "pl.axvline(x = np.mean(h) + np.std(h), linestyle='--')\n",
    "pl.axvline(x = np.mean(h) + 2*np.std(h), linestyle='--')\n"
   ]
  },
  {
   "cell_type": "code",
   "execution_count": null,
   "metadata": {
    "collapsed": false
   },
   "outputs": [],
   "source": [
    "new_view.describe()"
   ]
  },
  {
   "cell_type": "code",
   "execution_count": null,
   "metadata": {
    "collapsed": false
   },
   "outputs": [],
   "source": [
    "plt.hist(new_view[\"time_spent_mins\"])"
   ]
  },
  {
   "cell_type": "code",
   "execution_count": null,
   "metadata": {
    "collapsed": false
   },
   "outputs": [],
   "source": [
    "sorted(view_df.browser.unique())"
   ]
  },
  {
   "cell_type": "code",
   "execution_count": null,
   "metadata": {
    "collapsed": false
   },
   "outputs": [],
   "source": [
    "plt.bar(xrange(0,len(view_df.groupby(\"browser\")[\"time_spent_mins\"].sum())), view_df.groupby(\"browser\")[\"time_spent_mins\"].sum())\n",
    "plt.xticks(xrange(0,9),['CHR',\"M-CH\",'EDGE', \"FF\", 'M-FF', 'IE', 'M-SAF', \"OP\",'SAF'])\n",
    "# plt.xlabel(\"Viewing Application\")\n",
    "# plt.ylabel(\"Total View Time in Minutes\")\n",
    "# plt.title(\"Time Spent Vs View App\")"
   ]
  },
  {
   "cell_type": "code",
   "execution_count": null,
   "metadata": {
    "collapsed": false
   },
   "outputs": [],
   "source": [
    "plt.bar(xrange(0,len(view_df.groupby(\"browser\")[\"time_spent_mins\"].sum())), new_view.groupby(\"browser\")[\"time_spent_mins\"].sum())\n",
    "plt.xticks(xrange(0,9),['CHR',\"M-CH\",'EDGE', \"FF\", 'M-FF', 'IE', 'M-SAF', \"OP\",'SAF'])"
   ]
  },
  {
   "cell_type": "code",
   "execution_count": null,
   "metadata": {
    "collapsed": false
   },
   "outputs": [],
   "source": [
    "plt.bar(xrange(0,4), view_df.groupby(\"time_of_day\")[\"time_spent_mins\"].sum())\n",
    "plt.xticks(xrange(0,4),[\"Night\", \"Morning\", \"Afternoon\", \"Evening\"])\n",
    "# plt.xlabel(\"Time of Day\")\n",
    "# plt.ylabel(\"Total View Time in Minutes\")\n",
    "# plt.title(\"TW - Time Spent Vs Time of Day\")"
   ]
  },
  {
   "cell_type": "code",
   "execution_count": null,
   "metadata": {
    "collapsed": false
   },
   "outputs": [],
   "source": [
    "plt.bar(xrange(0,4), new_view.groupby(\"time_of_day\")[\"time_spent_mins\"].sum())\n",
    "plt.xticks(xrange(0,4),[\"Night\", \"Morning\", \"Afternoon\", \"Evening\"])"
   ]
  },
  {
   "cell_type": "code",
   "execution_count": null,
   "metadata": {
    "collapsed": false
   },
   "outputs": [],
   "source": [
    "def get_view_time_per_user(unique_users, view_df):\n",
    "    for user in unique_users:\n",
    "        temp_time = view_df[\"user_id\"]"
   ]
  },
  {
   "cell_type": "code",
   "execution_count": null,
   "metadata": {
    "collapsed": false
   },
   "outputs": [],
   "source": [
    "plt.bar(xrange(0,7), view_df.groupby(\"weekday\")[\"time_spent_mins\"].count())\n",
    "plt.xticks(xrange(0,7),[\"Sun\", \"Mon\", \"Tue\", \"Wed\", \"Thu\", \"Fri\", \"Sat\"])\n",
    "#plt.xlabel(\"Day of Week\")\n",
    "#plt.ylabel(\"Total View Time in Minutes\")\n",
    "#plt.title(\"TW - Time Spent Vs Day of Week\")"
   ]
  },
  {
   "cell_type": "code",
   "execution_count": null,
   "metadata": {
    "collapsed": false
   },
   "outputs": [],
   "source": [
    "plt.bar(xrange(0,7), new_view.groupby(\"weekday\")[\"time_spent_mins\"].count())\n",
    "plt.xticks(xrange(0,7),[\"Sun\", \"Mon\", \"Tue\", \"Wed\", \"Thu\", \"Fri\", \"Sat\"])"
   ]
  },
  {
   "cell_type": "code",
   "execution_count": null,
   "metadata": {
    "collapsed": false
   },
   "outputs": [],
   "source": [
    "# Get the time spent on different apps\n",
    "# def get_time_spent(view_df):\n",
    "#     time_spent_secs = view_df[\"time_spent_in_seconds\"].sum()\n",
    "#     view_apps = view_df[\"view_app_group\"].unique()\n",
    "\n",
    "#     time_spent_dict = {}\n",
    "#     for v in view_apps:\n",
    "#         temp_time = view_df[view_df.view_app_group == v][\"time_spent_in_seconds\"].sum()\n",
    "#         time_spent_dict[v] = [temp_time, float(temp_time)*100/time_spent_secs]\n",
    "#     return time_spent_dict\n",
    "\n",
    "# get_time_spent(view_df)"
   ]
  },
  {
   "cell_type": "code",
   "execution_count": null,
   "metadata": {
    "collapsed": false
   },
   "outputs": [],
   "source": [
    "plt.bar(xrange(0,3), view_df.groupby(\"viewing_device\")[\"time_spent_mins\"].sum())\n",
    "plt.xticks(xrange(0,3),[\"Laptop/Desktop\", \"Phone\", \"Tablet\"])"
   ]
  },
  {
   "cell_type": "code",
   "execution_count": null,
   "metadata": {
    "collapsed": false
   },
   "outputs": [],
   "source": [
    "plt.bar(xrange(0,3), new_view.groupby(\"viewing_device\")[\"time_spent_mins\"].sum())\n",
    "plt.xticks(xrange(0,3),[\"Laptop/Desktop\", \"Phone\", \"Tablet\"])"
   ]
  },
  {
   "cell_type": "code",
   "execution_count": null,
   "metadata": {
    "collapsed": false
   },
   "outputs": [],
   "source": [
    "plt.bar(xrange(0,3), new_view.groupby(\"viewing_device\")[\"time_spent_mins\"].count())\n",
    "plt.xticks(xrange(0,3),[\"Laptop/Desktop\", \"Phone\", \"Tablet\"])"
   ]
  },
  {
   "cell_type": "code",
   "execution_count": null,
   "metadata": {
    "collapsed": false
   },
   "outputs": [],
   "source": [
    "#sns.stripplot(x=\"view_app_group\", y=\"time_spent_mins\", data=view_df)\n",
    "#plt.bar(xrange(0,8), view_df.groupby(\"view_app_group\")[\"time_spent_mins\"].sum())"
   ]
  },
  {
   "cell_type": "code",
   "execution_count": null,
   "metadata": {
    "collapsed": false
   },
   "outputs": [],
   "source": [
    "#sns.boxplot(x=\"view_app_group\", y=\"time_spent_mins\", data=view_df, hue = \"view_app_group\")\n"
   ]
  },
  {
   "cell_type": "code",
   "execution_count": null,
   "metadata": {
    "collapsed": false
   },
   "outputs": [],
   "source": [
    "#sns.barplot(x=\"view_app_group\", y=\"time_spent_mins\", data=view_df, hue = \"view_app_group\")\n"
   ]
  },
  {
   "cell_type": "code",
   "execution_count": null,
   "metadata": {
    "collapsed": false
   },
   "outputs": [],
   "source": [
    "#sns.countplot(x=\"view_app_group\", data=view_df, hue = \"view_app_group\")\n"
   ]
  },
  {
   "cell_type": "code",
   "execution_count": null,
   "metadata": {
    "collapsed": false
   },
   "outputs": [],
   "source": [
    "#plt.bar(xrange(0,9),view_df.groupby(\"view_app_group\")[\"time_spent_mins\"].sum())"
   ]
  },
  {
   "cell_type": "code",
   "execution_count": null,
   "metadata": {
    "collapsed": false
   },
   "outputs": [],
   "source": [
    "#sns.stripplot(x=view_df[\"view_app_group\"], y=view_df[\"time_spent_mins\"], data=view_df, jitter=True)\n"
   ]
  },
  {
   "cell_type": "code",
   "execution_count": null,
   "metadata": {
    "collapsed": false
   },
   "outputs": [],
   "source": [
    "#sns.stripplot(x=view_df[\"weekday\"], y=view_df[\"time_spent_mins\"], data=view_df, jitter=True)\n",
    "\n"
   ]
  },
  {
   "cell_type": "code",
   "execution_count": null,
   "metadata": {
    "collapsed": false
   },
   "outputs": [],
   "source": [
    "plt.bar(xrange(0,7), view_df.groupby(\"month\")[\"time_spent_mins\"].sum())\n",
    "plt.xticks(xrange(0,7),[\"Feb\", \"Mar\", \"Apr\", \"May\", \"Jun\", \"Jul\", \"Aug\"])"
   ]
  },
  {
   "cell_type": "code",
   "execution_count": null,
   "metadata": {
    "collapsed": false
   },
   "outputs": [],
   "source": [
    "plt.bar(xrange(0,7), new_view.groupby(\"month\")[\"time_spent_mins\"].sum())\n",
    "plt.xticks(xrange(0,7),[\"Feb\", \"Mar\", \"Apr\", \"May\", \"Jun\", \"Jul\", \"Aug\"])"
   ]
  },
  {
   "cell_type": "code",
   "execution_count": null,
   "metadata": {
    "collapsed": false
   },
   "outputs": [],
   "source": [
    "plt.bar(xrange(0,7), view_df.groupby(\"month\")[\"time_spent_mins\"].count())\n",
    "plt.xticks(xrange(0,7),[\"Feb\", \"Mar\", \"Apr\", \"May\", \"Jun\", \"Jul\", \"Aug\"])"
   ]
  },
  {
   "cell_type": "code",
   "execution_count": null,
   "metadata": {
    "collapsed": false
   },
   "outputs": [],
   "source": [
    "# clusterer = KMeans(n_clusters=7, random_state=10)\n",
    "# clusterer.fit(X)\n",
    "\n"
   ]
  }
 ],
 "metadata": {
  "kernelspec": {
   "display_name": "Python [conda root]",
   "language": "python",
   "name": "conda-root-py"
  },
  "language_info": {
   "codemirror_mode": {
    "name": "ipython",
    "version": 2
   },
   "file_extension": ".py",
   "mimetype": "text/x-python",
   "name": "python",
   "nbconvert_exporter": "python",
   "pygments_lexer": "ipython2",
   "version": "2.7.13"
  }
 },
 "nbformat": 4,
 "nbformat_minor": 2
}
