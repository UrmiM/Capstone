{
 "cells": [
  {
   "cell_type": "code",
   "execution_count": 47,
   "metadata": {
    "collapsed": true
   },
   "outputs": [],
   "source": [
    "import pandas as pd\n",
    "import numpy as np\n",
    "import datetime as dt\n",
    "import pylab as pl\n",
    "import matplotlib.pyplot as plt\n",
    "from scipy.stats import norm\n",
    "%matplotlib inline\n",
    "import seaborn as sns\n",
    "import itertools\n",
    "import scipy.stats as scs\n",
    "from scipy.spatial.distance import pdist, squareform\n",
    "from sklearn.cluster import KMeans \n",
    "from sklearn.metrics import silhouette_score, silhouette_samples\n",
    "from scipy.cluster.hierarchy import linkage, dendrogram\n",
    "import matplotlib.cm as cm\n",
    "from IPython.display import HTML, display"
   ]
  },
  {
   "cell_type": "code",
   "execution_count": 48,
   "metadata": {
    "collapsed": false
   },
   "outputs": [],
   "source": [
    "df = pd.read_csv(\"YB-datadump.csv\")"
   ]
  },
  {
   "cell_type": "code",
   "execution_count": 49,
   "metadata": {
    "collapsed": false
   },
   "outputs": [],
   "source": [
    "df.columns = df.columns.str.lstrip()"
   ]
  },
  {
   "cell_type": "code",
   "execution_count": 50,
   "metadata": {
    "collapsed": false
   },
   "outputs": [],
   "source": [
    "df.columns = df.columns.str.lower()"
   ]
  },
  {
   "cell_type": "code",
   "execution_count": 51,
   "metadata": {
    "collapsed": false
   },
   "outputs": [],
   "source": [
    "df.columns = df.columns.str.replace(\" \", \"_\")"
   ]
  },
  {
   "cell_type": "code",
   "execution_count": 52,
   "metadata": {
    "collapsed": false
   },
   "outputs": [
    {
     "data": {
      "text/html": [
       "<div>\n",
       "<style>\n",
       "    .dataframe thead tr:only-child th {\n",
       "        text-align: right;\n",
       "    }\n",
       "\n",
       "    .dataframe thead th {\n",
       "        text-align: left;\n",
       "    }\n",
       "\n",
       "    .dataframe tbody tr th {\n",
       "        vertical-align: top;\n",
       "    }\n",
       "</style>\n",
       "<table border=\"1\" class=\"dataframe\">\n",
       "  <thead>\n",
       "    <tr style=\"text-align: right;\">\n",
       "      <th></th>\n",
       "      <th>activity_type</th>\n",
       "      <th>user_id</th>\n",
       "      <th>rm_id</th>\n",
       "      <th>user_os</th>\n",
       "      <th>viewing_app</th>\n",
       "      <th>user_groups</th>\n",
       "      <th>shared_date</th>\n",
       "      <th>shared_time</th>\n",
       "      <th>title_of_content</th>\n",
       "      <th>share_channel</th>\n",
       "      <th>viewed</th>\n",
       "      <th>time_spent_in_seconds</th>\n",
       "      <th>last_activity_date</th>\n",
       "      <th>last_activity_time</th>\n",
       "      <th>unnamed:_14</th>\n",
       "      <th>unnamed:_15</th>\n",
       "    </tr>\n",
       "  </thead>\n",
       "  <tbody>\n",
       "    <tr>\n",
       "      <th>0</th>\n",
       "      <td>VIEW</td>\n",
       "      <td>1051909</td>\n",
       "      <td>NaN</td>\n",
       "      <td>MAC_OS_X_IPHONE</td>\n",
       "      <td>APPLE_WEB_KIT</td>\n",
       "      <td>NaN</td>\n",
       "      <td>NaN</td>\n",
       "      <td>NaN</td>\n",
       "      <td>Mutual Fund Online - I</td>\n",
       "      <td>NaN</td>\n",
       "      <td>1</td>\n",
       "      <td>5</td>\n",
       "      <td>25-Aug-2017</td>\n",
       "      <td>19:29:04</td>\n",
       "      <td>NaN</td>\n",
       "      <td>NaN</td>\n",
       "    </tr>\n",
       "    <tr>\n",
       "      <th>1</th>\n",
       "      <td>VIEW</td>\n",
       "      <td>1052025</td>\n",
       "      <td>NaN</td>\n",
       "      <td>MAC_OS_X_IPHONE</td>\n",
       "      <td>APPLE_WEB_KIT</td>\n",
       "      <td>NaN</td>\n",
       "      <td>NaN</td>\n",
       "      <td>NaN</td>\n",
       "      <td>SWIFT CODES JPY</td>\n",
       "      <td>NaN</td>\n",
       "      <td>1</td>\n",
       "      <td>120</td>\n",
       "      <td>25-Aug-2017</td>\n",
       "      <td>9:53:39</td>\n",
       "      <td>NaN</td>\n",
       "      <td>SWIFT CODES JPY</td>\n",
       "    </tr>\n",
       "    <tr>\n",
       "      <th>2</th>\n",
       "      <td>VIEW</td>\n",
       "      <td>1052025</td>\n",
       "      <td>NaN</td>\n",
       "      <td>MAC_OS_X_IPHONE</td>\n",
       "      <td>APPLE_WEB_KIT</td>\n",
       "      <td>NaN</td>\n",
       "      <td>NaN</td>\n",
       "      <td>NaN</td>\n",
       "      <td>Q1FY17 Press Release_Final</td>\n",
       "      <td>NaN</td>\n",
       "      <td>1</td>\n",
       "      <td>120</td>\n",
       "      <td>25-Aug-2017</td>\n",
       "      <td>9:41:15</td>\n",
       "      <td>NaN</td>\n",
       "      <td>Q1FY17 Press Release_Final</td>\n",
       "    </tr>\n",
       "    <tr>\n",
       "      <th>3</th>\n",
       "      <td>SHARE</td>\n",
       "      <td>1057837</td>\n",
       "      <td>1051973.0</td>\n",
       "      <td>NaN</td>\n",
       "      <td>NaN</td>\n",
       "      <td>All Users ,FA - NCR 2</td>\n",
       "      <td>23-Aug-2017</td>\n",
       "      <td>20:40:49</td>\n",
       "      <td>ICICI Pru Balanced</td>\n",
       "      <td>ANDROID</td>\n",
       "      <td>0</td>\n",
       "      <td>0</td>\n",
       "      <td>23-Aug-2017</td>\n",
       "      <td>20:40:49</td>\n",
       "      <td>NaN</td>\n",
       "      <td>GIB Knowledge Series</td>\n",
       "    </tr>\n",
       "    <tr>\n",
       "      <th>4</th>\n",
       "      <td>SHARE</td>\n",
       "      <td>1057837</td>\n",
       "      <td>1051973.0</td>\n",
       "      <td>NaN</td>\n",
       "      <td>NaN</td>\n",
       "      <td>All Users ,FA - NCR 2</td>\n",
       "      <td>23-Aug-2017</td>\n",
       "      <td>20:40:49</td>\n",
       "      <td>ICICI Pru Balanced</td>\n",
       "      <td>ANDROID</td>\n",
       "      <td>0</td>\n",
       "      <td>0</td>\n",
       "      <td>23-Aug-2017</td>\n",
       "      <td>20:40:49</td>\n",
       "      <td>NaN</td>\n",
       "      <td>NaN</td>\n",
       "    </tr>\n",
       "    <tr>\n",
       "      <th>5</th>\n",
       "      <td>SHARE</td>\n",
       "      <td>1057837</td>\n",
       "      <td>1051973.0</td>\n",
       "      <td>NaN</td>\n",
       "      <td>NaN</td>\n",
       "      <td>All Users ,FA - NCR 2</td>\n",
       "      <td>23-Aug-2017</td>\n",
       "      <td>20:40:49</td>\n",
       "      <td>ICICI Pru Balanced</td>\n",
       "      <td>ANDROID</td>\n",
       "      <td>0</td>\n",
       "      <td>0</td>\n",
       "      <td>23-Aug-2017</td>\n",
       "      <td>20:40:49</td>\n",
       "      <td>NaN</td>\n",
       "      <td>NaN</td>\n",
       "    </tr>\n",
       "    <tr>\n",
       "      <th>6</th>\n",
       "      <td>VIEW</td>\n",
       "      <td>1051973</td>\n",
       "      <td>NaN</td>\n",
       "      <td>ANDROID4</td>\n",
       "      <td>CHROME_MOBILE</td>\n",
       "      <td>NaN</td>\n",
       "      <td>NaN</td>\n",
       "      <td>NaN</td>\n",
       "      <td>ICICI Pru Balanced</td>\n",
       "      <td>NaN</td>\n",
       "      <td>1</td>\n",
       "      <td>120</td>\n",
       "      <td>23-Aug-2017</td>\n",
       "      <td>20:39:43</td>\n",
       "      <td>NaN</td>\n",
       "      <td>NaN</td>\n",
       "    </tr>\n",
       "    <tr>\n",
       "      <th>7</th>\n",
       "      <td>VIEW</td>\n",
       "      <td>1052025</td>\n",
       "      <td>NaN</td>\n",
       "      <td>MAC_OS_X_IPHONE</td>\n",
       "      <td>APPLE_WEB_KIT</td>\n",
       "      <td>NaN</td>\n",
       "      <td>NaN</td>\n",
       "      <td>NaN</td>\n",
       "      <td>GIB Knowledge Series</td>\n",
       "      <td>NaN</td>\n",
       "      <td>1</td>\n",
       "      <td>220</td>\n",
       "      <td>17-Aug-2017</td>\n",
       "      <td>20:43:48</td>\n",
       "      <td>NaN</td>\n",
       "      <td>GIB Knowledge Series</td>\n",
       "    </tr>\n",
       "    <tr>\n",
       "      <th>8</th>\n",
       "      <td>VIEW</td>\n",
       "      <td>1051913</td>\n",
       "      <td>NaN</td>\n",
       "      <td>MAC_OS_X_IPHONE</td>\n",
       "      <td>APPLE_WEB_KIT</td>\n",
       "      <td>NaN</td>\n",
       "      <td>NaN</td>\n",
       "      <td>NaN</td>\n",
       "      <td>Mutual Fund Online - I</td>\n",
       "      <td>NaN</td>\n",
       "      <td>1</td>\n",
       "      <td>5</td>\n",
       "      <td>12-Aug-2017</td>\n",
       "      <td>21:22:24</td>\n",
       "      <td>NaN</td>\n",
       "      <td>NaN</td>\n",
       "    </tr>\n",
       "    <tr>\n",
       "      <th>9</th>\n",
       "      <td>VIEW</td>\n",
       "      <td>1051913</td>\n",
       "      <td>NaN</td>\n",
       "      <td>MAC_OS_X_IPHONE</td>\n",
       "      <td>APPLE_WEB_KIT</td>\n",
       "      <td>NaN</td>\n",
       "      <td>NaN</td>\n",
       "      <td>NaN</td>\n",
       "      <td>Reliance Arbitrage Adv</td>\n",
       "      <td>NaN</td>\n",
       "      <td>1</td>\n",
       "      <td>10</td>\n",
       "      <td>12-Aug-2017</td>\n",
       "      <td>21:07:16</td>\n",
       "      <td>NaN</td>\n",
       "      <td>NaN</td>\n",
       "    </tr>\n",
       "    <tr>\n",
       "      <th>10</th>\n",
       "      <td>VIEW</td>\n",
       "      <td>1051905</td>\n",
       "      <td>NaN</td>\n",
       "      <td>MAC_OS_X_IPHONE</td>\n",
       "      <td>APPLE_WEB_KIT</td>\n",
       "      <td>NaN</td>\n",
       "      <td>NaN</td>\n",
       "      <td>NaN</td>\n",
       "      <td>User Manual</td>\n",
       "      <td>NaN</td>\n",
       "      <td>1</td>\n",
       "      <td>35</td>\n",
       "      <td>11-Aug-2017</td>\n",
       "      <td>22:52:17</td>\n",
       "      <td>NaN</td>\n",
       "      <td>NaN</td>\n",
       "    </tr>\n",
       "    <tr>\n",
       "      <th>11</th>\n",
       "      <td>VIEW</td>\n",
       "      <td>1052009</td>\n",
       "      <td>NaN</td>\n",
       "      <td>ANDROID6</td>\n",
       "      <td>CHROME_MOBILE</td>\n",
       "      <td>NaN</td>\n",
       "      <td>NaN</td>\n",
       "      <td>NaN</td>\n",
       "      <td>Verification of KYC documents through Webcam f...</td>\n",
       "      <td>NaN</td>\n",
       "      <td>1</td>\n",
       "      <td>10</td>\n",
       "      <td>11-Aug-2017</td>\n",
       "      <td>11:55:42</td>\n",
       "      <td>NaN</td>\n",
       "      <td>NaN</td>\n",
       "    </tr>\n",
       "    <tr>\n",
       "      <th>12</th>\n",
       "      <td>VIEW</td>\n",
       "      <td>1051977</td>\n",
       "      <td>NaN</td>\n",
       "      <td>MAC_OS_X_IPHONE</td>\n",
       "      <td>APPLE_WEB_KIT</td>\n",
       "      <td>NaN</td>\n",
       "      <td>NaN</td>\n",
       "      <td>NaN</td>\n",
       "      <td>SBI Bluechip Reg</td>\n",
       "      <td>NaN</td>\n",
       "      <td>1</td>\n",
       "      <td>15</td>\n",
       "      <td>10-Aug-2017</td>\n",
       "      <td>9:59:15</td>\n",
       "      <td>NaN</td>\n",
       "      <td>NaN</td>\n",
       "    </tr>\n",
       "    <tr>\n",
       "      <th>13</th>\n",
       "      <td>VIEW</td>\n",
       "      <td>1052009</td>\n",
       "      <td>NaN</td>\n",
       "      <td>ANDROID6</td>\n",
       "      <td>CHROME_MOBILE</td>\n",
       "      <td>NaN</td>\n",
       "      <td>NaN</td>\n",
       "      <td>NaN</td>\n",
       "      <td>Q1FY17 Press Release_Final</td>\n",
       "      <td>NaN</td>\n",
       "      <td>1</td>\n",
       "      <td>5</td>\n",
       "      <td>10-Aug-2017</td>\n",
       "      <td>9:58:48</td>\n",
       "      <td>NaN</td>\n",
       "      <td>NaN</td>\n",
       "    </tr>\n",
       "    <tr>\n",
       "      <th>14</th>\n",
       "      <td>VIEW</td>\n",
       "      <td>1052009</td>\n",
       "      <td>NaN</td>\n",
       "      <td>ANDROID6</td>\n",
       "      <td>CHROME_MOBILE</td>\n",
       "      <td>NaN</td>\n",
       "      <td>NaN</td>\n",
       "      <td>NaN</td>\n",
       "      <td>GIB Knowledge Series</td>\n",
       "      <td>NaN</td>\n",
       "      <td>1</td>\n",
       "      <td>5</td>\n",
       "      <td>10-Aug-2017</td>\n",
       "      <td>9:58:26</td>\n",
       "      <td>NaN</td>\n",
       "      <td>NaN</td>\n",
       "    </tr>\n",
       "    <tr>\n",
       "      <th>15</th>\n",
       "      <td>VIEW</td>\n",
       "      <td>1052009</td>\n",
       "      <td>NaN</td>\n",
       "      <td>ANDROID6</td>\n",
       "      <td>CHROME_MOBILE</td>\n",
       "      <td>NaN</td>\n",
       "      <td>NaN</td>\n",
       "      <td>NaN</td>\n",
       "      <td>Did You Know Series</td>\n",
       "      <td>NaN</td>\n",
       "      <td>1</td>\n",
       "      <td>10</td>\n",
       "      <td>10-Aug-2017</td>\n",
       "      <td>9:57:28</td>\n",
       "      <td>NaN</td>\n",
       "      <td>NaN</td>\n",
       "    </tr>\n",
       "    <tr>\n",
       "      <th>16</th>\n",
       "      <td>VIEW</td>\n",
       "      <td>1052009</td>\n",
       "      <td>NaN</td>\n",
       "      <td>ANDROID6</td>\n",
       "      <td>CHROME_MOBILE</td>\n",
       "      <td>NaN</td>\n",
       "      <td>NaN</td>\n",
       "      <td>NaN</td>\n",
       "      <td>YES REMIT_KNOWLEDGE SERIES</td>\n",
       "      <td>NaN</td>\n",
       "      <td>1</td>\n",
       "      <td>45</td>\n",
       "      <td>10-Aug-2017</td>\n",
       "      <td>9:56:36</td>\n",
       "      <td>NaN</td>\n",
       "      <td>NaN</td>\n",
       "    </tr>\n",
       "    <tr>\n",
       "      <th>17</th>\n",
       "      <td>SHARE</td>\n",
       "      <td>1057621</td>\n",
       "      <td>1051897.0</td>\n",
       "      <td>NaN</td>\n",
       "      <td>NaN</td>\n",
       "      <td>All Users ,FA - NCR 3</td>\n",
       "      <td>9-Aug-2017</td>\n",
       "      <td>10:57:24</td>\n",
       "      <td>SBI Bluechip Reg</td>\n",
       "      <td>ANDROID</td>\n",
       "      <td>1</td>\n",
       "      <td>40</td>\n",
       "      <td>9-Aug-2017</td>\n",
       "      <td>20:37:07</td>\n",
       "      <td>NaN</td>\n",
       "      <td>NaN</td>\n",
       "    </tr>\n",
       "    <tr>\n",
       "      <th>18</th>\n",
       "      <td>VIEW</td>\n",
       "      <td>1057621</td>\n",
       "      <td>NaN</td>\n",
       "      <td>MAC_OS_X_IPHONE</td>\n",
       "      <td>MOBILE_SAFARI</td>\n",
       "      <td>NaN</td>\n",
       "      <td>NaN</td>\n",
       "      <td>NaN</td>\n",
       "      <td>SBI Bluechip Reg</td>\n",
       "      <td>NaN</td>\n",
       "      <td>1</td>\n",
       "      <td>10</td>\n",
       "      <td>9-Aug-2017</td>\n",
       "      <td>20:36:40</td>\n",
       "      <td>NaN</td>\n",
       "      <td>NaN</td>\n",
       "    </tr>\n",
       "    <tr>\n",
       "      <th>19</th>\n",
       "      <td>VIEW</td>\n",
       "      <td>1057621</td>\n",
       "      <td>NaN</td>\n",
       "      <td>MAC_OS_X_IPHONE</td>\n",
       "      <td>MOBILE_SAFARI</td>\n",
       "      <td>NaN</td>\n",
       "      <td>NaN</td>\n",
       "      <td>NaN</td>\n",
       "      <td>SBI Bluechip Reg</td>\n",
       "      <td>NaN</td>\n",
       "      <td>1</td>\n",
       "      <td>15</td>\n",
       "      <td>9-Aug-2017</td>\n",
       "      <td>20:27:33</td>\n",
       "      <td>NaN</td>\n",
       "      <td>NaN</td>\n",
       "    </tr>\n",
       "    <tr>\n",
       "      <th>20</th>\n",
       "      <td>SHARE</td>\n",
       "      <td>1057769</td>\n",
       "      <td>1052025.0</td>\n",
       "      <td>NaN</td>\n",
       "      <td>NaN</td>\n",
       "      <td>All Users ,FA - GIB</td>\n",
       "      <td>9-Aug-2017</td>\n",
       "      <td>18:31:45</td>\n",
       "      <td>SWIFT CODES USD</td>\n",
       "      <td>IOS</td>\n",
       "      <td>1</td>\n",
       "      <td>105</td>\n",
       "      <td>9-Aug-2017</td>\n",
       "      <td>18:42:07</td>\n",
       "      <td>NaN</td>\n",
       "      <td>NaN</td>\n",
       "    </tr>\n",
       "    <tr>\n",
       "      <th>21</th>\n",
       "      <td>VIEW</td>\n",
       "      <td>1052025</td>\n",
       "      <td>NaN</td>\n",
       "      <td>MAC_OS_X_IPHONE</td>\n",
       "      <td>APPLE_WEB_KIT</td>\n",
       "      <td>NaN</td>\n",
       "      <td>NaN</td>\n",
       "      <td>NaN</td>\n",
       "      <td>Q1FY17 Press Release_Final</td>\n",
       "      <td>NaN</td>\n",
       "      <td>1</td>\n",
       "      <td>25</td>\n",
       "      <td>9-Aug-2017</td>\n",
       "      <td>18:42:01</td>\n",
       "      <td>NaN</td>\n",
       "      <td>User Manual</td>\n",
       "    </tr>\n",
       "    <tr>\n",
       "      <th>22</th>\n",
       "      <td>VIEW</td>\n",
       "      <td>1052025</td>\n",
       "      <td>NaN</td>\n",
       "      <td>MAC_OS_X_IPHONE</td>\n",
       "      <td>APPLE_WEB_KIT</td>\n",
       "      <td>NaN</td>\n",
       "      <td>NaN</td>\n",
       "      <td>NaN</td>\n",
       "      <td>User Manual</td>\n",
       "      <td>NaN</td>\n",
       "      <td>1</td>\n",
       "      <td>15</td>\n",
       "      <td>9-Aug-2017</td>\n",
       "      <td>18:40:53</td>\n",
       "      <td>NaN</td>\n",
       "      <td>Feedback Form - I</td>\n",
       "    </tr>\n",
       "    <tr>\n",
       "      <th>23</th>\n",
       "      <td>VIEW</td>\n",
       "      <td>1057769</td>\n",
       "      <td>NaN</td>\n",
       "      <td>MAC_OS_X_IPHONE</td>\n",
       "      <td>MOBILE_SAFARI</td>\n",
       "      <td>NaN</td>\n",
       "      <td>NaN</td>\n",
       "      <td>NaN</td>\n",
       "      <td>SWIFT CODES USD</td>\n",
       "      <td>NaN</td>\n",
       "      <td>1</td>\n",
       "      <td>105</td>\n",
       "      <td>9-Aug-2017</td>\n",
       "      <td>18:40:08</td>\n",
       "      <td>NaN</td>\n",
       "      <td>NaN</td>\n",
       "    </tr>\n",
       "    <tr>\n",
       "      <th>24</th>\n",
       "      <td>VIEW</td>\n",
       "      <td>1052025</td>\n",
       "      <td>NaN</td>\n",
       "      <td>MAC_OS_X_IPHONE</td>\n",
       "      <td>APPLE_WEB_KIT</td>\n",
       "      <td>NaN</td>\n",
       "      <td>NaN</td>\n",
       "      <td>NaN</td>\n",
       "      <td>Feedback Form - I</td>\n",
       "      <td>NaN</td>\n",
       "      <td>1</td>\n",
       "      <td>35</td>\n",
       "      <td>9-Aug-2017</td>\n",
       "      <td>18:39:49</td>\n",
       "      <td>NaN</td>\n",
       "      <td>NaN</td>\n",
       "    </tr>\n",
       "    <tr>\n",
       "      <th>25</th>\n",
       "      <td>VIEW</td>\n",
       "      <td>1052025</td>\n",
       "      <td>NaN</td>\n",
       "      <td>MAC_OS_X_IPHONE</td>\n",
       "      <td>APPLE_WEB_KIT</td>\n",
       "      <td>NaN</td>\n",
       "      <td>NaN</td>\n",
       "      <td>NaN</td>\n",
       "      <td>SWIFT CODES USD</td>\n",
       "      <td>NaN</td>\n",
       "      <td>1</td>\n",
       "      <td>15</td>\n",
       "      <td>9-Aug-2017</td>\n",
       "      <td>18:31:24</td>\n",
       "      <td>NaN</td>\n",
       "      <td>NaN</td>\n",
       "    </tr>\n",
       "    <tr>\n",
       "      <th>26</th>\n",
       "      <td>VIEW</td>\n",
       "      <td>1052025</td>\n",
       "      <td>NaN</td>\n",
       "      <td>MAC_OS_X_IPHONE</td>\n",
       "      <td>APPLE_WEB_KIT</td>\n",
       "      <td>NaN</td>\n",
       "      <td>NaN</td>\n",
       "      <td>NaN</td>\n",
       "      <td>GIB Knowledge Series</td>\n",
       "      <td>NaN</td>\n",
       "      <td>1</td>\n",
       "      <td>10</td>\n",
       "      <td>9-Aug-2017</td>\n",
       "      <td>18:30:58</td>\n",
       "      <td>NaN</td>\n",
       "      <td>NaN</td>\n",
       "    </tr>\n",
       "    <tr>\n",
       "      <th>27</th>\n",
       "      <td>VIEW</td>\n",
       "      <td>1051973</td>\n",
       "      <td>NaN</td>\n",
       "      <td>ANDROID4</td>\n",
       "      <td>CHROME_MOBILE</td>\n",
       "      <td>NaN</td>\n",
       "      <td>NaN</td>\n",
       "      <td>NaN</td>\n",
       "      <td>ICICI Pru Balanced</td>\n",
       "      <td>NaN</td>\n",
       "      <td>1</td>\n",
       "      <td>120</td>\n",
       "      <td>9-Aug-2017</td>\n",
       "      <td>17:55:06</td>\n",
       "      <td>NaN</td>\n",
       "      <td>NaN</td>\n",
       "    </tr>\n",
       "    <tr>\n",
       "      <th>28</th>\n",
       "      <td>VIEW</td>\n",
       "      <td>1051977</td>\n",
       "      <td>NaN</td>\n",
       "      <td>MAC_OS_X_IPHONE</td>\n",
       "      <td>APPLE_WEB_KIT</td>\n",
       "      <td>NaN</td>\n",
       "      <td>NaN</td>\n",
       "      <td>NaN</td>\n",
       "      <td>Feedback Form - II</td>\n",
       "      <td>NaN</td>\n",
       "      <td>1</td>\n",
       "      <td>15</td>\n",
       "      <td>9-Aug-2017</td>\n",
       "      <td>17:00:51</td>\n",
       "      <td>NaN</td>\n",
       "      <td>NaN</td>\n",
       "    </tr>\n",
       "    <tr>\n",
       "      <th>29</th>\n",
       "      <td>VIEW</td>\n",
       "      <td>1051977</td>\n",
       "      <td>NaN</td>\n",
       "      <td>MAC_OS_X_IPHONE</td>\n",
       "      <td>APPLE_WEB_KIT</td>\n",
       "      <td>NaN</td>\n",
       "      <td>NaN</td>\n",
       "      <td>NaN</td>\n",
       "      <td>Feedback Form - I</td>\n",
       "      <td>NaN</td>\n",
       "      <td>1</td>\n",
       "      <td>40</td>\n",
       "      <td>9-Aug-2017</td>\n",
       "      <td>17:00:03</td>\n",
       "      <td>NaN</td>\n",
       "      <td>NaN</td>\n",
       "    </tr>\n",
       "    <tr>\n",
       "      <th>30</th>\n",
       "      <td>SHARE</td>\n",
       "      <td>1057752</td>\n",
       "      <td>1051977.0</td>\n",
       "      <td>NaN</td>\n",
       "      <td>NaN</td>\n",
       "      <td>All Users ,FA - NCR 2</td>\n",
       "      <td>9-Aug-2017</td>\n",
       "      <td>16:52:34</td>\n",
       "      <td>ICICI Pru Dynamic Bond</td>\n",
       "      <td>IOS</td>\n",
       "      <td>1</td>\n",
       "      <td>55</td>\n",
       "      <td>9-Aug-2017</td>\n",
       "      <td>16:55:07</td>\n",
       "      <td>NaN</td>\n",
       "      <td>NaN</td>\n",
       "    </tr>\n",
       "    <tr>\n",
       "      <th>31</th>\n",
       "      <td>VIEW</td>\n",
       "      <td>1057752</td>\n",
       "      <td>NaN</td>\n",
       "      <td>ANDROID_MOBILE</td>\n",
       "      <td>CHROME_MOBILE</td>\n",
       "      <td>NaN</td>\n",
       "      <td>NaN</td>\n",
       "      <td>NaN</td>\n",
       "      <td>ICICI Pru Dynamic Bond</td>\n",
       "      <td>NaN</td>\n",
       "      <td>1</td>\n",
       "      <td>55</td>\n",
       "      <td>9-Aug-2017</td>\n",
       "      <td>16:53:31</td>\n",
       "      <td>NaN</td>\n",
       "      <td>NaN</td>\n",
       "    </tr>\n",
       "    <tr>\n",
       "      <th>32</th>\n",
       "      <td>SHARE</td>\n",
       "      <td>1057743</td>\n",
       "      <td>1051977.0</td>\n",
       "      <td>NaN</td>\n",
       "      <td>NaN</td>\n",
       "      <td>All Users ,FA - NCR 2</td>\n",
       "      <td>9-Aug-2017</td>\n",
       "      <td>16:51:32</td>\n",
       "      <td>ICICI Pru Dynamic Bond</td>\n",
       "      <td>IOS</td>\n",
       "      <td>0</td>\n",
       "      <td>0</td>\n",
       "      <td>9-Aug-2017</td>\n",
       "      <td>16:51:32</td>\n",
       "      <td>NaN</td>\n",
       "      <td>NaN</td>\n",
       "    </tr>\n",
       "    <tr>\n",
       "      <th>33</th>\n",
       "      <td>VIEW</td>\n",
       "      <td>1051977</td>\n",
       "      <td>NaN</td>\n",
       "      <td>MAC_OS_X_IPHONE</td>\n",
       "      <td>APPLE_WEB_KIT</td>\n",
       "      <td>NaN</td>\n",
       "      <td>NaN</td>\n",
       "      <td>NaN</td>\n",
       "      <td>ICICI Pru Dynamic Bond</td>\n",
       "      <td>NaN</td>\n",
       "      <td>1</td>\n",
       "      <td>40</td>\n",
       "      <td>9-Aug-2017</td>\n",
       "      <td>16:50:58</td>\n",
       "      <td>NaN</td>\n",
       "      <td>NaN</td>\n",
       "    </tr>\n",
       "    <tr>\n",
       "      <th>34</th>\n",
       "      <td>VIEW</td>\n",
       "      <td>1051977</td>\n",
       "      <td>NaN</td>\n",
       "      <td>MAC_OS_X_IPHONE</td>\n",
       "      <td>APPLE_WEB_KIT</td>\n",
       "      <td>NaN</td>\n",
       "      <td>NaN</td>\n",
       "      <td>NaN</td>\n",
       "      <td>Mutual Fund Online - I</td>\n",
       "      <td>NaN</td>\n",
       "      <td>1</td>\n",
       "      <td>10</td>\n",
       "      <td>9-Aug-2017</td>\n",
       "      <td>16:49:26</td>\n",
       "      <td>NaN</td>\n",
       "      <td>NaN</td>\n",
       "    </tr>\n",
       "  </tbody>\n",
       "</table>\n",
       "</div>"
      ],
      "text/plain": [
       "   activity_type  user_id      rm_id          user_os    viewing_app  \\\n",
       "0           VIEW  1051909        NaN  MAC_OS_X_IPHONE  APPLE_WEB_KIT   \n",
       "1           VIEW  1052025        NaN  MAC_OS_X_IPHONE  APPLE_WEB_KIT   \n",
       "2           VIEW  1052025        NaN  MAC_OS_X_IPHONE  APPLE_WEB_KIT   \n",
       "3          SHARE  1057837  1051973.0              NaN            NaN   \n",
       "4          SHARE  1057837  1051973.0              NaN            NaN   \n",
       "5          SHARE  1057837  1051973.0              NaN            NaN   \n",
       "6           VIEW  1051973        NaN         ANDROID4  CHROME_MOBILE   \n",
       "7           VIEW  1052025        NaN  MAC_OS_X_IPHONE  APPLE_WEB_KIT   \n",
       "8           VIEW  1051913        NaN  MAC_OS_X_IPHONE  APPLE_WEB_KIT   \n",
       "9           VIEW  1051913        NaN  MAC_OS_X_IPHONE  APPLE_WEB_KIT   \n",
       "10          VIEW  1051905        NaN  MAC_OS_X_IPHONE  APPLE_WEB_KIT   \n",
       "11          VIEW  1052009        NaN         ANDROID6  CHROME_MOBILE   \n",
       "12          VIEW  1051977        NaN  MAC_OS_X_IPHONE  APPLE_WEB_KIT   \n",
       "13          VIEW  1052009        NaN         ANDROID6  CHROME_MOBILE   \n",
       "14          VIEW  1052009        NaN         ANDROID6  CHROME_MOBILE   \n",
       "15          VIEW  1052009        NaN         ANDROID6  CHROME_MOBILE   \n",
       "16          VIEW  1052009        NaN         ANDROID6  CHROME_MOBILE   \n",
       "17         SHARE  1057621  1051897.0              NaN            NaN   \n",
       "18          VIEW  1057621        NaN  MAC_OS_X_IPHONE  MOBILE_SAFARI   \n",
       "19          VIEW  1057621        NaN  MAC_OS_X_IPHONE  MOBILE_SAFARI   \n",
       "20         SHARE  1057769  1052025.0              NaN            NaN   \n",
       "21          VIEW  1052025        NaN  MAC_OS_X_IPHONE  APPLE_WEB_KIT   \n",
       "22          VIEW  1052025        NaN  MAC_OS_X_IPHONE  APPLE_WEB_KIT   \n",
       "23          VIEW  1057769        NaN  MAC_OS_X_IPHONE  MOBILE_SAFARI   \n",
       "24          VIEW  1052025        NaN  MAC_OS_X_IPHONE  APPLE_WEB_KIT   \n",
       "25          VIEW  1052025        NaN  MAC_OS_X_IPHONE  APPLE_WEB_KIT   \n",
       "26          VIEW  1052025        NaN  MAC_OS_X_IPHONE  APPLE_WEB_KIT   \n",
       "27          VIEW  1051973        NaN         ANDROID4  CHROME_MOBILE   \n",
       "28          VIEW  1051977        NaN  MAC_OS_X_IPHONE  APPLE_WEB_KIT   \n",
       "29          VIEW  1051977        NaN  MAC_OS_X_IPHONE  APPLE_WEB_KIT   \n",
       "30         SHARE  1057752  1051977.0              NaN            NaN   \n",
       "31          VIEW  1057752        NaN   ANDROID_MOBILE  CHROME_MOBILE   \n",
       "32         SHARE  1057743  1051977.0              NaN            NaN   \n",
       "33          VIEW  1051977        NaN  MAC_OS_X_IPHONE  APPLE_WEB_KIT   \n",
       "34          VIEW  1051977        NaN  MAC_OS_X_IPHONE  APPLE_WEB_KIT   \n",
       "\n",
       "               user_groups  shared_date shared_time  \\\n",
       "0                      NaN          NaN         NaN   \n",
       "1                      NaN          NaN         NaN   \n",
       "2                      NaN          NaN         NaN   \n",
       "3   All Users ,FA - NCR 2   23-Aug-2017    20:40:49   \n",
       "4   All Users ,FA - NCR 2   23-Aug-2017    20:40:49   \n",
       "5   All Users ,FA - NCR 2   23-Aug-2017    20:40:49   \n",
       "6                      NaN          NaN         NaN   \n",
       "7                      NaN          NaN         NaN   \n",
       "8                      NaN          NaN         NaN   \n",
       "9                      NaN          NaN         NaN   \n",
       "10                     NaN          NaN         NaN   \n",
       "11                     NaN          NaN         NaN   \n",
       "12                     NaN          NaN         NaN   \n",
       "13                     NaN          NaN         NaN   \n",
       "14                     NaN          NaN         NaN   \n",
       "15                     NaN          NaN         NaN   \n",
       "16                     NaN          NaN         NaN   \n",
       "17  All Users ,FA - NCR 3    9-Aug-2017    10:57:24   \n",
       "18                     NaN          NaN         NaN   \n",
       "19                     NaN          NaN         NaN   \n",
       "20    All Users ,FA - GIB    9-Aug-2017    18:31:45   \n",
       "21                     NaN          NaN         NaN   \n",
       "22                     NaN          NaN         NaN   \n",
       "23                     NaN          NaN         NaN   \n",
       "24                     NaN          NaN         NaN   \n",
       "25                     NaN          NaN         NaN   \n",
       "26                     NaN          NaN         NaN   \n",
       "27                     NaN          NaN         NaN   \n",
       "28                     NaN          NaN         NaN   \n",
       "29                     NaN          NaN         NaN   \n",
       "30  All Users ,FA - NCR 2    9-Aug-2017    16:52:34   \n",
       "31                     NaN          NaN         NaN   \n",
       "32  All Users ,FA - NCR 2    9-Aug-2017    16:51:32   \n",
       "33                     NaN          NaN         NaN   \n",
       "34                     NaN          NaN         NaN   \n",
       "\n",
       "                                     title_of_content share_channel  viewed  \\\n",
       "0                              Mutual Fund Online - I           NaN       1   \n",
       "1                                     SWIFT CODES JPY           NaN       1   \n",
       "2                          Q1FY17 Press Release_Final           NaN       1   \n",
       "3                                  ICICI Pru Balanced       ANDROID       0   \n",
       "4                                  ICICI Pru Balanced       ANDROID       0   \n",
       "5                                  ICICI Pru Balanced       ANDROID       0   \n",
       "6                                  ICICI Pru Balanced           NaN       1   \n",
       "7                                GIB Knowledge Series           NaN       1   \n",
       "8                              Mutual Fund Online - I           NaN       1   \n",
       "9                              Reliance Arbitrage Adv           NaN       1   \n",
       "10                                        User Manual           NaN       1   \n",
       "11  Verification of KYC documents through Webcam f...           NaN       1   \n",
       "12                                   SBI Bluechip Reg           NaN       1   \n",
       "13                         Q1FY17 Press Release_Final           NaN       1   \n",
       "14                               GIB Knowledge Series           NaN       1   \n",
       "15                                Did You Know Series           NaN       1   \n",
       "16                         YES REMIT_KNOWLEDGE SERIES           NaN       1   \n",
       "17                                   SBI Bluechip Reg       ANDROID       1   \n",
       "18                                   SBI Bluechip Reg           NaN       1   \n",
       "19                                   SBI Bluechip Reg           NaN       1   \n",
       "20                                    SWIFT CODES USD           IOS       1   \n",
       "21                         Q1FY17 Press Release_Final           NaN       1   \n",
       "22                                        User Manual           NaN       1   \n",
       "23                                    SWIFT CODES USD           NaN       1   \n",
       "24                                  Feedback Form - I           NaN       1   \n",
       "25                                    SWIFT CODES USD           NaN       1   \n",
       "26                               GIB Knowledge Series           NaN       1   \n",
       "27                                 ICICI Pru Balanced           NaN       1   \n",
       "28                                 Feedback Form - II           NaN       1   \n",
       "29                                  Feedback Form - I           NaN       1   \n",
       "30                             ICICI Pru Dynamic Bond           IOS       1   \n",
       "31                             ICICI Pru Dynamic Bond           NaN       1   \n",
       "32                             ICICI Pru Dynamic Bond           IOS       0   \n",
       "33                             ICICI Pru Dynamic Bond           NaN       1   \n",
       "34                             Mutual Fund Online - I           NaN       1   \n",
       "\n",
       "    time_spent_in_seconds last_activity_date last_activity_time  unnamed:_14  \\\n",
       "0                       5        25-Aug-2017           19:29:04          NaN   \n",
       "1                     120        25-Aug-2017            9:53:39          NaN   \n",
       "2                     120        25-Aug-2017            9:41:15          NaN   \n",
       "3                       0        23-Aug-2017           20:40:49          NaN   \n",
       "4                       0        23-Aug-2017           20:40:49          NaN   \n",
       "5                       0        23-Aug-2017           20:40:49          NaN   \n",
       "6                     120        23-Aug-2017           20:39:43          NaN   \n",
       "7                     220        17-Aug-2017           20:43:48          NaN   \n",
       "8                       5        12-Aug-2017           21:22:24          NaN   \n",
       "9                      10        12-Aug-2017           21:07:16          NaN   \n",
       "10                     35        11-Aug-2017           22:52:17          NaN   \n",
       "11                     10        11-Aug-2017           11:55:42          NaN   \n",
       "12                     15        10-Aug-2017            9:59:15          NaN   \n",
       "13                      5        10-Aug-2017            9:58:48          NaN   \n",
       "14                      5        10-Aug-2017            9:58:26          NaN   \n",
       "15                     10        10-Aug-2017            9:57:28          NaN   \n",
       "16                     45        10-Aug-2017            9:56:36          NaN   \n",
       "17                     40         9-Aug-2017           20:37:07          NaN   \n",
       "18                     10         9-Aug-2017           20:36:40          NaN   \n",
       "19                     15         9-Aug-2017           20:27:33          NaN   \n",
       "20                    105         9-Aug-2017           18:42:07          NaN   \n",
       "21                     25         9-Aug-2017           18:42:01          NaN   \n",
       "22                     15         9-Aug-2017           18:40:53          NaN   \n",
       "23                    105         9-Aug-2017           18:40:08          NaN   \n",
       "24                     35         9-Aug-2017           18:39:49          NaN   \n",
       "25                     15         9-Aug-2017           18:31:24          NaN   \n",
       "26                     10         9-Aug-2017           18:30:58          NaN   \n",
       "27                    120         9-Aug-2017           17:55:06          NaN   \n",
       "28                     15         9-Aug-2017           17:00:51          NaN   \n",
       "29                     40         9-Aug-2017           17:00:03          NaN   \n",
       "30                     55         9-Aug-2017           16:55:07          NaN   \n",
       "31                     55         9-Aug-2017           16:53:31          NaN   \n",
       "32                      0         9-Aug-2017           16:51:32          NaN   \n",
       "33                     40         9-Aug-2017           16:50:58          NaN   \n",
       "34                     10         9-Aug-2017           16:49:26          NaN   \n",
       "\n",
       "                   unnamed:_15  \n",
       "0                          NaN  \n",
       "1              SWIFT CODES JPY  \n",
       "2   Q1FY17 Press Release_Final  \n",
       "3         GIB Knowledge Series  \n",
       "4                          NaN  \n",
       "5                          NaN  \n",
       "6                          NaN  \n",
       "7         GIB Knowledge Series  \n",
       "8                          NaN  \n",
       "9                          NaN  \n",
       "10                         NaN  \n",
       "11                         NaN  \n",
       "12                         NaN  \n",
       "13                         NaN  \n",
       "14                         NaN  \n",
       "15                         NaN  \n",
       "16                         NaN  \n",
       "17                         NaN  \n",
       "18                         NaN  \n",
       "19                         NaN  \n",
       "20                         NaN  \n",
       "21                 User Manual  \n",
       "22           Feedback Form - I  \n",
       "23                         NaN  \n",
       "24                         NaN  \n",
       "25                         NaN  \n",
       "26                         NaN  \n",
       "27                         NaN  \n",
       "28                         NaN  \n",
       "29                         NaN  \n",
       "30                         NaN  \n",
       "31                         NaN  \n",
       "32                         NaN  \n",
       "33                         NaN  \n",
       "34                         NaN  "
      ]
     },
     "execution_count": 52,
     "metadata": {},
     "output_type": "execute_result"
    }
   ],
   "source": [
    "df.head(35)"
   ]
  },
  {
   "cell_type": "markdown",
   "metadata": {},
   "source": [
    "# EDA & Feature Engineering"
   ]
  },
  {
   "cell_type": "code",
   "execution_count": 53,
   "metadata": {
    "collapsed": false
   },
   "outputs": [
    {
     "data": {
      "text/plain": [
       "array(['MAC_OS_X_IPHONE', nan, 'ANDROID4', 'ANDROID6', 'ANDROID_MOBILE',\n",
       "       'ANDROID5', 'WINDOWS_10', 'WINDOWS_7', 'iOS9_IPHONE', 'MAC_OS_X'], dtype=object)"
      ]
     },
     "execution_count": 53,
     "metadata": {},
     "output_type": "execute_result"
    }
   ],
   "source": [
    "df.user_os.unique()\n"
   ]
  },
  {
   "cell_type": "code",
   "execution_count": 54,
   "metadata": {
    "collapsed": false
   },
   "outputs": [],
   "source": [
    "df.rename(columns={'user_os': 'viewing_device'}, inplace=True)\n",
    "df[\"viewing_device\"].replace({\"WINDOWS_7\" : \"Laptop/Desktop\", \"WINDOWS_10\" : \"Laptop/Desktop\", \"MAC_OS_X\" : \"Laptop/Desktop\"}, inplace = True)\n",
    "df[\"viewing_device\"].replace({\"ANDROID_MOBILE\" : \"Phone\", \"ANDROID6\" : \"Phone\", \"ANDROID4\" : \"Phone\", \"ANDROID5\" : \"Phone\", \"MAC_OS_X_IPHONE\" : \"Phone\", \"iOS9_IPHONE\" : \"Phone\", \"iOS8_1_IPHONE\" : \"Phone\", \"iOS8_3_IPHONE\" : \"Phone\", \"iOS9_IPHONE\" : \"Phone\"}, inplace=True)"
   ]
  },
  {
   "cell_type": "code",
   "execution_count": 55,
   "metadata": {
    "collapsed": false
   },
   "outputs": [
    {
     "data": {
      "text/plain": [
       "array(['APPLE_WEB_KIT', nan, 'CHROME_MOBILE', 'MOBILE_SAFARI', 'CHROME'], dtype=object)"
      ]
     },
     "execution_count": 55,
     "metadata": {},
     "output_type": "execute_result"
    }
   ],
   "source": [
    "df.viewing_app.unique()"
   ]
  },
  {
   "cell_type": "code",
   "execution_count": 56,
   "metadata": {
    "collapsed": false
   },
   "outputs": [
    {
     "data": {
      "text/plain": [
       "array(['SAFARI', nan, 'CHROME_MOBILE', 'MOBILE_SAFARI', 'CHROME'], dtype=object)"
      ]
     },
     "execution_count": 56,
     "metadata": {},
     "output_type": "execute_result"
    }
   ],
   "source": [
    "df.rename(columns={'viewing_app': 'browser'}, inplace=True)\n",
    "df[\"browser\"].replace({\"CHROME45\" : \"CHROME\", \"CHROME51\" : \"CHROME\", \"CHROME33\" : \"CHROME\", \"CHROME30\" : \"CHROME\", \"CHROME47\" : \"CHROME\", \"CHROME49\" : \"CHROME\", \"CHROME42\" : \"CHROME\", \"CHROME48\" : \"CHROME\", \"CHROME38\" : \"CHROME\", \"FIREFOX44\" : \"FIREFOX\", \"FIREFOX47\" : \"FIREFOX\", \"FIREFOX43\" : \"FIREFOX\", \"FIREFOX37\" : \"FIREFOX\", \"EDGE12\" : \"EDGE\"}, inplace = True)\n",
    "df[\"browser\"].replace({\"EDGE13\" : \"EDGE\", \"EDGE14\" : \"EDGE\", \"IE7\" : \"IE\", \"IE10\" : \"IE\", \"IE11\" : \"IE\", \"SAFARI9\" : \"SAFARI\", \"APPLE_WEB_KIT\" : \"SAFARI\"}, inplace=True)\n",
    "df.browser.unique()"
   ]
  },
  {
   "cell_type": "code",
   "execution_count": 57,
   "metadata": {
    "collapsed": false
   },
   "outputs": [],
   "source": [
    "df[\"shared_date\"] = pd.to_datetime(df[\"shared_date\"], format=\"%d-%b-%Y\")"
   ]
  },
  {
   "cell_type": "code",
   "execution_count": 58,
   "metadata": {
    "collapsed": false
   },
   "outputs": [],
   "source": [
    "df[\"last_activity_date\"] = pd.to_datetime(df[\"last_activity_date\"], format=\"%d-%b-%Y\")"
   ]
  },
  {
   "cell_type": "code",
   "execution_count": 59,
   "metadata": {
    "collapsed": false
   },
   "outputs": [],
   "source": [
    "df['weekday'] = df['last_activity_date'].dt.dayofweek\n",
    "df[\"weekday_name\"] = df['last_activity_date'].dt.weekday_name\n",
    "df[\"month\"] = df['last_activity_date'].dt.month\n",
    "df[\"time_of_day\"] = pd.to_datetime(df['last_activity_time'], format='%H:%M:%S').dt.hour"
   ]
  },
  {
   "cell_type": "code",
   "execution_count": 60,
   "metadata": {
    "collapsed": false
   },
   "outputs": [
    {
     "data": {
      "text/plain": [
       "array([4, 2, 3, 1])"
      ]
     },
     "execution_count": 60,
     "metadata": {},
     "output_type": "execute_result"
    }
   ],
   "source": [
    "# 1: Night(Midnight to 6 am), 2: Morning(6 am to Noon), 3: Afternoon(Noon to 6 pm), 4: Evening(6 pm to Midnight)\n",
    "df[\"time_of_day\"].replace({0 : 1, 2 : 1, 3 : 1, 4 : 1, 5 : 1}, inplace = True)\n",
    "df[\"time_of_day\"].replace({6 : 2, 7 : 2, 8 : 2, 9 : 2, 10 : 2, 11 : 2}, inplace = True)\n",
    "df[\"time_of_day\"].replace({12 : 3, 13 : 3, 14 : 3, 15 : 3, 16 : 3, 17 : 3}, inplace = True)\n",
    "df[\"time_of_day\"].replace({18 : 4, 19 : 4, 20 : 4, 21 : 4, 22 : 4, 23 : 4,}, inplace = True)\n",
    "df.time_of_day.unique()"
   ]
  },
  {
   "cell_type": "code",
   "execution_count": 61,
   "metadata": {
    "collapsed": false
   },
   "outputs": [],
   "source": [
    "df['hour'] = pd.to_datetime(df['last_activity_time'], format='%H:%M:%S').dt.hour"
   ]
  },
  {
   "cell_type": "code",
   "execution_count": 62,
   "metadata": {
    "collapsed": false
   },
   "outputs": [
    {
     "data": {
      "text/plain": [
       "array([1, 0])"
      ]
     },
     "execution_count": 62,
     "metadata": {},
     "output_type": "execute_result"
    }
   ],
   "source": [
    "df.viewed.unique()"
   ]
  },
  {
   "cell_type": "code",
   "execution_count": 63,
   "metadata": {
    "collapsed": true
   },
   "outputs": [],
   "source": [
    "df[\"time_spent_mins\"] = df[\"time_spent_in_seconds\"]/60."
   ]
  },
  {
   "cell_type": "code",
   "execution_count": 64,
   "metadata": {
    "collapsed": false
   },
   "outputs": [],
   "source": [
    "hour_grouped = df.groupby(\"time_of_day\")[\"time_spent_mins\"].sum()"
   ]
  },
  {
   "cell_type": "code",
   "execution_count": 65,
   "metadata": {
    "collapsed": false
   },
   "outputs": [],
   "source": [
    "# plot = plt.bar(xrange(0,4),(df.groupby(\"time_of_day\")[\"time_spent_mins\"].sum()))\n",
    "# plt.xticks(xrange(0,4),[\"Night\", \"Morning\", \"Afternoon\", \"Evening\"])\n"
   ]
  },
  {
   "cell_type": "code",
   "execution_count": 66,
   "metadata": {
    "collapsed": false
   },
   "outputs": [
    {
     "data": {
      "text/plain": [
       "538"
      ]
     },
     "execution_count": 66,
     "metadata": {},
     "output_type": "execute_result"
    }
   ],
   "source": [
    "#sns.distplot(df[\"time_spent_mins\"], color=\"m\")\n",
    "len(df)"
   ]
  },
  {
   "cell_type": "code",
   "execution_count": 67,
   "metadata": {
    "collapsed": false
   },
   "outputs": [
    {
     "data": {
      "text/plain": [
       "525"
      ]
     },
     "execution_count": 67,
     "metadata": {},
     "output_type": "execute_result"
    },
    {
     "data": {
      "image/png": "[encoded data removed]",
      "text/plain": [
       "<matplotlib.figure.Figure at 0x118152610>"
      ]
     },
     "metadata": {},
     "output_type": "display_data"
    }
   ],
   "source": [
    "df = df[df[\"time_spent_mins\"] <= 4]\n",
    "plot = plt.hist(df[\"time_spent_mins\"])\n",
    "#plt.boxplot(new_df[\"time_spent_mins\"])\n",
    "\n",
    "len(df) \n",
    "# 1917 (22% reduced)\n",
    "#sns.distplot(new_df[\"time_spent_mins\"], color=\"g\")"
   ]
  },
  {
   "cell_type": "code",
   "execution_count": 68,
   "metadata": {
    "collapsed": true
   },
   "outputs": [],
   "source": [
    "temp = 0\n",
    "for index, row in df.iterrows():\n",
    "    if row[\"activity_type\"] == \"SHARE\":\n",
    "        temp = row[\"shared_date\"]\n",
    "    else:\n",
    "        if temp == 0:\n",
    "            row[\"shared_date\"] = row[\"last_activity_date\"]\n",
    "        else:\n",
    "            row[\"shared_date\"] = temp         "
   ]
  },
  {
   "cell_type": "code",
   "execution_count": 69,
   "metadata": {
    "collapsed": true
   },
   "outputs": [],
   "source": [
    "df['num_of_day_from_share_view'] = (df[\"last_activity_date\"] - df[\"shared_date\"]).astype(dt.timedelta).map(lambda x: 0 if pd.isnull(x) else x.days)\n"
   ]
  },
  {
   "cell_type": "code",
   "execution_count": 70,
   "metadata": {
    "collapsed": false
   },
   "outputs": [],
   "source": [
    "df = df[df['num_of_day_from_share_view']<2]"
   ]
  },
  {
   "cell_type": "code",
   "execution_count": 71,
   "metadata": {
    "collapsed": false
   },
   "outputs": [
    {
     "data": {
      "text/plain": [
       "520"
      ]
     },
     "execution_count": 71,
     "metadata": {},
     "output_type": "execute_result"
    }
   ],
   "source": [
    "len(df)"
   ]
  },
  {
   "cell_type": "markdown",
   "metadata": {},
   "source": [
    "# SHARE DATA ANALYSIS"
   ]
  },
  {
   "cell_type": "code",
   "execution_count": 72,
   "metadata": {
    "collapsed": false
   },
   "outputs": [
    {
     "data": {
      "text/plain": [
       "Index([u'activity_type', u'user_id', u'rm_id', u'viewing_device', u'browser',\n",
       "       u'user_groups', u'shared_date', u'shared_time', u'title_of_content',\n",
       "       u'share_channel', u'viewed', u'time_spent_in_seconds',\n",
       "       u'last_activity_date', u'last_activity_time', u'unnamed:_14',\n",
       "       u'unnamed:_15', u'weekday', u'weekday_name', u'month', u'time_of_day',\n",
       "       u'hour', u'time_spent_mins', u'num_of_day_from_share_view'],\n",
       "      dtype='object')"
      ]
     },
     "execution_count": 72,
     "metadata": {},
     "output_type": "execute_result"
    }
   ],
   "source": [
    "share_df = df[df.activity_type == \"SHARE\"]\n",
    "share_df.columns"
   ]
  },
  {
   "cell_type": "code",
   "execution_count": 73,
   "metadata": {
    "collapsed": false
   },
   "outputs": [],
   "source": [
    "y_time_spent = share_df.groupby(\"weekday\")[\"time_spent_mins\"].sum()"
   ]
  },
  {
   "cell_type": "code",
   "execution_count": 74,
   "metadata": {
    "collapsed": false
   },
   "outputs": [
    {
     "data": {
      "text/plain": [
       "<Container object of 3 artists>"
      ]
     },
     "execution_count": 74,
     "metadata": {},
     "output_type": "execute_result"
    },
    {
     "data": {
      "image/png": "[encoded data removed]",
      "text/plain": [
       "<matplotlib.figure.Figure at 0x1183011d0>"
      ]
     },
     "metadata": {},
     "output_type": "display_data"
    }
   ],
   "source": [
    "plt.bar(xrange(0,len(share_df.groupby(\"month\")[\"rm_id\"].count())), share_df.groupby(\"month\")[\"rm_id\"].count())"
   ]
  },
  {
   "cell_type": "code",
   "execution_count": 75,
   "metadata": {
    "collapsed": false
   },
   "outputs": [],
   "source": [
    "#sns.stripplot(x=share_df[\"weekday_name\"], y=share_df[\"time_spent_mins\"], data=share_df, jitter=True)"
   ]
  },
  {
   "cell_type": "code",
   "execution_count": 76,
   "metadata": {
    "collapsed": false
   },
   "outputs": [
    {
     "data": {
      "text/plain": [
       "(29, 4.413793103448276)"
      ]
     },
     "execution_count": 76,
     "metadata": {},
     "output_type": "execute_result"
    }
   ],
   "source": [
    "len(share_df.rm_id.unique()), len(share_df)/float(len(share_df.rm_id.unique()))"
   ]
  },
  {
   "cell_type": "code",
   "execution_count": 77,
   "metadata": {
    "collapsed": false
   },
   "outputs": [
    {
     "data": {
      "text/plain": [
       "(128, 94)"
      ]
     },
     "execution_count": 77,
     "metadata": {},
     "output_type": "execute_result"
    }
   ],
   "source": [
    "len(share_df), len(share_df.user_id.unique())"
   ]
  },
  {
   "cell_type": "code",
   "execution_count": 78,
   "metadata": {
    "collapsed": false
   },
   "outputs": [
    {
     "data": {
      "text/plain": [
       "(array([ 21.,   5.,   2.,   0.,   0.,   0.,   0.,   0.,   0.,   1.]),\n",
       " array([  1. ,   4.4,   7.8,  11.2,  14.6,  18. ,  21.4,  24.8,  28.2,\n",
       "         31.6,  35. ]),\n",
       " <a list of 10 Patch objects>)"
      ]
     },
     "execution_count": 78,
     "metadata": {},
     "output_type": "execute_result"
    },
    {
     "data": {
      "image/png": "[encoded data removed]",
      "text/plain": [
       "<matplotlib.figure.Figure at 0x1141bbfd0>"
      ]
     },
     "metadata": {},
     "output_type": "display_data"
    }
   ],
   "source": [
    "from collections import Counter\n",
    "user_id_list_sh = [j.rm_id for i,j in df.iterrows() if j[\"activity_type\"] == \"SHARE\"]\n",
    "num_shares_dict = Counter(user_id_list_sh)\n",
    "num_shares_dict, len(num_shares_dict)\n",
    "num_shares = [v for k,v in num_shares_dict.iteritems()]\n",
    "# len(num_shares),\n",
    "plt.hist(num_shares)"
   ]
  },
  {
   "cell_type": "code",
   "execution_count": 79,
   "metadata": {
    "collapsed": false
   },
   "outputs": [],
   "source": [
    "# sns.distplot(share_df[\"num_of_day_from_share_view\"], color=\"m\")"
   ]
  },
  {
   "cell_type": "code",
   "execution_count": 80,
   "metadata": {
    "collapsed": false
   },
   "outputs": [
    {
     "data": {
      "text/plain": [
       "(array([ 125.,    0.,    0.,    0.,    0.,    0.,    0.,    0.,    0.,    3.]),\n",
       " array([ 0. ,  0.1,  0.2,  0.3,  0.4,  0.5,  0.6,  0.7,  0.8,  0.9,  1. ]),\n",
       " <a list of 10 Patch objects>)"
      ]
     },
     "execution_count": 80,
     "metadata": {},
     "output_type": "execute_result"
    },
    {
     "data": {
      "image/png": "[encoded data removed]",
      "text/plain": [
       "<matplotlib.figure.Figure at 0x117bf0ed0>"
      ]
     },
     "metadata": {},
     "output_type": "display_data"
    }
   ],
   "source": [
    "import pylab as pl\n",
    "h = sorted(share_df[\"num_of_day_from_share_view\"])  #sorted\n",
    "\n",
    "fit = norm.pdf(h, np.mean(h), np.std(h))  #this is a fitting indeed\n",
    "\n",
    "pl.plot(h,fit,'-o')\n",
    "\n",
    "pl.hist(h)"
   ]
  },
  {
   "cell_type": "code",
   "execution_count": 81,
   "metadata": {
    "collapsed": false
   },
   "outputs": [
    {
     "data": {
      "text/html": [
       "<div>\n",
       "<style>\n",
       "    .dataframe thead tr:only-child th {\n",
       "        text-align: right;\n",
       "    }\n",
       "\n",
       "    .dataframe thead th {\n",
       "        text-align: left;\n",
       "    }\n",
       "\n",
       "    .dataframe tbody tr th {\n",
       "        vertical-align: top;\n",
       "    }\n",
       "</style>\n",
       "<table border=\"1\" class=\"dataframe\">\n",
       "  <thead>\n",
       "    <tr style=\"text-align: right;\">\n",
       "      <th></th>\n",
       "      <th>user_id</th>\n",
       "      <th>rm_id</th>\n",
       "      <th>viewed</th>\n",
       "      <th>time_spent_in_seconds</th>\n",
       "      <th>unnamed:_14</th>\n",
       "      <th>weekday</th>\n",
       "      <th>month</th>\n",
       "      <th>time_of_day</th>\n",
       "      <th>hour</th>\n",
       "      <th>time_spent_mins</th>\n",
       "      <th>num_of_day_from_share_view</th>\n",
       "    </tr>\n",
       "  </thead>\n",
       "  <tbody>\n",
       "    <tr>\n",
       "      <th>count</th>\n",
       "      <td>1.280000e+02</td>\n",
       "      <td>1.280000e+02</td>\n",
       "      <td>128.000000</td>\n",
       "      <td>128.000000</td>\n",
       "      <td>0.0</td>\n",
       "      <td>128.000000</td>\n",
       "      <td>128.00000</td>\n",
       "      <td>128.000000</td>\n",
       "      <td>128.000000</td>\n",
       "      <td>128.000000</td>\n",
       "      <td>128.000000</td>\n",
       "    </tr>\n",
       "    <tr>\n",
       "      <th>mean</th>\n",
       "      <td>1.054380e+06</td>\n",
       "      <td>1.002425e+06</td>\n",
       "      <td>0.546875</td>\n",
       "      <td>32.187500</td>\n",
       "      <td>NaN</td>\n",
       "      <td>2.968750</td>\n",
       "      <td>6.65625</td>\n",
       "      <td>2.898438</td>\n",
       "      <td>13.875000</td>\n",
       "      <td>0.536458</td>\n",
       "      <td>0.023438</td>\n",
       "    </tr>\n",
       "    <tr>\n",
       "      <th>std</th>\n",
       "      <td>1.856837e+03</td>\n",
       "      <td>2.228917e+05</td>\n",
       "      <td>0.499754</td>\n",
       "      <td>45.807497</td>\n",
       "      <td>NaN</td>\n",
       "      <td>1.345377</td>\n",
       "      <td>0.89123</td>\n",
       "      <td>0.637908</td>\n",
       "      <td>3.634914</td>\n",
       "      <td>0.763458</td>\n",
       "      <td>0.151883</td>\n",
       "    </tr>\n",
       "    <tr>\n",
       "      <th>min</th>\n",
       "      <td>1.050918e+06</td>\n",
       "      <td>1.286000e+03</td>\n",
       "      <td>0.000000</td>\n",
       "      <td>0.000000</td>\n",
       "      <td>NaN</td>\n",
       "      <td>0.000000</td>\n",
       "      <td>6.00000</td>\n",
       "      <td>1.000000</td>\n",
       "      <td>0.000000</td>\n",
       "      <td>0.000000</td>\n",
       "      <td>0.000000</td>\n",
       "    </tr>\n",
       "    <tr>\n",
       "      <th>25%</th>\n",
       "      <td>1.052969e+06</td>\n",
       "      <td>1.050918e+06</td>\n",
       "      <td>0.000000</td>\n",
       "      <td>0.000000</td>\n",
       "      <td>NaN</td>\n",
       "      <td>2.000000</td>\n",
       "      <td>6.00000</td>\n",
       "      <td>3.000000</td>\n",
       "      <td>12.000000</td>\n",
       "      <td>0.000000</td>\n",
       "      <td>0.000000</td>\n",
       "    </tr>\n",
       "    <tr>\n",
       "      <th>50%</th>\n",
       "      <td>1.053642e+06</td>\n",
       "      <td>1.051915e+06</td>\n",
       "      <td>1.000000</td>\n",
       "      <td>7.500000</td>\n",
       "      <td>NaN</td>\n",
       "      <td>4.000000</td>\n",
       "      <td>6.00000</td>\n",
       "      <td>3.000000</td>\n",
       "      <td>14.000000</td>\n",
       "      <td>0.125000</td>\n",
       "      <td>0.000000</td>\n",
       "    </tr>\n",
       "    <tr>\n",
       "      <th>75%</th>\n",
       "      <td>1.055088e+06</td>\n",
       "      <td>1.051973e+06</td>\n",
       "      <td>1.000000</td>\n",
       "      <td>55.000000</td>\n",
       "      <td>NaN</td>\n",
       "      <td>4.000000</td>\n",
       "      <td>8.00000</td>\n",
       "      <td>3.000000</td>\n",
       "      <td>16.000000</td>\n",
       "      <td>0.916667</td>\n",
       "      <td>0.000000</td>\n",
       "    </tr>\n",
       "    <tr>\n",
       "      <th>max</th>\n",
       "      <td>1.057837e+06</td>\n",
       "      <td>1.052349e+06</td>\n",
       "      <td>1.000000</td>\n",
       "      <td>210.000000</td>\n",
       "      <td>NaN</td>\n",
       "      <td>6.000000</td>\n",
       "      <td>8.00000</td>\n",
       "      <td>4.000000</td>\n",
       "      <td>23.000000</td>\n",
       "      <td>3.500000</td>\n",
       "      <td>1.000000</td>\n",
       "    </tr>\n",
       "  </tbody>\n",
       "</table>\n",
       "</div>"
      ],
      "text/plain": [
       "            user_id         rm_id      viewed  time_spent_in_seconds  \\\n",
       "count  1.280000e+02  1.280000e+02  128.000000             128.000000   \n",
       "mean   1.054380e+06  1.002425e+06    0.546875              32.187500   \n",
       "std    1.856837e+03  2.228917e+05    0.499754              45.807497   \n",
       "min    1.050918e+06  1.286000e+03    0.000000               0.000000   \n",
       "25%    1.052969e+06  1.050918e+06    0.000000               0.000000   \n",
       "50%    1.053642e+06  1.051915e+06    1.000000               7.500000   \n",
       "75%    1.055088e+06  1.051973e+06    1.000000              55.000000   \n",
       "max    1.057837e+06  1.052349e+06    1.000000             210.000000   \n",
       "\n",
       "       unnamed:_14     weekday      month  time_of_day        hour  \\\n",
       "count          0.0  128.000000  128.00000   128.000000  128.000000   \n",
       "mean           NaN    2.968750    6.65625     2.898438   13.875000   \n",
       "std            NaN    1.345377    0.89123     0.637908    3.634914   \n",
       "min            NaN    0.000000    6.00000     1.000000    0.000000   \n",
       "25%            NaN    2.000000    6.00000     3.000000   12.000000   \n",
       "50%            NaN    4.000000    6.00000     3.000000   14.000000   \n",
       "75%            NaN    4.000000    8.00000     3.000000   16.000000   \n",
       "max            NaN    6.000000    8.00000     4.000000   23.000000   \n",
       "\n",
       "       time_spent_mins  num_of_day_from_share_view  \n",
       "count       128.000000                  128.000000  \n",
       "mean          0.536458                    0.023438  \n",
       "std           0.763458                    0.151883  \n",
       "min           0.000000                    0.000000  \n",
       "25%           0.000000                    0.000000  \n",
       "50%           0.125000                    0.000000  \n",
       "75%           0.916667                    0.000000  \n",
       "max           3.500000                    1.000000  "
      ]
     },
     "execution_count": 81,
     "metadata": {},
     "output_type": "execute_result"
    }
   ],
   "source": [
    "share_df.describe()"
   ]
  },
  {
   "cell_type": "code",
   "execution_count": 82,
   "metadata": {
    "collapsed": false
   },
   "outputs": [
    {
     "data": {
      "text/plain": [
       "<module 'pylab' from '/Users/urmimukherjee/anaconda2/lib/python2.7/site-packages/pylab.pyc'>"
      ]
     },
     "execution_count": 82,
     "metadata": {},
     "output_type": "execute_result"
    },
    {
     "data": {
      "image/png": "[encoded data removed]",
      "text/plain": [
       "<matplotlib.figure.Figure at 0x117be4710>"
      ]
     },
     "metadata": {},
     "output_type": "display_data"
    }
   ],
   "source": [
    "import pylab as pl\n",
    "days_share_view = share_df[share_df[\"num_of_day_from_share_view\"]<=7]\n",
    "len(share_df),len(days_share_view)\n",
    "h = sorted(days_share_view[\"num_of_day_from_share_view\"]) #sorted\n",
    "\n",
    "# fit = norm.pdf(h, np.mean(h), np.std(h))  #this is a fitting indeed\n",
    "\n",
    "# pl.plot(h,fit,'-o')\n",
    "\n",
    "pl.hist(h)\n",
    "pl"
   ]
  },
  {
   "cell_type": "code",
   "execution_count": 83,
   "metadata": {
    "collapsed": false
   },
   "outputs": [
    {
     "data": {
      "text/plain": [
       "(128, 128)"
      ]
     },
     "execution_count": 83,
     "metadata": {},
     "output_type": "execute_result"
    }
   ],
   "source": [
    "len(share_df),len(days_share_view)"
   ]
  },
  {
   "cell_type": "code",
   "execution_count": 84,
   "metadata": {
    "collapsed": false
   },
   "outputs": [],
   "source": [
    "# uniq_titles = np.sort(share_df.title_of_content.unique())\n",
    "# uniq_title_num_share = share_df.groupby(\"title_of_content\")[\"activity_type\"].count()\n",
    "# #uniq_titles \n",
    "# uniq_title_num_share"
   ]
  },
  {
   "cell_type": "code",
   "execution_count": 85,
   "metadata": {
    "collapsed": false
   },
   "outputs": [],
   "source": [
    "# import pylab as pl\n",
    "# h = sorted(share_df[\"time_spent_mins\"])  #sorted\n",
    "\n",
    "# fit = norm.pdf(h, np.mean(h), np.std(h))  #this is a fitting indeed\n",
    "\n",
    "# pl.plot(h,fit,'-o')\n",
    "\n",
    "# pl.hist(h,normed=True)\n"
   ]
  },
  {
   "cell_type": "code",
   "execution_count": 86,
   "metadata": {
    "collapsed": false
   },
   "outputs": [],
   "source": [
    "#share_df[\"weekday\"].plot.kde()"
   ]
  },
  {
   "cell_type": "code",
   "execution_count": 87,
   "metadata": {
    "collapsed": false
   },
   "outputs": [],
   "source": [
    "# plot = plt.bar(xrange(0,7),(share_df.groupby(\"weekday\")[\"time_spent_mins\"].sum()))\n",
    "# plt.xticks(xrange(0,7),[\"Sunday\", \"Monday\", \"Tuesday\", \"Wednesday\", \"Thursday\", \"Friday\", \"Saturday\"])\n",
    "# share_weekday = share_df.groupby(\"weekday\")[\"time_spent_mins\"].sum()"
   ]
  },
  {
   "cell_type": "code",
   "execution_count": 88,
   "metadata": {
    "collapsed": false
   },
   "outputs": [],
   "source": [
    "# plot = plt.bar(xrange(0,7),(share_df.groupby(\"month\")[\"time_spent_mins\"].sum()))\n",
    "# plt.xticks(xrange(0,7),[\"Feb\", \"Mar\", \"Apr\", \"May\", \"Jun\", \"Jul\", \"Aug\"])"
   ]
  },
  {
   "cell_type": "code",
   "execution_count": 89,
   "metadata": {
    "collapsed": false
   },
   "outputs": [],
   "source": [
    "# import pylab as pl\n",
    "# new_share = share_df[share_df[\"time_spent_mins\"]<=8]\n",
    "# h = sorted(new_share[\"time_spent_mins\"])  #sorted\n",
    "\n",
    "# fit = norm.pdf(h, np.mean(h), np.std(h))  #this is a fitting indeed\n",
    "\n",
    "# pl.plot(h,fit,'-o')\n",
    "# pl.axvline(x=np.mean(h)+np.std(h),color='r', linestyle='--')\n",
    "# pl.axvline(x=np.mean(h)-np.std(h),color='r', linestyle='--')\n",
    "# pl.hist(h,normed=True)\n"
   ]
  },
  {
   "cell_type": "code",
   "execution_count": 90,
   "metadata": {
    "collapsed": false
   },
   "outputs": [],
   "source": [
    "#h = plt.hist(share_df.time_spent_mins)"
   ]
  },
  {
   "cell_type": "code",
   "execution_count": 91,
   "metadata": {
    "collapsed": false
   },
   "outputs": [
    {
     "data": {
      "text/plain": [
       "array(['ANDROID', 'IOS', 'WEB'], dtype=object)"
      ]
     },
     "execution_count": 91,
     "metadata": {},
     "output_type": "execute_result"
    }
   ],
   "source": [
    "#sns.stripplot(x=\"share_channel\", y=\"time_spent_mins\", data=share_df)\n",
    "df.share_channel.unique()\n",
    "share_df.share_channel.unique()"
   ]
  },
  {
   "cell_type": "code",
   "execution_count": 94,
   "metadata": {
    "collapsed": false
   },
   "outputs": [
    {
     "data": {
      "text/plain": [
       "([<matplotlib.axis.XTick at 0x118950250>,\n",
       "  <matplotlib.axis.XTick at 0x1186bed90>,\n",
       "  <matplotlib.axis.XTick at 0x118813790>],\n",
       " <a list of 2 Text xticklabel objects>)"
      ]
     },
     "execution_count": 94,
     "metadata": {},
     "output_type": "execute_result"
    },
    {
     "data": {
      "image/png": "[encoded data removed]",
      "text/plain": [
       "<matplotlib.figure.Figure at 0x117e92110>"
      ]
     },
     "metadata": {},
     "output_type": "display_data"
    }
   ],
   "source": [
    "plt.bar(xrange(0,len(share_df.groupby(\"share_channel\")[\"time_spent_mins\"].count())),(share_df.groupby(\"share_channel\")[\"time_spent_mins\"].count()))\n",
    "plt.xticks(xrange(0,3),[\"ANDROID\",\"WEB\"])\n",
    "# plt.xlabel(\"Share Channel\")\n",
    "# plt.ylabel(\"Number of Shares\")\n",
    "# plt.title(\"TW - Num Shares Vs Share Channel\")"
   ]
  },
  {
   "cell_type": "code",
   "execution_count": 95,
   "metadata": {
    "collapsed": false
   },
   "outputs": [],
   "source": [
    "#sns.stripplot(x=\"time_of_day\", y=\"time_spent_mins\", data=share_df)\n"
   ]
  },
  {
   "cell_type": "markdown",
   "metadata": {},
   "source": [
    "# VIEW DATA ANALYSIS"
   ]
  },
  {
   "cell_type": "code",
   "execution_count": 96,
   "metadata": {
    "collapsed": false
   },
   "outputs": [
    {
     "data": {
      "text/html": [
       "<div>\n",
       "<style>\n",
       "    .dataframe thead tr:only-child th {\n",
       "        text-align: right;\n",
       "    }\n",
       "\n",
       "    .dataframe thead th {\n",
       "        text-align: left;\n",
       "    }\n",
       "\n",
       "    .dataframe tbody tr th {\n",
       "        vertical-align: top;\n",
       "    }\n",
       "</style>\n",
       "<table border=\"1\" class=\"dataframe\">\n",
       "  <thead>\n",
       "    <tr style=\"text-align: right;\">\n",
       "      <th></th>\n",
       "      <th>user_id</th>\n",
       "      <th>viewed</th>\n",
       "      <th>time_spent_in_seconds</th>\n",
       "      <th>unnamed:_14</th>\n",
       "      <th>weekday</th>\n",
       "      <th>month</th>\n",
       "      <th>time_of_day</th>\n",
       "      <th>hour</th>\n",
       "      <th>time_spent_mins</th>\n",
       "      <th>num_of_day_from_share_view</th>\n",
       "    </tr>\n",
       "  </thead>\n",
       "  <tbody>\n",
       "    <tr>\n",
       "      <th>count</th>\n",
       "      <td>3.920000e+02</td>\n",
       "      <td>392.0</td>\n",
       "      <td>392.000000</td>\n",
       "      <td>0.0</td>\n",
       "      <td>392.000000</td>\n",
       "      <td>392.000000</td>\n",
       "      <td>392.000000</td>\n",
       "      <td>392.000000</td>\n",
       "      <td>392.000000</td>\n",
       "      <td>392.0</td>\n",
       "    </tr>\n",
       "    <tr>\n",
       "      <th>mean</th>\n",
       "      <td>1.025904e+06</td>\n",
       "      <td>1.0</td>\n",
       "      <td>50.841837</td>\n",
       "      <td>NaN</td>\n",
       "      <td>3.318878</td>\n",
       "      <td>6.645408</td>\n",
       "      <td>2.915816</td>\n",
       "      <td>14.275510</td>\n",
       "      <td>0.847364</td>\n",
       "      <td>0.0</td>\n",
       "    </tr>\n",
       "    <tr>\n",
       "      <th>std</th>\n",
       "      <td>1.659983e+05</td>\n",
       "      <td>0.0</td>\n",
       "      <td>52.084974</td>\n",
       "      <td>NaN</td>\n",
       "      <td>1.384182</td>\n",
       "      <td>0.830542</td>\n",
       "      <td>0.822046</td>\n",
       "      <td>4.985976</td>\n",
       "      <td>0.868083</td>\n",
       "      <td>0.0</td>\n",
       "    </tr>\n",
       "    <tr>\n",
       "      <th>min</th>\n",
       "      <td>1.286000e+03</td>\n",
       "      <td>1.0</td>\n",
       "      <td>0.000000</td>\n",
       "      <td>NaN</td>\n",
       "      <td>0.000000</td>\n",
       "      <td>6.000000</td>\n",
       "      <td>1.000000</td>\n",
       "      <td>0.000000</td>\n",
       "      <td>0.000000</td>\n",
       "      <td>0.0</td>\n",
       "    </tr>\n",
       "    <tr>\n",
       "      <th>25%</th>\n",
       "      <td>1.051949e+06</td>\n",
       "      <td>1.0</td>\n",
       "      <td>10.000000</td>\n",
       "      <td>NaN</td>\n",
       "      <td>2.000000</td>\n",
       "      <td>6.000000</td>\n",
       "      <td>2.000000</td>\n",
       "      <td>11.000000</td>\n",
       "      <td>0.166667</td>\n",
       "      <td>0.0</td>\n",
       "    </tr>\n",
       "    <tr>\n",
       "      <th>50%</th>\n",
       "      <td>1.052001e+06</td>\n",
       "      <td>1.0</td>\n",
       "      <td>25.000000</td>\n",
       "      <td>NaN</td>\n",
       "      <td>4.000000</td>\n",
       "      <td>6.000000</td>\n",
       "      <td>3.000000</td>\n",
       "      <td>14.000000</td>\n",
       "      <td>0.416667</td>\n",
       "      <td>0.0</td>\n",
       "    </tr>\n",
       "    <tr>\n",
       "      <th>75%</th>\n",
       "      <td>1.052839e+06</td>\n",
       "      <td>1.0</td>\n",
       "      <td>85.000000</td>\n",
       "      <td>NaN</td>\n",
       "      <td>4.000000</td>\n",
       "      <td>7.000000</td>\n",
       "      <td>3.250000</td>\n",
       "      <td>17.250000</td>\n",
       "      <td>1.416667</td>\n",
       "      <td>0.0</td>\n",
       "    </tr>\n",
       "    <tr>\n",
       "      <th>max</th>\n",
       "      <td>1.057769e+06</td>\n",
       "      <td>1.0</td>\n",
       "      <td>240.000000</td>\n",
       "      <td>NaN</td>\n",
       "      <td>6.000000</td>\n",
       "      <td>8.000000</td>\n",
       "      <td>4.000000</td>\n",
       "      <td>23.000000</td>\n",
       "      <td>4.000000</td>\n",
       "      <td>0.0</td>\n",
       "    </tr>\n",
       "  </tbody>\n",
       "</table>\n",
       "</div>"
      ],
      "text/plain": [
       "            user_id  viewed  time_spent_in_seconds  unnamed:_14     weekday  \\\n",
       "count  3.920000e+02   392.0             392.000000          0.0  392.000000   \n",
       "mean   1.025904e+06     1.0              50.841837          NaN    3.318878   \n",
       "std    1.659983e+05     0.0              52.084974          NaN    1.384182   \n",
       "min    1.286000e+03     1.0               0.000000          NaN    0.000000   \n",
       "25%    1.051949e+06     1.0              10.000000          NaN    2.000000   \n",
       "50%    1.052001e+06     1.0              25.000000          NaN    4.000000   \n",
       "75%    1.052839e+06     1.0              85.000000          NaN    4.000000   \n",
       "max    1.057769e+06     1.0             240.000000          NaN    6.000000   \n",
       "\n",
       "            month  time_of_day        hour  time_spent_mins  \\\n",
       "count  392.000000   392.000000  392.000000       392.000000   \n",
       "mean     6.645408     2.915816   14.275510         0.847364   \n",
       "std      0.830542     0.822046    4.985976         0.868083   \n",
       "min      6.000000     1.000000    0.000000         0.000000   \n",
       "25%      6.000000     2.000000   11.000000         0.166667   \n",
       "50%      6.000000     3.000000   14.000000         0.416667   \n",
       "75%      7.000000     3.250000   17.250000         1.416667   \n",
       "max      8.000000     4.000000   23.000000         4.000000   \n",
       "\n",
       "       num_of_day_from_share_view  \n",
       "count                       392.0  \n",
       "mean                          0.0  \n",
       "std                           0.0  \n",
       "min                           0.0  \n",
       "25%                           0.0  \n",
       "50%                           0.0  \n",
       "75%                           0.0  \n",
       "max                           0.0  "
      ]
     },
     "execution_count": 96,
     "metadata": {},
     "output_type": "execute_result"
    }
   ],
   "source": [
    "view_df = df[(df.activity_type == \"VIEW\")]\n",
    "view_df = view_df.drop([\"share_channel\", \"user_groups\", \"shared_date\", \"shared_time\", \"rm_id\"], axis =1)\n",
    "view_df.describe()"
   ]
  },
  {
   "cell_type": "code",
   "execution_count": 97,
   "metadata": {
    "collapsed": false
   },
   "outputs": [
    {
     "data": {
      "text/plain": [
       "(392, 89)"
      ]
     },
     "execution_count": 97,
     "metadata": {},
     "output_type": "execute_result"
    }
   ],
   "source": [
    "len(view_df), len(view_df.user_id.unique())"
   ]
  },
  {
   "cell_type": "code",
   "execution_count": 98,
   "metadata": {
    "collapsed": false
   },
   "outputs": [
    {
     "data": {
      "text/plain": [
       "Index([u'activity_type', u'user_id', u'viewing_device', u'browser',\n",
       "       u'title_of_content', u'viewed', u'time_spent_in_seconds',\n",
       "       u'last_activity_date', u'last_activity_time', u'unnamed:_14',\n",
       "       u'unnamed:_15', u'weekday', u'weekday_name', u'month', u'time_of_day',\n",
       "       u'hour', u'time_spent_mins', u'num_of_day_from_share_view'],\n",
       "      dtype='object')"
      ]
     },
     "execution_count": 98,
     "metadata": {},
     "output_type": "execute_result"
    }
   ],
   "source": [
    "view_df.columns"
   ]
  },
  {
   "cell_type": "code",
   "execution_count": 99,
   "metadata": {
    "collapsed": false
   },
   "outputs": [
    {
     "data": {
      "text/plain": [
       "64"
      ]
     },
     "execution_count": 99,
     "metadata": {},
     "output_type": "execute_result"
    }
   ],
   "source": [
    "len(view_df.title_of_content.unique())\n"
   ]
  },
  {
   "cell_type": "code",
   "execution_count": 100,
   "metadata": {
    "collapsed": false
   },
   "outputs": [
    {
     "data": {
      "text/plain": [
       "(array([ 179.,   60.,   38.,   30.,   10.,   58.,    6.,    3.,    0.,    8.]),\n",
       " array([ 0. ,  0.4,  0.8,  1.2,  1.6,  2. ,  2.4,  2.8,  3.2,  3.6,  4. ]),\n",
       " <a list of 10 Patch objects>)"
      ]
     },
     "execution_count": 100,
     "metadata": {},
     "output_type": "execute_result"
    },
    {
     "data": {
      "image/png": "[encoded data removed]",
      "text/plain": [
       "<matplotlib.figure.Figure at 0x118827110>"
      ]
     },
     "metadata": {},
     "output_type": "display_data"
    }
   ],
   "source": [
    "plt.hist(view_df[\"time_spent_mins\"])"
   ]
  },
  {
   "cell_type": "code",
   "execution_count": 101,
   "metadata": {
    "collapsed": false
   },
   "outputs": [
    {
     "data": {
      "text/plain": [
       "3.0625"
      ]
     },
     "execution_count": 101,
     "metadata": {},
     "output_type": "execute_result"
    }
   ],
   "source": [
    "views_per_share = len(view_df)/float(len(share_df))\n",
    "views_per_share"
   ]
  },
  {
   "cell_type": "code",
   "execution_count": null,
   "metadata": {
    "collapsed": false
   },
   "outputs": [],
   "source": [
    "plt.hist(view_df[\"num_of_day_from_share_view\"])"
   ]
  },
  {
   "cell_type": "markdown",
   "metadata": {},
   "source": [
    "# NEW ANALYSIS -- Start"
   ]
  },
  {
   "cell_type": "code",
   "execution_count": null,
   "metadata": {
    "collapsed": false
   },
   "outputs": [],
   "source": [
    "from collections import Counter\n",
    "user_id_list = [j.user_id for i,j in df.iterrows() if j[\"activity_type\"] == \"VIEW\"]\n",
    "num_views = Counter(user_id_list)\n",
    "best, views = {}, []\n",
    "#best = sorted(num_views, key=lambda x : num_views[x])\n",
    "for k,v in num_views.iteritems():\n",
    "    if v<=20:\n",
    "        best[k] = v\n",
    "        views.append(v)\n"
   ]
  },
  {
   "cell_type": "code",
   "execution_count": null,
   "metadata": {
    "collapsed": false
   },
   "outputs": [],
   "source": [
    "len(num_views), len(best), "
   ]
  },
  {
   "cell_type": "code",
   "execution_count": null,
   "metadata": {
    "collapsed": false
   },
   "outputs": [],
   "source": [
    "plt.hist([num_views[i] for i,j in num_views.iteritems() if num_views[i]>0])"
   ]
  },
  {
   "cell_type": "code",
   "execution_count": null,
   "metadata": {
    "collapsed": false
   },
   "outputs": [],
   "source": [
    "best"
   ]
  },
  {
   "cell_type": "code",
   "execution_count": null,
   "metadata": {
    "collapsed": false
   },
   "outputs": [],
   "source": [
    "plt.hist(views)"
   ]
  },
  {
   "cell_type": "code",
   "execution_count": null,
   "metadata": {
    "collapsed": false
   },
   "outputs": [],
   "source": [
    "conv_ids = []\n",
    "for k,v in num_views.iteritems(): \n",
    "    if v>14 and v<20:\n",
    "        conv_ids.append(k)\n",
    "conv_ids, len(conv_ids)"
   ]
  },
  {
   "cell_type": "code",
   "execution_count": null,
   "metadata": {
    "collapsed": false
   },
   "outputs": [],
   "source": [
    "view_df[\"conv_id\"] = view_df[\"viewed\"]\n",
    "test_df = view_df\n",
    "conv_df = pd.DataFrame()\n",
    "for i in xrange(len(conv_ids)):\n",
    "    temp_df = view_df[view_df[\"user_id\"] == conv_ids[i]]\n",
    "    conv_df = conv_df.append(temp_df)\n",
    "    test_df.drop(test_df[\"user_id\"] == conv_ids[i])\n",
    "    "
   ]
  },
  {
   "cell_type": "code",
   "execution_count": null,
   "metadata": {
    "collapsed": false
   },
   "outputs": [],
   "source": [
    "conv_df.describe()"
   ]
  },
  {
   "cell_type": "code",
   "execution_count": null,
   "metadata": {
    "collapsed": false
   },
   "outputs": [],
   "source": [
    "test_df[\"conv_id\"].replace({1:0}, inplace= True)\n",
    "for k,v in num_views.iteritems():\n",
    "    test_df.loc[test_df['user_id'] == k, 'num_of_views'] = v\n",
    "    test_df.loc[test_df['user_id'] == k, 'total_time_mins'] = test_df[test_df[\"user_id\"] == k][\"time_spent_mins\"].sum()\n",
    "\n",
    "test_df.weekday_name.replace({0:\"Sunday\", 1:\"Monday\"}, inplace= True)\n",
    "test_df.head()"
   ]
  },
  {
   "cell_type": "code",
   "execution_count": null,
   "metadata": {
    "collapsed": false
   },
   "outputs": [],
   "source": [
    "test_df = view_df.append(conv_df)\n",
    "test_df[\"weekday_name\"].unique()"
   ]
  },
  {
   "cell_type": "code",
   "execution_count": null,
   "metadata": {
    "collapsed": false
   },
   "outputs": [],
   "source": [
    "test_df"
   ]
  },
  {
   "cell_type": "code",
   "execution_count": null,
   "metadata": {
    "collapsed": false
   },
   "outputs": [],
   "source": [
    "dummies = pd.get_dummies(test_df, columns=[\"viewing_device\", \"weekday_name\", \"time_of_day\", \"browser\"])"
   ]
  },
  {
   "cell_type": "code",
   "execution_count": null,
   "metadata": {
    "collapsed": false
   },
   "outputs": [],
   "source": [
    "test_df = pd.concat([test_df, dummies])\n",
    "test_df = test_df.drop([\"viewing_device\", \"weekday_name\", \"time_of_day\", \"browser\"], axis=1)\n",
    "test_df.describe()"
   ]
  },
  {
   "cell_type": "code",
   "execution_count": null,
   "metadata": {
    "collapsed": true
   },
   "outputs": [],
   "source": [
    "from sklearn.linear_model import LinearRegression\n",
    "from sklearn.model_selection import train_test_split\n",
    "from sklearn.metrics import mean_squared_error, r2_score"
   ]
  },
  {
   "cell_type": "code",
   "execution_count": null,
   "metadata": {
    "collapsed": false
   },
   "outputs": [],
   "source": [
    "test_df.head()"
   ]
  },
  {
   "cell_type": "code",
   "execution_count": null,
   "metadata": {
    "collapsed": false
   },
   "outputs": [],
   "source": [
    "test_df.fillna(0, inplace= True)\n",
    "len(test_df)\n",
    "x = test_df.as_matrix(columns= [u'time_of_day_1', u'time_of_day_2', u'time_of_day_3', u'time_of_day_4',u'viewing_device_Laptop/Desktop',\n",
    "       u'viewing_device_Phone', u'viewing_device_Tablet',\n",
    "        u'weekday_name_Friday', u'weekday_name_Monday',\n",
    "       u'weekday_name_Saturday', u'weekday_name_Sunday',\n",
    "       u'weekday_name_Thursday', u'weekday_name_Tuesday',\n",
    "       u'weekday_name_Wednesday', 'num_of_views', u'browser_CHROME', u'browser_CHROME_MOBILE',\n",
    "       u'browser_EDGE', u'browser_FIREFOX',\n",
    "       u'browser_IE', u'browser_MOBILE_SAFARI',\n",
    "       u'browser_SAFARI'])\n",
    "y = test_df.as_matrix(columns= [\"time_spent_mins\"])"
   ]
  },
  {
   "cell_type": "code",
   "execution_count": null,
   "metadata": {
    "collapsed": false
   },
   "outputs": [],
   "source": [
    "x_train, x_test, y_train, y_test = train_test_split(x,y)\n",
    "x_train[1]"
   ]
  },
  {
   "cell_type": "code",
   "execution_count": null,
   "metadata": {
    "collapsed": false
   },
   "outputs": [],
   "source": [
    "Model = LinearRegression()\n",
    "Model.fit(x_train, y_train)\n",
    "Model.predict(x_test)\n",
    "Model.score(x_test,y_test), Model.coef_"
   ]
  },
  {
   "cell_type": "code",
   "execution_count": null,
   "metadata": {
    "collapsed": false
   },
   "outputs": [],
   "source": [
    "conv_df.title_of_content.unique()"
   ]
  },
  {
   "cell_type": "code",
   "execution_count": null,
   "metadata": {
    "collapsed": false
   },
   "outputs": [],
   "source": [
    "len(conv_df)"
   ]
  },
  {
   "cell_type": "code",
   "execution_count": null,
   "metadata": {
    "collapsed": false
   },
   "outputs": [],
   "source": [
    "plt.bar(xrange(0,len(conv_df.groupby(\"browser\")[\"time_spent_mins\"].count())), conv_df.groupby(\"browser\")[\"time_spent_mins\"].sum())\n",
    "plt.xticks(xrange(0,9),['CHR',\"M-CH\",'EDGE', \"FF\", 'M-FF', 'IE', 'M-SAF', \"OP\",'SAF'])"
   ]
  },
  {
   "cell_type": "code",
   "execution_count": null,
   "metadata": {
    "collapsed": false
   },
   "outputs": [],
   "source": [
    "plt.bar(xrange(0,7), conv_df.groupby(\"weekday\")[\"time_spent_mins\"].count())\n",
    "plt.xticks(xrange(0,7),[\"Sun\", \"Mon\", \"Tue\", \"Wed\", \"Thu\", \"Fri\", \"Sat\"])"
   ]
  },
  {
   "cell_type": "code",
   "execution_count": null,
   "metadata": {
    "collapsed": false
   },
   "outputs": [],
   "source": [
    "plt.bar(xrange(0,4), conv_df.groupby(\"time_of_day\")[\"time_spent_mins\"].sum())\n",
    "plt.xticks(xrange(0,4),[\"Morning\", \"Afternoon\", \"Evening\", \"Night\"])"
   ]
  },
  {
   "cell_type": "code",
   "execution_count": null,
   "metadata": {
    "collapsed": false
   },
   "outputs": [],
   "source": [
    "plt.bar(xrange(0,len(conv_df.groupby(\"viewing_device\")[\"time_spent_mins\"].count())), conv_df.groupby(\"viewing_device\")[\"time_spent_mins\"].count())\n",
    "plt.xticks(xrange(0,3),[\"Laptop/Desktop\", \"Phone\"])"
   ]
  },
  {
   "cell_type": "code",
   "execution_count": null,
   "metadata": {
    "collapsed": false
   },
   "outputs": [],
   "source": [
    "plt.bar(xrange(0,len(conv_df.groupby(\"month\")[\"time_spent_mins\"].count())), conv_df.groupby(\"month\")[\"time_spent_mins\"].count())\n",
    "plt.xticks(xrange(0,7),[\"Mar\", \"Apr\", \"May\", \"Jun\", \"Jul\", \"Aug\"])"
   ]
  },
  {
   "cell_type": "code",
   "execution_count": null,
   "metadata": {
    "collapsed": false
   },
   "outputs": [],
   "source": [
    "#### import pylab as pl\n",
    "new_view = view_df[view_df[\"time_spent_mins\"] <= 6]\n",
    "len(new_view) #(20 mins, 1874/2085, 10% reduced) (12 mins, 1746/2085, 16% reduced)(6 mins, 1607/2085, 23% reduced)\n",
    "# (4 mins, 1513/2085, 28% reduced)\n",
    "\n",
    "h = sorted(new_view[\"time_spent_mins\"])  #sorted\n",
    "\n",
    "fit = norm.pdf(h, np.mean(h), np.std(h))  #this is a fitting indeed\n",
    "\n",
    "pl.plot(h,fit,'-o')\n",
    "\n",
    "pl.hist(h, normed= True)\n",
    "\n",
    "pl.axvline(x = np.mean(h), linestyle='--')\n",
    "pl.axvline(x = np.mean(h) + np.std(h), linestyle='--')\n",
    "pl.axvline(x = np.mean(h) + 2*np.std(h), linestyle='--')\n"
   ]
  },
  {
   "cell_type": "code",
   "execution_count": null,
   "metadata": {
    "collapsed": false
   },
   "outputs": [],
   "source": [
    "new_view.describe()"
   ]
  },
  {
   "cell_type": "code",
   "execution_count": null,
   "metadata": {
    "collapsed": false
   },
   "outputs": [],
   "source": [
    "plt.hist(new_view[\"time_spent_mins\"])"
   ]
  },
  {
   "cell_type": "code",
   "execution_count": null,
   "metadata": {
    "collapsed": false
   },
   "outputs": [],
   "source": [
    "sorted(view_df.browser.unique())"
   ]
  },
  {
   "cell_type": "code",
   "execution_count": null,
   "metadata": {
    "collapsed": false
   },
   "outputs": [],
   "source": [
    "plt.bar(xrange(0,len(view_df.groupby(\"browser\")[\"time_spent_mins\"].sum())), view_df.groupby(\"browser\")[\"time_spent_mins\"].sum())\n",
    "plt.xticks(xrange(0,9),['CHR',\"M-CH\",'EDGE', \"FF\", 'M-FF', 'IE', 'M-SAF', \"OP\",'SAF'])\n",
    "# plt.xlabel(\"Viewing Application\")\n",
    "# plt.ylabel(\"Total View Time in Minutes\")\n",
    "# plt.title(\"Time Spent Vs View App\")"
   ]
  },
  {
   "cell_type": "code",
   "execution_count": null,
   "metadata": {
    "collapsed": false
   },
   "outputs": [],
   "source": [
    "plt.bar(xrange(0,len(view_df.groupby(\"browser\")[\"time_spent_mins\"].sum())), new_view.groupby(\"browser\")[\"time_spent_mins\"].sum())\n",
    "plt.xticks(xrange(0,9),['CHR',\"M-CH\",'EDGE', \"FF\", 'M-FF', 'IE', 'M-SAF', \"OP\",'SAF'])"
   ]
  },
  {
   "cell_type": "code",
   "execution_count": null,
   "metadata": {
    "collapsed": false
   },
   "outputs": [],
   "source": [
    "plt.bar(xrange(0,4), view_df.groupby(\"time_of_day\")[\"time_spent_mins\"].sum())\n",
    "plt.xticks(xrange(0,4),[\"Night\", \"Morning\", \"Afternoon\", \"Evening\"])\n",
    "# plt.xlabel(\"Time of Day\")\n",
    "# plt.ylabel(\"Total View Time in Minutes\")\n",
    "# plt.title(\"TW - Time Spent Vs Time of Day\")"
   ]
  },
  {
   "cell_type": "code",
   "execution_count": null,
   "metadata": {
    "collapsed": false
   },
   "outputs": [],
   "source": [
    "plt.bar(xrange(0,4), new_view.groupby(\"time_of_day\")[\"time_spent_mins\"].sum())\n",
    "plt.xticks(xrange(0,4),[\"Night\", \"Morning\", \"Afternoon\", \"Evening\"])"
   ]
  },
  {
   "cell_type": "code",
   "execution_count": null,
   "metadata": {
    "collapsed": false
   },
   "outputs": [],
   "source": [
    "def get_view_time_per_user(unique_users, view_df):\n",
    "    for user in unique_users:\n",
    "        temp_time = view_df[\"user_id\"]"
   ]
  },
  {
   "cell_type": "code",
   "execution_count": null,
   "metadata": {
    "collapsed": false
   },
   "outputs": [],
   "source": [
    "plt.bar(xrange(0,7), view_df.groupby(\"weekday\")[\"time_spent_mins\"].count())\n",
    "plt.xticks(xrange(0,7),[\"Sun\", \"Mon\", \"Tue\", \"Wed\", \"Thu\", \"Fri\", \"Sat\"])\n",
    "#plt.xlabel(\"Day of Week\")\n",
    "#plt.ylabel(\"Total View Time in Minutes\")\n",
    "#plt.title(\"TW - Time Spent Vs Day of Week\")"
   ]
  },
  {
   "cell_type": "code",
   "execution_count": null,
   "metadata": {
    "collapsed": false
   },
   "outputs": [],
   "source": [
    "plt.bar(xrange(0,7), new_view.groupby(\"weekday\")[\"time_spent_mins\"].count())\n",
    "plt.xticks(xrange(0,7),[\"Sun\", \"Mon\", \"Tue\", \"Wed\", \"Thu\", \"Fri\", \"Sat\"])"
   ]
  },
  {
   "cell_type": "code",
   "execution_count": null,
   "metadata": {
    "collapsed": false
   },
   "outputs": [],
   "source": [
    "# Get the time spent on different apps\n",
    "# def get_time_spent(view_df):\n",
    "#     time_spent_secs = view_df[\"time_spent_in_seconds\"].sum()\n",
    "#     view_apps = view_df[\"view_app_group\"].unique()\n",
    "\n",
    "#     time_spent_dict = {}\n",
    "#     for v in view_apps:\n",
    "#         temp_time = view_df[view_df.view_app_group == v][\"time_spent_in_seconds\"].sum()\n",
    "#         time_spent_dict[v] = [temp_time, float(temp_time)*100/time_spent_secs]\n",
    "#     return time_spent_dict\n",
    "\n",
    "# get_time_spent(view_df)"
   ]
  },
  {
   "cell_type": "code",
   "execution_count": null,
   "metadata": {
    "collapsed": false
   },
   "outputs": [],
   "source": [
    "plt.bar(xrange(0,3), view_df.groupby(\"viewing_device\")[\"time_spent_mins\"].sum())\n",
    "plt.xticks(xrange(0,3),[\"Laptop/Desktop\", \"Phone\", \"Tablet\"])"
   ]
  },
  {
   "cell_type": "code",
   "execution_count": null,
   "metadata": {
    "collapsed": false
   },
   "outputs": [],
   "source": [
    "plt.bar(xrange(0,3), new_view.groupby(\"viewing_device\")[\"time_spent_mins\"].sum())\n",
    "plt.xticks(xrange(0,3),[\"Laptop/Desktop\", \"Phone\", \"Tablet\"])"
   ]
  },
  {
   "cell_type": "code",
   "execution_count": null,
   "metadata": {
    "collapsed": false
   },
   "outputs": [],
   "source": [
    "plt.bar(xrange(0,3), new_view.groupby(\"viewing_device\")[\"time_spent_mins\"].count())\n",
    "plt.xticks(xrange(0,3),[\"Laptop/Desktop\", \"Phone\", \"Tablet\"])"
   ]
  },
  {
   "cell_type": "code",
   "execution_count": null,
   "metadata": {
    "collapsed": false
   },
   "outputs": [],
   "source": [
    "#sns.stripplot(x=\"view_app_group\", y=\"time_spent_mins\", data=view_df)\n",
    "#plt.bar(xrange(0,8), view_df.groupby(\"view_app_group\")[\"time_spent_mins\"].sum())"
   ]
  },
  {
   "cell_type": "code",
   "execution_count": null,
   "metadata": {
    "collapsed": false
   },
   "outputs": [],
   "source": [
    "#sns.boxplot(x=\"view_app_group\", y=\"time_spent_mins\", data=view_df, hue = \"view_app_group\")\n"
   ]
  },
  {
   "cell_type": "code",
   "execution_count": null,
   "metadata": {
    "collapsed": false
   },
   "outputs": [],
   "source": [
    "#sns.barplot(x=\"view_app_group\", y=\"time_spent_mins\", data=view_df, hue = \"view_app_group\")\n"
   ]
  },
  {
   "cell_type": "code",
   "execution_count": null,
   "metadata": {
    "collapsed": false
   },
   "outputs": [],
   "source": [
    "#sns.countplot(x=\"view_app_group\", data=view_df, hue = \"view_app_group\")\n"
   ]
  },
  {
   "cell_type": "code",
   "execution_count": null,
   "metadata": {
    "collapsed": false
   },
   "outputs": [],
   "source": [
    "#plt.bar(xrange(0,9),view_df.groupby(\"view_app_group\")[\"time_spent_mins\"].sum())"
   ]
  },
  {
   "cell_type": "code",
   "execution_count": null,
   "metadata": {
    "collapsed": false
   },
   "outputs": [],
   "source": [
    "#sns.stripplot(x=view_df[\"view_app_group\"], y=view_df[\"time_spent_mins\"], data=view_df, jitter=True)\n"
   ]
  },
  {
   "cell_type": "code",
   "execution_count": null,
   "metadata": {
    "collapsed": false
   },
   "outputs": [],
   "source": [
    "#sns.stripplot(x=view_df[\"weekday\"], y=view_df[\"time_spent_mins\"], data=view_df, jitter=True)\n",
    "\n"
   ]
  },
  {
   "cell_type": "code",
   "execution_count": null,
   "metadata": {
    "collapsed": false
   },
   "outputs": [],
   "source": [
    "plt.bar(xrange(0,7), view_df.groupby(\"month\")[\"time_spent_mins\"].sum())\n",
    "plt.xticks(xrange(0,7),[\"Feb\", \"Mar\", \"Apr\", \"May\", \"Jun\", \"Jul\", \"Aug\"])"
   ]
  },
  {
   "cell_type": "code",
   "execution_count": null,
   "metadata": {
    "collapsed": false
   },
   "outputs": [],
   "source": [
    "plt.bar(xrange(0,7), new_view.groupby(\"month\")[\"time_spent_mins\"].sum())\n",
    "plt.xticks(xrange(0,7),[\"Feb\", \"Mar\", \"Apr\", \"May\", \"Jun\", \"Jul\", \"Aug\"])"
   ]
  },
  {
   "cell_type": "code",
   "execution_count": null,
   "metadata": {
    "collapsed": false
   },
   "outputs": [],
   "source": [
    "plt.bar(xrange(0,7), view_df.groupby(\"month\")[\"time_spent_mins\"].count())\n",
    "plt.xticks(xrange(0,7),[\"Feb\", \"Mar\", \"Apr\", \"May\", \"Jun\", \"Jul\", \"Aug\"])"
   ]
  },
  {
   "cell_type": "code",
   "execution_count": null,
   "metadata": {
    "collapsed": false
   },
   "outputs": [],
   "source": [
    "# clusterer = KMeans(n_clusters=7, random_state=10)\n",
    "# clusterer.fit(X)\n",
    "\n"
   ]
  }
 ],
 "metadata": {
  "kernelspec": {
   "display_name": "Python [conda root]",
   "language": "python",
   "name": "conda-root-py"
  },
  "language_info": {
   "codemirror_mode": {
    "name": "ipython",
    "version": 2
   },
   "file_extension": ".py",
   "mimetype": "text/x-python",
   "name": "python",
   "nbconvert_exporter": "python",
   "pygments_lexer": "ipython2",
   "version": "2.7.13"
  }
 },
 "nbformat": 4,
 "nbformat_minor": 2
}
