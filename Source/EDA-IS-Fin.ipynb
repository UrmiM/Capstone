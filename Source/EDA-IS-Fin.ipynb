{
 "cells": [
  {
   "cell_type": "code",
   "execution_count": 78,
   "metadata": {
    "collapsed": false
   },
   "outputs": [],
   "source": [
    "import pandas as pd\n",
    "import numpy as np\n",
    "import datetime as dt\n",
    "import pylab as pl\n",
    "import matplotlib.pyplot as plt\n",
    "from scipy.stats import norm\n",
    "%matplotlib inline\n",
    "import seaborn as sns\n",
    "import itertools\n",
    "import scipy.stats as scs\n",
    "from scipy.spatial.distance import pdist, squareform\n",
    "from sklearn.cluster import KMeans \n",
    "from sklearn.metrics import silhouette_score, silhouette_samples\n",
    "import matplotlib.cm as cm\n",
    "from IPython.display import HTML, display\n",
    "from collections import Counter"
   ]
  },
  {
   "cell_type": "code",
   "execution_count": 79,
   "metadata": {
    "collapsed": true
   },
   "outputs": [],
   "source": [
    "df = pd.read_csv(\"IS.csv\")"
   ]
  },
  {
   "cell_type": "code",
   "execution_count": 80,
   "metadata": {
    "collapsed": false
   },
   "outputs": [],
   "source": [
    "df.columns = df.columns.str.lstrip()"
   ]
  },
  {
   "cell_type": "code",
   "execution_count": 81,
   "metadata": {
    "collapsed": false
   },
   "outputs": [],
   "source": [
    "df.columns = df.columns.str.lower()"
   ]
  },
  {
   "cell_type": "code",
   "execution_count": 82,
   "metadata": {
    "collapsed": false
   },
   "outputs": [],
   "source": [
    "df.columns = df.columns.str.replace(\" \", \"_\")"
   ]
  },
  {
   "cell_type": "code",
   "execution_count": 83,
   "metadata": {
    "collapsed": false
   },
   "outputs": [
    {
     "data": {
      "text/plain": [
       "Index([u'activity_type', u'user_id', u'rm_id', u'user_os', u'viewing_app',\n",
       "       u'viewing_app_version', u'user_groups', u'shared_date', u'shared_time',\n",
       "       u'title_of_content', u'share_channel', u'viewed',\n",
       "       u'time_spent_in_seconds', u'last_activity_date', u'last_activity_time'],\n",
       "      dtype='object')"
      ]
     },
     "execution_count": 83,
     "metadata": {},
     "output_type": "execute_result"
    }
   ],
   "source": [
    "df.columns"
   ]
  },
  {
   "cell_type": "markdown",
   "metadata": {},
   "source": [
    "# EDA & Feature Engineering"
   ]
  },
  {
   "cell_type": "code",
   "execution_count": 84,
   "metadata": {
    "collapsed": false
   },
   "outputs": [
    {
     "data": {
      "text/plain": [
       "array(['WINDOWS_7', nan, 'WINDOWS_10', 'MAC_OS_X', 'MAC_OS_X_IPHONE',\n",
       "       'WINDOWS_81', 'MAC_OS_X_IPAD', 'ANDROID6', 'UBUNTU',\n",
       "       'ANDROID_MOBILE', 'LINUX', 'ANDROID5', 'ANDROID4', 'iOS9_IPHONE',\n",
       "       'WINDOWS_XP'], dtype=object)"
      ]
     },
     "execution_count": 84,
     "metadata": {},
     "output_type": "execute_result"
    }
   ],
   "source": [
    "df.user_os.unique()\n"
   ]
  },
  {
   "cell_type": "code",
   "execution_count": 87,
   "metadata": {
    "collapsed": false
   },
   "outputs": [],
   "source": [
    "df.rename(columns={'user_os': 'viewing_device'}, inplace=True)\n",
    "df[\"viewing_device\"].replace({\"WINDOWS_7\" : \"Laptop/Desktop\", \"WINDOWS_10\" : \"Laptop/Desktop\", \"WINDOWS_81\" : \"Laptop/Desktop\", \"WINDOWS_XP\" : \"Laptop/Desktop\", \"LINUX\" : \"Laptop/Desktop\", \"UBUNTU\" : \"Laptop/Desktop\", \"MAC_OS_X\" : \"Laptop/Desktop\"}, inplace = True)\n",
    "df[\"viewing_device\"].replace({\"ANDROID_MOBILE\" : \"Phone\", \"ANDROID6\" : \"Phone\", \"ANDROID4\" : \"Phone\", \"ANDROID5\" : \"Phone\",\"ANDROID7\" : \"Phone\", \"MAC_OS_X_IPHONE\" : \"Phone\", \"iOS7_IPHONE\" : \"Phone\", \"iOS8_1_IPHONE\" : \"Phone\", \"iOS8_3_IPHONE\" : \"Phone\", \"iOS9_IPHONE\" : \"Phone\"}, inplace=True)\n",
    "df[\"viewing_device\"].replace({\"ANDROID4_TABLET\" : \"Tablet\", \"ANDROID6_TABLET\" : \"Tablet\", \"iOS8_1_IPAD\" : \"Tablet\", \"MAC_OS_X_IPAD\" : \"Tablet\"}, inplace = True)\n"
   ]
  },
  {
   "cell_type": "code",
   "execution_count": 88,
   "metadata": {
    "collapsed": false
   },
   "outputs": [
    {
     "data": {
      "text/plain": [
       "array(['CHROME', 'CHROME51', 'IE11', nan, 'SAFARI', 'EDGE14', 'CHROME49',\n",
       "       'MOBILE_SAFARI', 'FIREFOX', 'CHROME45', 'EDGE', 'CHROME47',\n",
       "       'EDGE13', 'IE10', 'CHROME33', 'CHROME48', 'CHROME_MOBILE',\n",
       "       'CHROME42', 'FIREFOX43', 'FIREFOX47', 'EDGE12', 'IE7', 'SAFARI9',\n",
       "       'CHROME38', 'FIREFOX44', 'FIREFOX37', 'APPLE_WEB_KIT', 'CHROME30'], dtype=object)"
      ]
     },
     "execution_count": 88,
     "metadata": {},
     "output_type": "execute_result"
    }
   ],
   "source": [
    "df.viewing_app.unique()"
   ]
  },
  {
   "cell_type": "code",
   "execution_count": 89,
   "metadata": {
    "collapsed": false
   },
   "outputs": [
    {
     "data": {
      "text/plain": [
       "array(['CHROME', 'IE', nan, 'SAFARI', 'EDGE', 'MOBILE_SAFARI', 'FIREFOX',\n",
       "       'CHROME_MOBILE'], dtype=object)"
      ]
     },
     "execution_count": 89,
     "metadata": {},
     "output_type": "execute_result"
    }
   ],
   "source": [
    "df.rename(columns={'viewing_app': 'browser'}, inplace=True)\n",
    "df[\"browser\"].replace({\"CHROME45\" : \"CHROME\", \"CHROME51\" : \"CHROME\", \"CHROME33\" : \"CHROME\", \"CHROME30\" : \"CHROME\", \"CHROME47\" : \"CHROME\", \"CHROME49\" : \"CHROME\", \"CHROME42\" : \"CHROME\", \"CHROME48\" : \"CHROME\", \"CHROME38\" : \"CHROME\", \"FIREFOX44\" : \"FIREFOX\", \"FIREFOX47\" : \"FIREFOX\", \"FIREFOX43\" : \"FIREFOX\", \"FIREFOX37\" : \"FIREFOX\", \"EDGE12\" : \"EDGE\"}, inplace = True)\n",
    "df[\"browser\"].replace({\"EDGE13\" : \"EDGE\", \"EDGE14\" : \"EDGE\", \"IE7\" : \"IE\", \"IE10\" : \"IE\", \"IE11\" : \"IE\", \"SAFARI9\" : \"SAFARI\", \"APPLE_WEB_KIT\" : \"SAFARI\"}, inplace=True)\n",
    "df.browser.unique()"
   ]
  },
  {
   "cell_type": "code",
   "execution_count": 90,
   "metadata": {
    "collapsed": false
   },
   "outputs": [],
   "source": [
    "df[\"shared_date\"] = pd.to_datetime(df[\"shared_date\"], format=\"%d-%b-%Y\")"
   ]
  },
  {
   "cell_type": "code",
   "execution_count": 91,
   "metadata": {
    "collapsed": false
   },
   "outputs": [],
   "source": [
    "df[\"last_activity_date\"] = pd.to_datetime(df[\"last_activity_date\"], format=\"%d-%b-%Y\")"
   ]
  },
  {
   "cell_type": "code",
   "execution_count": 92,
   "metadata": {
    "collapsed": false
   },
   "outputs": [
    {
     "data": {
      "text/plain": [
       "array([20, 12, 11,  8,  7, 15,  5,  0, 23, 22, 21, 19, 10,  9, 14, 13,  6,\n",
       "        4,  3,  2,  1, 18, 17, 16])"
      ]
     },
     "execution_count": 92,
     "metadata": {},
     "output_type": "execute_result"
    }
   ],
   "source": [
    "df['weekday'] = df['last_activity_date'].dt.dayofweek\n",
    "df[\"weekday_name\"] = df['last_activity_date'].dt.weekday_name\n",
    "df[\"month\"] = df['last_activity_date'].dt.month\n",
    "df[\"time_of_day\"] = pd.to_datetime(df['last_activity_time'], format='%H:%M:%S').dt.hour\n",
    "df.time_of_day.unique()"
   ]
  },
  {
   "cell_type": "code",
   "execution_count": 93,
   "metadata": {
    "collapsed": false
   },
   "outputs": [
    {
     "data": {
      "text/plain": [
       "array([4, 3, 2, 1])"
      ]
     },
     "execution_count": 93,
     "metadata": {},
     "output_type": "execute_result"
    }
   ],
   "source": [
    "# 1: Night(Midnight to 6 am), 2: Morning(6 am to Noon), 3: Afternoon(Noon to 6 pm), 4: Evening(6 pm to Midnight)\n",
    "df[\"time_of_day\"].replace({0 : 1, 2 : 1, 3 : 1, 4 : 1, 5 : 1}, inplace = True)\n",
    "df[\"time_of_day\"].replace({6 : 2, 7 : 2, 8 : 2, 9 : 2, 10 : 2, 11 : 2}, inplace = True)\n",
    "df[\"time_of_day\"].replace({12 : 3, 13 : 3, 14 : 3, 15 : 3, 16 : 3, 17 : 3}, inplace = True)\n",
    "df[\"time_of_day\"].replace({18 : 4, 19 : 4, 20 : 4, 21 : 4, 22 : 4, 23 : 4,}, inplace = True)\n",
    "df.time_of_day.unique()"
   ]
  },
  {
   "cell_type": "code",
   "execution_count": 94,
   "metadata": {
    "collapsed": false
   },
   "outputs": [],
   "source": [
    "df['hour'] = pd.to_datetime(df['last_activity_time'], format='%H:%M:%S').dt.hour"
   ]
  },
  {
   "cell_type": "code",
   "execution_count": 95,
   "metadata": {
    "collapsed": false
   },
   "outputs": [
    {
     "data": {
      "text/plain": [
       "array([1, 0])"
      ]
     },
     "execution_count": 95,
     "metadata": {},
     "output_type": "execute_result"
    }
   ],
   "source": [
    "df.viewed.unique()"
   ]
  },
  {
   "cell_type": "code",
   "execution_count": 96,
   "metadata": {
    "collapsed": true
   },
   "outputs": [],
   "source": [
    "df[\"time_spent_mins\"] = df[\"time_spent_in_seconds\"]/60."
   ]
  },
  {
   "cell_type": "code",
   "execution_count": 97,
   "metadata": {
    "collapsed": false
   },
   "outputs": [],
   "source": [
    "hour_grouped = df.groupby(\"time_of_day\")[\"time_spent_mins\"].sum()"
   ]
  },
  {
   "cell_type": "code",
   "execution_count": 98,
   "metadata": {
    "collapsed": false
   },
   "outputs": [],
   "source": [
    "# plot = plt.bar(xrange(0,4),(df.groupby(\"time_of_day\")[\"time_spent_mins\"].sum()))\n",
    "# plt.xticks(xrange(0,4),[\"Night\", \"Morning\", \"Afternoon\", \"Evening\"])\n"
   ]
  },
  {
   "cell_type": "code",
   "execution_count": 99,
   "metadata": {
    "collapsed": false
   },
   "outputs": [
    {
     "data": {
      "text/plain": [
       "3661"
      ]
     },
     "execution_count": 99,
     "metadata": {},
     "output_type": "execute_result"
    }
   ],
   "source": [
    "#sns.distplot(df[\"time_spent_mins\"], color=\"m\")\n",
    "len(df)"
   ]
  },
  {
   "cell_type": "code",
   "execution_count": 104,
   "metadata": {
    "collapsed": false
   },
   "outputs": [
    {
     "data": {
      "text/plain": [
       "3258"
      ]
     },
     "execution_count": 104,
     "metadata": {},
     "output_type": "execute_result"
    },
    {
     "data": {
      "image/png": "[encoded data removed]",
      "text/plain": [
       "<matplotlib.figure.Figure at 0x115c57410>"
      ]
     },
     "metadata": {},
     "output_type": "display_data"
    }
   ],
   "source": [
    "df = df[df[\"time_spent_mins\"] <= 2.5]\n",
    "plot = plt.hist(df[\"time_spent_mins\"])\n",
    "#plt.boxplot(new_df[\"time_spent_mins\"])\n",
    "\n",
    "len(df) \n",
    "# 1917 (22% reduced)\n",
    "#sns.distplot(new_df[\"time_spent_mins\"], color=\"g\")"
   ]
  },
  {
   "cell_type": "markdown",
   "metadata": {},
   "source": [
    "# SHARE DATA ANALYSIS"
   ]
  },
  {
   "cell_type": "code",
   "execution_count": 105,
   "metadata": {
    "collapsed": false
   },
   "outputs": [
    {
     "data": {
      "text/plain": [
       "Index([u'activity_type', u'user_id', u'rm_id', u'viewing_device', u'browser',\n",
       "       u'viewing_app_version', u'user_groups', u'shared_date', u'shared_time',\n",
       "       u'title_of_content', u'share_channel', u'viewed',\n",
       "       u'time_spent_in_seconds', u'last_activity_date', u'last_activity_time',\n",
       "       u'weekday', u'weekday_name', u'month', u'time_of_day', u'hour',\n",
       "       u'time_spent_mins'],\n",
       "      dtype='object')"
      ]
     },
     "execution_count": 105,
     "metadata": {},
     "output_type": "execute_result"
    }
   ],
   "source": [
    "share_df = df[df.activity_type == \"SHARE\"]\n",
    "share_df.columns"
   ]
  },
  {
   "cell_type": "code",
   "execution_count": 106,
   "metadata": {
    "collapsed": false
   },
   "outputs": [],
   "source": [
    "y_time_spent = share_df.groupby(\"weekday\")[\"time_spent_mins\"].sum"
   ]
  },
  {
   "cell_type": "code",
   "execution_count": 107,
   "metadata": {
    "collapsed": false
   },
   "outputs": [],
   "source": [
    "#sns.stripplot(x=share_df[\"weekday_name\"], y=share_df[\"time_spent_mins\"], data=share_df, jitter=True)"
   ]
  },
  {
   "cell_type": "code",
   "execution_count": 108,
   "metadata": {
    "collapsed": false
   },
   "outputs": [
    {
     "data": {
      "text/plain": [
       "(905, 383)"
      ]
     },
     "execution_count": 108,
     "metadata": {},
     "output_type": "execute_result"
    }
   ],
   "source": [
    "len(share_df), len(share_df.user_id.unique())"
   ]
  },
  {
   "cell_type": "code",
   "execution_count": 109,
   "metadata": {
    "collapsed": false
   },
   "outputs": [
    {
     "name": "stderr",
     "output_type": "stream",
     "text": [
      "/Users/urmimukherjee/anaconda2/lib/python2.7/site-packages/ipykernel/__main__.py:1: SettingWithCopyWarning: \n",
      "A value is trying to be set on a copy of a slice from a DataFrame.\n",
      "Try using .loc[row_indexer,col_indexer] = value instead\n",
      "\n",
      "See the caveats in the documentation: http://pandas.pydata.org/pandas-docs/stable/indexing.html#indexing-view-versus-copy\n",
      "  if __name__ == '__main__':\n"
     ]
    },
    {
     "data": {
      "text/plain": [
       "array([  0,   2,   1,  70,  99,  82,  15,   4, 124,   8,  13,  65,  18,\n",
       "        50, 358,  60,   5,   3,  40, 147,  22,   7,  57, 296,  12,  14,\n",
       "       122,  25, 278,  28,  68, 175,  44,  84,  47,  17,   6,  11, 126,\n",
       "        52,  19, 214,  77,   9])"
      ]
     },
     "execution_count": 109,
     "metadata": {},
     "output_type": "execute_result"
    }
   ],
   "source": [
    "share_df['num_of_day_from_share_view'] = (share_df[\"last_activity_date\"] - share_df[\"shared_date\"]).astype(dt.timedelta).map(lambda x: 0 if pd.isnull(x) else x.days)\n",
    "share_df[\"num_of_day_from_share_view\"].unique()\n",
    "\n",
    "# sns.distplot(share_df[\"num_of_day_from_share_view\"], color=\"m\")"
   ]
  },
  {
   "cell_type": "code",
   "execution_count": 110,
   "metadata": {
    "collapsed": false
   },
   "outputs": [
    {
     "data": {
      "text/plain": [
       "([<matplotlib.axis.XTick at 0x1158c4350>,\n",
       "  <matplotlib.axis.XTick at 0x1158c4290>,\n",
       "  <matplotlib.axis.XTick at 0x1142e5ad0>,\n",
       "  <matplotlib.axis.XTick at 0x115a84e90>,\n",
       "  <matplotlib.axis.XTick at 0x115a84950>,\n",
       "  <matplotlib.axis.XTick at 0x115a8d610>,\n",
       "  <matplotlib.axis.XTick at 0x115a8d6d0>],\n",
       " <a list of 7 Text xticklabel objects>)"
      ]
     },
     "execution_count": 110,
     "metadata": {},
     "output_type": "execute_result"
    },
    {
     "data": {
      "image/png": "[encoded data removed]",
      "text/plain": [
       "<matplotlib.figure.Figure at 0x11405ac50>"
      ]
     },
     "metadata": {},
     "output_type": "display_data"
    }
   ],
   "source": [
    "plt.bar(xrange(0,7), share_df.groupby(\"weekday\")[\"time_spent_mins\"].sum())\n",
    "plt.xticks(xrange(0,7),[\"Sun\", \"Mon\", \"Tue\", \"Wed\", \"Thu\", \"Fri\", \"Sat\"])"
   ]
  },
  {
   "cell_type": "code",
   "execution_count": 27,
   "metadata": {
    "collapsed": false
   },
   "outputs": [
    {
     "data": {
      "text/plain": [
       "(array([  2.69968019e-02,   3.03619140e-04,   2.02412760e-04,\n",
       "          1.26507975e-04,   1.26507975e-04,   7.59047850e-05,\n",
       "          0.00000000e+00,   2.53015950e-05,   2.53015950e-05,\n",
       "          5.06031900e-05]),\n",
       " array([   0. ,   35.8,   71.6,  107.4,  143.2,  179. ,  214.8,  250.6,\n",
       "         286.4,  322.2,  358. ]),\n",
       " <a list of 10 Patch objects>)"
      ]
     },
     "execution_count": 27,
     "metadata": {},
     "output_type": "execute_result"
    },
    {
     "data": {
      "image/png": "[encoded data removed]",
      "text/plain": [
       "<matplotlib.figure.Figure at 0x10ff16190>"
      ]
     },
     "metadata": {},
     "output_type": "display_data"
    }
   ],
   "source": [
    "import pylab as pl\n",
    "h = sorted(share_df[\"num_of_day_from_share_view\"])  #sorted\n",
    "\n",
    "fit = norm.pdf(h, np.mean(h), np.std(h))  #this is a fitting indeed\n",
    "\n",
    "pl.plot(h,fit,'-o')\n",
    "\n",
    "pl.hist(h,normed=True)"
   ]
  },
  {
   "cell_type": "code",
   "execution_count": 119,
   "metadata": {
    "collapsed": false
   },
   "outputs": [
    {
     "data": {
      "text/plain": [
       "(905, 844)"
      ]
     },
     "execution_count": 119,
     "metadata": {},
     "output_type": "execute_result"
    },
    {
     "data": {
      "image/png": "[encoded data removed]",
      "text/plain": [
       "<matplotlib.figure.Figure at 0x116227a90>"
      ]
     },
     "metadata": {},
     "output_type": "display_data"
    }
   ],
   "source": [
    "import pylab as pl\n",
    "days_share_view = share_df[share_df[\"num_of_day_from_share_view\"]<=5]\n",
    "\n",
    "h = sorted(days_share_view[\"num_of_day_from_share_view\"]) #sorted\n",
    "\n",
    "fit = norm.pdf(h, np.mean(h), np.std(h))  #this is a fitting indeed\n",
    "\n",
    "#pl.plot(h,fit,'-o')\n",
    "\n",
    "pl.hist(h)\n",
    "len(share_df),len(days_share_view)"
   ]
  },
  {
   "cell_type": "code",
   "execution_count": 120,
   "metadata": {
    "collapsed": false
   },
   "outputs": [],
   "source": [
    "# uniq_titles = np.sort(share_df.title_of_content.unique())\n",
    "# uniq_title_num_share = share_df.groupby(\"title_of_content\")[\"activity_type\"].count()\n",
    "# #uniq_titles \n",
    "# uniq_title_num_share"
   ]
  },
  {
   "cell_type": "code",
   "execution_count": 121,
   "metadata": {
    "collapsed": false
   },
   "outputs": [],
   "source": [
    "# import pylab as pl\n",
    "# h = sorted(share_df[\"time_spent_mins\"])  #sorted\n",
    "\n",
    "# fit = norm.pdf(h, np.mean(h), np.std(h))  #this is a fitting indeed\n",
    "\n",
    "# pl.plot(h,fit,'-o')\n",
    "\n",
    "# pl.hist(h,normed=True)\n"
   ]
  },
  {
   "cell_type": "code",
   "execution_count": 122,
   "metadata": {
    "collapsed": false
   },
   "outputs": [],
   "source": [
    "#share_df[\"weekday\"].plot.kde()"
   ]
  },
  {
   "cell_type": "code",
   "execution_count": 123,
   "metadata": {
    "collapsed": false
   },
   "outputs": [],
   "source": [
    "# plot = plt.bar(xrange(0,7),(share_df.groupby(\"weekday\")[\"time_spent_mins\"].sum()))\n",
    "# plt.xticks(xrange(0,7),[\"Sunday\", \"Monday\", \"Tuesday\", \"Wednesday\", \"Thursday\", \"Friday\", \"Saturday\"])\n",
    "# share_weekday = share_df.groupby(\"weekday\")[\"time_spent_mins\"].sum()"
   ]
  },
  {
   "cell_type": "code",
   "execution_count": 124,
   "metadata": {
    "collapsed": false
   },
   "outputs": [],
   "source": [
    "# plot = plt.bar(xrange(0,7),(share_df.groupby(\"month\")[\"time_spent_mins\"].sum()))\n",
    "# plt.xticks(xrange(0,7),[\"Feb\", \"Mar\", \"Apr\", \"May\", \"Jun\", \"Jul\", \"Aug\"])"
   ]
  },
  {
   "cell_type": "code",
   "execution_count": 125,
   "metadata": {
    "collapsed": false
   },
   "outputs": [],
   "source": [
    "# import pylab as pl\n",
    "# new_share = share_df[share_df[\"time_spent_mins\"]<=8]\n",
    "# h = sorted(new_share[\"time_spent_mins\"])  #sorted\n",
    "\n",
    "# fit = norm.pdf(h, np.mean(h), np.std(h))  #this is a fitting indeed\n",
    "\n",
    "# pl.plot(h,fit,'-o')\n",
    "# pl.axvline(x=np.mean(h)+np.std(h),color='r', linestyle='--')\n",
    "# pl.axvline(x=np.mean(h)-np.std(h),color='r', linestyle='--')\n",
    "# pl.hist(h,normed=True)\n"
   ]
  },
  {
   "cell_type": "code",
   "execution_count": 126,
   "metadata": {
    "collapsed": false
   },
   "outputs": [],
   "source": [
    "#h = plt.hist(share_df.time_spent_mins)"
   ]
  },
  {
   "cell_type": "code",
   "execution_count": 127,
   "metadata": {
    "collapsed": false
   },
   "outputs": [
    {
     "data": {
      "text/plain": [
       "array([nan, 'WEB', 'OUTLOOK'], dtype=object)"
      ]
     },
     "execution_count": 127,
     "metadata": {},
     "output_type": "execute_result"
    }
   ],
   "source": [
    "#sns.stripplot(x=\"share_channel\", y=\"time_spent_mins\", data=share_df)\n",
    "df.share_channel.unique()\n"
   ]
  },
  {
   "cell_type": "code",
   "execution_count": 128,
   "metadata": {
    "collapsed": false
   },
   "outputs": [
    {
     "data": {
      "text/plain": [
       "([<matplotlib.axis.XTick at 0x1164686d0>,\n",
       "  <matplotlib.axis.XTick at 0x11647e2d0>],\n",
       " <a list of 2 Text xticklabel objects>)"
      ]
     },
     "execution_count": 128,
     "metadata": {},
     "output_type": "execute_result"
    },
    {
     "data": {
      "image/png": "[encoded data removed]",
      "text/plain": [
       "<matplotlib.figure.Figure at 0x1151f8c50>"
      ]
     },
     "metadata": {},
     "output_type": "display_data"
    }
   ],
   "source": [
    "plt.bar(xrange(0,2),(share_df.groupby(\"share_channel\")[\"time_spent_mins\"].count()))\n",
    "plt.xticks(xrange(0,2),[\"OUTLOOK\",\"WEB\"])\n",
    "# plt.xlabel(\"Share Channel\")\n",
    "# plt.ylabel(\"Number of Shares\")\n",
    "# plt.title(\"TW - Num Shares Vs Share Channel\")"
   ]
  },
  {
   "cell_type": "code",
   "execution_count": 129,
   "metadata": {
    "collapsed": false
   },
   "outputs": [],
   "source": [
    "#sns.stripplot(x=\"time_of_day\", y=\"time_spent_mins\", data=share_df)\n"
   ]
  },
  {
   "cell_type": "markdown",
   "metadata": {},
   "source": [
    "# VIEW DATA ANALYSIS"
   ]
  },
  {
   "cell_type": "code",
   "execution_count": 130,
   "metadata": {
    "collapsed": false
   },
   "outputs": [],
   "source": [
    "view_df = df[(df.activity_type == \"VIEW\")]\n",
    "view_df = view_df.drop([\"share_channel\", \"user_groups\", \"shared_date\", \"shared_time\", \"rm_id\"], axis =1)\n"
   ]
  },
  {
   "cell_type": "code",
   "execution_count": 131,
   "metadata": {
    "collapsed": false
   },
   "outputs": [
    {
     "data": {
      "text/plain": [
       "(2353, 356)"
      ]
     },
     "execution_count": 131,
     "metadata": {},
     "output_type": "execute_result"
    }
   ],
   "source": [
    "len(view_df), len(view_df.user_id.unique())"
   ]
  },
  {
   "cell_type": "code",
   "execution_count": 132,
   "metadata": {
    "collapsed": false
   },
   "outputs": [
    {
     "data": {
      "text/plain": [
       "252"
      ]
     },
     "execution_count": 132,
     "metadata": {},
     "output_type": "execute_result"
    }
   ],
   "source": [
    "len(view_df.title_of_content.unique())\n"
   ]
  },
  {
   "cell_type": "code",
   "execution_count": 133,
   "metadata": {
    "collapsed": false
   },
   "outputs": [],
   "source": [
    "#view_df.head()"
   ]
  },
  {
   "cell_type": "code",
   "execution_count": 136,
   "metadata": {
    "collapsed": false
   },
   "outputs": [
    {
     "data": {
      "text/plain": [
       "2353"
      ]
     },
     "execution_count": 136,
     "metadata": {},
     "output_type": "execute_result"
    },
    {
     "data": {
      "image/png": "[encoded data removed]",
      "text/plain": [
       "<matplotlib.figure.Figure at 0x115f17f10>"
      ]
     },
     "metadata": {},
     "output_type": "display_data"
    }
   ],
   "source": [
    "#### import pylab as pl\n",
    "new_view = view_df[view_df[\"time_spent_mins\"] <= 4]\n",
    "len(new_view) #(20 mins, 1874/2085, 10% reduced) (12 mins, 1746/2085, 16% reduced)(6 mins, 1607/2085, 23% reduced)\n",
    "# (4 mins, 1513/2085, 28% reduced)\n",
    "\n",
    "h = sorted(new_view[\"time_spent_mins\"])  #sorted\n",
    "\n",
    "fit = norm.pdf(h, np.mean(h), np.std(h))  #this is a fitting indeed\n",
    "\n",
    "pl.plot(h,fit,'-o')\n",
    "\n",
    "pl.hist(h, normed= True)\n",
    "\n",
    "pl.axvline(x = np.mean(h), linestyle='--')\n",
    "pl.axvline(x = np.mean(h) + np.std(h), linestyle='--')\n",
    "pl.axvline(x = np.mean(h) + 2*np.std(h), linestyle='--')\n",
    "len(new_view)"
   ]
  },
  {
   "cell_type": "code",
   "execution_count": 137,
   "metadata": {
    "collapsed": false
   },
   "outputs": [],
   "source": [
    "#(view_df.groupby(\"view_app_group\")[\"time_spent_mins\"].sum()).plot.kde()\n"
   ]
  },
  {
   "cell_type": "code",
   "execution_count": 138,
   "metadata": {
    "collapsed": false
   },
   "outputs": [
    {
     "data": {
      "text/plain": [
       "(array([ 813.,  624.,  317.,  168.,  110.,   73.,   71.,   50.,   92.,   35.]),\n",
       " array([ 0.  ,  0.25,  0.5 ,  0.75,  1.  ,  1.25,  1.5 ,  1.75,  2.  ,\n",
       "         2.25,  2.5 ]),\n",
       " <a list of 10 Patch objects>)"
      ]
     },
     "execution_count": 138,
     "metadata": {},
     "output_type": "execute_result"
    },
    {
     "data": {
      "image/png": "[encoded data removed]",
      "text/plain": [
       "<matplotlib.figure.Figure at 0x116453810>"
      ]
     },
     "metadata": {},
     "output_type": "display_data"
    }
   ],
   "source": [
    "plt.hist(view_df[\"time_spent_mins\"])"
   ]
  },
  {
   "cell_type": "code",
   "execution_count": 139,
   "metadata": {
    "collapsed": false
   },
   "outputs": [
    {
     "data": {
      "text/plain": [
       "(array([ 813.,  624.,  317.,  168.,  110.,   73.,   71.,   50.,   92.,   35.]),\n",
       " array([ 0.  ,  0.25,  0.5 ,  0.75,  1.  ,  1.25,  1.5 ,  1.75,  2.  ,\n",
       "         2.25,  2.5 ]),\n",
       " <a list of 10 Patch objects>)"
      ]
     },
     "execution_count": 139,
     "metadata": {},
     "output_type": "execute_result"
    },
    {
     "data": {
      "image/png": "[encoded data removed]",
      "text/plain": [
       "<matplotlib.figure.Figure at 0x10fee9ed0>"
      ]
     },
     "metadata": {},
     "output_type": "display_data"
    }
   ],
   "source": [
    "plt.hist(new_view[\"time_spent_mins\"])"
   ]
  },
  {
   "cell_type": "code",
   "execution_count": 142,
   "metadata": {
    "collapsed": false
   },
   "outputs": [
    {
     "data": {
      "text/plain": [
       "(6.6095505617977528, 13.895347973463036)"
      ]
     },
     "execution_count": 142,
     "metadata": {},
     "output_type": "execute_result"
    }
   ],
   "source": [
    "from collections import Counter\n",
    "user_id_list = [j.user_id for i,j in df.iterrows() if j[\"activity_type\"] == \"VIEW\"]\n",
    "num_views = Counter(user_id_list)\n",
    "best, views = [], []\n",
    "#best = sorted(num_views, key=lambda x : num_views[x])\n",
    "for w in sorted(num_views, key=num_views.get, reverse=True):\n",
    "    best.extend([w, num_views[w]]), views.append(num_views[w])\n",
    "np.array(views).mean(), np.array(views).std()"
   ]
  },
  {
   "cell_type": "code",
   "execution_count": 141,
   "metadata": {
    "collapsed": false
   },
   "outputs": [
    {
     "data": {
      "text/plain": [
       "(array([ 226.,   70.,   14.,    8.,    1.,    6.,    3.,    6.,    4.,\n",
       "           2.,    3.,    1.,    2.,    0.,    1.,    0.,    1.,    0.,\n",
       "           1.,    1.,    0.,    0.,    2.,    0.,    1.,    1.,    1.,\n",
       "           1.,    0.,    0.,    0.,    0.,    1.,    0.,    0.,    0.,\n",
       "           0.,    0.,    0.,    1.]),\n",
       " array([   1.   ,    3.975,    6.95 ,    9.925,   12.9  ,   15.875,\n",
       "          18.85 ,   21.825,   24.8  ,   27.775,   30.75 ,   33.725,\n",
       "          36.7  ,   39.675,   42.65 ,   45.625,   48.6  ,   51.575,\n",
       "          54.55 ,   57.525,   60.5  ,   63.475,   66.45 ,   69.425,\n",
       "          72.4  ,   75.375,   78.35 ,   81.325,   84.3  ,   87.275,\n",
       "          90.25 ,   93.225,   96.2  ,   99.175,  102.15 ,  105.125,\n",
       "         108.1  ,  111.075,  114.05 ,  117.025,  120.   ]),\n",
       " <a list of 40 Patch objects>)"
      ]
     },
     "execution_count": 141,
     "metadata": {},
     "output_type": "execute_result"
    },
    {
     "data": {
      "image/png": "[encoded data removed]",
      "text/plain": [
       "<matplotlib.figure.Figure at 0x1159e2c10>"
      ]
     },
     "metadata": {},
     "output_type": "display_data"
    }
   ],
   "source": [
    "plt.hist(views, bins = 40)"
   ]
  },
  {
   "cell_type": "code",
   "execution_count": 62,
   "metadata": {
    "collapsed": false
   },
   "outputs": [
    {
     "data": {
      "text/plain": [
       "[nan,\n",
       " 'CHROME',\n",
       " 'CHROME_MOBILE',\n",
       " 'EDGE',\n",
       " 'FIREFOX',\n",
       " 'IE',\n",
       " 'MOBILE_SAFARI',\n",
       " 'SAFARI']"
      ]
     },
     "execution_count": 62,
     "metadata": {},
     "output_type": "execute_result"
    }
   ],
   "source": [
    "sorted(view_df.browser.unique())"
   ]
  },
  {
   "cell_type": "code",
   "execution_count": 47,
   "metadata": {
    "collapsed": false
   },
   "outputs": [
    {
     "data": {
      "text/plain": [
       "([<matplotlib.axis.XTick at 0x1139ea650>,\n",
       "  <matplotlib.axis.XTick at 0x113690610>,\n",
       "  <matplotlib.axis.XTick at 0x113bc44d0>,\n",
       "  <matplotlib.axis.XTick at 0x113d42350>,\n",
       "  <matplotlib.axis.XTick at 0x113d42a90>,\n",
       "  <matplotlib.axis.XTick at 0x113d4d210>,\n",
       "  <matplotlib.axis.XTick at 0x113d4d950>,\n",
       "  <matplotlib.axis.XTick at 0x113d580d0>,\n",
       "  <matplotlib.axis.XTick at 0x113d58810>],\n",
       " <a list of 9 Text xticklabel objects>)"
      ]
     },
     "execution_count": 47,
     "metadata": {},
     "output_type": "execute_result"
    },
    {
     "data": {
      "image/png": "[encoded data removed]",
      "text/plain": [
       "<matplotlib.figure.Figure at 0x113be4e50>"
      ]
     },
     "metadata": {},
     "output_type": "display_data"
    }
   ],
   "source": [
    "plt.bar(xrange(0,len(view_df.groupby(\"browser\")[\"time_spent_mins\"].sum())), view_df.groupby(\"browser\")[\"time_spent_mins\"].sum())\n",
    "plt.xticks(xrange(0,9),['CHR',\"M-CH\",'EDGE', \"FF\", 'M-FF', 'IE', 'M-SAF', \"OP\",'SAF'])\n",
    "# plt.xlabel(\"Viewing Application\")\n",
    "# plt.ylabel(\"Total View Time in Minutes\")\n",
    "# plt.title(\"Time Spent Vs View App\")"
   ]
  },
  {
   "cell_type": "code",
   "execution_count": 64,
   "metadata": {
    "collapsed": false
   },
   "outputs": [
    {
     "data": {
      "text/plain": [
       "([<matplotlib.axis.XTick at 0x1142b12d0>,\n",
       "  <matplotlib.axis.XTick at 0x11418bf10>,\n",
       "  <matplotlib.axis.XTick at 0x1141ca110>,\n",
       "  <matplotlib.axis.XTick at 0x114456dd0>,\n",
       "  <matplotlib.axis.XTick at 0x114462550>,\n",
       "  <matplotlib.axis.XTick at 0x114462c90>,\n",
       "  <matplotlib.axis.XTick at 0x11446c410>,\n",
       "  <matplotlib.axis.XTick at 0x11446cb50>,\n",
       "  <matplotlib.axis.XTick at 0x1144792d0>],\n",
       " <a list of 9 Text xticklabel objects>)"
      ]
     },
     "execution_count": 64,
     "metadata": {},
     "output_type": "execute_result"
    },
    {
     "data": {
      "image/png": "[encoded data removed]",
      "text/plain": [
       "<matplotlib.figure.Figure at 0x1141aa1d0>"
      ]
     },
     "metadata": {},
     "output_type": "display_data"
    }
   ],
   "source": [
    "plt.bar(xrange(0,len(new_view.groupby(\"browser\")[\"time_spent_mins\"].sum())), new_view.groupby(\"browser\")[\"time_spent_mins\"].sum())\n",
    "plt.xticks(xrange(0,9),['CHR',\"M-CH\",'EDGE', \"FF\", 'M-FF', 'IE', 'M-SAF', \"OP\",'SAF'])"
   ]
  },
  {
   "cell_type": "code",
   "execution_count": 48,
   "metadata": {
    "collapsed": false
   },
   "outputs": [
    {
     "data": {
      "text/plain": [
       "([<matplotlib.axis.XTick at 0x113895250>,\n",
       "  <matplotlib.axis.XTick at 0x113bb6f50>,\n",
       "  <matplotlib.axis.XTick at 0x1100c1810>,\n",
       "  <matplotlib.axis.XTick at 0x113eacf10>],\n",
       " <a list of 4 Text xticklabel objects>)"
      ]
     },
     "execution_count": 48,
     "metadata": {},
     "output_type": "execute_result"
    },
    {
     "data": {
      "image/png": "[encoded data removed]",
      "text/plain": [
       "<matplotlib.figure.Figure at 0x113bd9bd0>"
      ]
     },
     "metadata": {},
     "output_type": "display_data"
    }
   ],
   "source": [
    "plt.bar(xrange(0,4), view_df.groupby(\"time_of_day\")[\"time_spent_mins\"].count())\n",
    "plt.xticks(xrange(0,4),[\"Night\", \"Morning\", \"Afternoon\", \"Evening\"])\n",
    "# plt.xlabel(\"Time of Day\")\n",
    "# plt.ylabel(\"Total View Time in Minutes\")\n",
    "# plt.title(\"TW - Time Spent Vs Time of Day\")"
   ]
  },
  {
   "cell_type": "code",
   "execution_count": 65,
   "metadata": {
    "collapsed": false
   },
   "outputs": [
    {
     "data": {
      "text/plain": [
       "([<matplotlib.axis.XTick at 0x113bf8850>,\n",
       "  <matplotlib.axis.XTick at 0x1144c7e90>,\n",
       "  <matplotlib.axis.XTick at 0x1141caf10>,\n",
       "  <matplotlib.axis.XTick at 0x1145c1b50>],\n",
       " <a list of 4 Text xticklabel objects>)"
      ]
     },
     "execution_count": 65,
     "metadata": {},
     "output_type": "execute_result"
    },
    {
     "data": {
      "image/png": "[encoded data removed]",
      "text/plain": [
       "<matplotlib.figure.Figure at 0x1141cad10>"
      ]
     },
     "metadata": {},
     "output_type": "display_data"
    }
   ],
   "source": [
    "plt.bar(xrange(0,4), new_view.groupby(\"time_of_day\")[\"time_spent_mins\"].count())\n",
    "plt.xticks(xrange(0,4),[\"Night\", \"Morning\", \"Afternoon\", \"Evening\"])"
   ]
  },
  {
   "cell_type": "code",
   "execution_count": 49,
   "metadata": {
    "collapsed": false
   },
   "outputs": [],
   "source": [
    "def get_view_time_per_user(unique_users, view_df):\n",
    "    for user in unique_users:\n",
    "        temp_time = view_df[\"user_id\"]"
   ]
  },
  {
   "cell_type": "code",
   "execution_count": 50,
   "metadata": {
    "collapsed": false
   },
   "outputs": [
    {
     "data": {
      "text/plain": [
       "([<matplotlib.axis.XTick at 0x113f10f10>,\n",
       "  <matplotlib.axis.XTick at 0x113fb9dd0>,\n",
       "  <matplotlib.axis.XTick at 0x113ed1a50>,\n",
       "  <matplotlib.axis.XTick at 0x114022e50>,\n",
       "  <matplotlib.axis.XTick at 0x11402f5d0>,\n",
       "  <matplotlib.axis.XTick at 0x11402fd10>,\n",
       "  <matplotlib.axis.XTick at 0x114038490>],\n",
       " <a list of 7 Text xticklabel objects>)"
      ]
     },
     "execution_count": 50,
     "metadata": {},
     "output_type": "execute_result"
    },
    {
     "data": {
      "image/png": "[encoded data removed]",
      "text/plain": [
       "<matplotlib.figure.Figure at 0x113bd15d0>"
      ]
     },
     "metadata": {},
     "output_type": "display_data"
    }
   ],
   "source": [
    "plt.bar(xrange(0,7), view_df.groupby(\"weekday\")[\"time_spent_mins\"].sum())\n",
    "plt.xticks(xrange(0,7),[\"Sun\", \"Mon\", \"Tue\", \"Wed\", \"Thu\", \"Fri\", \"Sat\"])\n",
    "#plt.xlabel(\"Day of Week\")\n",
    "#plt.ylabel(\"Total View Time in Minutes\")\n",
    "#plt.title(\"TW - Time Spent Vs Day of Week\")"
   ]
  },
  {
   "cell_type": "code",
   "execution_count": 68,
   "metadata": {
    "collapsed": false
   },
   "outputs": [
    {
     "data": {
      "text/plain": [
       "([<matplotlib.axis.XTick at 0x114763910>,\n",
       "  <matplotlib.axis.XTick at 0x11491a3d0>,\n",
       "  <matplotlib.axis.XTick at 0x1148d6950>,\n",
       "  <matplotlib.axis.XTick at 0x114a2a3d0>,\n",
       "  <matplotlib.axis.XTick at 0x114a2ab10>,\n",
       "  <matplotlib.axis.XTick at 0x114a34290>,\n",
       "  <matplotlib.axis.XTick at 0x114a349d0>],\n",
       " <a list of 7 Text xticklabel objects>)"
      ]
     },
     "execution_count": 68,
     "metadata": {},
     "output_type": "execute_result"
    },
    {
     "data": {
      "image/png": "[encoded data removed]",
      "text/plain": [
       "<matplotlib.figure.Figure at 0x1133c11d0>"
      ]
     },
     "metadata": {},
     "output_type": "display_data"
    }
   ],
   "source": [
    "plt.bar(xrange(0,7), new_view.groupby(\"weekday\")[\"time_spent_mins\"].sum())\n",
    "plt.xticks(xrange(0,7),[\"Sun\", \"Mon\", \"Tue\", \"Wed\", \"Thu\", \"Fri\", \"Sat\"])\n"
   ]
  },
  {
   "cell_type": "code",
   "execution_count": 51,
   "metadata": {
    "collapsed": false
   },
   "outputs": [],
   "source": [
    "# Get the time spent on different apps\n",
    "# def get_time_spent(view_df):\n",
    "#     time_spent_secs = view_df[\"time_spent_in_seconds\"].sum()\n",
    "#     view_apps = view_df[\"view_app_group\"].unique()\n",
    "\n",
    "#     time_spent_dict = {}\n",
    "#     for v in view_apps:\n",
    "#         temp_time = view_df[view_df.view_app_group == v][\"time_spent_in_seconds\"].sum()\n",
    "#         time_spent_dict[v] = [temp_time, float(temp_time)*100/time_spent_secs]\n",
    "#     return time_spent_dict\n",
    "\n",
    "# get_time_spent(view_df)"
   ]
  },
  {
   "cell_type": "code",
   "execution_count": 52,
   "metadata": {
    "collapsed": false
   },
   "outputs": [
    {
     "data": {
      "text/plain": [
       "([<matplotlib.axis.XTick at 0x114123950>,\n",
       "  <matplotlib.axis.XTick at 0x1140078d0>,\n",
       "  <matplotlib.axis.XTick at 0x113ec4d50>],\n",
       " <a list of 3 Text xticklabel objects>)"
      ]
     },
     "execution_count": 52,
     "metadata": {},
     "output_type": "execute_result"
    },
    {
     "data": {
      "image/png": "[encoded data removed]",
      "text/plain": [
       "<matplotlib.figure.Figure at 0x11404d0d0>"
      ]
     },
     "metadata": {},
     "output_type": "display_data"
    }
   ],
   "source": [
    "plt.bar(xrange(0,3), view_df.groupby(\"viewing_device\")[\"time_spent_mins\"].sum())\n",
    "plt.xticks(xrange(0,3),[\"Laptop/Desktop\", \"Phone\", \"Tablet\"])"
   ]
  },
  {
   "cell_type": "code",
   "execution_count": 53,
   "metadata": {
    "collapsed": false
   },
   "outputs": [],
   "source": [
    "#sns.stripplot(x=\"view_app_group\", y=\"time_spent_mins\", data=view_df)\n",
    "#plt.bar(xrange(0,8), view_df.groupby(\"view_app_group\")[\"time_spent_mins\"].sum())"
   ]
  },
  {
   "cell_type": "code",
   "execution_count": 54,
   "metadata": {
    "collapsed": false
   },
   "outputs": [],
   "source": [
    "#sns.boxplot(x=\"view_app_group\", y=\"time_spent_mins\", data=view_df, hue = \"view_app_group\")\n"
   ]
  },
  {
   "cell_type": "code",
   "execution_count": 55,
   "metadata": {
    "collapsed": false
   },
   "outputs": [],
   "source": [
    "#sns.barplot(x=\"view_app_group\", y=\"time_spent_mins\", data=view_df, hue = \"view_app_group\")\n"
   ]
  },
  {
   "cell_type": "code",
   "execution_count": 56,
   "metadata": {
    "collapsed": false
   },
   "outputs": [],
   "source": [
    "#sns.countplot(x=\"view_app_group\", data=view_df, hue = \"view_app_group\")\n"
   ]
  },
  {
   "cell_type": "code",
   "execution_count": 57,
   "metadata": {
    "collapsed": false
   },
   "outputs": [],
   "source": [
    "#plt.bar(xrange(0,9),view_df.groupby(\"view_app_group\")[\"time_spent_mins\"].sum())"
   ]
  },
  {
   "cell_type": "code",
   "execution_count": 58,
   "metadata": {
    "collapsed": false
   },
   "outputs": [],
   "source": [
    "#sns.stripplot(x=view_df[\"view_app_group\"], y=view_df[\"time_spent_mins\"], data=view_df, jitter=True)\n"
   ]
  },
  {
   "cell_type": "code",
   "execution_count": 59,
   "metadata": {
    "collapsed": false
   },
   "outputs": [],
   "source": [
    "#sns.stripplot(x=view_df[\"weekday\"], y=view_df[\"time_spent_mins\"], data=view_df, jitter=True)\n",
    "\n"
   ]
  },
  {
   "cell_type": "code",
   "execution_count": 60,
   "metadata": {
    "collapsed": false
   },
   "outputs": [
    {
     "data": {
      "text/plain": [
       "([<matplotlib.axis.XTick at 0x1138b79d0>,\n",
       "  <matplotlib.axis.XTick at 0x113a5d9d0>,\n",
       "  <matplotlib.axis.XTick at 0x114062f50>,\n",
       "  <matplotlib.axis.XTick at 0x11370f090>,\n",
       "  <matplotlib.axis.XTick at 0x11371d750>,\n",
       "  <matplotlib.axis.XTick at 0x11371d7d0>],\n",
       " <a list of 6 Text xticklabel objects>)"
      ]
     },
     "execution_count": 60,
     "metadata": {},
     "output_type": "execute_result"
    },
    {
     "data": {
      "image/png": "[encoded data removed]",
      "text/plain": [
       "<matplotlib.figure.Figure at 0x113bf89d0>"
      ]
     },
     "metadata": {},
     "output_type": "display_data"
    }
   ],
   "source": [
    "plt.bar(xrange(0,len(view_df.groupby(\"month\")[\"time_spent_mins\"].sum())), view_df.groupby(\"month\")[\"time_spent_mins\"].sum())\n",
    "plt.xticks(xrange(0,6),[\"Feb\", \"Mar\", \"Apr\", \"May\", \"Jun\", \"Jul\"])"
   ]
  },
  {
   "cell_type": "code",
   "execution_count": 61,
   "metadata": {
    "collapsed": false
   },
   "outputs": [],
   "source": [
    "# clusterer = KMeans(n_clusters=7, random_state=10)\n",
    "# clusterer.fit(X)\n",
    "\n"
   ]
  },
  {
   "cell_type": "code",
   "execution_count": null,
   "metadata": {
    "collapsed": true
   },
   "outputs": [],
   "source": []
  }
 ],
 "metadata": {
  "kernelspec": {
   "display_name": "Python [conda root]",
   "language": "python",
   "name": "conda-root-py"
  },
  "language_info": {
   "codemirror_mode": {
    "name": "ipython",
    "version": 2
   },
   "file_extension": ".py",
   "mimetype": "text/x-python",
   "name": "python",
   "nbconvert_exporter": "python",
   "pygments_lexer": "ipython2",
   "version": "2.7.13"
  }
 },
 "nbformat": 4,
 "nbformat_minor": 2
}
