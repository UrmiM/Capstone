{
 "cells": [
  {
   "cell_type": "code",
   "execution_count": 1,
   "metadata": {
    "collapsed": true
   },
   "outputs": [],
   "source": [
    "import pandas as pd\n",
    "import numpy as np\n",
    "import datetime as dt\n",
    "import pylab as pl\n",
    "import matplotlib.pyplot as plt\n",
    "from scipy.stats import norm\n",
    "%matplotlib inline\n",
    "import seaborn as sns\n",
    "import itertools\n",
    "import scipy.stats as scs\n",
    "from scipy.spatial.distance import pdist, squareform\n",
    "from sklearn.cluster import KMeans \n",
    "from sklearn.metrics import silhouette_score, silhouette_samples\n",
    "from scipy.cluster.hierarchy import linkage, dendrogram\n",
    "import matplotlib.cm as cm\n",
    "from IPython.display import HTML, display\n",
    "from sklearn.linear_model import LinearRegression\n",
    "from sklearn.linear_model import LogisticRegression\n",
    "from sklearn.model_selection import train_test_split\n",
    "from sklearn.metrics import mean_squared_error, r2_score"
   ]
  },
  {
   "cell_type": "code",
   "execution_count": 2,
   "metadata": {
    "collapsed": true
   },
   "outputs": [],
   "source": [
    "df = pd.read_csv(\"ES.csv\")"
   ]
  },
  {
   "cell_type": "code",
   "execution_count": 3,
   "metadata": {
    "collapsed": false
   },
   "outputs": [],
   "source": [
    "df.columns = df.columns.str.lstrip()"
   ]
  },
  {
   "cell_type": "code",
   "execution_count": 4,
   "metadata": {
    "collapsed": false
   },
   "outputs": [],
   "source": [
    "df.columns = df.columns.str.lower()"
   ]
  },
  {
   "cell_type": "code",
   "execution_count": 5,
   "metadata": {
    "collapsed": false
   },
   "outputs": [],
   "source": [
    "df.columns = df.columns.str.replace(\" \", \"_\")"
   ]
  },
  {
   "cell_type": "code",
   "execution_count": 6,
   "metadata": {
    "collapsed": false
   },
   "outputs": [
    {
     "data": {
      "text/html": [
       "<div>\n",
       "<style>\n",
       "    .dataframe thead tr:only-child th {\n",
       "        text-align: right;\n",
       "    }\n",
       "\n",
       "    .dataframe thead th {\n",
       "        text-align: left;\n",
       "    }\n",
       "\n",
       "    .dataframe tbody tr th {\n",
       "        vertical-align: top;\n",
       "    }\n",
       "</style>\n",
       "<table border=\"1\" class=\"dataframe\">\n",
       "  <thead>\n",
       "    <tr style=\"text-align: right;\">\n",
       "      <th></th>\n",
       "      <th>activity_type</th>\n",
       "      <th>user_id</th>\n",
       "      <th>rm_id</th>\n",
       "      <th>user_os</th>\n",
       "      <th>user_os_share</th>\n",
       "      <th>viewing_app</th>\n",
       "      <th>viewing_app_version</th>\n",
       "      <th>user_groups</th>\n",
       "      <th>shared_date</th>\n",
       "      <th>shared_time</th>\n",
       "      <th>title_of_content</th>\n",
       "      <th>share_channel</th>\n",
       "      <th>viewed</th>\n",
       "      <th>time_spent_in_seconds</th>\n",
       "      <th>last_activity_date</th>\n",
       "      <th>last_activity_time</th>\n",
       "    </tr>\n",
       "  </thead>\n",
       "  <tbody>\n",
       "    <tr>\n",
       "      <th>0</th>\n",
       "      <td>VIEW</td>\n",
       "      <td>5655305</td>\n",
       "      <td>NaN</td>\n",
       "      <td>MAC_OS_X</td>\n",
       "      <td>MAC_OS_X</td>\n",
       "      <td>SAFARI</td>\n",
       "      <td>NaN</td>\n",
       "      <td>NaN</td>\n",
       "      <td>NaN</td>\n",
       "      <td>NaN</td>\n",
       "      <td>Doherty, Conan 5.04KW Preliminary Estimate.pdf</td>\n",
       "      <td>NaN</td>\n",
       "      <td>1</td>\n",
       "      <td>180</td>\n",
       "      <td>21-Aug-2017</td>\n",
       "      <td>21:33:08</td>\n",
       "    </tr>\n",
       "    <tr>\n",
       "      <th>1</th>\n",
       "      <td>VIEW</td>\n",
       "      <td>5927942</td>\n",
       "      <td>NaN</td>\n",
       "      <td>iOS9_IPAD</td>\n",
       "      <td>iOS9_IPAD</td>\n",
       "      <td>MOBILE_SAFARI</td>\n",
       "      <td>NaN</td>\n",
       "      <td>NaN</td>\n",
       "      <td>NaN</td>\n",
       "      <td>NaN</td>\n",
       "      <td>Suhre, David 4.48KW Preliminary Estimate.pdf</td>\n",
       "      <td>NaN</td>\n",
       "      <td>1</td>\n",
       "      <td>85</td>\n",
       "      <td>21-Aug-2017</td>\n",
       "      <td>2:16:47</td>\n",
       "    </tr>\n",
       "    <tr>\n",
       "      <th>2</th>\n",
       "      <td>VIEW</td>\n",
       "      <td>5927942</td>\n",
       "      <td>NaN</td>\n",
       "      <td>iOS9_IPAD</td>\n",
       "      <td>iOS9_IPAD</td>\n",
       "      <td>MOBILE_SAFARI</td>\n",
       "      <td>NaN</td>\n",
       "      <td>NaN</td>\n",
       "      <td>NaN</td>\n",
       "      <td>NaN</td>\n",
       "      <td>Suhre, David 4.48KW Preliminary Estimate.pdf</td>\n",
       "      <td>NaN</td>\n",
       "      <td>1</td>\n",
       "      <td>5</td>\n",
       "      <td>20-Aug-2017</td>\n",
       "      <td>21:26:00</td>\n",
       "    </tr>\n",
       "    <tr>\n",
       "      <th>3</th>\n",
       "      <td>VIEW</td>\n",
       "      <td>5927942</td>\n",
       "      <td>NaN</td>\n",
       "      <td>iOS9_IPAD</td>\n",
       "      <td>iOS9_IPAD</td>\n",
       "      <td>MOBILE_SAFARI</td>\n",
       "      <td>NaN</td>\n",
       "      <td>NaN</td>\n",
       "      <td>NaN</td>\n",
       "      <td>NaN</td>\n",
       "      <td>Read what our customers have to say</td>\n",
       "      <td>NaN</td>\n",
       "      <td>1</td>\n",
       "      <td>545</td>\n",
       "      <td>20-Aug-2017</td>\n",
       "      <td>7:05:10</td>\n",
       "    </tr>\n",
       "    <tr>\n",
       "      <th>4</th>\n",
       "      <td>VIEW</td>\n",
       "      <td>5927942</td>\n",
       "      <td>NaN</td>\n",
       "      <td>iOS9_IPAD</td>\n",
       "      <td>iOS9_IPAD</td>\n",
       "      <td>MOBILE_SAFARI</td>\n",
       "      <td>NaN</td>\n",
       "      <td>NaN</td>\n",
       "      <td>NaN</td>\n",
       "      <td>NaN</td>\n",
       "      <td>Suhre, David 4.48KW Preliminary Estimate.pdf</td>\n",
       "      <td>NaN</td>\n",
       "      <td>1</td>\n",
       "      <td>5</td>\n",
       "      <td>20-Aug-2017</td>\n",
       "      <td>7:04:50</td>\n",
       "    </tr>\n",
       "    <tr>\n",
       "      <th>5</th>\n",
       "      <td>VIEW</td>\n",
       "      <td>5927942</td>\n",
       "      <td>NaN</td>\n",
       "      <td>iOS9_IPAD</td>\n",
       "      <td>iOS9_IPAD</td>\n",
       "      <td>MOBILE_SAFARI</td>\n",
       "      <td>NaN</td>\n",
       "      <td>NaN</td>\n",
       "      <td>NaN</td>\n",
       "      <td>NaN</td>\n",
       "      <td>Suhre, David 4.48KW Preliminary Estimate.pdf</td>\n",
       "      <td>NaN</td>\n",
       "      <td>1</td>\n",
       "      <td>45</td>\n",
       "      <td>20-Aug-2017</td>\n",
       "      <td>6:51:56</td>\n",
       "    </tr>\n",
       "    <tr>\n",
       "      <th>6</th>\n",
       "      <td>VIEW</td>\n",
       "      <td>5927942</td>\n",
       "      <td>NaN</td>\n",
       "      <td>MAC_OS_X_IPHONE</td>\n",
       "      <td>MAC_OS_X_IPHONE</td>\n",
       "      <td>MOBILE_SAFARI</td>\n",
       "      <td>NaN</td>\n",
       "      <td>NaN</td>\n",
       "      <td>NaN</td>\n",
       "      <td>NaN</td>\n",
       "      <td>Read what our customers have to say</td>\n",
       "      <td>NaN</td>\n",
       "      <td>1</td>\n",
       "      <td>185</td>\n",
       "      <td>19-Aug-2017</td>\n",
       "      <td>11:18:43</td>\n",
       "    </tr>\n",
       "    <tr>\n",
       "      <th>7</th>\n",
       "      <td>VIEW</td>\n",
       "      <td>5927942</td>\n",
       "      <td>NaN</td>\n",
       "      <td>MAC_OS_X_IPHONE</td>\n",
       "      <td>MAC_OS_X_IPHONE</td>\n",
       "      <td>MOBILE_SAFARI</td>\n",
       "      <td>NaN</td>\n",
       "      <td>NaN</td>\n",
       "      <td>NaN</td>\n",
       "      <td>NaN</td>\n",
       "      <td>About E2 Solar</td>\n",
       "      <td>NaN</td>\n",
       "      <td>1</td>\n",
       "      <td>115</td>\n",
       "      <td>19-Aug-2017</td>\n",
       "      <td>11:16:30</td>\n",
       "    </tr>\n",
       "    <tr>\n",
       "      <th>8</th>\n",
       "      <td>VIEW</td>\n",
       "      <td>5927942</td>\n",
       "      <td>NaN</td>\n",
       "      <td>MAC_OS_X_IPHONE</td>\n",
       "      <td>MAC_OS_X_IPHONE</td>\n",
       "      <td>MOBILE_SAFARI</td>\n",
       "      <td>NaN</td>\n",
       "      <td>NaN</td>\n",
       "      <td>NaN</td>\n",
       "      <td>NaN</td>\n",
       "      <td>Upload Electricity Bill</td>\n",
       "      <td>NaN</td>\n",
       "      <td>1</td>\n",
       "      <td>35</td>\n",
       "      <td>19-Aug-2017</td>\n",
       "      <td>11:15:08</td>\n",
       "    </tr>\n",
       "    <tr>\n",
       "      <th>9</th>\n",
       "      <td>VIEW</td>\n",
       "      <td>5927942</td>\n",
       "      <td>NaN</td>\n",
       "      <td>MAC_OS_X_IPHONE</td>\n",
       "      <td>MAC_OS_X_IPHONE</td>\n",
       "      <td>MOBILE_SAFARI</td>\n",
       "      <td>NaN</td>\n",
       "      <td>NaN</td>\n",
       "      <td>NaN</td>\n",
       "      <td>NaN</td>\n",
       "      <td>Request your site assessment</td>\n",
       "      <td>NaN</td>\n",
       "      <td>1</td>\n",
       "      <td>5</td>\n",
       "      <td>19-Aug-2017</td>\n",
       "      <td>11:01:34</td>\n",
       "    </tr>\n",
       "    <tr>\n",
       "      <th>10</th>\n",
       "      <td>VIEW</td>\n",
       "      <td>5927942</td>\n",
       "      <td>NaN</td>\n",
       "      <td>MAC_OS_X_IPHONE</td>\n",
       "      <td>MAC_OS_X_IPHONE</td>\n",
       "      <td>MOBILE_SAFARI</td>\n",
       "      <td>NaN</td>\n",
       "      <td>NaN</td>\n",
       "      <td>NaN</td>\n",
       "      <td>NaN</td>\n",
       "      <td>Estimate the benefits of solar</td>\n",
       "      <td>NaN</td>\n",
       "      <td>1</td>\n",
       "      <td>255</td>\n",
       "      <td>19-Aug-2017</td>\n",
       "      <td>11:01:17</td>\n",
       "    </tr>\n",
       "    <tr>\n",
       "      <th>11</th>\n",
       "      <td>VIEW</td>\n",
       "      <td>5927942</td>\n",
       "      <td>NaN</td>\n",
       "      <td>MAC_OS_X_IPHONE</td>\n",
       "      <td>MAC_OS_X_IPHONE</td>\n",
       "      <td>MOBILE_SAFARI</td>\n",
       "      <td>NaN</td>\n",
       "      <td>NaN</td>\n",
       "      <td>NaN</td>\n",
       "      <td>NaN</td>\n",
       "      <td>Suhre, David 4.48KW Preliminary Estimate.pdf</td>\n",
       "      <td>NaN</td>\n",
       "      <td>1</td>\n",
       "      <td>375</td>\n",
       "      <td>19-Aug-2017</td>\n",
       "      <td>11:01:08</td>\n",
       "    </tr>\n",
       "    <tr>\n",
       "      <th>12</th>\n",
       "      <td>VIEW</td>\n",
       "      <td>5927942</td>\n",
       "      <td>NaN</td>\n",
       "      <td>MAC_OS_X_IPHONE</td>\n",
       "      <td>MAC_OS_X_IPHONE</td>\n",
       "      <td>MOBILE_SAFARI</td>\n",
       "      <td>NaN</td>\n",
       "      <td>NaN</td>\n",
       "      <td>NaN</td>\n",
       "      <td>NaN</td>\n",
       "      <td>Suhre, David 4.48KW Preliminary Estimate.pdf</td>\n",
       "      <td>NaN</td>\n",
       "      <td>1</td>\n",
       "      <td>45</td>\n",
       "      <td>19-Aug-2017</td>\n",
       "      <td>10:46:28</td>\n",
       "    </tr>\n",
       "    <tr>\n",
       "      <th>13</th>\n",
       "      <td>VIEW</td>\n",
       "      <td>5927942</td>\n",
       "      <td>NaN</td>\n",
       "      <td>MAC_OS_X_IPHONE</td>\n",
       "      <td>MAC_OS_X_IPHONE</td>\n",
       "      <td>MOBILE_SAFARI</td>\n",
       "      <td>NaN</td>\n",
       "      <td>NaN</td>\n",
       "      <td>NaN</td>\n",
       "      <td>NaN</td>\n",
       "      <td>Update on expiration of Oregon Residential ene...</td>\n",
       "      <td>NaN</td>\n",
       "      <td>1</td>\n",
       "      <td>85</td>\n",
       "      <td>19-Aug-2017</td>\n",
       "      <td>10:42:29</td>\n",
       "    </tr>\n",
       "    <tr>\n",
       "      <th>14</th>\n",
       "      <td>VIEW</td>\n",
       "      <td>5927942</td>\n",
       "      <td>NaN</td>\n",
       "      <td>MAC_OS_X_IPHONE</td>\n",
       "      <td>MAC_OS_X_IPHONE</td>\n",
       "      <td>MOBILE_SAFARI</td>\n",
       "      <td>NaN</td>\n",
       "      <td>NaN</td>\n",
       "      <td>NaN</td>\n",
       "      <td>NaN</td>\n",
       "      <td>Solar Cost Terminology</td>\n",
       "      <td>NaN</td>\n",
       "      <td>1</td>\n",
       "      <td>765</td>\n",
       "      <td>19-Aug-2017</td>\n",
       "      <td>10:27:04</td>\n",
       "    </tr>\n",
       "    <tr>\n",
       "      <th>15</th>\n",
       "      <td>VIEW</td>\n",
       "      <td>5927942</td>\n",
       "      <td>NaN</td>\n",
       "      <td>MAC_OS_X_IPHONE</td>\n",
       "      <td>MAC_OS_X_IPHONE</td>\n",
       "      <td>MOBILE_SAFARI</td>\n",
       "      <td>NaN</td>\n",
       "      <td>NaN</td>\n",
       "      <td>NaN</td>\n",
       "      <td>NaN</td>\n",
       "      <td>Read what our customers have to say</td>\n",
       "      <td>NaN</td>\n",
       "      <td>1</td>\n",
       "      <td>110</td>\n",
       "      <td>19-Aug-2017</td>\n",
       "      <td>6:44:19</td>\n",
       "    </tr>\n",
       "    <tr>\n",
       "      <th>16</th>\n",
       "      <td>VIEW</td>\n",
       "      <td>5927942</td>\n",
       "      <td>NaN</td>\n",
       "      <td>MAC_OS_X_IPHONE</td>\n",
       "      <td>MAC_OS_X_IPHONE</td>\n",
       "      <td>MOBILE_SAFARI</td>\n",
       "      <td>NaN</td>\n",
       "      <td>NaN</td>\n",
       "      <td>NaN</td>\n",
       "      <td>NaN</td>\n",
       "      <td>Request your site assessment</td>\n",
       "      <td>NaN</td>\n",
       "      <td>1</td>\n",
       "      <td>25</td>\n",
       "      <td>19-Aug-2017</td>\n",
       "      <td>6:43:31</td>\n",
       "    </tr>\n",
       "    <tr>\n",
       "      <th>17</th>\n",
       "      <td>VIEW</td>\n",
       "      <td>5927942</td>\n",
       "      <td>NaN</td>\n",
       "      <td>MAC_OS_X_IPHONE</td>\n",
       "      <td>MAC_OS_X_IPHONE</td>\n",
       "      <td>MOBILE_SAFARI</td>\n",
       "      <td>NaN</td>\n",
       "      <td>NaN</td>\n",
       "      <td>NaN</td>\n",
       "      <td>NaN</td>\n",
       "      <td>Upload Electricity Bill</td>\n",
       "      <td>NaN</td>\n",
       "      <td>1</td>\n",
       "      <td>20</td>\n",
       "      <td>19-Aug-2017</td>\n",
       "      <td>6:40:50</td>\n",
       "    </tr>\n",
       "    <tr>\n",
       "      <th>18</th>\n",
       "      <td>VIEW</td>\n",
       "      <td>5927942</td>\n",
       "      <td>NaN</td>\n",
       "      <td>MAC_OS_X_IPHONE</td>\n",
       "      <td>MAC_OS_X_IPHONE</td>\n",
       "      <td>MOBILE_SAFARI</td>\n",
       "      <td>NaN</td>\n",
       "      <td>NaN</td>\n",
       "      <td>NaN</td>\n",
       "      <td>NaN</td>\n",
       "      <td>Your Solar Interest - form</td>\n",
       "      <td>NaN</td>\n",
       "      <td>1</td>\n",
       "      <td>80</td>\n",
       "      <td>19-Aug-2017</td>\n",
       "      <td>6:39:19</td>\n",
       "    </tr>\n",
       "    <tr>\n",
       "      <th>19</th>\n",
       "      <td>VIEW</td>\n",
       "      <td>5927942</td>\n",
       "      <td>NaN</td>\n",
       "      <td>MAC_OS_X_IPHONE</td>\n",
       "      <td>MAC_OS_X_IPHONE</td>\n",
       "      <td>MOBILE_SAFARI</td>\n",
       "      <td>NaN</td>\n",
       "      <td>NaN</td>\n",
       "      <td>NaN</td>\n",
       "      <td>NaN</td>\n",
       "      <td>Estimate the benefits of solar</td>\n",
       "      <td>NaN</td>\n",
       "      <td>1</td>\n",
       "      <td>100</td>\n",
       "      <td>19-Aug-2017</td>\n",
       "      <td>6:38:53</td>\n",
       "    </tr>\n",
       "    <tr>\n",
       "      <th>20</th>\n",
       "      <td>VIEW</td>\n",
       "      <td>5927942</td>\n",
       "      <td>NaN</td>\n",
       "      <td>MAC_OS_X_IPHONE</td>\n",
       "      <td>MAC_OS_X_IPHONE</td>\n",
       "      <td>MOBILE_SAFARI</td>\n",
       "      <td>NaN</td>\n",
       "      <td>NaN</td>\n",
       "      <td>NaN</td>\n",
       "      <td>NaN</td>\n",
       "      <td>Suhre, David 4.48KW Preliminary Estimate.pdf</td>\n",
       "      <td>NaN</td>\n",
       "      <td>1</td>\n",
       "      <td>180</td>\n",
       "      <td>19-Aug-2017</td>\n",
       "      <td>6:26:50</td>\n",
       "    </tr>\n",
       "    <tr>\n",
       "      <th>21</th>\n",
       "      <td>VIEW</td>\n",
       "      <td>5824573</td>\n",
       "      <td>NaN</td>\n",
       "      <td>MAC_OS_X_IPAD</td>\n",
       "      <td>MAC_OS_X_IPAD</td>\n",
       "      <td>MOBILE_SAFARI</td>\n",
       "      <td>NaN</td>\n",
       "      <td>NaN</td>\n",
       "      <td>NaN</td>\n",
       "      <td>NaN</td>\n",
       "      <td>Solar Cost Terminology</td>\n",
       "      <td>NaN</td>\n",
       "      <td>1</td>\n",
       "      <td>30</td>\n",
       "      <td>19-Aug-2017</td>\n",
       "      <td>4:28:04</td>\n",
       "    </tr>\n",
       "    <tr>\n",
       "      <th>22</th>\n",
       "      <td>SHARE</td>\n",
       "      <td>5636419</td>\n",
       "      <td>2622013.0</td>\n",
       "      <td>NaN</td>\n",
       "      <td>WEB</td>\n",
       "      <td>NaN</td>\n",
       "      <td>NaN</td>\n",
       "      <td>NaN</td>\n",
       "      <td>19-Aug-2017</td>\n",
       "      <td>0:24:16</td>\n",
       "      <td>E2 Solar contracts for by Jeffrey Remer</td>\n",
       "      <td>WEB</td>\n",
       "      <td>0</td>\n",
       "      <td>0</td>\n",
       "      <td>19-Aug-2017</td>\n",
       "      <td>0:24:16</td>\n",
       "    </tr>\n",
       "    <tr>\n",
       "      <th>23</th>\n",
       "      <td>VIEW</td>\n",
       "      <td>2622013</td>\n",
       "      <td>NaN</td>\n",
       "      <td>MAC_OS_X</td>\n",
       "      <td>MAC_OS_X</td>\n",
       "      <td>SAFARI</td>\n",
       "      <td>NaN</td>\n",
       "      <td>NaN</td>\n",
       "      <td>NaN</td>\n",
       "      <td>NaN</td>\n",
       "      <td>E2 Solar Contracts for Jeffrey Remer</td>\n",
       "      <td>NaN</td>\n",
       "      <td>1</td>\n",
       "      <td>40</td>\n",
       "      <td>19-Aug-2017</td>\n",
       "      <td>0:23:40</td>\n",
       "    </tr>\n",
       "    <tr>\n",
       "      <th>24</th>\n",
       "      <td>VIEW</td>\n",
       "      <td>5933590</td>\n",
       "      <td>NaN</td>\n",
       "      <td>MAC_OS_X_IPHONE</td>\n",
       "      <td>MAC_OS_X_IPHONE</td>\n",
       "      <td>MOBILE_SAFARI</td>\n",
       "      <td>NaN</td>\n",
       "      <td>NaN</td>\n",
       "      <td>NaN</td>\n",
       "      <td>NaN</td>\n",
       "      <td>Estimate the benefits of solar</td>\n",
       "      <td>NaN</td>\n",
       "      <td>1</td>\n",
       "      <td>5</td>\n",
       "      <td>18-Aug-2017</td>\n",
       "      <td>5:55:05</td>\n",
       "    </tr>\n",
       "    <tr>\n",
       "      <th>25</th>\n",
       "      <td>VIEW</td>\n",
       "      <td>5933590</td>\n",
       "      <td>NaN</td>\n",
       "      <td>MAC_OS_X_IPHONE</td>\n",
       "      <td>MAC_OS_X_IPHONE</td>\n",
       "      <td>MOBILE_SAFARI</td>\n",
       "      <td>NaN</td>\n",
       "      <td>NaN</td>\n",
       "      <td>NaN</td>\n",
       "      <td>NaN</td>\n",
       "      <td>Sultzer, Eric 5.22KW Preliminary Estimate.pdf</td>\n",
       "      <td>NaN</td>\n",
       "      <td>1</td>\n",
       "      <td>5</td>\n",
       "      <td>18-Aug-2017</td>\n",
       "      <td>5:54:51</td>\n",
       "    </tr>\n",
       "    <tr>\n",
       "      <th>26</th>\n",
       "      <td>SHARE</td>\n",
       "      <td>5933734</td>\n",
       "      <td>2834196.0</td>\n",
       "      <td>NaN</td>\n",
       "      <td>WEB</td>\n",
       "      <td>NaN</td>\n",
       "      <td>NaN</td>\n",
       "      <td>NaN</td>\n",
       "      <td>18-Aug-2017</td>\n",
       "      <td>5:32:52</td>\n",
       "      <td>Get the Power Rohr Hilloah</td>\n",
       "      <td>WEB</td>\n",
       "      <td>0</td>\n",
       "      <td>0</td>\n",
       "      <td>18-Aug-2017</td>\n",
       "      <td>5:32:52</td>\n",
       "    </tr>\n",
       "    <tr>\n",
       "      <th>27</th>\n",
       "      <td>SHARE</td>\n",
       "      <td>5933590</td>\n",
       "      <td>2834196.0</td>\n",
       "      <td>NaN</td>\n",
       "      <td>WEB</td>\n",
       "      <td>NaN</td>\n",
       "      <td>NaN</td>\n",
       "      <td>NaN</td>\n",
       "      <td>18-Aug-2017</td>\n",
       "      <td>5:12:42</td>\n",
       "      <td>Get the Power Eric Sultzer</td>\n",
       "      <td>WEB</td>\n",
       "      <td>1</td>\n",
       "      <td>10</td>\n",
       "      <td>18-Aug-2017</td>\n",
       "      <td>5:12:42</td>\n",
       "    </tr>\n",
       "    <tr>\n",
       "      <th>28</th>\n",
       "      <td>VIEW</td>\n",
       "      <td>2834196</td>\n",
       "      <td>NaN</td>\n",
       "      <td>MAC_OS_X</td>\n",
       "      <td>MAC_OS_X</td>\n",
       "      <td>SAFARI</td>\n",
       "      <td>NaN</td>\n",
       "      <td>NaN</td>\n",
       "      <td>NaN</td>\n",
       "      <td>NaN</td>\n",
       "      <td>Sultzer, Eric 5.22KW Preliminary Estimate.pdf</td>\n",
       "      <td>NaN</td>\n",
       "      <td>1</td>\n",
       "      <td>5</td>\n",
       "      <td>18-Aug-2017</td>\n",
       "      <td>5:12:22</td>\n",
       "    </tr>\n",
       "    <tr>\n",
       "      <th>29</th>\n",
       "      <td>VIEW</td>\n",
       "      <td>5752421</td>\n",
       "      <td>NaN</td>\n",
       "      <td>MAC_OS_X_IPAD</td>\n",
       "      <td>MAC_OS_X_IPAD</td>\n",
       "      <td>MOBILE_SAFARI</td>\n",
       "      <td>NaN</td>\n",
       "      <td>NaN</td>\n",
       "      <td>NaN</td>\n",
       "      <td>NaN</td>\n",
       "      <td>Request your site assessment</td>\n",
       "      <td>NaN</td>\n",
       "      <td>1</td>\n",
       "      <td>120</td>\n",
       "      <td>17-Aug-2017</td>\n",
       "      <td>19:42:57</td>\n",
       "    </tr>\n",
       "    <tr>\n",
       "      <th>30</th>\n",
       "      <td>SHARE</td>\n",
       "      <td>5773156</td>\n",
       "      <td>2622013.0</td>\n",
       "      <td>NaN</td>\n",
       "      <td>WEB</td>\n",
       "      <td>NaN</td>\n",
       "      <td>NaN</td>\n",
       "      <td>NaN</td>\n",
       "      <td>9-Aug-2017</td>\n",
       "      <td>23:42:22</td>\n",
       "      <td>E2 Solar contracts for Frank Mungeam</td>\n",
       "      <td>WEB</td>\n",
       "      <td>1</td>\n",
       "      <td>825</td>\n",
       "      <td>17-Aug-2017</td>\n",
       "      <td>8:13:00</td>\n",
       "    </tr>\n",
       "    <tr>\n",
       "      <th>31</th>\n",
       "      <td>VIEW</td>\n",
       "      <td>5773156</td>\n",
       "      <td>NaN</td>\n",
       "      <td>MAC_OS_X</td>\n",
       "      <td>MAC_OS_X</td>\n",
       "      <td>SAFARI</td>\n",
       "      <td>NaN</td>\n",
       "      <td>NaN</td>\n",
       "      <td>NaN</td>\n",
       "      <td>NaN</td>\n",
       "      <td>Net Metering Agreement (Sample Only)</td>\n",
       "      <td>NaN</td>\n",
       "      <td>1</td>\n",
       "      <td>65</td>\n",
       "      <td>17-Aug-2017</td>\n",
       "      <td>8:11:36</td>\n",
       "    </tr>\n",
       "    <tr>\n",
       "      <th>32</th>\n",
       "      <td>VIEW</td>\n",
       "      <td>5773156</td>\n",
       "      <td>NaN</td>\n",
       "      <td>MAC_OS_X</td>\n",
       "      <td>MAC_OS_X</td>\n",
       "      <td>SAFARI</td>\n",
       "      <td>NaN</td>\n",
       "      <td>NaN</td>\n",
       "      <td>NaN</td>\n",
       "      <td>NaN</td>\n",
       "      <td>Pacific Power Schedule 135 for Frank Mungeam</td>\n",
       "      <td>NaN</td>\n",
       "      <td>1</td>\n",
       "      <td>120</td>\n",
       "      <td>17-Aug-2017</td>\n",
       "      <td>8:07:58</td>\n",
       "    </tr>\n",
       "    <tr>\n",
       "      <th>33</th>\n",
       "      <td>VIEW</td>\n",
       "      <td>5773156</td>\n",
       "      <td>NaN</td>\n",
       "      <td>MAC_OS_X</td>\n",
       "      <td>MAC_OS_X</td>\n",
       "      <td>SAFARI</td>\n",
       "      <td>NaN</td>\n",
       "      <td>NaN</td>\n",
       "      <td>NaN</td>\n",
       "      <td>NaN</td>\n",
       "      <td>Energy Trust Incentive Application - Mungeam</td>\n",
       "      <td>NaN</td>\n",
       "      <td>1</td>\n",
       "      <td>20</td>\n",
       "      <td>17-Aug-2017</td>\n",
       "      <td>8:07:16</td>\n",
       "    </tr>\n",
       "    <tr>\n",
       "      <th>34</th>\n",
       "      <td>SHARE</td>\n",
       "      <td>5927942</td>\n",
       "      <td>2834196.0</td>\n",
       "      <td>NaN</td>\n",
       "      <td>WEB</td>\n",
       "      <td>NaN</td>\n",
       "      <td>NaN</td>\n",
       "      <td>NaN</td>\n",
       "      <td>17-Aug-2017</td>\n",
       "      <td>7:37:47</td>\n",
       "      <td>Get the Power David Suhre</td>\n",
       "      <td>WEB</td>\n",
       "      <td>1</td>\n",
       "      <td>2215</td>\n",
       "      <td>17-Aug-2017</td>\n",
       "      <td>7:37:47</td>\n",
       "    </tr>\n",
       "  </tbody>\n",
       "</table>\n",
       "</div>"
      ],
      "text/plain": [
       "   activity_type  user_id      rm_id          user_os    user_os_share  \\\n",
       "0           VIEW  5655305        NaN         MAC_OS_X         MAC_OS_X   \n",
       "1           VIEW  5927942        NaN        iOS9_IPAD        iOS9_IPAD   \n",
       "2           VIEW  5927942        NaN        iOS9_IPAD        iOS9_IPAD   \n",
       "3           VIEW  5927942        NaN        iOS9_IPAD        iOS9_IPAD   \n",
       "4           VIEW  5927942        NaN        iOS9_IPAD        iOS9_IPAD   \n",
       "5           VIEW  5927942        NaN        iOS9_IPAD        iOS9_IPAD   \n",
       "6           VIEW  5927942        NaN  MAC_OS_X_IPHONE  MAC_OS_X_IPHONE   \n",
       "7           VIEW  5927942        NaN  MAC_OS_X_IPHONE  MAC_OS_X_IPHONE   \n",
       "8           VIEW  5927942        NaN  MAC_OS_X_IPHONE  MAC_OS_X_IPHONE   \n",
       "9           VIEW  5927942        NaN  MAC_OS_X_IPHONE  MAC_OS_X_IPHONE   \n",
       "10          VIEW  5927942        NaN  MAC_OS_X_IPHONE  MAC_OS_X_IPHONE   \n",
       "11          VIEW  5927942        NaN  MAC_OS_X_IPHONE  MAC_OS_X_IPHONE   \n",
       "12          VIEW  5927942        NaN  MAC_OS_X_IPHONE  MAC_OS_X_IPHONE   \n",
       "13          VIEW  5927942        NaN  MAC_OS_X_IPHONE  MAC_OS_X_IPHONE   \n",
       "14          VIEW  5927942        NaN  MAC_OS_X_IPHONE  MAC_OS_X_IPHONE   \n",
       "15          VIEW  5927942        NaN  MAC_OS_X_IPHONE  MAC_OS_X_IPHONE   \n",
       "16          VIEW  5927942        NaN  MAC_OS_X_IPHONE  MAC_OS_X_IPHONE   \n",
       "17          VIEW  5927942        NaN  MAC_OS_X_IPHONE  MAC_OS_X_IPHONE   \n",
       "18          VIEW  5927942        NaN  MAC_OS_X_IPHONE  MAC_OS_X_IPHONE   \n",
       "19          VIEW  5927942        NaN  MAC_OS_X_IPHONE  MAC_OS_X_IPHONE   \n",
       "20          VIEW  5927942        NaN  MAC_OS_X_IPHONE  MAC_OS_X_IPHONE   \n",
       "21          VIEW  5824573        NaN    MAC_OS_X_IPAD    MAC_OS_X_IPAD   \n",
       "22         SHARE  5636419  2622013.0              NaN              WEB   \n",
       "23          VIEW  2622013        NaN         MAC_OS_X         MAC_OS_X   \n",
       "24          VIEW  5933590        NaN  MAC_OS_X_IPHONE  MAC_OS_X_IPHONE   \n",
       "25          VIEW  5933590        NaN  MAC_OS_X_IPHONE  MAC_OS_X_IPHONE   \n",
       "26         SHARE  5933734  2834196.0              NaN              WEB   \n",
       "27         SHARE  5933590  2834196.0              NaN              WEB   \n",
       "28          VIEW  2834196        NaN         MAC_OS_X         MAC_OS_X   \n",
       "29          VIEW  5752421        NaN    MAC_OS_X_IPAD    MAC_OS_X_IPAD   \n",
       "30         SHARE  5773156  2622013.0              NaN              WEB   \n",
       "31          VIEW  5773156        NaN         MAC_OS_X         MAC_OS_X   \n",
       "32          VIEW  5773156        NaN         MAC_OS_X         MAC_OS_X   \n",
       "33          VIEW  5773156        NaN         MAC_OS_X         MAC_OS_X   \n",
       "34         SHARE  5927942  2834196.0              NaN              WEB   \n",
       "\n",
       "      viewing_app  viewing_app_version  user_groups  shared_date shared_time  \\\n",
       "0          SAFARI                  NaN          NaN          NaN         NaN   \n",
       "1   MOBILE_SAFARI                  NaN          NaN          NaN         NaN   \n",
       "2   MOBILE_SAFARI                  NaN          NaN          NaN         NaN   \n",
       "3   MOBILE_SAFARI                  NaN          NaN          NaN         NaN   \n",
       "4   MOBILE_SAFARI                  NaN          NaN          NaN         NaN   \n",
       "5   MOBILE_SAFARI                  NaN          NaN          NaN         NaN   \n",
       "6   MOBILE_SAFARI                  NaN          NaN          NaN         NaN   \n",
       "7   MOBILE_SAFARI                  NaN          NaN          NaN         NaN   \n",
       "8   MOBILE_SAFARI                  NaN          NaN          NaN         NaN   \n",
       "9   MOBILE_SAFARI                  NaN          NaN          NaN         NaN   \n",
       "10  MOBILE_SAFARI                  NaN          NaN          NaN         NaN   \n",
       "11  MOBILE_SAFARI                  NaN          NaN          NaN         NaN   \n",
       "12  MOBILE_SAFARI                  NaN          NaN          NaN         NaN   \n",
       "13  MOBILE_SAFARI                  NaN          NaN          NaN         NaN   \n",
       "14  MOBILE_SAFARI                  NaN          NaN          NaN         NaN   \n",
       "15  MOBILE_SAFARI                  NaN          NaN          NaN         NaN   \n",
       "16  MOBILE_SAFARI                  NaN          NaN          NaN         NaN   \n",
       "17  MOBILE_SAFARI                  NaN          NaN          NaN         NaN   \n",
       "18  MOBILE_SAFARI                  NaN          NaN          NaN         NaN   \n",
       "19  MOBILE_SAFARI                  NaN          NaN          NaN         NaN   \n",
       "20  MOBILE_SAFARI                  NaN          NaN          NaN         NaN   \n",
       "21  MOBILE_SAFARI                  NaN          NaN          NaN         NaN   \n",
       "22            NaN                  NaN          NaN  19-Aug-2017     0:24:16   \n",
       "23         SAFARI                  NaN          NaN          NaN         NaN   \n",
       "24  MOBILE_SAFARI                  NaN          NaN          NaN         NaN   \n",
       "25  MOBILE_SAFARI                  NaN          NaN          NaN         NaN   \n",
       "26            NaN                  NaN          NaN  18-Aug-2017     5:32:52   \n",
       "27            NaN                  NaN          NaN  18-Aug-2017     5:12:42   \n",
       "28         SAFARI                  NaN          NaN          NaN         NaN   \n",
       "29  MOBILE_SAFARI                  NaN          NaN          NaN         NaN   \n",
       "30            NaN                  NaN          NaN   9-Aug-2017    23:42:22   \n",
       "31         SAFARI                  NaN          NaN          NaN         NaN   \n",
       "32         SAFARI                  NaN          NaN          NaN         NaN   \n",
       "33         SAFARI                  NaN          NaN          NaN         NaN   \n",
       "34            NaN                  NaN          NaN  17-Aug-2017     7:37:47   \n",
       "\n",
       "                                     title_of_content share_channel  viewed  \\\n",
       "0      Doherty, Conan 5.04KW Preliminary Estimate.pdf           NaN       1   \n",
       "1        Suhre, David 4.48KW Preliminary Estimate.pdf           NaN       1   \n",
       "2        Suhre, David 4.48KW Preliminary Estimate.pdf           NaN       1   \n",
       "3                 Read what our customers have to say           NaN       1   \n",
       "4        Suhre, David 4.48KW Preliminary Estimate.pdf           NaN       1   \n",
       "5        Suhre, David 4.48KW Preliminary Estimate.pdf           NaN       1   \n",
       "6                 Read what our customers have to say           NaN       1   \n",
       "7                                      About E2 Solar           NaN       1   \n",
       "8                             Upload Electricity Bill           NaN       1   \n",
       "9                        Request your site assessment           NaN       1   \n",
       "10                     Estimate the benefits of solar           NaN       1   \n",
       "11       Suhre, David 4.48KW Preliminary Estimate.pdf           NaN       1   \n",
       "12       Suhre, David 4.48KW Preliminary Estimate.pdf           NaN       1   \n",
       "13  Update on expiration of Oregon Residential ene...           NaN       1   \n",
       "14                             Solar Cost Terminology           NaN       1   \n",
       "15                Read what our customers have to say           NaN       1   \n",
       "16                       Request your site assessment           NaN       1   \n",
       "17                            Upload Electricity Bill           NaN       1   \n",
       "18                         Your Solar Interest - form           NaN       1   \n",
       "19                     Estimate the benefits of solar           NaN       1   \n",
       "20       Suhre, David 4.48KW Preliminary Estimate.pdf           NaN       1   \n",
       "21                             Solar Cost Terminology           NaN       1   \n",
       "22            E2 Solar contracts for by Jeffrey Remer           WEB       0   \n",
       "23               E2 Solar Contracts for Jeffrey Remer           NaN       1   \n",
       "24                     Estimate the benefits of solar           NaN       1   \n",
       "25      Sultzer, Eric 5.22KW Preliminary Estimate.pdf           NaN       1   \n",
       "26                         Get the Power Rohr Hilloah           WEB       0   \n",
       "27                         Get the Power Eric Sultzer           WEB       1   \n",
       "28      Sultzer, Eric 5.22KW Preliminary Estimate.pdf           NaN       1   \n",
       "29                       Request your site assessment           NaN       1   \n",
       "30               E2 Solar contracts for Frank Mungeam           WEB       1   \n",
       "31               Net Metering Agreement (Sample Only)           NaN       1   \n",
       "32       Pacific Power Schedule 135 for Frank Mungeam           NaN       1   \n",
       "33       Energy Trust Incentive Application - Mungeam           NaN       1   \n",
       "34                          Get the Power David Suhre           WEB       1   \n",
       "\n",
       "    time_spent_in_seconds last_activity_date last_activity_time  \n",
       "0                     180        21-Aug-2017           21:33:08  \n",
       "1                      85        21-Aug-2017            2:16:47  \n",
       "2                       5        20-Aug-2017           21:26:00  \n",
       "3                     545        20-Aug-2017            7:05:10  \n",
       "4                       5        20-Aug-2017            7:04:50  \n",
       "5                      45        20-Aug-2017            6:51:56  \n",
       "6                     185        19-Aug-2017           11:18:43  \n",
       "7                     115        19-Aug-2017           11:16:30  \n",
       "8                      35        19-Aug-2017           11:15:08  \n",
       "9                       5        19-Aug-2017           11:01:34  \n",
       "10                    255        19-Aug-2017           11:01:17  \n",
       "11                    375        19-Aug-2017           11:01:08  \n",
       "12                     45        19-Aug-2017           10:46:28  \n",
       "13                     85        19-Aug-2017           10:42:29  \n",
       "14                    765        19-Aug-2017           10:27:04  \n",
       "15                    110        19-Aug-2017            6:44:19  \n",
       "16                     25        19-Aug-2017            6:43:31  \n",
       "17                     20        19-Aug-2017            6:40:50  \n",
       "18                     80        19-Aug-2017            6:39:19  \n",
       "19                    100        19-Aug-2017            6:38:53  \n",
       "20                    180        19-Aug-2017            6:26:50  \n",
       "21                     30        19-Aug-2017            4:28:04  \n",
       "22                      0        19-Aug-2017            0:24:16  \n",
       "23                     40        19-Aug-2017            0:23:40  \n",
       "24                      5        18-Aug-2017            5:55:05  \n",
       "25                      5        18-Aug-2017            5:54:51  \n",
       "26                      0        18-Aug-2017            5:32:52  \n",
       "27                     10        18-Aug-2017            5:12:42  \n",
       "28                      5        18-Aug-2017            5:12:22  \n",
       "29                    120        17-Aug-2017           19:42:57  \n",
       "30                    825        17-Aug-2017            8:13:00  \n",
       "31                     65        17-Aug-2017            8:11:36  \n",
       "32                    120        17-Aug-2017            8:07:58  \n",
       "33                     20        17-Aug-2017            8:07:16  \n",
       "34                   2215        17-Aug-2017            7:37:47  "
      ]
     },
     "execution_count": 6,
     "metadata": {},
     "output_type": "execute_result"
    }
   ],
   "source": [
    "df.head(35)"
   ]
  },
  {
   "cell_type": "code",
   "execution_count": 7,
   "metadata": {
    "collapsed": false
   },
   "outputs": [],
   "source": [
    "df[\"share_channel\"].fillna(\"1\", inplace=True)\n",
    "df[\"rm_id\"].fillna(\"0\", inplace=True)"
   ]
  },
  {
   "cell_type": "code",
   "execution_count": 8,
   "metadata": {
    "collapsed": false
   },
   "outputs": [
    {
     "data": {
      "text/plain": [
       "array(['1', 'WEB'], dtype=object)"
      ]
     },
     "execution_count": 8,
     "metadata": {},
     "output_type": "execute_result"
    }
   ],
   "source": [
    "df.share_channel.unique()"
   ]
  },
  {
   "cell_type": "code",
   "execution_count": 9,
   "metadata": {
    "collapsed": false
   },
   "outputs": [],
   "source": [
    "# rm_id_views ={}\n",
    "# user_id_views = {}\n",
    "# k = 0\n",
    "# for i,j in df.iterrows():\n",
    "#     if k == 0:\n",
    "#         temp1 = 0\n",
    "#         k +=1\n",
    "#     if j.activity_type == \"SHARE\":\n",
    "#         temp1, temp2 = 0, 0\n",
    "#         temp1 = j[\"rm_id\"]\n",
    "#         temp2 = j[\"user_id\"]\n",
    "#     else:\n",
    "#         if temp1 != 0: \n",
    "#             while (j[\"activity_type\"] != \"SHARE\"):\n",
    "#                 if temp1 in rm_id_views:\n",
    "#                     rm_id_views[temp1] +=1\n",
    "#                 else:\n",
    "#                     rm_id_views[temp1] =1\n",
    "#                 if temp2 in user_id_views:\n",
    "#                     user_id_views[temp2] +=1\n",
    "#                 else:\n",
    "#                     user_id_views[temp2] =1\n",
    "            \n"
   ]
  },
  {
   "cell_type": "code",
   "execution_count": 10,
   "metadata": {
    "collapsed": false
   },
   "outputs": [],
   "source": [
    "#user_id_views, rm_id_views"
   ]
  },
  {
   "cell_type": "code",
   "execution_count": 11,
   "metadata": {
    "collapsed": false
   },
   "outputs": [
    {
     "data": {
      "text/plain": [
       "Index([u'activity_type', u'user_id', u'rm_id', u'user_os', u'user_os_share',\n",
       "       u'viewing_app', u'viewing_app_version', u'user_groups', u'shared_date',\n",
       "       u'shared_time', u'title_of_content', u'share_channel', u'viewed',\n",
       "       u'time_spent_in_seconds', u'last_activity_date', u'last_activity_time'],\n",
       "      dtype='object')"
      ]
     },
     "execution_count": 11,
     "metadata": {},
     "output_type": "execute_result"
    }
   ],
   "source": [
    "df.columns\n"
   ]
  },
  {
   "cell_type": "markdown",
   "metadata": {},
   "source": [
    "# EDA & Feature Engineering"
   ]
  },
  {
   "cell_type": "code",
   "execution_count": 12,
   "metadata": {
    "collapsed": false
   },
   "outputs": [
    {
     "data": {
      "text/plain": [
       "array(['MAC_OS_X', 'iOS9_IPAD', 'MAC_OS_X_IPHONE', 'MAC_OS_X_IPAD', nan,\n",
       "       'WINDOWS_10', 'WINDOWS_7', 'ANDROID_MOBILE', 'ANDROID6_TABLET',\n",
       "       'ANDROID6', 'ANDROID5', 'ANDROID4_TABLET', 'iOS8_1_IPHONE',\n",
       "       'WINDOWS_81', 'CHROME_OS', 'ANDROID4', 'iOS8_3_IPHONE',\n",
       "       'iOS9_IPHONE', 'iOS7_IPHONE'], dtype=object)"
      ]
     },
     "execution_count": 12,
     "metadata": {},
     "output_type": "execute_result"
    }
   ],
   "source": [
    "df.user_os.unique()\n"
   ]
  },
  {
   "cell_type": "code",
   "execution_count": 13,
   "metadata": {
    "collapsed": false
   },
   "outputs": [],
   "source": [
    "df.rename(columns={'user_os': 'viewing_device'}, inplace=True)\n",
    "df[\"viewing_device\"].replace({\"MAC_OS_X\" : \"Laptop/Desktop\", \"WEB\" : \"Laptop/Desktop\", \"WINDOWS_10\" : \"Laptop/Desktop\", \"WINDOWS_7\" : \"Laptop/Desktop\", \"WINDOWS_81\" : \"Laptop/Desktop\", \"CHROME_OS\" : \"Laptop/Desktop\"}, inplace = True)\n",
    "df[\"viewing_device\"].replace({\"ANDROID_MOBILE\" : \"Phone\", \"ANDROID6\" : \"Phone\", \"ANDROID4\" : \"Phone\", \"ANDROID5\" : \"Phone\",\"ANDROID7\" : \"Phone\", \"MAC_OS_X_IPHONE\" : \"Phone\", \"iOS7_IPHONE\" : \"Phone\", \"iOS8_1_IPHONE\" : \"Phone\", \"iOS8_3_IPHONE\" : \"Phone\", \"iOS9_IPHONE\" : \"Phone\"}, inplace=True)\n",
    "df[\"viewing_device\"].replace({\"ANDROID4_TABLET\" : \"Tablet\", \"ANDROID6_TABLET\" : \"Tablet\", \"iOS9_IPAD\" : \"Tablet\", \"MAC_OS_X_IPAD\" : \"Tablet\"}, inplace = True)\n"
   ]
  },
  {
   "cell_type": "code",
   "execution_count": 14,
   "metadata": {
    "collapsed": false
   },
   "outputs": [
    {
     "data": {
      "text/plain": [
       "array(['SAFARI', 'MOBILE_SAFARI', nan, 'CHROME', 'FIREFOX', 'IE7',\n",
       "       'CHROME_MOBILE', 'FIREFOX48', 'IE11', 'OPERA', 'EDGE', 'EDGE14',\n",
       "       'SAFARI9', 'FIREFOX_MOBILE'], dtype=object)"
      ]
     },
     "execution_count": 14,
     "metadata": {},
     "output_type": "execute_result"
    }
   ],
   "source": [
    "df.viewing_app.unique()"
   ]
  },
  {
   "cell_type": "code",
   "execution_count": 15,
   "metadata": {
    "collapsed": false
   },
   "outputs": [
    {
     "data": {
      "text/plain": [
       "array(['SAFARI', 'MOBILE_SAFARI', nan, 'CHROME', 'FIREFOX', 'IE',\n",
       "       'CHROME_MOBILE', 'OPERA', 'EDGE', 'FIREFOX_MOBILE'], dtype=object)"
      ]
     },
     "execution_count": 15,
     "metadata": {},
     "output_type": "execute_result"
    }
   ],
   "source": [
    "df.rename(columns={'viewing_app': 'browser'}, inplace=True)\n",
    "df[\"browser\"].replace({\"CHROME45\" : \"CHROME\", \"CHROME49\" : \"CHROME\", \"CHROME41\" : \"CHROME\", \"CHROME48\" : \"CHROME\", \"CHROME28\" : \"CHROME\", \"FIREFOX34\" : \"FIREFOX\", \"FIREFOX46\" : \"FIREFOX\", \"FIREFOX48\" : \"FIREFOX\", \"EDGE12\" : \"EDGE\"}, inplace = True)\n",
    "df[\"browser\"].replace({\"IE11\" : \"IE\", \"IE7\" : \"IE\", \"EDGE14\" : \"EDGE\", \"SAFARI5\" : \"SAFARI\", \"SAFARI9\" : \"SAFARI\"}, inplace=True)\n",
    "df.browser.unique()"
   ]
  },
  {
   "cell_type": "code",
   "execution_count": 16,
   "metadata": {
    "collapsed": false
   },
   "outputs": [],
   "source": [
    "df[\"shared_date\"] = pd.to_datetime(df[\"shared_date\"], format=\"%d-%b-%Y\")"
   ]
  },
  {
   "cell_type": "code",
   "execution_count": 17,
   "metadata": {
    "collapsed": false
   },
   "outputs": [],
   "source": [
    "df[\"last_activity_date\"] = pd.to_datetime(df[\"last_activity_date\"], format=\"%d-%b-%Y\")"
   ]
  },
  {
   "cell_type": "code",
   "execution_count": 18,
   "metadata": {
    "collapsed": false
   },
   "outputs": [
    {
     "data": {
      "text/plain": [
       "array([21,  2,  7,  6, 11, 10,  4,  0,  5, 19,  8,  3, 22,  9,  1, 23, 16,\n",
       "       12, 17, 15, 14, 13, 20, 18])"
      ]
     },
     "execution_count": 18,
     "metadata": {},
     "output_type": "execute_result"
    }
   ],
   "source": [
    "df['weekday'] = df['last_activity_date'].dt.dayofweek\n",
    "df[\"weekday_name\"] = df['last_activity_date'].dt.weekday_name\n",
    "df[\"month\"] = df['last_activity_date'].dt.month\n",
    "df[\"time_of_day\"] = pd.to_datetime(df['last_activity_time'], format='%H:%M:%S').dt.hour\n",
    "df.time_of_day.unique()"
   ]
  },
  {
   "cell_type": "code",
   "execution_count": 19,
   "metadata": {
    "collapsed": false
   },
   "outputs": [
    {
     "data": {
      "text/plain": [
       "array([2, 3, 4, 1])"
      ]
     },
     "execution_count": 19,
     "metadata": {},
     "output_type": "execute_result"
    }
   ],
   "source": [
    "# 1: Night(Midnight to 6 am), 2: Morning(6 am to Noon), 3: Afternoon(Noon to 6 pm), 4: Evening(6 pm to Midnight)\n",
    "df[\"time_of_day\"].replace({0 : 3, 1 : 3, 2 : 3, 3 : 3, 4 : 3, 5 : 3}, inplace = True)\n",
    "df[\"time_of_day\"].replace({6 : 4, 7 : 4, 8 : 4, 9 : 4, 10 : 4, 11 : 4}, inplace = True)\n",
    "df[\"time_of_day\"].replace({12 : 1, 13 : 1, 14 : 1, 15 : 1, 16 : 1, 17 : 1}, inplace = True)\n",
    "df[\"time_of_day\"].replace({18 : 2, 19 : 2, 20 : 2, 21 : 2, 22 : 2, 23 : 2}, inplace = True)\n",
    "df.time_of_day.unique()"
   ]
  },
  {
   "cell_type": "code",
   "execution_count": 20,
   "metadata": {
    "collapsed": false
   },
   "outputs": [],
   "source": [
    "df['hour'] = pd.to_datetime(df['last_activity_time'], format='%H:%M:%S').dt.hour"
   ]
  },
  {
   "cell_type": "code",
   "execution_count": 21,
   "metadata": {
    "collapsed": false
   },
   "outputs": [
    {
     "data": {
      "text/plain": [
       "array([1, 0])"
      ]
     },
     "execution_count": 21,
     "metadata": {},
     "output_type": "execute_result"
    }
   ],
   "source": [
    "df.viewed.unique()"
   ]
  },
  {
   "cell_type": "code",
   "execution_count": 22,
   "metadata": {
    "collapsed": true
   },
   "outputs": [],
   "source": [
    "df[\"time_spent_mins\"] = df[\"time_spent_in_seconds\"]/60."
   ]
  },
  {
   "cell_type": "code",
   "execution_count": 23,
   "metadata": {
    "collapsed": false
   },
   "outputs": [],
   "source": [
    "hour_grouped = df.groupby(\"time_of_day\")[\"time_spent_mins\"].sum()"
   ]
  },
  {
   "cell_type": "code",
   "execution_count": 24,
   "metadata": {
    "collapsed": false
   },
   "outputs": [],
   "source": [
    "# plot = plt.bar(xrange(0,4),(df.groupby(\"time_of_day\")[\"time_spent_mins\"].sum()))\n",
    "# plt.xticks(xrange(0,4),[\"Night\", \"Morning\", \"Afternoon\", \"Evening\"])\n"
   ]
  },
  {
   "cell_type": "code",
   "execution_count": 25,
   "metadata": {
    "collapsed": false
   },
   "outputs": [
    {
     "data": {
      "text/plain": [
       "3591"
      ]
     },
     "execution_count": 25,
     "metadata": {},
     "output_type": "execute_result"
    }
   ],
   "source": [
    "#sns.distplot(df[\"time_spent_mins\"], color=\"m\")\n",
    "len(df)"
   ]
  },
  {
   "cell_type": "code",
   "execution_count": 26,
   "metadata": {
    "collapsed": false
   },
   "outputs": [
    {
     "data": {
      "text/plain": [
       "3252"
      ]
     },
     "execution_count": 26,
     "metadata": {},
     "output_type": "execute_result"
    },
    {
     "data": {
      "image/png": "[encoded data removed]",
      "text/plain": [
       "<matplotlib.figure.Figure at 0x1140a4b50>"
      ]
     },
     "metadata": {},
     "output_type": "display_data"
    }
   ],
   "source": [
    "df = df[df[\"time_spent_mins\"] <= 4]\n",
    "plot = plt.hist(df[\"time_spent_mins\"])\n",
    "#plt.boxplot(new_df[\"time_spent_mins\"])\n",
    "\n",
    "len(df) \n",
    "# 1917 (22% reduced)\n",
    "#sns.distplot(new_df[\"time_spent_mins\"], color=\"g\")"
   ]
  },
  {
   "cell_type": "code",
   "execution_count": 27,
   "metadata": {
    "collapsed": true
   },
   "outputs": [],
   "source": [
    "temp = 0\n",
    "for index, row in df.iterrows():\n",
    "    if row[\"activity_type\"] == \"SHARE\":\n",
    "        temp = row[\"shared_date\"]\n",
    "    else:\n",
    "        if temp == 0:\n",
    "            row[\"shared_date\"] = row[\"last_activity_date\"]\n",
    "        else:\n",
    "            row[\"shared_date\"] = temp         "
   ]
  },
  {
   "cell_type": "code",
   "execution_count": 28,
   "metadata": {
    "collapsed": true
   },
   "outputs": [],
   "source": [
    "df['num_of_day_from_share_view'] = (df[\"last_activity_date\"] - df[\"shared_date\"]).astype(dt.timedelta).map(lambda x: 0 if pd.isnull(x) else x.days)\n"
   ]
  },
  {
   "cell_type": "code",
   "execution_count": 29,
   "metadata": {
    "collapsed": false
   },
   "outputs": [],
   "source": [
    "df = df[df['num_of_day_from_share_view']<2]"
   ]
  },
  {
   "cell_type": "code",
   "execution_count": 30,
   "metadata": {
    "collapsed": false
   },
   "outputs": [
    {
     "data": {
      "text/plain": [
       "3220"
      ]
     },
     "execution_count": 30,
     "metadata": {},
     "output_type": "execute_result"
    }
   ],
   "source": [
    "len(df)"
   ]
  },
  {
   "cell_type": "markdown",
   "metadata": {},
   "source": [
    "# SHARE DATA ANALYSIS"
   ]
  },
  {
   "cell_type": "code",
   "execution_count": 31,
   "metadata": {
    "collapsed": false
   },
   "outputs": [
    {
     "data": {
      "text/plain": [
       "Index([u'activity_type', u'user_id', u'rm_id', u'viewing_device',\n",
       "       u'user_os_share', u'browser', u'viewing_app_version', u'user_groups',\n",
       "       u'shared_date', u'shared_time', u'title_of_content', u'share_channel',\n",
       "       u'viewed', u'time_spent_in_seconds', u'last_activity_date',\n",
       "       u'last_activity_time', u'weekday', u'weekday_name', u'month',\n",
       "       u'time_of_day', u'hour', u'time_spent_mins',\n",
       "       u'num_of_day_from_share_view'],\n",
       "      dtype='object')"
      ]
     },
     "execution_count": 31,
     "metadata": {},
     "output_type": "execute_result"
    }
   ],
   "source": [
    "share_df = df[df.activity_type == \"SHARE\"]\n",
    "share_df.columns"
   ]
  },
  {
   "cell_type": "code",
   "execution_count": 32,
   "metadata": {
    "collapsed": false
   },
   "outputs": [
    {
     "data": {
      "text/plain": [
       "array([8, 7, 6, 5, 4, 3, 2])"
      ]
     },
     "execution_count": 32,
     "metadata": {},
     "output_type": "execute_result"
    }
   ],
   "source": [
    "share_df.month.unique()"
   ]
  },
  {
   "cell_type": "code",
   "execution_count": 33,
   "metadata": {
    "collapsed": false
   },
   "outputs": [],
   "source": [
    "y_time_spent = share_df.groupby(\"weekday\")[\"time_spent_mins\"].sum()"
   ]
  },
  {
   "cell_type": "code",
   "execution_count": 34,
   "metadata": {
    "collapsed": false
   },
   "outputs": [
    {
     "data": {
      "text/plain": [
       "(6, 33.0)"
      ]
     },
     "execution_count": 34,
     "metadata": {},
     "output_type": "execute_result"
    }
   ],
   "source": [
    "len(share_df.rm_id.unique()), len(share_df)/float(len(share_df.rm_id.unique()))"
   ]
  },
  {
   "cell_type": "code",
   "execution_count": 35,
   "metadata": {
    "collapsed": false
   },
   "outputs": [
    {
     "data": {
      "text/plain": [
       "<Container object of 7 artists>"
      ]
     },
     "execution_count": 35,
     "metadata": {},
     "output_type": "execute_result"
    },
    {
     "data": {
      "image/png": "[encoded data removed]",
      "text/plain": [
       "<matplotlib.figure.Figure at 0x114442110>"
      ]
     },
     "metadata": {},
     "output_type": "display_data"
    }
   ],
   "source": [
    "plt.bar(xrange(0,len(share_df.groupby(\"month\")[\"rm_id\"].count())), share_df.groupby(\"month\")[\"rm_id\"].count())\n"
   ]
  },
  {
   "cell_type": "code",
   "execution_count": 36,
   "metadata": {
    "collapsed": false
   },
   "outputs": [],
   "source": [
    "#sns.stripplot(x=share_df[\"weekday_name\"], y=share_df[\"time_spent_mins\"], data=share_df, jitter=True)"
   ]
  },
  {
   "cell_type": "code",
   "execution_count": 37,
   "metadata": {
    "collapsed": false
   },
   "outputs": [
    {
     "data": {
      "text/plain": [
       "(198, 145, 6)"
      ]
     },
     "execution_count": 37,
     "metadata": {},
     "output_type": "execute_result"
    }
   ],
   "source": [
    "len(share_df), len(share_df.user_id.unique()), len(share_df.rm_id.unique())"
   ]
  },
  {
   "cell_type": "code",
   "execution_count": 38,
   "metadata": {
    "collapsed": false
   },
   "outputs": [
    {
     "data": {
      "text/plain": [
       "Counter({2616837.0: 4,\n",
       "         2622013.0: 41,\n",
       "         2636314.0: 5,\n",
       "         2834196.0: 142,\n",
       "         4098404.0: 5,\n",
       "         5239516.0: 1})"
      ]
     },
     "execution_count": 38,
     "metadata": {},
     "output_type": "execute_result"
    }
   ],
   "source": [
    "from collections import Counter\n",
    "user_id_list_sh = [j.rm_id for i,j in df.iterrows() if j[\"activity_type\"] == \"SHARE\"]\n",
    "num_shares = Counter(user_id_list_sh)\n",
    "num_shares"
   ]
  },
  {
   "cell_type": "code",
   "execution_count": 39,
   "metadata": {
    "collapsed": false
   },
   "outputs": [],
   "source": [
    "# sns.distplot(share_df[\"num_of_day_from_share_view\"], color=\"m\")"
   ]
  },
  {
   "cell_type": "code",
   "execution_count": 40,
   "metadata": {
    "collapsed": false
   },
   "outputs": [
    {
     "data": {
      "text/plain": [
       "(array([ 193.,    0.,    0.,    0.,    0.,    0.,    0.,    0.,    0.,    5.]),\n",
       " array([ 0. ,  0.1,  0.2,  0.3,  0.4,  0.5,  0.6,  0.7,  0.8,  0.9,  1. ]),\n",
       " <a list of 10 Patch objects>)"
      ]
     },
     "execution_count": 40,
     "metadata": {},
     "output_type": "execute_result"
    },
    {
     "data": {
      "image/png": "[encoded data removed]",
      "text/plain": [
       "<matplotlib.figure.Figure at 0x114402290>"
      ]
     },
     "metadata": {},
     "output_type": "display_data"
    }
   ],
   "source": [
    "import pylab as pl\n",
    "h = sorted(share_df[\"num_of_day_from_share_view\"])  #sorted\n",
    "\n",
    "fit = norm.pdf(h, np.mean(h), np.std(h))  #this is a fitting indeed\n",
    "\n",
    "pl.plot(h,fit,'-o')\n",
    "\n",
    "pl.hist(h)"
   ]
  },
  {
   "cell_type": "code",
   "execution_count": 41,
   "metadata": {
    "collapsed": false
   },
   "outputs": [
    {
     "data": {
      "text/html": [
       "<div>\n",
       "<style>\n",
       "    .dataframe thead tr:only-child th {\n",
       "        text-align: right;\n",
       "    }\n",
       "\n",
       "    .dataframe thead th {\n",
       "        text-align: left;\n",
       "    }\n",
       "\n",
       "    .dataframe tbody tr th {\n",
       "        vertical-align: top;\n",
       "    }\n",
       "</style>\n",
       "<table border=\"1\" class=\"dataframe\">\n",
       "  <thead>\n",
       "    <tr style=\"text-align: right;\">\n",
       "      <th></th>\n",
       "      <th>user_id</th>\n",
       "      <th>viewing_app_version</th>\n",
       "      <th>user_groups</th>\n",
       "      <th>viewed</th>\n",
       "      <th>time_spent_in_seconds</th>\n",
       "      <th>weekday</th>\n",
       "      <th>month</th>\n",
       "      <th>time_of_day</th>\n",
       "      <th>hour</th>\n",
       "      <th>time_spent_mins</th>\n",
       "      <th>num_of_day_from_share_view</th>\n",
       "    </tr>\n",
       "  </thead>\n",
       "  <tbody>\n",
       "    <tr>\n",
       "      <th>count</th>\n",
       "      <td>1.980000e+02</td>\n",
       "      <td>0.0</td>\n",
       "      <td>0.0</td>\n",
       "      <td>198.000000</td>\n",
       "      <td>198.000000</td>\n",
       "      <td>198.000000</td>\n",
       "      <td>198.000000</td>\n",
       "      <td>198.000000</td>\n",
       "      <td>198.000000</td>\n",
       "      <td>198.000000</td>\n",
       "      <td>198.000000</td>\n",
       "    </tr>\n",
       "    <tr>\n",
       "      <th>mean</th>\n",
       "      <td>5.085303e+06</td>\n",
       "      <td>NaN</td>\n",
       "      <td>NaN</td>\n",
       "      <td>0.580808</td>\n",
       "      <td>64.792929</td>\n",
       "      <td>2.555556</td>\n",
       "      <td>5.106061</td>\n",
       "      <td>3.045455</td>\n",
       "      <td>7.818182</td>\n",
       "      <td>1.079882</td>\n",
       "      <td>0.025253</td>\n",
       "    </tr>\n",
       "    <tr>\n",
       "      <th>std</th>\n",
       "      <td>7.605339e+05</td>\n",
       "      <td>NaN</td>\n",
       "      <td>NaN</td>\n",
       "      <td>0.494678</td>\n",
       "      <td>76.828589</td>\n",
       "      <td>1.472056</td>\n",
       "      <td>1.702153</td>\n",
       "      <td>0.678124</td>\n",
       "      <td>7.733326</td>\n",
       "      <td>1.280476</td>\n",
       "      <td>0.157289</td>\n",
       "    </tr>\n",
       "    <tr>\n",
       "      <th>min</th>\n",
       "      <td>2.622013e+06</td>\n",
       "      <td>NaN</td>\n",
       "      <td>NaN</td>\n",
       "      <td>0.000000</td>\n",
       "      <td>0.000000</td>\n",
       "      <td>0.000000</td>\n",
       "      <td>2.000000</td>\n",
       "      <td>2.000000</td>\n",
       "      <td>0.000000</td>\n",
       "      <td>0.000000</td>\n",
       "      <td>0.000000</td>\n",
       "    </tr>\n",
       "    <tr>\n",
       "      <th>25%</th>\n",
       "      <td>4.957954e+06</td>\n",
       "      <td>NaN</td>\n",
       "      <td>NaN</td>\n",
       "      <td>0.000000</td>\n",
       "      <td>0.000000</td>\n",
       "      <td>1.000000</td>\n",
       "      <td>4.000000</td>\n",
       "      <td>3.000000</td>\n",
       "      <td>2.000000</td>\n",
       "      <td>0.000000</td>\n",
       "      <td>0.000000</td>\n",
       "    </tr>\n",
       "    <tr>\n",
       "      <th>50%</th>\n",
       "      <td>5.272435e+06</td>\n",
       "      <td>NaN</td>\n",
       "      <td>NaN</td>\n",
       "      <td>1.000000</td>\n",
       "      <td>20.000000</td>\n",
       "      <td>2.000000</td>\n",
       "      <td>5.000000</td>\n",
       "      <td>3.000000</td>\n",
       "      <td>5.000000</td>\n",
       "      <td>0.333333</td>\n",
       "      <td>0.000000</td>\n",
       "    </tr>\n",
       "    <tr>\n",
       "      <th>75%</th>\n",
       "      <td>5.555166e+06</td>\n",
       "      <td>NaN</td>\n",
       "      <td>NaN</td>\n",
       "      <td>1.000000</td>\n",
       "      <td>125.000000</td>\n",
       "      <td>4.000000</td>\n",
       "      <td>6.000000</td>\n",
       "      <td>3.750000</td>\n",
       "      <td>9.000000</td>\n",
       "      <td>2.083333</td>\n",
       "      <td>0.000000</td>\n",
       "    </tr>\n",
       "    <tr>\n",
       "      <th>max</th>\n",
       "      <td>5.933734e+06</td>\n",
       "      <td>NaN</td>\n",
       "      <td>NaN</td>\n",
       "      <td>1.000000</td>\n",
       "      <td>240.000000</td>\n",
       "      <td>5.000000</td>\n",
       "      <td>8.000000</td>\n",
       "      <td>4.000000</td>\n",
       "      <td>23.000000</td>\n",
       "      <td>4.000000</td>\n",
       "      <td>1.000000</td>\n",
       "    </tr>\n",
       "  </tbody>\n",
       "</table>\n",
       "</div>"
      ],
      "text/plain": [
       "            user_id  viewing_app_version  user_groups      viewed  \\\n",
       "count  1.980000e+02                  0.0          0.0  198.000000   \n",
       "mean   5.085303e+06                  NaN          NaN    0.580808   \n",
       "std    7.605339e+05                  NaN          NaN    0.494678   \n",
       "min    2.622013e+06                  NaN          NaN    0.000000   \n",
       "25%    4.957954e+06                  NaN          NaN    0.000000   \n",
       "50%    5.272435e+06                  NaN          NaN    1.000000   \n",
       "75%    5.555166e+06                  NaN          NaN    1.000000   \n",
       "max    5.933734e+06                  NaN          NaN    1.000000   \n",
       "\n",
       "       time_spent_in_seconds     weekday       month  time_of_day        hour  \\\n",
       "count             198.000000  198.000000  198.000000   198.000000  198.000000   \n",
       "mean               64.792929    2.555556    5.106061     3.045455    7.818182   \n",
       "std                76.828589    1.472056    1.702153     0.678124    7.733326   \n",
       "min                 0.000000    0.000000    2.000000     2.000000    0.000000   \n",
       "25%                 0.000000    1.000000    4.000000     3.000000    2.000000   \n",
       "50%                20.000000    2.000000    5.000000     3.000000    5.000000   \n",
       "75%               125.000000    4.000000    6.000000     3.750000    9.000000   \n",
       "max               240.000000    5.000000    8.000000     4.000000   23.000000   \n",
       "\n",
       "       time_spent_mins  num_of_day_from_share_view  \n",
       "count       198.000000                  198.000000  \n",
       "mean          1.079882                    0.025253  \n",
       "std           1.280476                    0.157289  \n",
       "min           0.000000                    0.000000  \n",
       "25%           0.000000                    0.000000  \n",
       "50%           0.333333                    0.000000  \n",
       "75%           2.083333                    0.000000  \n",
       "max           4.000000                    1.000000  "
      ]
     },
     "execution_count": 41,
     "metadata": {},
     "output_type": "execute_result"
    }
   ],
   "source": [
    "share_df.describe()"
   ]
  },
  {
   "cell_type": "code",
   "execution_count": 42,
   "metadata": {
    "collapsed": false
   },
   "outputs": [
    {
     "data": {
      "text/plain": [
       "<module 'pylab' from '/Users/urmimukherjee/anaconda2/lib/python2.7/site-packages/pylab.pyc'>"
      ]
     },
     "execution_count": 42,
     "metadata": {},
     "output_type": "execute_result"
    },
    {
     "data": {
      "image/png": "[encoded data removed]",
      "text/plain": [
       "<matplotlib.figure.Figure at 0x113eefc90>"
      ]
     },
     "metadata": {},
     "output_type": "display_data"
    }
   ],
   "source": [
    "import pylab as pl\n",
    "days_share_view = share_df[share_df[\"num_of_day_from_share_view\"]<=7]\n",
    "len(share_df),len(days_share_view)\n",
    "h = sorted(days_share_view[\"num_of_day_from_share_view\"]) #sorted\n",
    "\n",
    "# fit = norm.pdf(h, np.mean(h), np.std(h))  #this is a fitting indeed\n",
    "\n",
    "# pl.plot(h,fit,'-o')\n",
    "\n",
    "pl.hist(h)\n",
    "pl"
   ]
  },
  {
   "cell_type": "code",
   "execution_count": 43,
   "metadata": {
    "collapsed": false
   },
   "outputs": [
    {
     "data": {
      "text/plain": [
       "(198, 198)"
      ]
     },
     "execution_count": 43,
     "metadata": {},
     "output_type": "execute_result"
    }
   ],
   "source": [
    "len(share_df),len(days_share_view)"
   ]
  },
  {
   "cell_type": "code",
   "execution_count": 44,
   "metadata": {
    "collapsed": false
   },
   "outputs": [],
   "source": [
    "# uniq_titles = np.sort(share_df.title_of_content.unique())\n",
    "# uniq_title_num_share = share_df.groupby(\"title_of_content\")[\"activity_type\"].count()\n",
    "# #uniq_titles \n",
    "# uniq_title_num_share"
   ]
  },
  {
   "cell_type": "code",
   "execution_count": 45,
   "metadata": {
    "collapsed": false
   },
   "outputs": [],
   "source": [
    "# import pylab as pl\n",
    "# h = sorted(share_df[\"time_spent_mins\"])  #sorted\n",
    "\n",
    "# fit = norm.pdf(h, np.mean(h), np.std(h))  #this is a fitting indeed\n",
    "\n",
    "# pl.plot(h,fit,'-o')\n",
    "\n",
    "# pl.hist(h,normed=True)\n"
   ]
  },
  {
   "cell_type": "code",
   "execution_count": 46,
   "metadata": {
    "collapsed": false
   },
   "outputs": [],
   "source": [
    "#share_df[\"weekday\"].plot.kde()"
   ]
  },
  {
   "cell_type": "code",
   "execution_count": 47,
   "metadata": {
    "collapsed": false
   },
   "outputs": [],
   "source": [
    "# plot = plt.bar(xrange(0,7),(share_df.groupby(\"weekday\")[\"time_spent_mins\"].sum()))\n",
    "# plt.xticks(xrange(0,7),[\"Sunday\", \"Monday\", \"Tuesday\", \"Wednesday\", \"Thursday\", \"Friday\", \"Saturday\"])\n",
    "# share_weekday = share_df.groupby(\"weekday\")[\"time_spent_mins\"].sum()"
   ]
  },
  {
   "cell_type": "code",
   "execution_count": 48,
   "metadata": {
    "collapsed": false
   },
   "outputs": [],
   "source": [
    "# plot = plt.bar(xrange(0,7),(share_df.groupby(\"month\")[\"time_spent_mins\"].sum()))\n",
    "# plt.xticks(xrange(0,7),[\"Feb\", \"Mar\", \"Apr\", \"May\", \"Jun\", \"Jul\", \"Aug\"])"
   ]
  },
  {
   "cell_type": "code",
   "execution_count": 49,
   "metadata": {
    "collapsed": false
   },
   "outputs": [],
   "source": [
    "# import pylab as pl\n",
    "# new_share = share_df[share_df[\"time_spent_mins\"]<=8]\n",
    "# h = sorted(new_share[\"time_spent_mins\"])  #sorted\n",
    "\n",
    "# fit = norm.pdf(h, np.mean(h), np.std(h))  #this is a fitting indeed\n",
    "\n",
    "# pl.plot(h,fit,'-o')\n",
    "# pl.axvline(x=np.mean(h)+np.std(h),color='r', linestyle='--')\n",
    "# pl.axvline(x=np.mean(h)-np.std(h),color='r', linestyle='--')\n",
    "# pl.hist(h,normed=True)\n"
   ]
  },
  {
   "cell_type": "code",
   "execution_count": 50,
   "metadata": {
    "collapsed": false
   },
   "outputs": [],
   "source": [
    "#h = plt.hist(share_df.time_spent_mins)"
   ]
  },
  {
   "cell_type": "code",
   "execution_count": 51,
   "metadata": {
    "collapsed": false
   },
   "outputs": [
    {
     "data": {
      "text/plain": [
       "array(['1', 'WEB'], dtype=object)"
      ]
     },
     "execution_count": 51,
     "metadata": {},
     "output_type": "execute_result"
    }
   ],
   "source": [
    "#sns.stripplot(x=\"share_channel\", y=\"time_spent_mins\", data=share_df)\n",
    "df.share_channel.unique()\n"
   ]
  },
  {
   "cell_type": "code",
   "execution_count": 52,
   "metadata": {
    "collapsed": false
   },
   "outputs": [
    {
     "data": {
      "text/plain": [
       "([<matplotlib.axis.XTick at 0x1147cc510>],\n",
       " <a list of 1 Text xticklabel objects>)"
      ]
     },
     "execution_count": 52,
     "metadata": {},
     "output_type": "execute_result"
    },
    {
     "data": {
      "image/png": "[encoded data removed]",
      "text/plain": [
       "<matplotlib.figure.Figure at 0x10882c810>"
      ]
     },
     "metadata": {},
     "output_type": "display_data"
    }
   ],
   "source": [
    "plt.bar(xrange(0,1),(share_df.groupby(\"share_channel\")[\"time_spent_mins\"].count()))\n",
    "plt.xticks(xrange(0,1),[\"WEB\"])\n",
    "# plt.xlabel(\"Share Channel\")\n",
    "# plt.ylabel(\"Number of Shares\")\n",
    "# plt.title(\"TW - Num Shares Vs Share Channel\")"
   ]
  },
  {
   "cell_type": "code",
   "execution_count": 53,
   "metadata": {
    "collapsed": false
   },
   "outputs": [],
   "source": [
    "#sns.stripplot(x=\"time_of_day\", y=\"time_spent_mins\", data=share_df)\n"
   ]
  },
  {
   "cell_type": "markdown",
   "metadata": {},
   "source": [
    "# VIEW DATA ANALYSIS"
   ]
  },
  {
   "cell_type": "code",
   "execution_count": 54,
   "metadata": {
    "collapsed": false
   },
   "outputs": [
    {
     "data": {
      "text/html": [
       "<div>\n",
       "<style>\n",
       "    .dataframe thead tr:only-child th {\n",
       "        text-align: right;\n",
       "    }\n",
       "\n",
       "    .dataframe thead th {\n",
       "        text-align: left;\n",
       "    }\n",
       "\n",
       "    .dataframe tbody tr th {\n",
       "        vertical-align: top;\n",
       "    }\n",
       "</style>\n",
       "<table border=\"1\" class=\"dataframe\">\n",
       "  <thead>\n",
       "    <tr style=\"text-align: right;\">\n",
       "      <th></th>\n",
       "      <th>user_id</th>\n",
       "      <th>viewed</th>\n",
       "      <th>time_spent_in_seconds</th>\n",
       "      <th>weekday</th>\n",
       "      <th>month</th>\n",
       "      <th>time_of_day</th>\n",
       "      <th>hour</th>\n",
       "      <th>time_spent_mins</th>\n",
       "      <th>num_of_day_from_share_view</th>\n",
       "    </tr>\n",
       "  </thead>\n",
       "  <tbody>\n",
       "    <tr>\n",
       "      <th>count</th>\n",
       "      <td>3.022000e+03</td>\n",
       "      <td>3022.0</td>\n",
       "      <td>3022.000000</td>\n",
       "      <td>3022.000000</td>\n",
       "      <td>3022.000000</td>\n",
       "      <td>3022.000000</td>\n",
       "      <td>3022.000000</td>\n",
       "      <td>3022.000000</td>\n",
       "      <td>3022.0</td>\n",
       "    </tr>\n",
       "    <tr>\n",
       "      <th>mean</th>\n",
       "      <td>4.127663e+06</td>\n",
       "      <td>1.0</td>\n",
       "      <td>45.145268</td>\n",
       "      <td>2.699206</td>\n",
       "      <td>4.896757</td>\n",
       "      <td>2.989411</td>\n",
       "      <td>8.908339</td>\n",
       "      <td>0.752421</td>\n",
       "      <td>0.0</td>\n",
       "    </tr>\n",
       "    <tr>\n",
       "      <th>std</th>\n",
       "      <td>1.199607e+06</td>\n",
       "      <td>0.0</td>\n",
       "      <td>50.202408</td>\n",
       "      <td>1.580205</td>\n",
       "      <td>1.678553</td>\n",
       "      <td>0.792146</td>\n",
       "      <td>7.797368</td>\n",
       "      <td>0.836707</td>\n",
       "      <td>0.0</td>\n",
       "    </tr>\n",
       "    <tr>\n",
       "      <th>min</th>\n",
       "      <td>2.616837e+06</td>\n",
       "      <td>1.0</td>\n",
       "      <td>0.000000</td>\n",
       "      <td>0.000000</td>\n",
       "      <td>2.000000</td>\n",
       "      <td>1.000000</td>\n",
       "      <td>0.000000</td>\n",
       "      <td>0.000000</td>\n",
       "      <td>0.0</td>\n",
       "    </tr>\n",
       "    <tr>\n",
       "      <th>25%</th>\n",
       "      <td>2.834196e+06</td>\n",
       "      <td>1.0</td>\n",
       "      <td>10.000000</td>\n",
       "      <td>1.000000</td>\n",
       "      <td>3.000000</td>\n",
       "      <td>2.000000</td>\n",
       "      <td>3.000000</td>\n",
       "      <td>0.166667</td>\n",
       "      <td>0.0</td>\n",
       "    </tr>\n",
       "    <tr>\n",
       "      <th>50%</th>\n",
       "      <td>4.098404e+06</td>\n",
       "      <td>1.0</td>\n",
       "      <td>22.000000</td>\n",
       "      <td>3.000000</td>\n",
       "      <td>5.000000</td>\n",
       "      <td>3.000000</td>\n",
       "      <td>6.000000</td>\n",
       "      <td>0.366667</td>\n",
       "      <td>0.0</td>\n",
       "    </tr>\n",
       "    <tr>\n",
       "      <th>75%</th>\n",
       "      <td>5.239677e+06</td>\n",
       "      <td>1.0</td>\n",
       "      <td>65.000000</td>\n",
       "      <td>4.000000</td>\n",
       "      <td>6.000000</td>\n",
       "      <td>4.000000</td>\n",
       "      <td>16.750000</td>\n",
       "      <td>1.083333</td>\n",
       "      <td>0.0</td>\n",
       "    </tr>\n",
       "    <tr>\n",
       "      <th>max</th>\n",
       "      <td>5.933590e+06</td>\n",
       "      <td>1.0</td>\n",
       "      <td>240.000000</td>\n",
       "      <td>6.000000</td>\n",
       "      <td>8.000000</td>\n",
       "      <td>4.000000</td>\n",
       "      <td>23.000000</td>\n",
       "      <td>4.000000</td>\n",
       "      <td>0.0</td>\n",
       "    </tr>\n",
       "  </tbody>\n",
       "</table>\n",
       "</div>"
      ],
      "text/plain": [
       "            user_id  viewed  time_spent_in_seconds      weekday        month  \\\n",
       "count  3.022000e+03  3022.0            3022.000000  3022.000000  3022.000000   \n",
       "mean   4.127663e+06     1.0              45.145268     2.699206     4.896757   \n",
       "std    1.199607e+06     0.0              50.202408     1.580205     1.678553   \n",
       "min    2.616837e+06     1.0               0.000000     0.000000     2.000000   \n",
       "25%    2.834196e+06     1.0              10.000000     1.000000     3.000000   \n",
       "50%    4.098404e+06     1.0              22.000000     3.000000     5.000000   \n",
       "75%    5.239677e+06     1.0              65.000000     4.000000     6.000000   \n",
       "max    5.933590e+06     1.0             240.000000     6.000000     8.000000   \n",
       "\n",
       "       time_of_day         hour  time_spent_mins  num_of_day_from_share_view  \n",
       "count  3022.000000  3022.000000      3022.000000                      3022.0  \n",
       "mean      2.989411     8.908339         0.752421                         0.0  \n",
       "std       0.792146     7.797368         0.836707                         0.0  \n",
       "min       1.000000     0.000000         0.000000                         0.0  \n",
       "25%       2.000000     3.000000         0.166667                         0.0  \n",
       "50%       3.000000     6.000000         0.366667                         0.0  \n",
       "75%       4.000000    16.750000         1.083333                         0.0  \n",
       "max       4.000000    23.000000         4.000000                         0.0  "
      ]
     },
     "execution_count": 54,
     "metadata": {},
     "output_type": "execute_result"
    }
   ],
   "source": [
    "view_df = df[(df.activity_type == \"VIEW\")]\n",
    "view_df = view_df.drop([\"share_channel\", \"user_groups\", \"shared_date\", \"shared_time\", \"rm_id\", \"viewing_app_version\"], axis =1)\n",
    "view_df.describe()"
   ]
  },
  {
   "cell_type": "code",
   "execution_count": 55,
   "metadata": {
    "collapsed": false
   },
   "outputs": [
    {
     "data": {
      "text/plain": [
       "(3022, 183)"
      ]
     },
     "execution_count": 55,
     "metadata": {},
     "output_type": "execute_result"
    }
   ],
   "source": [
    "len(view_df), len(view_df.user_id.unique())"
   ]
  },
  {
   "cell_type": "code",
   "execution_count": 56,
   "metadata": {
    "collapsed": false
   },
   "outputs": [
    {
     "data": {
      "text/plain": [
       "Index([u'activity_type', u'user_id', u'viewing_device', u'user_os_share',\n",
       "       u'browser', u'title_of_content', u'viewed', u'time_spent_in_seconds',\n",
       "       u'last_activity_date', u'last_activity_time', u'weekday',\n",
       "       u'weekday_name', u'month', u'time_of_day', u'hour', u'time_spent_mins',\n",
       "       u'num_of_day_from_share_view'],\n",
       "      dtype='object')"
      ]
     },
     "execution_count": 56,
     "metadata": {},
     "output_type": "execute_result"
    }
   ],
   "source": [
    "view_df.columns"
   ]
  },
  {
   "cell_type": "code",
   "execution_count": 57,
   "metadata": {
    "collapsed": false
   },
   "outputs": [
    {
     "data": {
      "text/plain": [
       "15.262626262626263"
      ]
     },
     "execution_count": 57,
     "metadata": {},
     "output_type": "execute_result"
    }
   ],
   "source": [
    "views_per_share = len(view_df)/float(len(share_df))\n",
    "views_per_share"
   ]
  },
  {
   "cell_type": "code",
   "execution_count": 58,
   "metadata": {
    "collapsed": false
   },
   "outputs": [
    {
     "data": {
      "text/plain": [
       "619"
      ]
     },
     "execution_count": 58,
     "metadata": {},
     "output_type": "execute_result"
    }
   ],
   "source": [
    "len(view_df.title_of_content.unique())\n"
   ]
  },
  {
   "cell_type": "code",
   "execution_count": 59,
   "metadata": {
    "collapsed": false
   },
   "outputs": [
    {
     "data": {
      "text/plain": [
       "(array([ 1522.,   548.,   263.,   155.,   154.,   225.,    56.,    42.,\n",
       "           25.,    32.]),\n",
       " array([ 0. ,  0.4,  0.8,  1.2,  1.6,  2. ,  2.4,  2.8,  3.2,  3.6,  4. ]),\n",
       " <a list of 10 Patch objects>)"
      ]
     },
     "execution_count": 59,
     "metadata": {},
     "output_type": "execute_result"
    },
    {
     "data": {
      "image/png": "[encoded data removed]",
      "text/plain": [
       "<matplotlib.figure.Figure at 0x11496b790>"
      ]
     },
     "metadata": {},
     "output_type": "display_data"
    }
   ],
   "source": [
    "plt.hist(view_df[\"time_spent_mins\"])"
   ]
  },
  {
   "cell_type": "markdown",
   "metadata": {},
   "source": [
    "# NEW ANALYSIS -- Start"
   ]
  },
  {
   "cell_type": "code",
   "execution_count": 60,
   "metadata": {
    "collapsed": false
   },
   "outputs": [],
   "source": [
    "from collections import Counter\n",
    "user_id_list = [j.user_id for i,j in df.iterrows() if j[\"activity_type\"] == \"VIEW\"]\n",
    "num_views = Counter(user_id_list)\n",
    "best, views = {}, []\n",
    "#best = sorted(num_views, key=lambda x : num_views[x])\n",
    "for k,v in num_views.iteritems():\n",
    "    if v>=2 and v<20:\n",
    "        best[k] = v\n",
    "        views.append(v)\n"
   ]
  },
  {
   "cell_type": "code",
   "execution_count": 61,
   "metadata": {
    "collapsed": false
   },
   "outputs": [
    {
     "data": {
      "text/plain": [
       "(183, 140, 8.0571428571428569, 19, 2)"
      ]
     },
     "execution_count": 61,
     "metadata": {},
     "output_type": "execute_result"
    }
   ],
   "source": [
    "len(num_views), len(best), np.array(views).mean(),np.array(views).max(), np.array(views).min()"
   ]
  },
  {
   "cell_type": "code",
   "execution_count": 62,
   "metadata": {
    "collapsed": false
   },
   "outputs": [
    {
     "data": {
      "text/plain": [
       "{2616837: 3,\n",
       " 2699084: 5,\n",
       " 2733491: 10,\n",
       " 2987296: 4,\n",
       " 3030935: 15,\n",
       " 3123168: 5,\n",
       " 3127683: 9,\n",
       " 3195226: 7,\n",
       " 3268105: 14,\n",
       " 3281432: 2,\n",
       " 3288051: 3,\n",
       " 3354679: 8,\n",
       " 3381734: 7,\n",
       " 3480466: 10,\n",
       " 3501150: 3,\n",
       " 3518338: 5,\n",
       " 3644223: 2,\n",
       " 3644339: 2,\n",
       " 3654922: 8,\n",
       " 3667401: 5,\n",
       " 3739182: 9,\n",
       " 3882655: 4,\n",
       " 3891465: 8,\n",
       " 3891692: 8,\n",
       " 3907834: 5,\n",
       " 3908136: 2,\n",
       " 3913947: 16,\n",
       " 3914397: 4,\n",
       " 3918477: 2,\n",
       " 4093679: 5,\n",
       " 4099467: 3,\n",
       " 4405949: 19,\n",
       " 4644420: 2,\n",
       " 4644519: 15,\n",
       " 4653948: 14,\n",
       " 4770307: 16,\n",
       " 4785163: 12,\n",
       " 4788974: 4,\n",
       " 4887623: 5,\n",
       " 4888220: 12,\n",
       " 4891210: 16,\n",
       " 4900809: 8,\n",
       " 4904527: 4,\n",
       " 4917483: 11,\n",
       " 4920033: 8,\n",
       " 4920262: 15,\n",
       " 4939033: 7,\n",
       " 5032254: 7,\n",
       " 5032376: 16,\n",
       " 5035844: 9,\n",
       " 5045231: 5,\n",
       " 5046561: 6,\n",
       " 5046673: 8,\n",
       " 5058757: 9,\n",
       " 5064124: 12,\n",
       " 5091928: 16,\n",
       " 5192894: 15,\n",
       " 5193046: 2,\n",
       " 5193141: 4,\n",
       " 5193210: 9,\n",
       " 5199673: 10,\n",
       " 5200144: 10,\n",
       " 5203832: 8,\n",
       " 5213666: 15,\n",
       " 5215921: 16,\n",
       " 5217482: 9,\n",
       " 5220678: 8,\n",
       " 5239003: 6,\n",
       " 5239535: 14,\n",
       " 5255454: 11,\n",
       " 5282278: 5,\n",
       " 5282523: 2,\n",
       " 5289812: 5,\n",
       " 5295095: 7,\n",
       " 5299002: 10,\n",
       " 5299557: 14,\n",
       " 5310067: 3,\n",
       " 5312909: 11,\n",
       " 5334004: 10,\n",
       " 5335291: 14,\n",
       " 5346885: 10,\n",
       " 5350350: 16,\n",
       " 5373347: 11,\n",
       " 5373475: 6,\n",
       " 5389785: 7,\n",
       " 5395176: 4,\n",
       " 5395361: 7,\n",
       " 5488427: 18,\n",
       " 5513968: 2,\n",
       " 5514947: 3,\n",
       " 5515254: 7,\n",
       " 5515792: 7,\n",
       " 5524578: 7,\n",
       " 5536093: 3,\n",
       " 5539196: 6,\n",
       " 5541148: 2,\n",
       " 5550987: 11,\n",
       " 5556705: 2,\n",
       " 5559148: 11,\n",
       " 5636419: 10,\n",
       " 5645336: 5,\n",
       " 5647481: 18,\n",
       " 5651220: 7,\n",
       " 5651774: 17,\n",
       " 5655020: 17,\n",
       " 5655305: 10,\n",
       " 5664442: 2,\n",
       " 5664898: 5,\n",
       " 5672005: 6,\n",
       " 5672736: 4,\n",
       " 5698896: 10,\n",
       " 5713756: 16,\n",
       " 5733956: 10,\n",
       " 5736751: 18,\n",
       " 5737060: 2,\n",
       " 5737335: 3,\n",
       " 5752176: 4,\n",
       " 5752421: 17,\n",
       " 5760269: 8,\n",
       " 5770675: 2,\n",
       " 5773156: 10,\n",
       " 5773273: 4,\n",
       " 5773387: 5,\n",
       " 5773510: 2,\n",
       " 5778045: 14,\n",
       " 5778864: 6,\n",
       " 5781111: 7,\n",
       " 5791005: 6,\n",
       " 5791841: 2,\n",
       " 5799269: 3,\n",
       " 5811767: 6,\n",
       " 5812998: 16,\n",
       " 5824573: 5,\n",
       " 5830158: 4,\n",
       " 5858299: 9,\n",
       " 5859148: 7,\n",
       " 5860243: 3,\n",
       " 5919547: 3,\n",
       " 5927942: 16,\n",
       " 5933590: 2}"
      ]
     },
     "execution_count": 62,
     "metadata": {},
     "output_type": "execute_result"
    }
   ],
   "source": [
    "best"
   ]
  },
  {
   "cell_type": "code",
   "execution_count": 63,
   "metadata": {
    "collapsed": false
   },
   "outputs": [
    {
     "data": {
      "text/plain": [
       "(array([ 28.,  25.,  21.,  10.,  19.,   9.,   0.,  11.,  13.,   4.]),\n",
       " array([  2. ,   3.7,   5.4,   7.1,   8.8,  10.5,  12.2,  13.9,  15.6,\n",
       "         17.3,  19. ]),\n",
       " <a list of 10 Patch objects>)"
      ]
     },
     "execution_count": 63,
     "metadata": {},
     "output_type": "execute_result"
    },
    {
     "data": {
      "image/png": "[encoded data removed]",
      "text/plain": [
       "<matplotlib.figure.Figure at 0x114839a10>"
      ]
     },
     "metadata": {},
     "output_type": "display_data"
    }
   ],
   "source": [
    "plt.hist([v for v in views if v>1 and v<20])"
   ]
  },
  {
   "cell_type": "code",
   "execution_count": 64,
   "metadata": {
    "collapsed": false
   },
   "outputs": [
    {
     "data": {
      "text/plain": [
       "([3268105,\n",
       "  4785163,\n",
       "  3891465,\n",
       "  2733491,\n",
       "  5733956,\n",
       "  5773156,\n",
       "  5778045,\n",
       "  4888220,\n",
       "  5058757,\n",
       "  5217482,\n",
       "  4920033,\n",
       "  4653948,\n",
       "  4917483,\n",
       "  5335291,\n",
       "  5655305,\n",
       "  3654922,\n",
       "  5760269,\n",
       "  5200144,\n",
       "  3739182,\n",
       "  5255454,\n",
       "  5199673,\n",
       "  5299002,\n",
       "  5636419,\n",
       "  5035844,\n",
       "  5220678,\n",
       "  3354679,\n",
       "  5698896,\n",
       "  5299557,\n",
       "  5559148,\n",
       "  5203832,\n",
       "  3127683,\n",
       "  3891692,\n",
       "  5550987,\n",
       "  5312909,\n",
       "  5046673,\n",
       "  3480466,\n",
       "  5239535,\n",
       "  5346885,\n",
       "  5373347,\n",
       "  5064124,\n",
       "  4900809,\n",
       "  5334004,\n",
       "  5193210,\n",
       "  5858299],\n",
       " 44)"
      ]
     },
     "execution_count": 64,
     "metadata": {},
     "output_type": "execute_result"
    }
   ],
   "source": [
    "conv_ids = []\n",
    "for k,v in num_views.iteritems(): \n",
    "    if v>7 and v<15:\n",
    "        conv_ids.append(k)\n",
    "conv_ids, len(conv_ids)"
   ]
  },
  {
   "cell_type": "code",
   "execution_count": null,
   "metadata": {
    "collapsed": true
   },
   "outputs": [],
   "source": []
  },
  {
   "cell_type": "code",
   "execution_count": 65,
   "metadata": {
    "collapsed": false
   },
   "outputs": [],
   "source": [
    "view_df[\"conv_id\"] = view_df[\"viewed\"]\n",
    "test_df = view_df\n",
    "conv_df = pd.DataFrame()\n",
    "for i in xrange(len(conv_ids)):\n",
    "    temp_df = view_df[view_df[\"user_id\"] == conv_ids[i]]\n",
    "    conv_df = conv_df.append(temp_df)\n",
    "    test_df.drop(test_df[\"user_id\"] == conv_ids[i])\n",
    "    "
   ]
  },
  {
   "cell_type": "code",
   "execution_count": 91,
   "metadata": {
    "collapsed": false
   },
   "outputs": [
    {
     "data": {
      "text/plain": [
       "<matplotlib.collections.PathCollection at 0x1147eb090>"
      ]
     },
     "execution_count": 91,
     "metadata": {},
     "output_type": "execute_result"
    },
    {
     "data": {
      "image/png": "[encoded data removed]",
      "text/plain": [
       "<matplotlib.figure.Figure at 0x1155e95d0>"
      ]
     },
     "metadata": {},
     "output_type": "display_data"
    }
   ],
   "source": [
    "plt.scatter(test_df[\"num_of_views\"],test_df[\"total_time_mins\"])"
   ]
  },
  {
   "cell_type": "code",
   "execution_count": 89,
   "metadata": {
    "collapsed": false
   },
   "outputs": [
    {
     "data": {
      "text/plain": [
       "Index([u'activity_type', u'browser_CHROME', u'browser_CHROME_MOBILE',\n",
       "       u'browser_EDGE', u'browser_FIREFOX', u'browser_FIREFOX_MOBILE',\n",
       "       u'browser_IE', u'browser_MOBILE_SAFARI', u'browser_OPERA',\n",
       "       u'browser_SAFARI', u'conv_id', u'hour', u'last_activity_date',\n",
       "       u'last_activity_time', u'month', u'num_of_day_from_share_view',\n",
       "       u'num_of_views', u'time_of_day_1', u'time_of_day_2', u'time_of_day_3',\n",
       "       u'time_of_day_4', u'time_spent_in_seconds', u'time_spent_mins',\n",
       "       u'title_of_content', u'total_time_mins', u'user_id', u'user_os_share',\n",
       "       u'viewed', u'viewing_device_Laptop/Desktop', u'viewing_device_Phone',\n",
       "       u'viewing_device_Tablet', u'weekday', u'weekday_name_Friday',\n",
       "       u'weekday_name_Monday', u'weekday_name_Saturday',\n",
       "       u'weekday_name_Sunday', u'weekday_name_Thursday',\n",
       "       u'weekday_name_Tuesday', u'weekday_name_Wednesday'],\n",
       "      dtype='object')"
      ]
     },
     "execution_count": 89,
     "metadata": {},
     "output_type": "execute_result"
    }
   ],
   "source": [
    "test_df.columns"
   ]
  },
  {
   "cell_type": "code",
   "execution_count": 66,
   "metadata": {
    "collapsed": false
   },
   "outputs": [
    {
     "data": {
      "text/html": [
       "<div>\n",
       "<style>\n",
       "    .dataframe thead tr:only-child th {\n",
       "        text-align: right;\n",
       "    }\n",
       "\n",
       "    .dataframe thead th {\n",
       "        text-align: left;\n",
       "    }\n",
       "\n",
       "    .dataframe tbody tr th {\n",
       "        vertical-align: top;\n",
       "    }\n",
       "</style>\n",
       "<table border=\"1\" class=\"dataframe\">\n",
       "  <thead>\n",
       "    <tr style=\"text-align: right;\">\n",
       "      <th></th>\n",
       "      <th>user_id</th>\n",
       "      <th>viewed</th>\n",
       "      <th>time_spent_in_seconds</th>\n",
       "      <th>weekday</th>\n",
       "      <th>month</th>\n",
       "      <th>time_of_day</th>\n",
       "      <th>hour</th>\n",
       "      <th>time_spent_mins</th>\n",
       "      <th>num_of_day_from_share_view</th>\n",
       "      <th>conv_id</th>\n",
       "    </tr>\n",
       "  </thead>\n",
       "  <tbody>\n",
       "    <tr>\n",
       "      <th>count</th>\n",
       "      <td>4.490000e+02</td>\n",
       "      <td>449.0</td>\n",
       "      <td>449.000000</td>\n",
       "      <td>449.000000</td>\n",
       "      <td>449.000000</td>\n",
       "      <td>449.000000</td>\n",
       "      <td>449.000000</td>\n",
       "      <td>449.000000</td>\n",
       "      <td>449.0</td>\n",
       "      <td>449.0</td>\n",
       "    </tr>\n",
       "    <tr>\n",
       "      <th>mean</th>\n",
       "      <td>4.942770e+06</td>\n",
       "      <td>1.0</td>\n",
       "      <td>59.971047</td>\n",
       "      <td>2.699332</td>\n",
       "      <td>4.991091</td>\n",
       "      <td>2.850780</td>\n",
       "      <td>10.690423</td>\n",
       "      <td>0.999517</td>\n",
       "      <td>0.0</td>\n",
       "      <td>1.0</td>\n",
       "    </tr>\n",
       "    <tr>\n",
       "      <th>std</th>\n",
       "      <td>7.946259e+05</td>\n",
       "      <td>0.0</td>\n",
       "      <td>56.103671</td>\n",
       "      <td>1.712878</td>\n",
       "      <td>1.698190</td>\n",
       "      <td>0.936609</td>\n",
       "      <td>7.587285</td>\n",
       "      <td>0.935061</td>\n",
       "      <td>0.0</td>\n",
       "      <td>0.0</td>\n",
       "    </tr>\n",
       "    <tr>\n",
       "      <th>min</th>\n",
       "      <td>2.733491e+06</td>\n",
       "      <td>1.0</td>\n",
       "      <td>0.000000</td>\n",
       "      <td>0.000000</td>\n",
       "      <td>2.000000</td>\n",
       "      <td>1.000000</td>\n",
       "      <td>0.000000</td>\n",
       "      <td>0.000000</td>\n",
       "      <td>0.0</td>\n",
       "      <td>1.0</td>\n",
       "    </tr>\n",
       "    <tr>\n",
       "      <th>25%</th>\n",
       "      <td>4.888220e+06</td>\n",
       "      <td>1.0</td>\n",
       "      <td>15.000000</td>\n",
       "      <td>1.000000</td>\n",
       "      <td>4.000000</td>\n",
       "      <td>2.000000</td>\n",
       "      <td>5.000000</td>\n",
       "      <td>0.250000</td>\n",
       "      <td>0.0</td>\n",
       "      <td>1.0</td>\n",
       "    </tr>\n",
       "    <tr>\n",
       "      <th>50%</th>\n",
       "      <td>5.217482e+06</td>\n",
       "      <td>1.0</td>\n",
       "      <td>40.000000</td>\n",
       "      <td>3.000000</td>\n",
       "      <td>5.000000</td>\n",
       "      <td>3.000000</td>\n",
       "      <td>8.000000</td>\n",
       "      <td>0.666667</td>\n",
       "      <td>0.0</td>\n",
       "      <td>1.0</td>\n",
       "    </tr>\n",
       "    <tr>\n",
       "      <th>75%</th>\n",
       "      <td>5.373347e+06</td>\n",
       "      <td>1.0</td>\n",
       "      <td>105.000000</td>\n",
       "      <td>4.000000</td>\n",
       "      <td>7.000000</td>\n",
       "      <td>4.000000</td>\n",
       "      <td>19.000000</td>\n",
       "      <td>1.750000</td>\n",
       "      <td>0.0</td>\n",
       "      <td>1.0</td>\n",
       "    </tr>\n",
       "    <tr>\n",
       "      <th>max</th>\n",
       "      <td>5.858299e+06</td>\n",
       "      <td>1.0</td>\n",
       "      <td>240.000000</td>\n",
       "      <td>6.000000</td>\n",
       "      <td>8.000000</td>\n",
       "      <td>4.000000</td>\n",
       "      <td>23.000000</td>\n",
       "      <td>4.000000</td>\n",
       "      <td>0.0</td>\n",
       "      <td>1.0</td>\n",
       "    </tr>\n",
       "  </tbody>\n",
       "</table>\n",
       "</div>"
      ],
      "text/plain": [
       "            user_id  viewed  time_spent_in_seconds     weekday       month  \\\n",
       "count  4.490000e+02   449.0             449.000000  449.000000  449.000000   \n",
       "mean   4.942770e+06     1.0              59.971047    2.699332    4.991091   \n",
       "std    7.946259e+05     0.0              56.103671    1.712878    1.698190   \n",
       "min    2.733491e+06     1.0               0.000000    0.000000    2.000000   \n",
       "25%    4.888220e+06     1.0              15.000000    1.000000    4.000000   \n",
       "50%    5.217482e+06     1.0              40.000000    3.000000    5.000000   \n",
       "75%    5.373347e+06     1.0             105.000000    4.000000    7.000000   \n",
       "max    5.858299e+06     1.0             240.000000    6.000000    8.000000   \n",
       "\n",
       "       time_of_day        hour  time_spent_mins  num_of_day_from_share_view  \\\n",
       "count   449.000000  449.000000       449.000000                       449.0   \n",
       "mean      2.850780   10.690423         0.999517                         0.0   \n",
       "std       0.936609    7.587285         0.935061                         0.0   \n",
       "min       1.000000    0.000000         0.000000                         0.0   \n",
       "25%       2.000000    5.000000         0.250000                         0.0   \n",
       "50%       3.000000    8.000000         0.666667                         0.0   \n",
       "75%       4.000000   19.000000         1.750000                         0.0   \n",
       "max       4.000000   23.000000         4.000000                         0.0   \n",
       "\n",
       "       conv_id  \n",
       "count    449.0  \n",
       "mean       1.0  \n",
       "std        0.0  \n",
       "min        1.0  \n",
       "25%        1.0  \n",
       "50%        1.0  \n",
       "75%        1.0  \n",
       "max        1.0  "
      ]
     },
     "execution_count": 66,
     "metadata": {},
     "output_type": "execute_result"
    }
   ],
   "source": [
    "conv_df.describe()"
   ]
  },
  {
   "cell_type": "code",
   "execution_count": 67,
   "metadata": {
    "collapsed": false
   },
   "outputs": [
    {
     "data": {
      "text/html": [
       "<div>\n",
       "<style>\n",
       "    .dataframe thead tr:only-child th {\n",
       "        text-align: right;\n",
       "    }\n",
       "\n",
       "    .dataframe thead th {\n",
       "        text-align: left;\n",
       "    }\n",
       "\n",
       "    .dataframe tbody tr th {\n",
       "        vertical-align: top;\n",
       "    }\n",
       "</style>\n",
       "<table border=\"1\" class=\"dataframe\">\n",
       "  <thead>\n",
       "    <tr style=\"text-align: right;\">\n",
       "      <th></th>\n",
       "      <th>activity_type</th>\n",
       "      <th>user_id</th>\n",
       "      <th>viewing_device</th>\n",
       "      <th>user_os_share</th>\n",
       "      <th>browser</th>\n",
       "      <th>title_of_content</th>\n",
       "      <th>viewed</th>\n",
       "      <th>time_spent_in_seconds</th>\n",
       "      <th>last_activity_date</th>\n",
       "      <th>last_activity_time</th>\n",
       "      <th>weekday</th>\n",
       "      <th>weekday_name</th>\n",
       "      <th>month</th>\n",
       "      <th>time_of_day</th>\n",
       "      <th>hour</th>\n",
       "      <th>time_spent_mins</th>\n",
       "      <th>num_of_day_from_share_view</th>\n",
       "      <th>conv_id</th>\n",
       "      <th>num_of_views</th>\n",
       "      <th>total_time_mins</th>\n",
       "    </tr>\n",
       "  </thead>\n",
       "  <tbody>\n",
       "    <tr>\n",
       "      <th>0</th>\n",
       "      <td>VIEW</td>\n",
       "      <td>5655305</td>\n",
       "      <td>Laptop/Desktop</td>\n",
       "      <td>MAC_OS_X</td>\n",
       "      <td>SAFARI</td>\n",
       "      <td>Doherty, Conan 5.04KW Preliminary Estimate.pdf</td>\n",
       "      <td>1</td>\n",
       "      <td>180</td>\n",
       "      <td>2017-08-21</td>\n",
       "      <td>21:33:08</td>\n",
       "      <td>0</td>\n",
       "      <td>Monday</td>\n",
       "      <td>8</td>\n",
       "      <td>2</td>\n",
       "      <td>21</td>\n",
       "      <td>3.000000</td>\n",
       "      <td>0</td>\n",
       "      <td>0</td>\n",
       "      <td>10.0</td>\n",
       "      <td>8.00</td>\n",
       "    </tr>\n",
       "    <tr>\n",
       "      <th>1</th>\n",
       "      <td>VIEW</td>\n",
       "      <td>5927942</td>\n",
       "      <td>Tablet</td>\n",
       "      <td>iOS9_IPAD</td>\n",
       "      <td>MOBILE_SAFARI</td>\n",
       "      <td>Suhre, David 4.48KW Preliminary Estimate.pdf</td>\n",
       "      <td>1</td>\n",
       "      <td>85</td>\n",
       "      <td>2017-08-21</td>\n",
       "      <td>2:16:47</td>\n",
       "      <td>0</td>\n",
       "      <td>Monday</td>\n",
       "      <td>8</td>\n",
       "      <td>3</td>\n",
       "      <td>2</td>\n",
       "      <td>1.416667</td>\n",
       "      <td>0</td>\n",
       "      <td>0</td>\n",
       "      <td>16.0</td>\n",
       "      <td>18.75</td>\n",
       "    </tr>\n",
       "    <tr>\n",
       "      <th>2</th>\n",
       "      <td>VIEW</td>\n",
       "      <td>5927942</td>\n",
       "      <td>Tablet</td>\n",
       "      <td>iOS9_IPAD</td>\n",
       "      <td>MOBILE_SAFARI</td>\n",
       "      <td>Suhre, David 4.48KW Preliminary Estimate.pdf</td>\n",
       "      <td>1</td>\n",
       "      <td>5</td>\n",
       "      <td>2017-08-20</td>\n",
       "      <td>21:26:00</td>\n",
       "      <td>6</td>\n",
       "      <td>Sunday</td>\n",
       "      <td>8</td>\n",
       "      <td>2</td>\n",
       "      <td>21</td>\n",
       "      <td>0.083333</td>\n",
       "      <td>0</td>\n",
       "      <td>0</td>\n",
       "      <td>16.0</td>\n",
       "      <td>18.75</td>\n",
       "    </tr>\n",
       "    <tr>\n",
       "      <th>4</th>\n",
       "      <td>VIEW</td>\n",
       "      <td>5927942</td>\n",
       "      <td>Tablet</td>\n",
       "      <td>iOS9_IPAD</td>\n",
       "      <td>MOBILE_SAFARI</td>\n",
       "      <td>Suhre, David 4.48KW Preliminary Estimate.pdf</td>\n",
       "      <td>1</td>\n",
       "      <td>5</td>\n",
       "      <td>2017-08-20</td>\n",
       "      <td>7:04:50</td>\n",
       "      <td>6</td>\n",
       "      <td>Sunday</td>\n",
       "      <td>8</td>\n",
       "      <td>4</td>\n",
       "      <td>7</td>\n",
       "      <td>0.083333</td>\n",
       "      <td>0</td>\n",
       "      <td>0</td>\n",
       "      <td>16.0</td>\n",
       "      <td>18.75</td>\n",
       "    </tr>\n",
       "    <tr>\n",
       "      <th>5</th>\n",
       "      <td>VIEW</td>\n",
       "      <td>5927942</td>\n",
       "      <td>Tablet</td>\n",
       "      <td>iOS9_IPAD</td>\n",
       "      <td>MOBILE_SAFARI</td>\n",
       "      <td>Suhre, David 4.48KW Preliminary Estimate.pdf</td>\n",
       "      <td>1</td>\n",
       "      <td>45</td>\n",
       "      <td>2017-08-20</td>\n",
       "      <td>6:51:56</td>\n",
       "      <td>6</td>\n",
       "      <td>Sunday</td>\n",
       "      <td>8</td>\n",
       "      <td>4</td>\n",
       "      <td>6</td>\n",
       "      <td>0.750000</td>\n",
       "      <td>0</td>\n",
       "      <td>0</td>\n",
       "      <td>16.0</td>\n",
       "      <td>18.75</td>\n",
       "    </tr>\n",
       "  </tbody>\n",
       "</table>\n",
       "</div>"
      ],
      "text/plain": [
       "  activity_type  user_id  viewing_device user_os_share        browser  \\\n",
       "0          VIEW  5655305  Laptop/Desktop      MAC_OS_X         SAFARI   \n",
       "1          VIEW  5927942          Tablet     iOS9_IPAD  MOBILE_SAFARI   \n",
       "2          VIEW  5927942          Tablet     iOS9_IPAD  MOBILE_SAFARI   \n",
       "4          VIEW  5927942          Tablet     iOS9_IPAD  MOBILE_SAFARI   \n",
       "5          VIEW  5927942          Tablet     iOS9_IPAD  MOBILE_SAFARI   \n",
       "\n",
       "                                 title_of_content  viewed  \\\n",
       "0  Doherty, Conan 5.04KW Preliminary Estimate.pdf       1   \n",
       "1    Suhre, David 4.48KW Preliminary Estimate.pdf       1   \n",
       "2    Suhre, David 4.48KW Preliminary Estimate.pdf       1   \n",
       "4    Suhre, David 4.48KW Preliminary Estimate.pdf       1   \n",
       "5    Suhre, David 4.48KW Preliminary Estimate.pdf       1   \n",
       "\n",
       "   time_spent_in_seconds last_activity_date last_activity_time  weekday  \\\n",
       "0                    180         2017-08-21           21:33:08        0   \n",
       "1                     85         2017-08-21            2:16:47        0   \n",
       "2                      5         2017-08-20           21:26:00        6   \n",
       "4                      5         2017-08-20            7:04:50        6   \n",
       "5                     45         2017-08-20            6:51:56        6   \n",
       "\n",
       "  weekday_name  month  time_of_day  hour  time_spent_mins  \\\n",
       "0       Monday      8            2    21         3.000000   \n",
       "1       Monday      8            3     2         1.416667   \n",
       "2       Sunday      8            2    21         0.083333   \n",
       "4       Sunday      8            4     7         0.083333   \n",
       "5       Sunday      8            4     6         0.750000   \n",
       "\n",
       "   num_of_day_from_share_view  conv_id  num_of_views  total_time_mins  \n",
       "0                           0        0          10.0             8.00  \n",
       "1                           0        0          16.0            18.75  \n",
       "2                           0        0          16.0            18.75  \n",
       "4                           0        0          16.0            18.75  \n",
       "5                           0        0          16.0            18.75  "
      ]
     },
     "execution_count": 67,
     "metadata": {},
     "output_type": "execute_result"
    }
   ],
   "source": [
    "test_df[\"conv_id\"].replace({1:0}, inplace= True)\n",
    "for k,v in num_views.iteritems():\n",
    "    test_df.loc[test_df['user_id'] == k, 'num_of_views'] = v\n",
    "    test_df.loc[test_df['user_id'] == k, 'total_time_mins'] = test_df[test_df[\"user_id\"] == k][\"time_spent_mins\"].sum()\n",
    "\n",
    "test_df.weekday_name.replace({0:\"Sunday\", 1:\"Monday\"}, inplace= True)\n",
    "test_df.head()"
   ]
  },
  {
   "cell_type": "code",
   "execution_count": 68,
   "metadata": {
    "collapsed": false
   },
   "outputs": [
    {
     "data": {
      "text/plain": [
       "array(['Monday', 'Sunday', 'Saturday', 'Friday', 'Thursday', 'Wednesday',\n",
       "       'Tuesday'], dtype=object)"
      ]
     },
     "execution_count": 68,
     "metadata": {},
     "output_type": "execute_result"
    }
   ],
   "source": [
    "test_df = view_df.append(conv_df)\n",
    "test_df[\"weekday_name\"].unique()"
   ]
  },
  {
   "cell_type": "code",
   "execution_count": 69,
   "metadata": {
    "collapsed": false
   },
   "outputs": [
    {
     "data": {
      "text/html": [
       "<div>\n",
       "<style>\n",
       "    .dataframe thead tr:only-child th {\n",
       "        text-align: right;\n",
       "    }\n",
       "\n",
       "    .dataframe thead th {\n",
       "        text-align: left;\n",
       "    }\n",
       "\n",
       "    .dataframe tbody tr th {\n",
       "        vertical-align: top;\n",
       "    }\n",
       "</style>\n",
       "<table border=\"1\" class=\"dataframe\">\n",
       "  <thead>\n",
       "    <tr style=\"text-align: right;\">\n",
       "      <th></th>\n",
       "      <th>activity_type</th>\n",
       "      <th>browser</th>\n",
       "      <th>conv_id</th>\n",
       "      <th>hour</th>\n",
       "      <th>last_activity_date</th>\n",
       "      <th>last_activity_time</th>\n",
       "      <th>month</th>\n",
       "      <th>num_of_day_from_share_view</th>\n",
       "      <th>num_of_views</th>\n",
       "      <th>time_of_day</th>\n",
       "      <th>time_spent_in_seconds</th>\n",
       "      <th>time_spent_mins</th>\n",
       "      <th>title_of_content</th>\n",
       "      <th>total_time_mins</th>\n",
       "      <th>user_id</th>\n",
       "      <th>user_os_share</th>\n",
       "      <th>viewed</th>\n",
       "      <th>viewing_device</th>\n",
       "      <th>weekday</th>\n",
       "      <th>weekday_name</th>\n",
       "    </tr>\n",
       "  </thead>\n",
       "  <tbody>\n",
       "    <tr>\n",
       "      <th>0</th>\n",
       "      <td>VIEW</td>\n",
       "      <td>SAFARI</td>\n",
       "      <td>0</td>\n",
       "      <td>21</td>\n",
       "      <td>2017-08-21</td>\n",
       "      <td>21:33:08</td>\n",
       "      <td>8</td>\n",
       "      <td>0</td>\n",
       "      <td>10.0</td>\n",
       "      <td>2</td>\n",
       "      <td>180</td>\n",
       "      <td>3.000000</td>\n",
       "      <td>Doherty, Conan 5.04KW Preliminary Estimate.pdf</td>\n",
       "      <td>8.000000</td>\n",
       "      <td>5655305</td>\n",
       "      <td>MAC_OS_X</td>\n",
       "      <td>1</td>\n",
       "      <td>Laptop/Desktop</td>\n",
       "      <td>0</td>\n",
       "      <td>Monday</td>\n",
       "    </tr>\n",
       "    <tr>\n",
       "      <th>1</th>\n",
       "      <td>VIEW</td>\n",
       "      <td>MOBILE_SAFARI</td>\n",
       "      <td>0</td>\n",
       "      <td>2</td>\n",
       "      <td>2017-08-21</td>\n",
       "      <td>2:16:47</td>\n",
       "      <td>8</td>\n",
       "      <td>0</td>\n",
       "      <td>16.0</td>\n",
       "      <td>3</td>\n",
       "      <td>85</td>\n",
       "      <td>1.416667</td>\n",
       "      <td>Suhre, David 4.48KW Preliminary Estimate.pdf</td>\n",
       "      <td>18.750000</td>\n",
       "      <td>5927942</td>\n",
       "      <td>iOS9_IPAD</td>\n",
       "      <td>1</td>\n",
       "      <td>Tablet</td>\n",
       "      <td>0</td>\n",
       "      <td>Monday</td>\n",
       "    </tr>\n",
       "    <tr>\n",
       "      <th>2</th>\n",
       "      <td>VIEW</td>\n",
       "      <td>MOBILE_SAFARI</td>\n",
       "      <td>0</td>\n",
       "      <td>21</td>\n",
       "      <td>2017-08-20</td>\n",
       "      <td>21:26:00</td>\n",
       "      <td>8</td>\n",
       "      <td>0</td>\n",
       "      <td>16.0</td>\n",
       "      <td>2</td>\n",
       "      <td>5</td>\n",
       "      <td>0.083333</td>\n",
       "      <td>Suhre, David 4.48KW Preliminary Estimate.pdf</td>\n",
       "      <td>18.750000</td>\n",
       "      <td>5927942</td>\n",
       "      <td>iOS9_IPAD</td>\n",
       "      <td>1</td>\n",
       "      <td>Tablet</td>\n",
       "      <td>6</td>\n",
       "      <td>Sunday</td>\n",
       "    </tr>\n",
       "    <tr>\n",
       "      <th>4</th>\n",
       "      <td>VIEW</td>\n",
       "      <td>MOBILE_SAFARI</td>\n",
       "      <td>0</td>\n",
       "      <td>7</td>\n",
       "      <td>2017-08-20</td>\n",
       "      <td>7:04:50</td>\n",
       "      <td>8</td>\n",
       "      <td>0</td>\n",
       "      <td>16.0</td>\n",
       "      <td>4</td>\n",
       "      <td>5</td>\n",
       "      <td>0.083333</td>\n",
       "      <td>Suhre, David 4.48KW Preliminary Estimate.pdf</td>\n",
       "      <td>18.750000</td>\n",
       "      <td>5927942</td>\n",
       "      <td>iOS9_IPAD</td>\n",
       "      <td>1</td>\n",
       "      <td>Tablet</td>\n",
       "      <td>6</td>\n",
       "      <td>Sunday</td>\n",
       "    </tr>\n",
       "    <tr>\n",
       "      <th>5</th>\n",
       "      <td>VIEW</td>\n",
       "      <td>MOBILE_SAFARI</td>\n",
       "      <td>0</td>\n",
       "      <td>6</td>\n",
       "      <td>2017-08-20</td>\n",
       "      <td>6:51:56</td>\n",
       "      <td>8</td>\n",
       "      <td>0</td>\n",
       "      <td>16.0</td>\n",
       "      <td>4</td>\n",
       "      <td>45</td>\n",
       "      <td>0.750000</td>\n",
       "      <td>Suhre, David 4.48KW Preliminary Estimate.pdf</td>\n",
       "      <td>18.750000</td>\n",
       "      <td>5927942</td>\n",
       "      <td>iOS9_IPAD</td>\n",
       "      <td>1</td>\n",
       "      <td>Tablet</td>\n",
       "      <td>6</td>\n",
       "      <td>Sunday</td>\n",
       "    </tr>\n",
       "    <tr>\n",
       "      <th>6</th>\n",
       "      <td>VIEW</td>\n",
       "      <td>MOBILE_SAFARI</td>\n",
       "      <td>0</td>\n",
       "      <td>11</td>\n",
       "      <td>2017-08-19</td>\n",
       "      <td>11:18:43</td>\n",
       "      <td>8</td>\n",
       "      <td>0</td>\n",
       "      <td>16.0</td>\n",
       "      <td>4</td>\n",
       "      <td>185</td>\n",
       "      <td>3.083333</td>\n",
       "      <td>Read what our customers have to say</td>\n",
       "      <td>18.750000</td>\n",
       "      <td>5927942</td>\n",
       "      <td>MAC_OS_X_IPHONE</td>\n",
       "      <td>1</td>\n",
       "      <td>Phone</td>\n",
       "      <td>5</td>\n",
       "      <td>Saturday</td>\n",
       "    </tr>\n",
       "    <tr>\n",
       "      <th>7</th>\n",
       "      <td>VIEW</td>\n",
       "      <td>MOBILE_SAFARI</td>\n",
       "      <td>0</td>\n",
       "      <td>11</td>\n",
       "      <td>2017-08-19</td>\n",
       "      <td>11:16:30</td>\n",
       "      <td>8</td>\n",
       "      <td>0</td>\n",
       "      <td>16.0</td>\n",
       "      <td>4</td>\n",
       "      <td>115</td>\n",
       "      <td>1.916667</td>\n",
       "      <td>About E2 Solar</td>\n",
       "      <td>18.750000</td>\n",
       "      <td>5927942</td>\n",
       "      <td>MAC_OS_X_IPHONE</td>\n",
       "      <td>1</td>\n",
       "      <td>Phone</td>\n",
       "      <td>5</td>\n",
       "      <td>Saturday</td>\n",
       "    </tr>\n",
       "    <tr>\n",
       "      <th>8</th>\n",
       "      <td>VIEW</td>\n",
       "      <td>MOBILE_SAFARI</td>\n",
       "      <td>0</td>\n",
       "      <td>11</td>\n",
       "      <td>2017-08-19</td>\n",
       "      <td>11:15:08</td>\n",
       "      <td>8</td>\n",
       "      <td>0</td>\n",
       "      <td>16.0</td>\n",
       "      <td>4</td>\n",
       "      <td>35</td>\n",
       "      <td>0.583333</td>\n",
       "      <td>Upload Electricity Bill</td>\n",
       "      <td>18.750000</td>\n",
       "      <td>5927942</td>\n",
       "      <td>MAC_OS_X_IPHONE</td>\n",
       "      <td>1</td>\n",
       "      <td>Phone</td>\n",
       "      <td>5</td>\n",
       "      <td>Saturday</td>\n",
       "    </tr>\n",
       "    <tr>\n",
       "      <th>9</th>\n",
       "      <td>VIEW</td>\n",
       "      <td>MOBILE_SAFARI</td>\n",
       "      <td>0</td>\n",
       "      <td>11</td>\n",
       "      <td>2017-08-19</td>\n",
       "      <td>11:01:34</td>\n",
       "      <td>8</td>\n",
       "      <td>0</td>\n",
       "      <td>16.0</td>\n",
       "      <td>4</td>\n",
       "      <td>5</td>\n",
       "      <td>0.083333</td>\n",
       "      <td>Request your site assessment</td>\n",
       "      <td>18.750000</td>\n",
       "      <td>5927942</td>\n",
       "      <td>MAC_OS_X_IPHONE</td>\n",
       "      <td>1</td>\n",
       "      <td>Phone</td>\n",
       "      <td>5</td>\n",
       "      <td>Saturday</td>\n",
       "    </tr>\n",
       "    <tr>\n",
       "      <th>12</th>\n",
       "      <td>VIEW</td>\n",
       "      <td>MOBILE_SAFARI</td>\n",
       "      <td>0</td>\n",
       "      <td>10</td>\n",
       "      <td>2017-08-19</td>\n",
       "      <td>10:46:28</td>\n",
       "      <td>8</td>\n",
       "      <td>0</td>\n",
       "      <td>16.0</td>\n",
       "      <td>4</td>\n",
       "      <td>45</td>\n",
       "      <td>0.750000</td>\n",
       "      <td>Suhre, David 4.48KW Preliminary Estimate.pdf</td>\n",
       "      <td>18.750000</td>\n",
       "      <td>5927942</td>\n",
       "      <td>MAC_OS_X_IPHONE</td>\n",
       "      <td>1</td>\n",
       "      <td>Phone</td>\n",
       "      <td>5</td>\n",
       "      <td>Saturday</td>\n",
       "    </tr>\n",
       "    <tr>\n",
       "      <th>13</th>\n",
       "      <td>VIEW</td>\n",
       "      <td>MOBILE_SAFARI</td>\n",
       "      <td>0</td>\n",
       "      <td>10</td>\n",
       "      <td>2017-08-19</td>\n",
       "      <td>10:42:29</td>\n",
       "      <td>8</td>\n",
       "      <td>0</td>\n",
       "      <td>16.0</td>\n",
       "      <td>4</td>\n",
       "      <td>85</td>\n",
       "      <td>1.416667</td>\n",
       "      <td>Update on expiration of Oregon Residential ene...</td>\n",
       "      <td>18.750000</td>\n",
       "      <td>5927942</td>\n",
       "      <td>MAC_OS_X_IPHONE</td>\n",
       "      <td>1</td>\n",
       "      <td>Phone</td>\n",
       "      <td>5</td>\n",
       "      <td>Saturday</td>\n",
       "    </tr>\n",
       "    <tr>\n",
       "      <th>15</th>\n",
       "      <td>VIEW</td>\n",
       "      <td>MOBILE_SAFARI</td>\n",
       "      <td>0</td>\n",
       "      <td>6</td>\n",
       "      <td>2017-08-19</td>\n",
       "      <td>6:44:19</td>\n",
       "      <td>8</td>\n",
       "      <td>0</td>\n",
       "      <td>16.0</td>\n",
       "      <td>4</td>\n",
       "      <td>110</td>\n",
       "      <td>1.833333</td>\n",
       "      <td>Read what our customers have to say</td>\n",
       "      <td>18.750000</td>\n",
       "      <td>5927942</td>\n",
       "      <td>MAC_OS_X_IPHONE</td>\n",
       "      <td>1</td>\n",
       "      <td>Phone</td>\n",
       "      <td>5</td>\n",
       "      <td>Saturday</td>\n",
       "    </tr>\n",
       "    <tr>\n",
       "      <th>16</th>\n",
       "      <td>VIEW</td>\n",
       "      <td>MOBILE_SAFARI</td>\n",
       "      <td>0</td>\n",
       "      <td>6</td>\n",
       "      <td>2017-08-19</td>\n",
       "      <td>6:43:31</td>\n",
       "      <td>8</td>\n",
       "      <td>0</td>\n",
       "      <td>16.0</td>\n",
       "      <td>4</td>\n",
       "      <td>25</td>\n",
       "      <td>0.416667</td>\n",
       "      <td>Request your site assessment</td>\n",
       "      <td>18.750000</td>\n",
       "      <td>5927942</td>\n",
       "      <td>MAC_OS_X_IPHONE</td>\n",
       "      <td>1</td>\n",
       "      <td>Phone</td>\n",
       "      <td>5</td>\n",
       "      <td>Saturday</td>\n",
       "    </tr>\n",
       "    <tr>\n",
       "      <th>17</th>\n",
       "      <td>VIEW</td>\n",
       "      <td>MOBILE_SAFARI</td>\n",
       "      <td>0</td>\n",
       "      <td>6</td>\n",
       "      <td>2017-08-19</td>\n",
       "      <td>6:40:50</td>\n",
       "      <td>8</td>\n",
       "      <td>0</td>\n",
       "      <td>16.0</td>\n",
       "      <td>4</td>\n",
       "      <td>20</td>\n",
       "      <td>0.333333</td>\n",
       "      <td>Upload Electricity Bill</td>\n",
       "      <td>18.750000</td>\n",
       "      <td>5927942</td>\n",
       "      <td>MAC_OS_X_IPHONE</td>\n",
       "      <td>1</td>\n",
       "      <td>Phone</td>\n",
       "      <td>5</td>\n",
       "      <td>Saturday</td>\n",
       "    </tr>\n",
       "    <tr>\n",
       "      <th>18</th>\n",
       "      <td>VIEW</td>\n",
       "      <td>MOBILE_SAFARI</td>\n",
       "      <td>0</td>\n",
       "      <td>6</td>\n",
       "      <td>2017-08-19</td>\n",
       "      <td>6:39:19</td>\n",
       "      <td>8</td>\n",
       "      <td>0</td>\n",
       "      <td>16.0</td>\n",
       "      <td>4</td>\n",
       "      <td>80</td>\n",
       "      <td>1.333333</td>\n",
       "      <td>Your Solar Interest - form</td>\n",
       "      <td>18.750000</td>\n",
       "      <td>5927942</td>\n",
       "      <td>MAC_OS_X_IPHONE</td>\n",
       "      <td>1</td>\n",
       "      <td>Phone</td>\n",
       "      <td>5</td>\n",
       "      <td>Saturday</td>\n",
       "    </tr>\n",
       "    <tr>\n",
       "      <th>19</th>\n",
       "      <td>VIEW</td>\n",
       "      <td>MOBILE_SAFARI</td>\n",
       "      <td>0</td>\n",
       "      <td>6</td>\n",
       "      <td>2017-08-19</td>\n",
       "      <td>6:38:53</td>\n",
       "      <td>8</td>\n",
       "      <td>0</td>\n",
       "      <td>16.0</td>\n",
       "      <td>4</td>\n",
       "      <td>100</td>\n",
       "      <td>1.666667</td>\n",
       "      <td>Estimate the benefits of solar</td>\n",
       "      <td>18.750000</td>\n",
       "      <td>5927942</td>\n",
       "      <td>MAC_OS_X_IPHONE</td>\n",
       "      <td>1</td>\n",
       "      <td>Phone</td>\n",
       "      <td>5</td>\n",
       "      <td>Saturday</td>\n",
       "    </tr>\n",
       "    <tr>\n",
       "      <th>20</th>\n",
       "      <td>VIEW</td>\n",
       "      <td>MOBILE_SAFARI</td>\n",
       "      <td>0</td>\n",
       "      <td>6</td>\n",
       "      <td>2017-08-19</td>\n",
       "      <td>6:26:50</td>\n",
       "      <td>8</td>\n",
       "      <td>0</td>\n",
       "      <td>16.0</td>\n",
       "      <td>4</td>\n",
       "      <td>180</td>\n",
       "      <td>3.000000</td>\n",
       "      <td>Suhre, David 4.48KW Preliminary Estimate.pdf</td>\n",
       "      <td>18.750000</td>\n",
       "      <td>5927942</td>\n",
       "      <td>MAC_OS_X_IPHONE</td>\n",
       "      <td>1</td>\n",
       "      <td>Phone</td>\n",
       "      <td>5</td>\n",
       "      <td>Saturday</td>\n",
       "    </tr>\n",
       "    <tr>\n",
       "      <th>21</th>\n",
       "      <td>VIEW</td>\n",
       "      <td>MOBILE_SAFARI</td>\n",
       "      <td>0</td>\n",
       "      <td>4</td>\n",
       "      <td>2017-08-19</td>\n",
       "      <td>4:28:04</td>\n",
       "      <td>8</td>\n",
       "      <td>0</td>\n",
       "      <td>5.0</td>\n",
       "      <td>3</td>\n",
       "      <td>30</td>\n",
       "      <td>0.500000</td>\n",
       "      <td>Solar Cost Terminology</td>\n",
       "      <td>10.333333</td>\n",
       "      <td>5824573</td>\n",
       "      <td>MAC_OS_X_IPAD</td>\n",
       "      <td>1</td>\n",
       "      <td>Tablet</td>\n",
       "      <td>5</td>\n",
       "      <td>Saturday</td>\n",
       "    </tr>\n",
       "    <tr>\n",
       "      <th>23</th>\n",
       "      <td>VIEW</td>\n",
       "      <td>SAFARI</td>\n",
       "      <td>0</td>\n",
       "      <td>0</td>\n",
       "      <td>2017-08-19</td>\n",
       "      <td>0:23:40</td>\n",
       "      <td>8</td>\n",
       "      <td>0</td>\n",
       "      <td>206.0</td>\n",
       "      <td>3</td>\n",
       "      <td>40</td>\n",
       "      <td>0.666667</td>\n",
       "      <td>E2 Solar Contracts for Jeffrey Remer</td>\n",
       "      <td>97.833333</td>\n",
       "      <td>2622013</td>\n",
       "      <td>MAC_OS_X</td>\n",
       "      <td>1</td>\n",
       "      <td>Laptop/Desktop</td>\n",
       "      <td>5</td>\n",
       "      <td>Saturday</td>\n",
       "    </tr>\n",
       "    <tr>\n",
       "      <th>24</th>\n",
       "      <td>VIEW</td>\n",
       "      <td>MOBILE_SAFARI</td>\n",
       "      <td>0</td>\n",
       "      <td>5</td>\n",
       "      <td>2017-08-18</td>\n",
       "      <td>5:55:05</td>\n",
       "      <td>8</td>\n",
       "      <td>0</td>\n",
       "      <td>2.0</td>\n",
       "      <td>3</td>\n",
       "      <td>5</td>\n",
       "      <td>0.083333</td>\n",
       "      <td>Estimate the benefits of solar</td>\n",
       "      <td>0.166667</td>\n",
       "      <td>5933590</td>\n",
       "      <td>MAC_OS_X_IPHONE</td>\n",
       "      <td>1</td>\n",
       "      <td>Phone</td>\n",
       "      <td>4</td>\n",
       "      <td>Friday</td>\n",
       "    </tr>\n",
       "    <tr>\n",
       "      <th>25</th>\n",
       "      <td>VIEW</td>\n",
       "      <td>MOBILE_SAFARI</td>\n",
       "      <td>0</td>\n",
       "      <td>5</td>\n",
       "      <td>2017-08-18</td>\n",
       "      <td>5:54:51</td>\n",
       "      <td>8</td>\n",
       "      <td>0</td>\n",
       "      <td>2.0</td>\n",
       "      <td>3</td>\n",
       "      <td>5</td>\n",
       "      <td>0.083333</td>\n",
       "      <td>Sultzer, Eric 5.22KW Preliminary Estimate.pdf</td>\n",
       "      <td>0.166667</td>\n",
       "      <td>5933590</td>\n",
       "      <td>MAC_OS_X_IPHONE</td>\n",
       "      <td>1</td>\n",
       "      <td>Phone</td>\n",
       "      <td>4</td>\n",
       "      <td>Friday</td>\n",
       "    </tr>\n",
       "    <tr>\n",
       "      <th>28</th>\n",
       "      <td>VIEW</td>\n",
       "      <td>SAFARI</td>\n",
       "      <td>0</td>\n",
       "      <td>5</td>\n",
       "      <td>2017-08-18</td>\n",
       "      <td>5:12:22</td>\n",
       "      <td>8</td>\n",
       "      <td>0</td>\n",
       "      <td>827.0</td>\n",
       "      <td>3</td>\n",
       "      <td>5</td>\n",
       "      <td>0.083333</td>\n",
       "      <td>Sultzer, Eric 5.22KW Preliminary Estimate.pdf</td>\n",
       "      <td>398.283333</td>\n",
       "      <td>2834196</td>\n",
       "      <td>MAC_OS_X</td>\n",
       "      <td>1</td>\n",
       "      <td>Laptop/Desktop</td>\n",
       "      <td>4</td>\n",
       "      <td>Friday</td>\n",
       "    </tr>\n",
       "    <tr>\n",
       "      <th>29</th>\n",
       "      <td>VIEW</td>\n",
       "      <td>MOBILE_SAFARI</td>\n",
       "      <td>0</td>\n",
       "      <td>19</td>\n",
       "      <td>2017-08-17</td>\n",
       "      <td>19:42:57</td>\n",
       "      <td>8</td>\n",
       "      <td>0</td>\n",
       "      <td>17.0</td>\n",
       "      <td>2</td>\n",
       "      <td>120</td>\n",
       "      <td>2.000000</td>\n",
       "      <td>Request your site assessment</td>\n",
       "      <td>12.250000</td>\n",
       "      <td>5752421</td>\n",
       "      <td>MAC_OS_X_IPAD</td>\n",
       "      <td>1</td>\n",
       "      <td>Tablet</td>\n",
       "      <td>3</td>\n",
       "      <td>Thursday</td>\n",
       "    </tr>\n",
       "    <tr>\n",
       "      <th>31</th>\n",
       "      <td>VIEW</td>\n",
       "      <td>SAFARI</td>\n",
       "      <td>0</td>\n",
       "      <td>8</td>\n",
       "      <td>2017-08-17</td>\n",
       "      <td>8:11:36</td>\n",
       "      <td>8</td>\n",
       "      <td>0</td>\n",
       "      <td>10.0</td>\n",
       "      <td>4</td>\n",
       "      <td>65</td>\n",
       "      <td>1.083333</td>\n",
       "      <td>Net Metering Agreement (Sample Only)</td>\n",
       "      <td>13.166667</td>\n",
       "      <td>5773156</td>\n",
       "      <td>MAC_OS_X</td>\n",
       "      <td>1</td>\n",
       "      <td>Laptop/Desktop</td>\n",
       "      <td>3</td>\n",
       "      <td>Thursday</td>\n",
       "    </tr>\n",
       "    <tr>\n",
       "      <th>32</th>\n",
       "      <td>VIEW</td>\n",
       "      <td>SAFARI</td>\n",
       "      <td>0</td>\n",
       "      <td>8</td>\n",
       "      <td>2017-08-17</td>\n",
       "      <td>8:07:58</td>\n",
       "      <td>8</td>\n",
       "      <td>0</td>\n",
       "      <td>10.0</td>\n",
       "      <td>4</td>\n",
       "      <td>120</td>\n",
       "      <td>2.000000</td>\n",
       "      <td>Pacific Power Schedule 135 for Frank Mungeam</td>\n",
       "      <td>13.166667</td>\n",
       "      <td>5773156</td>\n",
       "      <td>MAC_OS_X</td>\n",
       "      <td>1</td>\n",
       "      <td>Laptop/Desktop</td>\n",
       "      <td>3</td>\n",
       "      <td>Thursday</td>\n",
       "    </tr>\n",
       "    <tr>\n",
       "      <th>33</th>\n",
       "      <td>VIEW</td>\n",
       "      <td>SAFARI</td>\n",
       "      <td>0</td>\n",
       "      <td>8</td>\n",
       "      <td>2017-08-17</td>\n",
       "      <td>8:07:16</td>\n",
       "      <td>8</td>\n",
       "      <td>0</td>\n",
       "      <td>10.0</td>\n",
       "      <td>4</td>\n",
       "      <td>20</td>\n",
       "      <td>0.333333</td>\n",
       "      <td>Energy Trust Incentive Application - Mungeam</td>\n",
       "      <td>13.166667</td>\n",
       "      <td>5773156</td>\n",
       "      <td>MAC_OS_X</td>\n",
       "      <td>1</td>\n",
       "      <td>Laptop/Desktop</td>\n",
       "      <td>3</td>\n",
       "      <td>Thursday</td>\n",
       "    </tr>\n",
       "    <tr>\n",
       "      <th>35</th>\n",
       "      <td>VIEW</td>\n",
       "      <td>SAFARI</td>\n",
       "      <td>0</td>\n",
       "      <td>7</td>\n",
       "      <td>2017-08-17</td>\n",
       "      <td>7:37:10</td>\n",
       "      <td>8</td>\n",
       "      <td>0</td>\n",
       "      <td>827.0</td>\n",
       "      <td>4</td>\n",
       "      <td>20</td>\n",
       "      <td>0.333333</td>\n",
       "      <td>Suhre, David 4.48KW Preliminary Estimate.pdf</td>\n",
       "      <td>398.283333</td>\n",
       "      <td>2834196</td>\n",
       "      <td>MAC_OS_X</td>\n",
       "      <td>1</td>\n",
       "      <td>Laptop/Desktop</td>\n",
       "      <td>3</td>\n",
       "      <td>Thursday</td>\n",
       "    </tr>\n",
       "    <tr>\n",
       "      <th>36</th>\n",
       "      <td>VIEW</td>\n",
       "      <td>SAFARI</td>\n",
       "      <td>0</td>\n",
       "      <td>3</td>\n",
       "      <td>2017-08-17</td>\n",
       "      <td>3:47:45</td>\n",
       "      <td>8</td>\n",
       "      <td>0</td>\n",
       "      <td>827.0</td>\n",
       "      <td>3</td>\n",
       "      <td>10</td>\n",
       "      <td>0.166667</td>\n",
       "      <td>Request your site assessment</td>\n",
       "      <td>398.283333</td>\n",
       "      <td>2834196</td>\n",
       "      <td>MAC_OS_X</td>\n",
       "      <td>1</td>\n",
       "      <td>Laptop/Desktop</td>\n",
       "      <td>3</td>\n",
       "      <td>Thursday</td>\n",
       "    </tr>\n",
       "    <tr>\n",
       "      <th>38</th>\n",
       "      <td>VIEW</td>\n",
       "      <td>CHROME</td>\n",
       "      <td>0</td>\n",
       "      <td>3</td>\n",
       "      <td>2017-08-17</td>\n",
       "      <td>3:41:35</td>\n",
       "      <td>8</td>\n",
       "      <td>0</td>\n",
       "      <td>16.0</td>\n",
       "      <td>3</td>\n",
       "      <td>25</td>\n",
       "      <td>0.416667</td>\n",
       "      <td>Curry, Donn 6.38KW Bid Proposal.pdf</td>\n",
       "      <td>11.333333</td>\n",
       "      <td>5713756</td>\n",
       "      <td>MAC_OS_X</td>\n",
       "      <td>1</td>\n",
       "      <td>Laptop/Desktop</td>\n",
       "      <td>3</td>\n",
       "      <td>Thursday</td>\n",
       "    </tr>\n",
       "    <tr>\n",
       "      <th>39</th>\n",
       "      <td>VIEW</td>\n",
       "      <td>CHROME</td>\n",
       "      <td>0</td>\n",
       "      <td>3</td>\n",
       "      <td>2017-08-17</td>\n",
       "      <td>3:41:09</td>\n",
       "      <td>8</td>\n",
       "      <td>0</td>\n",
       "      <td>16.0</td>\n",
       "      <td>3</td>\n",
       "      <td>20</td>\n",
       "      <td>0.333333</td>\n",
       "      <td>Curry, Donn 5.8KW Bid Proposal.pdf</td>\n",
       "      <td>11.333333</td>\n",
       "      <td>5713756</td>\n",
       "      <td>MAC_OS_X</td>\n",
       "      <td>1</td>\n",
       "      <td>Laptop/Desktop</td>\n",
       "      <td>3</td>\n",
       "      <td>Thursday</td>\n",
       "    </tr>\n",
       "    <tr>\n",
       "      <th>...</th>\n",
       "      <td>...</td>\n",
       "      <td>...</td>\n",
       "      <td>...</td>\n",
       "      <td>...</td>\n",
       "      <td>...</td>\n",
       "      <td>...</td>\n",
       "      <td>...</td>\n",
       "      <td>...</td>\n",
       "      <td>...</td>\n",
       "      <td>...</td>\n",
       "      <td>...</td>\n",
       "      <td>...</td>\n",
       "      <td>...</td>\n",
       "      <td>...</td>\n",
       "      <td>...</td>\n",
       "      <td>...</td>\n",
       "      <td>...</td>\n",
       "      <td>...</td>\n",
       "      <td>...</td>\n",
       "      <td>...</td>\n",
       "    </tr>\n",
       "    <tr>\n",
       "      <th>3472</th>\n",
       "      <td>VIEW</td>\n",
       "      <td>NaN</td>\n",
       "      <td>1</td>\n",
       "      <td>9</td>\n",
       "      <td>2017-02-28</td>\n",
       "      <td>9:54:25</td>\n",
       "      <td>2</td>\n",
       "      <td>0</td>\n",
       "      <td>NaN</td>\n",
       "      <td>4</td>\n",
       "      <td>5</td>\n",
       "      <td>0.083333</td>\n",
       "      <td>Anderegg, Alicia Prelim Layout.png</td>\n",
       "      <td>NaN</td>\n",
       "      <td>4900809</td>\n",
       "      <td>WEB</td>\n",
       "      <td>1</td>\n",
       "      <td>NaN</td>\n",
       "      <td>1</td>\n",
       "      <td>Tuesday</td>\n",
       "    </tr>\n",
       "    <tr>\n",
       "      <th>3473</th>\n",
       "      <td>VIEW</td>\n",
       "      <td>NaN</td>\n",
       "      <td>1</td>\n",
       "      <td>9</td>\n",
       "      <td>2017-02-28</td>\n",
       "      <td>9:54:18</td>\n",
       "      <td>2</td>\n",
       "      <td>0</td>\n",
       "      <td>NaN</td>\n",
       "      <td>4</td>\n",
       "      <td>20</td>\n",
       "      <td>0.333333</td>\n",
       "      <td>Location Verification</td>\n",
       "      <td>NaN</td>\n",
       "      <td>4900809</td>\n",
       "      <td>WEB</td>\n",
       "      <td>1</td>\n",
       "      <td>NaN</td>\n",
       "      <td>1</td>\n",
       "      <td>Tuesday</td>\n",
       "    </tr>\n",
       "    <tr>\n",
       "      <th>1815</th>\n",
       "      <td>VIEW</td>\n",
       "      <td>MOBILE_SAFARI</td>\n",
       "      <td>1</td>\n",
       "      <td>3</td>\n",
       "      <td>2017-05-12</td>\n",
       "      <td>3:43:56</td>\n",
       "      <td>5</td>\n",
       "      <td>0</td>\n",
       "      <td>NaN</td>\n",
       "      <td>3</td>\n",
       "      <td>5</td>\n",
       "      <td>0.083333</td>\n",
       "      <td>Acarregui 8.12kW SolarEdge Preliminary Estimat...</td>\n",
       "      <td>NaN</td>\n",
       "      <td>5334004</td>\n",
       "      <td>MAC_OS_X_IPHONE</td>\n",
       "      <td>1</td>\n",
       "      <td>Phone</td>\n",
       "      <td>4</td>\n",
       "      <td>Friday</td>\n",
       "    </tr>\n",
       "    <tr>\n",
       "      <th>1816</th>\n",
       "      <td>VIEW</td>\n",
       "      <td>MOBILE_SAFARI</td>\n",
       "      <td>1</td>\n",
       "      <td>2</td>\n",
       "      <td>2017-05-12</td>\n",
       "      <td>2:01:39</td>\n",
       "      <td>5</td>\n",
       "      <td>0</td>\n",
       "      <td>NaN</td>\n",
       "      <td>3</td>\n",
       "      <td>5</td>\n",
       "      <td>0.083333</td>\n",
       "      <td>Acarregui 8.12kW SolarEdge Preliminary Estimat...</td>\n",
       "      <td>NaN</td>\n",
       "      <td>5334004</td>\n",
       "      <td>MAC_OS_X_IPHONE</td>\n",
       "      <td>1</td>\n",
       "      <td>Phone</td>\n",
       "      <td>4</td>\n",
       "      <td>Friday</td>\n",
       "    </tr>\n",
       "    <tr>\n",
       "      <th>1817</th>\n",
       "      <td>VIEW</td>\n",
       "      <td>MOBILE_SAFARI</td>\n",
       "      <td>1</td>\n",
       "      <td>2</td>\n",
       "      <td>2017-05-12</td>\n",
       "      <td>2:01:22</td>\n",
       "      <td>5</td>\n",
       "      <td>0</td>\n",
       "      <td>NaN</td>\n",
       "      <td>3</td>\n",
       "      <td>10</td>\n",
       "      <td>0.166667</td>\n",
       "      <td>Oregon renewable energy tax credit</td>\n",
       "      <td>NaN</td>\n",
       "      <td>5334004</td>\n",
       "      <td>MAC_OS_X_IPHONE</td>\n",
       "      <td>1</td>\n",
       "      <td>Phone</td>\n",
       "      <td>4</td>\n",
       "      <td>Friday</td>\n",
       "    </tr>\n",
       "    <tr>\n",
       "      <th>1818</th>\n",
       "      <td>VIEW</td>\n",
       "      <td>MOBILE_SAFARI</td>\n",
       "      <td>1</td>\n",
       "      <td>2</td>\n",
       "      <td>2017-05-12</td>\n",
       "      <td>2:00:54</td>\n",
       "      <td>5</td>\n",
       "      <td>0</td>\n",
       "      <td>NaN</td>\n",
       "      <td>3</td>\n",
       "      <td>15</td>\n",
       "      <td>0.250000</td>\n",
       "      <td>Federal energy tax credit</td>\n",
       "      <td>NaN</td>\n",
       "      <td>5334004</td>\n",
       "      <td>MAC_OS_X_IPHONE</td>\n",
       "      <td>1</td>\n",
       "      <td>Phone</td>\n",
       "      <td>4</td>\n",
       "      <td>Friday</td>\n",
       "    </tr>\n",
       "    <tr>\n",
       "      <th>1819</th>\n",
       "      <td>VIEW</td>\n",
       "      <td>MOBILE_SAFARI</td>\n",
       "      <td>1</td>\n",
       "      <td>23</td>\n",
       "      <td>2017-05-11</td>\n",
       "      <td>23:49:19</td>\n",
       "      <td>5</td>\n",
       "      <td>0</td>\n",
       "      <td>NaN</td>\n",
       "      <td>2</td>\n",
       "      <td>20</td>\n",
       "      <td>0.333333</td>\n",
       "      <td>Choosing a contractor</td>\n",
       "      <td>NaN</td>\n",
       "      <td>5334004</td>\n",
       "      <td>MAC_OS_X_IPHONE</td>\n",
       "      <td>1</td>\n",
       "      <td>Phone</td>\n",
       "      <td>3</td>\n",
       "      <td>Thursday</td>\n",
       "    </tr>\n",
       "    <tr>\n",
       "      <th>1820</th>\n",
       "      <td>VIEW</td>\n",
       "      <td>MOBILE_SAFARI</td>\n",
       "      <td>1</td>\n",
       "      <td>23</td>\n",
       "      <td>2017-05-11</td>\n",
       "      <td>23:47:43</td>\n",
       "      <td>5</td>\n",
       "      <td>0</td>\n",
       "      <td>NaN</td>\n",
       "      <td>2</td>\n",
       "      <td>5</td>\n",
       "      <td>0.083333</td>\n",
       "      <td>Solar net metering schedule</td>\n",
       "      <td>NaN</td>\n",
       "      <td>5334004</td>\n",
       "      <td>MAC_OS_X_IPHONE</td>\n",
       "      <td>1</td>\n",
       "      <td>Phone</td>\n",
       "      <td>3</td>\n",
       "      <td>Thursday</td>\n",
       "    </tr>\n",
       "    <tr>\n",
       "      <th>1821</th>\n",
       "      <td>VIEW</td>\n",
       "      <td>MOBILE_SAFARI</td>\n",
       "      <td>1</td>\n",
       "      <td>23</td>\n",
       "      <td>2017-05-11</td>\n",
       "      <td>23:00:55</td>\n",
       "      <td>5</td>\n",
       "      <td>0</td>\n",
       "      <td>NaN</td>\n",
       "      <td>2</td>\n",
       "      <td>65</td>\n",
       "      <td>1.083333</td>\n",
       "      <td>Solar Financing Via Umpqua Bank</td>\n",
       "      <td>NaN</td>\n",
       "      <td>5334004</td>\n",
       "      <td>MAC_OS_X_IPHONE</td>\n",
       "      <td>1</td>\n",
       "      <td>Phone</td>\n",
       "      <td>3</td>\n",
       "      <td>Thursday</td>\n",
       "    </tr>\n",
       "    <tr>\n",
       "      <th>1822</th>\n",
       "      <td>VIEW</td>\n",
       "      <td>MOBILE_SAFARI</td>\n",
       "      <td>1</td>\n",
       "      <td>22</td>\n",
       "      <td>2017-05-11</td>\n",
       "      <td>22:51:22</td>\n",
       "      <td>5</td>\n",
       "      <td>0</td>\n",
       "      <td>NaN</td>\n",
       "      <td>2</td>\n",
       "      <td>5</td>\n",
       "      <td>0.083333</td>\n",
       "      <td>Acarregui 8.12kW SolarEdge Preliminary Estimat...</td>\n",
       "      <td>NaN</td>\n",
       "      <td>5334004</td>\n",
       "      <td>MAC_OS_X_IPHONE</td>\n",
       "      <td>1</td>\n",
       "      <td>Phone</td>\n",
       "      <td>3</td>\n",
       "      <td>Thursday</td>\n",
       "    </tr>\n",
       "    <tr>\n",
       "      <th>1823</th>\n",
       "      <td>VIEW</td>\n",
       "      <td>MOBILE_SAFARI</td>\n",
       "      <td>1</td>\n",
       "      <td>22</td>\n",
       "      <td>2017-05-11</td>\n",
       "      <td>22:50:58</td>\n",
       "      <td>5</td>\n",
       "      <td>0</td>\n",
       "      <td>NaN</td>\n",
       "      <td>2</td>\n",
       "      <td>5</td>\n",
       "      <td>0.083333</td>\n",
       "      <td>Energy Trust funding status for Pacific Power ...</td>\n",
       "      <td>NaN</td>\n",
       "      <td>5334004</td>\n",
       "      <td>MAC_OS_X_IPHONE</td>\n",
       "      <td>1</td>\n",
       "      <td>Phone</td>\n",
       "      <td>3</td>\n",
       "      <td>Thursday</td>\n",
       "    </tr>\n",
       "    <tr>\n",
       "      <th>1824</th>\n",
       "      <td>VIEW</td>\n",
       "      <td>MOBILE_SAFARI</td>\n",
       "      <td>1</td>\n",
       "      <td>22</td>\n",
       "      <td>2017-05-11</td>\n",
       "      <td>22:50:49</td>\n",
       "      <td>5</td>\n",
       "      <td>0</td>\n",
       "      <td>NaN</td>\n",
       "      <td>2</td>\n",
       "      <td>5</td>\n",
       "      <td>0.083333</td>\n",
       "      <td>Solar Financing Via Umpqua Bank</td>\n",
       "      <td>NaN</td>\n",
       "      <td>5334004</td>\n",
       "      <td>MAC_OS_X_IPHONE</td>\n",
       "      <td>1</td>\n",
       "      <td>Phone</td>\n",
       "      <td>3</td>\n",
       "      <td>Thursday</td>\n",
       "    </tr>\n",
       "    <tr>\n",
       "      <th>1615</th>\n",
       "      <td>VIEW</td>\n",
       "      <td>CHROME</td>\n",
       "      <td>1</td>\n",
       "      <td>20</td>\n",
       "      <td>2017-05-20</td>\n",
       "      <td>20:41:23</td>\n",
       "      <td>5</td>\n",
       "      <td>0</td>\n",
       "      <td>NaN</td>\n",
       "      <td>2</td>\n",
       "      <td>60</td>\n",
       "      <td>1.000000</td>\n",
       "      <td>Read what our customers have to say</td>\n",
       "      <td>NaN</td>\n",
       "      <td>5193210</td>\n",
       "      <td>WINDOWS_10</td>\n",
       "      <td>1</td>\n",
       "      <td>Laptop/Desktop</td>\n",
       "      <td>5</td>\n",
       "      <td>Saturday</td>\n",
       "    </tr>\n",
       "    <tr>\n",
       "      <th>1617</th>\n",
       "      <td>VIEW</td>\n",
       "      <td>CHROME</td>\n",
       "      <td>1</td>\n",
       "      <td>20</td>\n",
       "      <td>2017-05-20</td>\n",
       "      <td>20:23:09</td>\n",
       "      <td>5</td>\n",
       "      <td>0</td>\n",
       "      <td>NaN</td>\n",
       "      <td>2</td>\n",
       "      <td>25</td>\n",
       "      <td>0.416667</td>\n",
       "      <td>Pacific Power Net Metering</td>\n",
       "      <td>NaN</td>\n",
       "      <td>5193210</td>\n",
       "      <td>WINDOWS_10</td>\n",
       "      <td>1</td>\n",
       "      <td>Laptop/Desktop</td>\n",
       "      <td>5</td>\n",
       "      <td>Saturday</td>\n",
       "    </tr>\n",
       "    <tr>\n",
       "      <th>1632</th>\n",
       "      <td>VIEW</td>\n",
       "      <td>CHROME</td>\n",
       "      <td>1</td>\n",
       "      <td>0</td>\n",
       "      <td>2017-05-20</td>\n",
       "      <td>0:01:40</td>\n",
       "      <td>5</td>\n",
       "      <td>0</td>\n",
       "      <td>NaN</td>\n",
       "      <td>3</td>\n",
       "      <td>5</td>\n",
       "      <td>0.083333</td>\n",
       "      <td>Navarra, Mike 5.04KW Preliminary Bid Proposal.pdf</td>\n",
       "      <td>NaN</td>\n",
       "      <td>5193210</td>\n",
       "      <td>WINDOWS_10</td>\n",
       "      <td>1</td>\n",
       "      <td>Laptop/Desktop</td>\n",
       "      <td>5</td>\n",
       "      <td>Saturday</td>\n",
       "    </tr>\n",
       "    <tr>\n",
       "      <th>1641</th>\n",
       "      <td>VIEW</td>\n",
       "      <td>CHROME</td>\n",
       "      <td>1</td>\n",
       "      <td>19</td>\n",
       "      <td>2017-05-19</td>\n",
       "      <td>19:33:13</td>\n",
       "      <td>5</td>\n",
       "      <td>0</td>\n",
       "      <td>NaN</td>\n",
       "      <td>2</td>\n",
       "      <td>60</td>\n",
       "      <td>1.000000</td>\n",
       "      <td>Navarra, Mike 5.04KW Preliminary Bid Proposal.pdf</td>\n",
       "      <td>NaN</td>\n",
       "      <td>5193210</td>\n",
       "      <td>WINDOWS_10</td>\n",
       "      <td>1</td>\n",
       "      <td>Laptop/Desktop</td>\n",
       "      <td>4</td>\n",
       "      <td>Friday</td>\n",
       "    </tr>\n",
       "    <tr>\n",
       "      <th>1673</th>\n",
       "      <td>VIEW</td>\n",
       "      <td>CHROME</td>\n",
       "      <td>1</td>\n",
       "      <td>20</td>\n",
       "      <td>2017-05-18</td>\n",
       "      <td>20:02:08</td>\n",
       "      <td>5</td>\n",
       "      <td>0</td>\n",
       "      <td>NaN</td>\n",
       "      <td>2</td>\n",
       "      <td>5</td>\n",
       "      <td>0.083333</td>\n",
       "      <td>Navarra, Mike 5.04KW Preliminary Bid Proposal.pdf</td>\n",
       "      <td>NaN</td>\n",
       "      <td>5193210</td>\n",
       "      <td>WINDOWS_10</td>\n",
       "      <td>1</td>\n",
       "      <td>Laptop/Desktop</td>\n",
       "      <td>3</td>\n",
       "      <td>Thursday</td>\n",
       "    </tr>\n",
       "    <tr>\n",
       "      <th>2583</th>\n",
       "      <td>VIEW</td>\n",
       "      <td>NaN</td>\n",
       "      <td>1</td>\n",
       "      <td>6</td>\n",
       "      <td>2017-04-05</td>\n",
       "      <td>6:46:33</td>\n",
       "      <td>4</td>\n",
       "      <td>0</td>\n",
       "      <td>NaN</td>\n",
       "      <td>4</td>\n",
       "      <td>13</td>\n",
       "      <td>0.216667</td>\n",
       "      <td>Oregon renewable energy tax credit</td>\n",
       "      <td>NaN</td>\n",
       "      <td>5193210</td>\n",
       "      <td>WEB</td>\n",
       "      <td>1</td>\n",
       "      <td>NaN</td>\n",
       "      <td>2</td>\n",
       "      <td>Wednesday</td>\n",
       "    </tr>\n",
       "    <tr>\n",
       "      <th>2584</th>\n",
       "      <td>VIEW</td>\n",
       "      <td>NaN</td>\n",
       "      <td>1</td>\n",
       "      <td>6</td>\n",
       "      <td>2017-04-05</td>\n",
       "      <td>6:46:19</td>\n",
       "      <td>4</td>\n",
       "      <td>0</td>\n",
       "      <td>NaN</td>\n",
       "      <td>4</td>\n",
       "      <td>11</td>\n",
       "      <td>0.183333</td>\n",
       "      <td>Energy Trust funding status for Pacific Power ...</td>\n",
       "      <td>NaN</td>\n",
       "      <td>5193210</td>\n",
       "      <td>WEB</td>\n",
       "      <td>1</td>\n",
       "      <td>NaN</td>\n",
       "      <td>2</td>\n",
       "      <td>Wednesday</td>\n",
       "    </tr>\n",
       "    <tr>\n",
       "      <th>2585</th>\n",
       "      <td>VIEW</td>\n",
       "      <td>NaN</td>\n",
       "      <td>1</td>\n",
       "      <td>6</td>\n",
       "      <td>2017-04-05</td>\n",
       "      <td>6:46:00</td>\n",
       "      <td>4</td>\n",
       "      <td>0</td>\n",
       "      <td>NaN</td>\n",
       "      <td>4</td>\n",
       "      <td>17</td>\n",
       "      <td>0.283333</td>\n",
       "      <td>Pacific Power Net Metering</td>\n",
       "      <td>NaN</td>\n",
       "      <td>5193210</td>\n",
       "      <td>WEB</td>\n",
       "      <td>1</td>\n",
       "      <td>NaN</td>\n",
       "      <td>2</td>\n",
       "      <td>Wednesday</td>\n",
       "    </tr>\n",
       "    <tr>\n",
       "      <th>2590</th>\n",
       "      <td>VIEW</td>\n",
       "      <td>NaN</td>\n",
       "      <td>1</td>\n",
       "      <td>19</td>\n",
       "      <td>2017-04-04</td>\n",
       "      <td>19:59:29</td>\n",
       "      <td>4</td>\n",
       "      <td>0</td>\n",
       "      <td>NaN</td>\n",
       "      <td>2</td>\n",
       "      <td>119</td>\n",
       "      <td>1.983333</td>\n",
       "      <td>Navarra, Mike 5.04KW Preliminary Bid Proposal.pdf</td>\n",
       "      <td>NaN</td>\n",
       "      <td>5193210</td>\n",
       "      <td>WEB</td>\n",
       "      <td>1</td>\n",
       "      <td>NaN</td>\n",
       "      <td>1</td>\n",
       "      <td>Tuesday</td>\n",
       "    </tr>\n",
       "    <tr>\n",
       "      <th>52</th>\n",
       "      <td>VIEW</td>\n",
       "      <td>MOBILE_SAFARI</td>\n",
       "      <td>1</td>\n",
       "      <td>3</td>\n",
       "      <td>2017-08-16</td>\n",
       "      <td>3:45:37</td>\n",
       "      <td>8</td>\n",
       "      <td>0</td>\n",
       "      <td>NaN</td>\n",
       "      <td>3</td>\n",
       "      <td>55</td>\n",
       "      <td>0.916667</td>\n",
       "      <td>Request your site assessment</td>\n",
       "      <td>NaN</td>\n",
       "      <td>5858299</td>\n",
       "      <td>MAC_OS_X_IPAD</td>\n",
       "      <td>1</td>\n",
       "      <td>Tablet</td>\n",
       "      <td>2</td>\n",
       "      <td>Wednesday</td>\n",
       "    </tr>\n",
       "    <tr>\n",
       "      <th>121</th>\n",
       "      <td>VIEW</td>\n",
       "      <td>MOBILE_SAFARI</td>\n",
       "      <td>1</td>\n",
       "      <td>2</td>\n",
       "      <td>2017-08-12</td>\n",
       "      <td>2:02:50</td>\n",
       "      <td>8</td>\n",
       "      <td>0</td>\n",
       "      <td>NaN</td>\n",
       "      <td>3</td>\n",
       "      <td>5</td>\n",
       "      <td>0.083333</td>\n",
       "      <td>Thorburn, Matt 8.12KW Preliminary Estimate.pdf</td>\n",
       "      <td>NaN</td>\n",
       "      <td>5858299</td>\n",
       "      <td>MAC_OS_X_IPAD</td>\n",
       "      <td>1</td>\n",
       "      <td>Tablet</td>\n",
       "      <td>5</td>\n",
       "      <td>Saturday</td>\n",
       "    </tr>\n",
       "    <tr>\n",
       "      <th>122</th>\n",
       "      <td>VIEW</td>\n",
       "      <td>MOBILE_SAFARI</td>\n",
       "      <td>1</td>\n",
       "      <td>1</td>\n",
       "      <td>2017-08-12</td>\n",
       "      <td>1:57:46</td>\n",
       "      <td>8</td>\n",
       "      <td>0</td>\n",
       "      <td>NaN</td>\n",
       "      <td>3</td>\n",
       "      <td>10</td>\n",
       "      <td>0.166667</td>\n",
       "      <td>Thorburn, Matt 8.12KW Preliminary Estimate.pdf</td>\n",
       "      <td>NaN</td>\n",
       "      <td>5858299</td>\n",
       "      <td>MAC_OS_X_IPAD</td>\n",
       "      <td>1</td>\n",
       "      <td>Tablet</td>\n",
       "      <td>5</td>\n",
       "      <td>Saturday</td>\n",
       "    </tr>\n",
       "    <tr>\n",
       "      <th>124</th>\n",
       "      <td>VIEW</td>\n",
       "      <td>MOBILE_SAFARI</td>\n",
       "      <td>1</td>\n",
       "      <td>0</td>\n",
       "      <td>2017-08-12</td>\n",
       "      <td>0:10:14</td>\n",
       "      <td>8</td>\n",
       "      <td>0</td>\n",
       "      <td>NaN</td>\n",
       "      <td>3</td>\n",
       "      <td>5</td>\n",
       "      <td>0.083333</td>\n",
       "      <td>Estimate the benefits of solar</td>\n",
       "      <td>NaN</td>\n",
       "      <td>5858299</td>\n",
       "      <td>MAC_OS_X_IPAD</td>\n",
       "      <td>1</td>\n",
       "      <td>Tablet</td>\n",
       "      <td>5</td>\n",
       "      <td>Saturday</td>\n",
       "    </tr>\n",
       "    <tr>\n",
       "      <th>125</th>\n",
       "      <td>VIEW</td>\n",
       "      <td>MOBILE_SAFARI</td>\n",
       "      <td>1</td>\n",
       "      <td>0</td>\n",
       "      <td>2017-08-12</td>\n",
       "      <td>0:09:52</td>\n",
       "      <td>8</td>\n",
       "      <td>0</td>\n",
       "      <td>NaN</td>\n",
       "      <td>3</td>\n",
       "      <td>35</td>\n",
       "      <td>0.583333</td>\n",
       "      <td>Request your site assessment</td>\n",
       "      <td>NaN</td>\n",
       "      <td>5858299</td>\n",
       "      <td>MAC_OS_X_IPAD</td>\n",
       "      <td>1</td>\n",
       "      <td>Tablet</td>\n",
       "      <td>5</td>\n",
       "      <td>Saturday</td>\n",
       "    </tr>\n",
       "    <tr>\n",
       "      <th>128</th>\n",
       "      <td>VIEW</td>\n",
       "      <td>MOBILE_SAFARI</td>\n",
       "      <td>1</td>\n",
       "      <td>23</td>\n",
       "      <td>2017-08-11</td>\n",
       "      <td>23:54:22</td>\n",
       "      <td>8</td>\n",
       "      <td>0</td>\n",
       "      <td>NaN</td>\n",
       "      <td>2</td>\n",
       "      <td>25</td>\n",
       "      <td>0.416667</td>\n",
       "      <td>Request your site assessment</td>\n",
       "      <td>NaN</td>\n",
       "      <td>5858299</td>\n",
       "      <td>MAC_OS_X_IPAD</td>\n",
       "      <td>1</td>\n",
       "      <td>Tablet</td>\n",
       "      <td>4</td>\n",
       "      <td>Friday</td>\n",
       "    </tr>\n",
       "    <tr>\n",
       "      <th>129</th>\n",
       "      <td>VIEW</td>\n",
       "      <td>MOBILE_SAFARI</td>\n",
       "      <td>1</td>\n",
       "      <td>23</td>\n",
       "      <td>2017-08-11</td>\n",
       "      <td>23:53:19</td>\n",
       "      <td>8</td>\n",
       "      <td>0</td>\n",
       "      <td>NaN</td>\n",
       "      <td>2</td>\n",
       "      <td>30</td>\n",
       "      <td>0.500000</td>\n",
       "      <td>Estimate the benefits of solar</td>\n",
       "      <td>NaN</td>\n",
       "      <td>5858299</td>\n",
       "      <td>MAC_OS_X_IPAD</td>\n",
       "      <td>1</td>\n",
       "      <td>Tablet</td>\n",
       "      <td>4</td>\n",
       "      <td>Friday</td>\n",
       "    </tr>\n",
       "    <tr>\n",
       "      <th>130</th>\n",
       "      <td>VIEW</td>\n",
       "      <td>MOBILE_SAFARI</td>\n",
       "      <td>1</td>\n",
       "      <td>23</td>\n",
       "      <td>2017-08-11</td>\n",
       "      <td>23:51:56</td>\n",
       "      <td>8</td>\n",
       "      <td>0</td>\n",
       "      <td>NaN</td>\n",
       "      <td>2</td>\n",
       "      <td>90</td>\n",
       "      <td>1.500000</td>\n",
       "      <td>Thorburn, Matt 8.12KW Preliminary Estimate.pdf</td>\n",
       "      <td>NaN</td>\n",
       "      <td>5858299</td>\n",
       "      <td>MAC_OS_X_IPAD</td>\n",
       "      <td>1</td>\n",
       "      <td>Tablet</td>\n",
       "      <td>4</td>\n",
       "      <td>Friday</td>\n",
       "    </tr>\n",
       "    <tr>\n",
       "      <th>131</th>\n",
       "      <td>VIEW</td>\n",
       "      <td>MOBILE_SAFARI</td>\n",
       "      <td>1</td>\n",
       "      <td>23</td>\n",
       "      <td>2017-08-11</td>\n",
       "      <td>23:51:07</td>\n",
       "      <td>8</td>\n",
       "      <td>0</td>\n",
       "      <td>NaN</td>\n",
       "      <td>2</td>\n",
       "      <td>35</td>\n",
       "      <td>0.583333</td>\n",
       "      <td>About E2 Solar</td>\n",
       "      <td>NaN</td>\n",
       "      <td>5858299</td>\n",
       "      <td>MAC_OS_X_IPAD</td>\n",
       "      <td>1</td>\n",
       "      <td>Tablet</td>\n",
       "      <td>4</td>\n",
       "      <td>Friday</td>\n",
       "    </tr>\n",
       "  </tbody>\n",
       "</table>\n",
       "<p>3471 rows × 20 columns</p>\n",
       "</div>"
      ],
      "text/plain": [
       "     activity_type        browser  conv_id  hour last_activity_date  \\\n",
       "0             VIEW         SAFARI        0    21         2017-08-21   \n",
       "1             VIEW  MOBILE_SAFARI        0     2         2017-08-21   \n",
       "2             VIEW  MOBILE_SAFARI        0    21         2017-08-20   \n",
       "4             VIEW  MOBILE_SAFARI        0     7         2017-08-20   \n",
       "5             VIEW  MOBILE_SAFARI        0     6         2017-08-20   \n",
       "6             VIEW  MOBILE_SAFARI        0    11         2017-08-19   \n",
       "7             VIEW  MOBILE_SAFARI        0    11         2017-08-19   \n",
       "8             VIEW  MOBILE_SAFARI        0    11         2017-08-19   \n",
       "9             VIEW  MOBILE_SAFARI        0    11         2017-08-19   \n",
       "12            VIEW  MOBILE_SAFARI        0    10         2017-08-19   \n",
       "13            VIEW  MOBILE_SAFARI        0    10         2017-08-19   \n",
       "15            VIEW  MOBILE_SAFARI        0     6         2017-08-19   \n",
       "16            VIEW  MOBILE_SAFARI        0     6         2017-08-19   \n",
       "17            VIEW  MOBILE_SAFARI        0     6         2017-08-19   \n",
       "18            VIEW  MOBILE_SAFARI        0     6         2017-08-19   \n",
       "19            VIEW  MOBILE_SAFARI        0     6         2017-08-19   \n",
       "20            VIEW  MOBILE_SAFARI        0     6         2017-08-19   \n",
       "21            VIEW  MOBILE_SAFARI        0     4         2017-08-19   \n",
       "23            VIEW         SAFARI        0     0         2017-08-19   \n",
       "24            VIEW  MOBILE_SAFARI        0     5         2017-08-18   \n",
       "25            VIEW  MOBILE_SAFARI        0     5         2017-08-18   \n",
       "28            VIEW         SAFARI        0     5         2017-08-18   \n",
       "29            VIEW  MOBILE_SAFARI        0    19         2017-08-17   \n",
       "31            VIEW         SAFARI        0     8         2017-08-17   \n",
       "32            VIEW         SAFARI        0     8         2017-08-17   \n",
       "33            VIEW         SAFARI        0     8         2017-08-17   \n",
       "35            VIEW         SAFARI        0     7         2017-08-17   \n",
       "36            VIEW         SAFARI        0     3         2017-08-17   \n",
       "38            VIEW         CHROME        0     3         2017-08-17   \n",
       "39            VIEW         CHROME        0     3         2017-08-17   \n",
       "...            ...            ...      ...   ...                ...   \n",
       "3472          VIEW            NaN        1     9         2017-02-28   \n",
       "3473          VIEW            NaN        1     9         2017-02-28   \n",
       "1815          VIEW  MOBILE_SAFARI        1     3         2017-05-12   \n",
       "1816          VIEW  MOBILE_SAFARI        1     2         2017-05-12   \n",
       "1817          VIEW  MOBILE_SAFARI        1     2         2017-05-12   \n",
       "1818          VIEW  MOBILE_SAFARI        1     2         2017-05-12   \n",
       "1819          VIEW  MOBILE_SAFARI        1    23         2017-05-11   \n",
       "1820          VIEW  MOBILE_SAFARI        1    23         2017-05-11   \n",
       "1821          VIEW  MOBILE_SAFARI        1    23         2017-05-11   \n",
       "1822          VIEW  MOBILE_SAFARI        1    22         2017-05-11   \n",
       "1823          VIEW  MOBILE_SAFARI        1    22         2017-05-11   \n",
       "1824          VIEW  MOBILE_SAFARI        1    22         2017-05-11   \n",
       "1615          VIEW         CHROME        1    20         2017-05-20   \n",
       "1617          VIEW         CHROME        1    20         2017-05-20   \n",
       "1632          VIEW         CHROME        1     0         2017-05-20   \n",
       "1641          VIEW         CHROME        1    19         2017-05-19   \n",
       "1673          VIEW         CHROME        1    20         2017-05-18   \n",
       "2583          VIEW            NaN        1     6         2017-04-05   \n",
       "2584          VIEW            NaN        1     6         2017-04-05   \n",
       "2585          VIEW            NaN        1     6         2017-04-05   \n",
       "2590          VIEW            NaN        1    19         2017-04-04   \n",
       "52            VIEW  MOBILE_SAFARI        1     3         2017-08-16   \n",
       "121           VIEW  MOBILE_SAFARI        1     2         2017-08-12   \n",
       "122           VIEW  MOBILE_SAFARI        1     1         2017-08-12   \n",
       "124           VIEW  MOBILE_SAFARI        1     0         2017-08-12   \n",
       "125           VIEW  MOBILE_SAFARI        1     0         2017-08-12   \n",
       "128           VIEW  MOBILE_SAFARI        1    23         2017-08-11   \n",
       "129           VIEW  MOBILE_SAFARI        1    23         2017-08-11   \n",
       "130           VIEW  MOBILE_SAFARI        1    23         2017-08-11   \n",
       "131           VIEW  MOBILE_SAFARI        1    23         2017-08-11   \n",
       "\n",
       "     last_activity_time  month  num_of_day_from_share_view  num_of_views  \\\n",
       "0              21:33:08      8                           0          10.0   \n",
       "1               2:16:47      8                           0          16.0   \n",
       "2              21:26:00      8                           0          16.0   \n",
       "4               7:04:50      8                           0          16.0   \n",
       "5               6:51:56      8                           0          16.0   \n",
       "6              11:18:43      8                           0          16.0   \n",
       "7              11:16:30      8                           0          16.0   \n",
       "8              11:15:08      8                           0          16.0   \n",
       "9              11:01:34      8                           0          16.0   \n",
       "12             10:46:28      8                           0          16.0   \n",
       "13             10:42:29      8                           0          16.0   \n",
       "15              6:44:19      8                           0          16.0   \n",
       "16              6:43:31      8                           0          16.0   \n",
       "17              6:40:50      8                           0          16.0   \n",
       "18              6:39:19      8                           0          16.0   \n",
       "19              6:38:53      8                           0          16.0   \n",
       "20              6:26:50      8                           0          16.0   \n",
       "21              4:28:04      8                           0           5.0   \n",
       "23              0:23:40      8                           0         206.0   \n",
       "24              5:55:05      8                           0           2.0   \n",
       "25              5:54:51      8                           0           2.0   \n",
       "28              5:12:22      8                           0         827.0   \n",
       "29             19:42:57      8                           0          17.0   \n",
       "31              8:11:36      8                           0          10.0   \n",
       "32              8:07:58      8                           0          10.0   \n",
       "33              8:07:16      8                           0          10.0   \n",
       "35              7:37:10      8                           0         827.0   \n",
       "36              3:47:45      8                           0         827.0   \n",
       "38              3:41:35      8                           0          16.0   \n",
       "39              3:41:09      8                           0          16.0   \n",
       "...                 ...    ...                         ...           ...   \n",
       "3472            9:54:25      2                           0           NaN   \n",
       "3473            9:54:18      2                           0           NaN   \n",
       "1815            3:43:56      5                           0           NaN   \n",
       "1816            2:01:39      5                           0           NaN   \n",
       "1817            2:01:22      5                           0           NaN   \n",
       "1818            2:00:54      5                           0           NaN   \n",
       "1819           23:49:19      5                           0           NaN   \n",
       "1820           23:47:43      5                           0           NaN   \n",
       "1821           23:00:55      5                           0           NaN   \n",
       "1822           22:51:22      5                           0           NaN   \n",
       "1823           22:50:58      5                           0           NaN   \n",
       "1824           22:50:49      5                           0           NaN   \n",
       "1615           20:41:23      5                           0           NaN   \n",
       "1617           20:23:09      5                           0           NaN   \n",
       "1632            0:01:40      5                           0           NaN   \n",
       "1641           19:33:13      5                           0           NaN   \n",
       "1673           20:02:08      5                           0           NaN   \n",
       "2583            6:46:33      4                           0           NaN   \n",
       "2584            6:46:19      4                           0           NaN   \n",
       "2585            6:46:00      4                           0           NaN   \n",
       "2590           19:59:29      4                           0           NaN   \n",
       "52              3:45:37      8                           0           NaN   \n",
       "121             2:02:50      8                           0           NaN   \n",
       "122             1:57:46      8                           0           NaN   \n",
       "124             0:10:14      8                           0           NaN   \n",
       "125             0:09:52      8                           0           NaN   \n",
       "128            23:54:22      8                           0           NaN   \n",
       "129            23:53:19      8                           0           NaN   \n",
       "130            23:51:56      8                           0           NaN   \n",
       "131            23:51:07      8                           0           NaN   \n",
       "\n",
       "      time_of_day  time_spent_in_seconds  time_spent_mins  \\\n",
       "0               2                    180         3.000000   \n",
       "1               3                     85         1.416667   \n",
       "2               2                      5         0.083333   \n",
       "4               4                      5         0.083333   \n",
       "5               4                     45         0.750000   \n",
       "6               4                    185         3.083333   \n",
       "7               4                    115         1.916667   \n",
       "8               4                     35         0.583333   \n",
       "9               4                      5         0.083333   \n",
       "12              4                     45         0.750000   \n",
       "13              4                     85         1.416667   \n",
       "15              4                    110         1.833333   \n",
       "16              4                     25         0.416667   \n",
       "17              4                     20         0.333333   \n",
       "18              4                     80         1.333333   \n",
       "19              4                    100         1.666667   \n",
       "20              4                    180         3.000000   \n",
       "21              3                     30         0.500000   \n",
       "23              3                     40         0.666667   \n",
       "24              3                      5         0.083333   \n",
       "25              3                      5         0.083333   \n",
       "28              3                      5         0.083333   \n",
       "29              2                    120         2.000000   \n",
       "31              4                     65         1.083333   \n",
       "32              4                    120         2.000000   \n",
       "33              4                     20         0.333333   \n",
       "35              4                     20         0.333333   \n",
       "36              3                     10         0.166667   \n",
       "38              3                     25         0.416667   \n",
       "39              3                     20         0.333333   \n",
       "...           ...                    ...              ...   \n",
       "3472            4                      5         0.083333   \n",
       "3473            4                     20         0.333333   \n",
       "1815            3                      5         0.083333   \n",
       "1816            3                      5         0.083333   \n",
       "1817            3                     10         0.166667   \n",
       "1818            3                     15         0.250000   \n",
       "1819            2                     20         0.333333   \n",
       "1820            2                      5         0.083333   \n",
       "1821            2                     65         1.083333   \n",
       "1822            2                      5         0.083333   \n",
       "1823            2                      5         0.083333   \n",
       "1824            2                      5         0.083333   \n",
       "1615            2                     60         1.000000   \n",
       "1617            2                     25         0.416667   \n",
       "1632            3                      5         0.083333   \n",
       "1641            2                     60         1.000000   \n",
       "1673            2                      5         0.083333   \n",
       "2583            4                     13         0.216667   \n",
       "2584            4                     11         0.183333   \n",
       "2585            4                     17         0.283333   \n",
       "2590            2                    119         1.983333   \n",
       "52              3                     55         0.916667   \n",
       "121             3                      5         0.083333   \n",
       "122             3                     10         0.166667   \n",
       "124             3                      5         0.083333   \n",
       "125             3                     35         0.583333   \n",
       "128             2                     25         0.416667   \n",
       "129             2                     30         0.500000   \n",
       "130             2                     90         1.500000   \n",
       "131             2                     35         0.583333   \n",
       "\n",
       "                                       title_of_content  total_time_mins  \\\n",
       "0        Doherty, Conan 5.04KW Preliminary Estimate.pdf         8.000000   \n",
       "1          Suhre, David 4.48KW Preliminary Estimate.pdf        18.750000   \n",
       "2          Suhre, David 4.48KW Preliminary Estimate.pdf        18.750000   \n",
       "4          Suhre, David 4.48KW Preliminary Estimate.pdf        18.750000   \n",
       "5          Suhre, David 4.48KW Preliminary Estimate.pdf        18.750000   \n",
       "6                   Read what our customers have to say        18.750000   \n",
       "7                                        About E2 Solar        18.750000   \n",
       "8                               Upload Electricity Bill        18.750000   \n",
       "9                          Request your site assessment        18.750000   \n",
       "12         Suhre, David 4.48KW Preliminary Estimate.pdf        18.750000   \n",
       "13    Update on expiration of Oregon Residential ene...        18.750000   \n",
       "15                  Read what our customers have to say        18.750000   \n",
       "16                         Request your site assessment        18.750000   \n",
       "17                              Upload Electricity Bill        18.750000   \n",
       "18                           Your Solar Interest - form        18.750000   \n",
       "19                       Estimate the benefits of solar        18.750000   \n",
       "20         Suhre, David 4.48KW Preliminary Estimate.pdf        18.750000   \n",
       "21                               Solar Cost Terminology        10.333333   \n",
       "23                 E2 Solar Contracts for Jeffrey Remer        97.833333   \n",
       "24                       Estimate the benefits of solar         0.166667   \n",
       "25        Sultzer, Eric 5.22KW Preliminary Estimate.pdf         0.166667   \n",
       "28        Sultzer, Eric 5.22KW Preliminary Estimate.pdf       398.283333   \n",
       "29                         Request your site assessment        12.250000   \n",
       "31                 Net Metering Agreement (Sample Only)        13.166667   \n",
       "32         Pacific Power Schedule 135 for Frank Mungeam        13.166667   \n",
       "33         Energy Trust Incentive Application - Mungeam        13.166667   \n",
       "35         Suhre, David 4.48KW Preliminary Estimate.pdf       398.283333   \n",
       "36                         Request your site assessment       398.283333   \n",
       "38                  Curry, Donn 6.38KW Bid Proposal.pdf        11.333333   \n",
       "39                   Curry, Donn 5.8KW Bid Proposal.pdf        11.333333   \n",
       "...                                                 ...              ...   \n",
       "3472                 Anderegg, Alicia Prelim Layout.png              NaN   \n",
       "3473                              Location Verification              NaN   \n",
       "1815  Acarregui 8.12kW SolarEdge Preliminary Estimat...              NaN   \n",
       "1816  Acarregui 8.12kW SolarEdge Preliminary Estimat...              NaN   \n",
       "1817                 Oregon renewable energy tax credit              NaN   \n",
       "1818                          Federal energy tax credit              NaN   \n",
       "1819                              Choosing a contractor              NaN   \n",
       "1820                        Solar net metering schedule              NaN   \n",
       "1821                    Solar Financing Via Umpqua Bank              NaN   \n",
       "1822  Acarregui 8.12kW SolarEdge Preliminary Estimat...              NaN   \n",
       "1823  Energy Trust funding status for Pacific Power ...              NaN   \n",
       "1824                    Solar Financing Via Umpqua Bank              NaN   \n",
       "1615                Read what our customers have to say              NaN   \n",
       "1617                         Pacific Power Net Metering              NaN   \n",
       "1632  Navarra, Mike 5.04KW Preliminary Bid Proposal.pdf              NaN   \n",
       "1641  Navarra, Mike 5.04KW Preliminary Bid Proposal.pdf              NaN   \n",
       "1673  Navarra, Mike 5.04KW Preliminary Bid Proposal.pdf              NaN   \n",
       "2583                 Oregon renewable energy tax credit              NaN   \n",
       "2584  Energy Trust funding status for Pacific Power ...              NaN   \n",
       "2585                         Pacific Power Net Metering              NaN   \n",
       "2590  Navarra, Mike 5.04KW Preliminary Bid Proposal.pdf              NaN   \n",
       "52                         Request your site assessment              NaN   \n",
       "121      Thorburn, Matt 8.12KW Preliminary Estimate.pdf              NaN   \n",
       "122      Thorburn, Matt 8.12KW Preliminary Estimate.pdf              NaN   \n",
       "124                      Estimate the benefits of solar              NaN   \n",
       "125                        Request your site assessment              NaN   \n",
       "128                        Request your site assessment              NaN   \n",
       "129                      Estimate the benefits of solar              NaN   \n",
       "130      Thorburn, Matt 8.12KW Preliminary Estimate.pdf              NaN   \n",
       "131                                      About E2 Solar              NaN   \n",
       "\n",
       "      user_id    user_os_share  viewed  viewing_device  weekday weekday_name  \n",
       "0     5655305         MAC_OS_X       1  Laptop/Desktop        0       Monday  \n",
       "1     5927942        iOS9_IPAD       1          Tablet        0       Monday  \n",
       "2     5927942        iOS9_IPAD       1          Tablet        6       Sunday  \n",
       "4     5927942        iOS9_IPAD       1          Tablet        6       Sunday  \n",
       "5     5927942        iOS9_IPAD       1          Tablet        6       Sunday  \n",
       "6     5927942  MAC_OS_X_IPHONE       1           Phone        5     Saturday  \n",
       "7     5927942  MAC_OS_X_IPHONE       1           Phone        5     Saturday  \n",
       "8     5927942  MAC_OS_X_IPHONE       1           Phone        5     Saturday  \n",
       "9     5927942  MAC_OS_X_IPHONE       1           Phone        5     Saturday  \n",
       "12    5927942  MAC_OS_X_IPHONE       1           Phone        5     Saturday  \n",
       "13    5927942  MAC_OS_X_IPHONE       1           Phone        5     Saturday  \n",
       "15    5927942  MAC_OS_X_IPHONE       1           Phone        5     Saturday  \n",
       "16    5927942  MAC_OS_X_IPHONE       1           Phone        5     Saturday  \n",
       "17    5927942  MAC_OS_X_IPHONE       1           Phone        5     Saturday  \n",
       "18    5927942  MAC_OS_X_IPHONE       1           Phone        5     Saturday  \n",
       "19    5927942  MAC_OS_X_IPHONE       1           Phone        5     Saturday  \n",
       "20    5927942  MAC_OS_X_IPHONE       1           Phone        5     Saturday  \n",
       "21    5824573    MAC_OS_X_IPAD       1          Tablet        5     Saturday  \n",
       "23    2622013         MAC_OS_X       1  Laptop/Desktop        5     Saturday  \n",
       "24    5933590  MAC_OS_X_IPHONE       1           Phone        4       Friday  \n",
       "25    5933590  MAC_OS_X_IPHONE       1           Phone        4       Friday  \n",
       "28    2834196         MAC_OS_X       1  Laptop/Desktop        4       Friday  \n",
       "29    5752421    MAC_OS_X_IPAD       1          Tablet        3     Thursday  \n",
       "31    5773156         MAC_OS_X       1  Laptop/Desktop        3     Thursday  \n",
       "32    5773156         MAC_OS_X       1  Laptop/Desktop        3     Thursday  \n",
       "33    5773156         MAC_OS_X       1  Laptop/Desktop        3     Thursday  \n",
       "35    2834196         MAC_OS_X       1  Laptop/Desktop        3     Thursday  \n",
       "36    2834196         MAC_OS_X       1  Laptop/Desktop        3     Thursday  \n",
       "38    5713756         MAC_OS_X       1  Laptop/Desktop        3     Thursday  \n",
       "39    5713756         MAC_OS_X       1  Laptop/Desktop        3     Thursday  \n",
       "...       ...              ...     ...             ...      ...          ...  \n",
       "3472  4900809              WEB       1             NaN        1      Tuesday  \n",
       "3473  4900809              WEB       1             NaN        1      Tuesday  \n",
       "1815  5334004  MAC_OS_X_IPHONE       1           Phone        4       Friday  \n",
       "1816  5334004  MAC_OS_X_IPHONE       1           Phone        4       Friday  \n",
       "1817  5334004  MAC_OS_X_IPHONE       1           Phone        4       Friday  \n",
       "1818  5334004  MAC_OS_X_IPHONE       1           Phone        4       Friday  \n",
       "1819  5334004  MAC_OS_X_IPHONE       1           Phone        3     Thursday  \n",
       "1820  5334004  MAC_OS_X_IPHONE       1           Phone        3     Thursday  \n",
       "1821  5334004  MAC_OS_X_IPHONE       1           Phone        3     Thursday  \n",
       "1822  5334004  MAC_OS_X_IPHONE       1           Phone        3     Thursday  \n",
       "1823  5334004  MAC_OS_X_IPHONE       1           Phone        3     Thursday  \n",
       "1824  5334004  MAC_OS_X_IPHONE       1           Phone        3     Thursday  \n",
       "1615  5193210       WINDOWS_10       1  Laptop/Desktop        5     Saturday  \n",
       "1617  5193210       WINDOWS_10       1  Laptop/Desktop        5     Saturday  \n",
       "1632  5193210       WINDOWS_10       1  Laptop/Desktop        5     Saturday  \n",
       "1641  5193210       WINDOWS_10       1  Laptop/Desktop        4       Friday  \n",
       "1673  5193210       WINDOWS_10       1  Laptop/Desktop        3     Thursday  \n",
       "2583  5193210              WEB       1             NaN        2    Wednesday  \n",
       "2584  5193210              WEB       1             NaN        2    Wednesday  \n",
       "2585  5193210              WEB       1             NaN        2    Wednesday  \n",
       "2590  5193210              WEB       1             NaN        1      Tuesday  \n",
       "52    5858299    MAC_OS_X_IPAD       1          Tablet        2    Wednesday  \n",
       "121   5858299    MAC_OS_X_IPAD       1          Tablet        5     Saturday  \n",
       "122   5858299    MAC_OS_X_IPAD       1          Tablet        5     Saturday  \n",
       "124   5858299    MAC_OS_X_IPAD       1          Tablet        5     Saturday  \n",
       "125   5858299    MAC_OS_X_IPAD       1          Tablet        5     Saturday  \n",
       "128   5858299    MAC_OS_X_IPAD       1          Tablet        4       Friday  \n",
       "129   5858299    MAC_OS_X_IPAD       1          Tablet        4       Friday  \n",
       "130   5858299    MAC_OS_X_IPAD       1          Tablet        4       Friday  \n",
       "131   5858299    MAC_OS_X_IPAD       1          Tablet        4       Friday  \n",
       "\n",
       "[3471 rows x 20 columns]"
      ]
     },
     "execution_count": 69,
     "metadata": {},
     "output_type": "execute_result"
    }
   ],
   "source": [
    "test_df"
   ]
  },
  {
   "cell_type": "code",
   "execution_count": 70,
   "metadata": {
    "collapsed": false
   },
   "outputs": [],
   "source": [
    "dummies = pd.get_dummies(test_df, columns=[\"viewing_device\", \"weekday_name\", \"time_of_day\", \"browser\"])"
   ]
  },
  {
   "cell_type": "code",
   "execution_count": 71,
   "metadata": {
    "collapsed": false
   },
   "outputs": [
    {
     "data": {
      "text/plain": [
       "Index([u'activity_type', u'browser_CHROME', u'browser_CHROME_MOBILE',\n",
       "       u'browser_EDGE', u'browser_FIREFOX', u'browser_FIREFOX_MOBILE',\n",
       "       u'browser_IE', u'browser_MOBILE_SAFARI', u'browser_OPERA',\n",
       "       u'browser_SAFARI', u'conv_id', u'hour', u'last_activity_date',\n",
       "       u'last_activity_time', u'month', u'num_of_day_from_share_view',\n",
       "       u'num_of_views', u'time_of_day_1', u'time_of_day_2', u'time_of_day_3',\n",
       "       u'time_of_day_4', u'time_spent_in_seconds', u'time_spent_mins',\n",
       "       u'title_of_content', u'total_time_mins', u'user_id', u'user_os_share',\n",
       "       u'viewed', u'viewing_device_Laptop/Desktop', u'viewing_device_Phone',\n",
       "       u'viewing_device_Tablet', u'weekday', u'weekday_name_Friday',\n",
       "       u'weekday_name_Monday', u'weekday_name_Saturday',\n",
       "       u'weekday_name_Sunday', u'weekday_name_Thursday',\n",
       "       u'weekday_name_Tuesday', u'weekday_name_Wednesday'],\n",
       "      dtype='object')"
      ]
     },
     "execution_count": 71,
     "metadata": {},
     "output_type": "execute_result"
    }
   ],
   "source": [
    "test_df = pd.concat([test_df, dummies])\n",
    "test_df = test_df.drop([\"viewing_device\", \"weekday_name\", \"time_of_day\", \"browser\"], axis=1)\n",
    "test_df.columns"
   ]
  },
  {
   "cell_type": "code",
   "execution_count": 72,
   "metadata": {
    "collapsed": true
   },
   "outputs": [],
   "source": [
    "from sklearn.linear_model import LinearRegression\n",
    "from sklearn.linear_model import LogisticRegression\n",
    "from sklearn.model_selection import train_test_split\n",
    "from sklearn.metrics import mean_squared_error, r2_score"
   ]
  },
  {
   "cell_type": "code",
   "execution_count": 73,
   "metadata": {
    "collapsed": false
   },
   "outputs": [],
   "source": [
    "test_df.dropna(how= \"any\", inplace= True)\n",
    "len(test_df)\n",
    "x = test_df.as_matrix(columns= [u'time_of_day_1', u'time_of_day_2', u'time_of_day_3', u'time_of_day_4',u'viewing_device_Laptop/Desktop',\n",
    "       u'viewing_device_Phone', u'viewing_device_Tablet',\n",
    "        u'weekday_name_Friday', u'weekday_name_Monday',\n",
    "       u'weekday_name_Saturday', u'weekday_name_Sunday',\n",
    "       u'weekday_name_Thursday', u'weekday_name_Tuesday',\n",
    "       u'weekday_name_Wednesday', 'num_of_views', u'browser_CHROME', u'browser_CHROME_MOBILE',\n",
    "       u'browser_EDGE', u'browser_FIREFOX', u'browser_FIREFOX_MOBILE',\n",
    "       u'browser_IE', u'browser_MOBILE_SAFARI', u'browser_OPERA',\n",
    "       u'browser_SAFARI'])\n",
    "y = test_df.as_matrix(columns= [\"time_spent_mins\"])"
   ]
  },
  {
   "cell_type": "code",
   "execution_count": 74,
   "metadata": {
    "collapsed": false
   },
   "outputs": [],
   "source": [
    "x_train, x_test, y_train, y_test = train_test_split(x,y)"
   ]
  },
  {
   "cell_type": "code",
   "execution_count": 100,
   "metadata": {
    "collapsed": false
   },
   "outputs": [
    {
     "data": {
      "text/plain": [
       "(array([[  2.16099219e-01,  -9.72230919e-02,  -1.44434855e-01,\n",
       "           2.55587279e-02,  -5.64838478e-02,  -3.12725434e-01,\n",
       "          -2.40756986e-02,  -5.22838341e-02,   7.40850224e-02,\n",
       "           2.65102106e-02,  -1.03267266e-01,   3.32938038e-02,\n",
       "           7.77173393e-03,   1.38903292e-02,  -4.27288515e-04,\n",
       "           8.30152994e-02,   3.47469901e-01,   2.83633845e-01,\n",
       "           1.76806349e-01,  -5.70572394e-01,   2.77194851e-02,\n",
       "          -9.02262832e-02,  -5.02746853e-01,  -1.48384331e-01]]),\n",
       " 0.049069101912435631)"
      ]
     },
     "execution_count": 100,
     "metadata": {},
     "output_type": "execute_result"
    }
   ],
   "source": [
    "Model = LinearRegression()\n",
    "Model.fit(x_train, y_train)\n",
    "Model.predict(x_test)\n",
    "coeffs = Model.coef_\n",
    "coeffs, Model.score(x_test,y_test)"
   ]
  },
  {
   "cell_type": "code",
   "execution_count": 117,
   "metadata": {
    "collapsed": false
   },
   "outputs": [
    {
     "data": {
      "text/plain": [
       "array([[u'time_of_day_1', u'time_of_day_2', u'time_of_day_3',\n",
       "        u'time_of_day_4', u'viewing_device_Laptop/Desktop',\n",
       "        u'viewing_device_Phone', u'viewing_device_Tablet',\n",
       "        u'weekday_name_Friday', u'weekday_name_Monday',\n",
       "        u'weekday_name_Saturday', u'weekday_name_Sunday',\n",
       "        u'weekday_name_Thursday', u'weekday_name_Tuesday',\n",
       "        u'weekday_name_Wednesday', u'num_of_views', u'browser_CHROME',\n",
       "        u'browser_CHROME_MOBILE', u'browser_EDGE', u'browser_FIREFOX',\n",
       "        u'browser_FIREFOX_MOBILE', u'browser_IE', u'browser_MOBILE_SAFARI',\n",
       "        u'browser_OPERA', u'browser_SAFARI']],\n",
       "      dtype='<U29')"
      ]
     },
     "execution_count": 117,
     "metadata": {},
     "output_type": "execute_result"
    }
   ],
   "source": [
    "from itertools import izip\n",
    "feat_list =np.array( [u'time_of_day_1', u'time_of_day_2', u'time_of_day_3', u'time_of_day_4',u'viewing_device_Laptop/Desktop',\n",
    "       u'viewing_device_Phone', u'viewing_device_Tablet',\n",
    "        u'weekday_name_Friday', u'weekday_name_Monday',\n",
    "       u'weekday_name_Saturday', u'weekday_name_Sunday',\n",
    "       u'weekday_name_Thursday', u'weekday_name_Tuesday',\n",
    "       u'weekday_name_Wednesday', 'num_of_views', u'browser_CHROME', u'browser_CHROME_MOBILE',\n",
    "       u'browser_EDGE', u'browser_FIREFOX', u'browser_FIREFOX_MOBILE',\n",
    "       u'browser_IE', u'browser_MOBILE_SAFARI', u'browser_OPERA',\n",
    "       u'browser_SAFARI'])\n",
    "feat_coeff = [(a,b) for a,b in zip(feat_list, coeffs)]\n",
    "coeffs.shape\n",
    "feat_list.reshape(1,24)"
   ]
  },
  {
   "cell_type": "code",
   "execution_count": 119,
   "metadata": {
    "collapsed": false
   },
   "outputs": [
    {
     "data": {
      "text/plain": [
       "[(u'time_of_day_1',\n",
       "  array([  2.16099219e-01,  -9.72230919e-02,  -1.44434855e-01,\n",
       "           2.55587279e-02,  -5.64838478e-02,  -3.12725434e-01,\n",
       "          -2.40756986e-02,  -5.22838341e-02,   7.40850224e-02,\n",
       "           2.65102106e-02,  -1.03267266e-01,   3.32938038e-02,\n",
       "           7.77173393e-03,   1.38903292e-02,  -4.27288515e-04,\n",
       "           8.30152994e-02,   3.47469901e-01,   2.83633845e-01,\n",
       "           1.76806349e-01,  -5.70572394e-01,   2.77194851e-02,\n",
       "          -9.02262832e-02,  -5.02746853e-01,  -1.48384331e-01]))]"
      ]
     },
     "execution_count": 119,
     "metadata": {},
     "output_type": "execute_result"
    }
   ],
   "source": [
    "feat_coeff = [(a,b) for a,b in zip(feat_list, coeffs)]\n",
    "feat_coeff"
   ]
  },
  {
   "cell_type": "code",
   "execution_count": 102,
   "metadata": {
    "collapsed": false
   },
   "outputs": [
    {
     "name": "stderr",
     "output_type": "stream",
     "text": [
      "/Users/urmimukherjee/anaconda2/lib/python2.7/site-packages/ipykernel/__main__.py:3: DataConversionWarning: A column-vector y was passed when a 1d array was expected. Please change the shape of y to (n_samples,), for example using ravel().\n",
      "  app.launch_new_instance()\n"
     ]
    }
   ],
   "source": [
    "from sklearn.ensemble import RandomForestRegressor\n",
    "rf = RandomForestRegressor(max_depth=2, random_state=0)\n",
    "rf.fit(x_train,y_train)\n",
    "y_pred = rf.predict(x_test)"
   ]
  },
  {
   "cell_type": "code",
   "execution_count": 97,
   "metadata": {
    "collapsed": false
   },
   "outputs": [
    {
     "data": {
      "text/plain": [
       "0.06344233567683899"
      ]
     },
     "execution_count": 97,
     "metadata": {},
     "output_type": "execute_result"
    }
   ],
   "source": [
    "rf.score(x_test, y_test)"
   ]
  },
  {
   "cell_type": "code",
   "execution_count": 88,
   "metadata": {
    "collapsed": false
   },
   "outputs": [
    {
     "data": {
      "text/plain": [
       "array([ 0.        ,  0.        ,  0.01084811,  0.        ,  0.00778895,\n",
       "        0.03461424,  0.        ,  0.00757674,  0.        ,  0.        ,\n",
       "        0.        ,  0.00519698,  0.        ,  0.00437202,  0.79488814,\n",
       "        0.        ,  0.        ,  0.        ,  0.        ,  0.        ,\n",
       "        0.        ,  0.12689189,  0.        ,  0.00782293])"
      ]
     },
     "execution_count": 88,
     "metadata": {},
     "output_type": "execute_result"
    }
   ],
   "source": [
    "rf.feature_importances_"
   ]
  },
  {
   "cell_type": "code",
   "execution_count": 77,
   "metadata": {
    "collapsed": true
   },
   "outputs": [],
   "source": [
    "test_df.dropna(how= \"any\", inplace= True)\n",
    "len(test_df)\n",
    "x1 = test_df.as_matrix(columns= [u'time_of_day_1', u'time_of_day_2', u'time_of_day_3', u'time_of_day_4',u'viewing_device_Laptop/Desktop',\n",
    "       u'viewing_device_Phone', u'viewing_device_Tablet',\n",
    "        u'weekday_name_Friday', u'weekday_name_Monday',\n",
    "       u'weekday_name_Saturday', u'weekday_name_Sunday',\n",
    "       u'weekday_name_Thursday', u'weekday_name_Tuesday',\n",
    "       u'weekday_name_Wednesday', 'num_of_views', u'browser_CHROME', u'browser_CHROME_MOBILE',\n",
    "       u'browser_EDGE', u'browser_FIREFOX', u'browser_FIREFOX_MOBILE',\n",
    "       u'browser_IE', u'browser_MOBILE_SAFARI', u'browser_OPERA',\n",
    "       u'browser_SAFARI', \"time_spent_mins\"])\n",
    "y1 = test_df.as_matrix(columns= [u'conv_id'])"
   ]
  },
  {
   "cell_type": "code",
   "execution_count": null,
   "metadata": {
    "collapsed": true
   },
   "outputs": [],
   "source": []
  },
  {
   "cell_type": "code",
   "execution_count": 149,
   "metadata": {
    "collapsed": true
   },
   "outputs": [],
   "source": [
    "x1_train, x1_test, y1_train, y1_test = train_test_split(x1,y1)"
   ]
  },
  {
   "cell_type": "code",
   "execution_count": 151,
   "metadata": {
    "collapsed": false
   },
   "outputs": [
    {
     "ename": "ValueError",
     "evalue": "This solver needs samples of at least 2 classes in the data, but the data contains only one class: 0",
     "output_type": "error",
     "traceback": [
      "\u001b[0;31m---------------------------------------------------------------------------\u001b[0m",
      "\u001b[0;31mValueError\u001b[0m                                Traceback (most recent call last)",
      "\u001b[0;32m<ipython-input-151-a221bf5bf4ee>\u001b[0m in \u001b[0;36m<module>\u001b[0;34m()\u001b[0m\n\u001b[1;32m      1\u001b[0m \u001b[0mModel1\u001b[0m \u001b[0;34m=\u001b[0m \u001b[0mLogisticRegression\u001b[0m\u001b[0;34m(\u001b[0m\u001b[0;34m)\u001b[0m\u001b[0;34m\u001b[0m\u001b[0m\n\u001b[0;32m----> 2\u001b[0;31m \u001b[0mModel1\u001b[0m\u001b[0;34m.\u001b[0m\u001b[0mfit\u001b[0m\u001b[0;34m(\u001b[0m\u001b[0mx1_train\u001b[0m\u001b[0;34m,\u001b[0m \u001b[0my1_train\u001b[0m\u001b[0;34m)\u001b[0m\u001b[0;34m\u001b[0m\u001b[0m\n\u001b[0m\u001b[1;32m      3\u001b[0m \u001b[0mModel1\u001b[0m\u001b[0;34m.\u001b[0m\u001b[0mpredict\u001b[0m\u001b[0;34m(\u001b[0m\u001b[0mx1_test\u001b[0m\u001b[0;34m)\u001b[0m\u001b[0;34m\u001b[0m\u001b[0m\n\u001b[1;32m      4\u001b[0m \u001b[0mModel1\u001b[0m\u001b[0;34m.\u001b[0m\u001b[0mscore\u001b[0m\u001b[0;34m(\u001b[0m\u001b[0mx1_test\u001b[0m\u001b[0;34m,\u001b[0m\u001b[0my1_test\u001b[0m\u001b[0;34m)\u001b[0m\u001b[0;34m,\u001b[0m \u001b[0mModel1\u001b[0m\u001b[0;34m.\u001b[0m\u001b[0mcoef_\u001b[0m\u001b[0;34m\u001b[0m\u001b[0m\n",
      "\u001b[0;32m/Users/urmimukherjee/anaconda2/lib/python2.7/site-packages/sklearn/linear_model/logistic.pyc\u001b[0m in \u001b[0;36mfit\u001b[0;34m(self, X, y, sample_weight)\u001b[0m\n\u001b[1;32m   1184\u001b[0m                 \u001b[0mself\u001b[0m\u001b[0;34m.\u001b[0m\u001b[0mclass_weight\u001b[0m\u001b[0;34m,\u001b[0m \u001b[0mself\u001b[0m\u001b[0;34m.\u001b[0m\u001b[0mpenalty\u001b[0m\u001b[0;34m,\u001b[0m \u001b[0mself\u001b[0m\u001b[0;34m.\u001b[0m\u001b[0mdual\u001b[0m\u001b[0;34m,\u001b[0m \u001b[0mself\u001b[0m\u001b[0;34m.\u001b[0m\u001b[0mverbose\u001b[0m\u001b[0;34m,\u001b[0m\u001b[0;34m\u001b[0m\u001b[0m\n\u001b[1;32m   1185\u001b[0m                 \u001b[0mself\u001b[0m\u001b[0;34m.\u001b[0m\u001b[0mmax_iter\u001b[0m\u001b[0;34m,\u001b[0m \u001b[0mself\u001b[0m\u001b[0;34m.\u001b[0m\u001b[0mtol\u001b[0m\u001b[0;34m,\u001b[0m \u001b[0mself\u001b[0m\u001b[0;34m.\u001b[0m\u001b[0mrandom_state\u001b[0m\u001b[0;34m,\u001b[0m\u001b[0;34m\u001b[0m\u001b[0m\n\u001b[0;32m-> 1186\u001b[0;31m                 sample_weight=sample_weight)\n\u001b[0m\u001b[1;32m   1187\u001b[0m             \u001b[0mself\u001b[0m\u001b[0;34m.\u001b[0m\u001b[0mn_iter_\u001b[0m \u001b[0;34m=\u001b[0m \u001b[0mnp\u001b[0m\u001b[0;34m.\u001b[0m\u001b[0marray\u001b[0m\u001b[0;34m(\u001b[0m\u001b[0;34m[\u001b[0m\u001b[0mn_iter_\u001b[0m\u001b[0;34m]\u001b[0m\u001b[0;34m)\u001b[0m\u001b[0;34m\u001b[0m\u001b[0m\n\u001b[1;32m   1188\u001b[0m             \u001b[0;32mreturn\u001b[0m \u001b[0mself\u001b[0m\u001b[0;34m\u001b[0m\u001b[0m\n",
      "\u001b[0;32m/Users/urmimukherjee/anaconda2/lib/python2.7/site-packages/sklearn/svm/base.pyc\u001b[0m in \u001b[0;36m_fit_liblinear\u001b[0;34m(X, y, C, fit_intercept, intercept_scaling, class_weight, penalty, dual, verbose, max_iter, tol, random_state, multi_class, loss, epsilon, sample_weight)\u001b[0m\n\u001b[1;32m    873\u001b[0m             raise ValueError(\"This solver needs samples of at least 2 classes\"\n\u001b[1;32m    874\u001b[0m                              \u001b[0;34m\" in the data, but the data contains only one\"\u001b[0m\u001b[0;34m\u001b[0m\u001b[0m\n\u001b[0;32m--> 875\u001b[0;31m                              \" class: %r\" % classes_[0])\n\u001b[0m\u001b[1;32m    876\u001b[0m \u001b[0;34m\u001b[0m\u001b[0m\n\u001b[1;32m    877\u001b[0m         \u001b[0mclass_weight_\u001b[0m \u001b[0;34m=\u001b[0m \u001b[0mcompute_class_weight\u001b[0m\u001b[0;34m(\u001b[0m\u001b[0mclass_weight\u001b[0m\u001b[0;34m,\u001b[0m \u001b[0mclasses_\u001b[0m\u001b[0;34m,\u001b[0m \u001b[0my\u001b[0m\u001b[0;34m)\u001b[0m\u001b[0;34m\u001b[0m\u001b[0m\n",
      "\u001b[0;31mValueError\u001b[0m: This solver needs samples of at least 2 classes in the data, but the data contains only one class: 0"
     ]
    }
   ],
   "source": [
    "Model1 = LogisticRegression()\n",
    "Model1.fit(x1_train, y1_train)\n",
    "Model1.predict(x1_test)\n",
    "Model1.score(x1_test,y1_test), Model1.coef_"
   ]
  },
  {
   "cell_type": "code",
   "execution_count": 125,
   "metadata": {
    "collapsed": false
   },
   "outputs": [
    {
     "data": {
      "text/plain": [
       "array(['SolarWorld Quality', 'Business Investment Tax Credit',\n",
       "       'Renewable Energy Development Grant', 'BlueSky Renewable Energy',\n",
       "       'Energy Trust funding status for Pacific Power customers',\n",
       "       'Form 520SF', 'Construction Requirements', 'Solar Analysis Report',\n",
       "       'Performance Modeling', 'Audi/Porsche Wall Layouts',\n",
       "       'Audi Solar Layout', '21.6kW Financial Summary',\n",
       "       'Audi 36kW Estimate UPGRADED.pdf', 'Executive Summary',\n",
       "       'Upload Utility Bill', 'Location Verification',\n",
       "       'Read what our customers have to say', 'Your solar interest - form',\n",
       "       'Own vs Lease - Homeowners Guide',\n",
       "       'Maintenance for residential solar', 'Is my home good for solar?',\n",
       "       'Hoyt, David Prelim Roof Layout.png', 'Why E2 Solar',\n",
       "       'Why install solar', 'What you can expect',\n",
       "       'Oregon renewable energy tax credit',\n",
       "       'Goodman, Mark 4.48KW Preliminary Bid Proposal.pdf',\n",
       "       'Pacific Power Net Metering',\n",
       "       'Goodman, Mark Prelim Roof Layout.png',\n",
       "       'Grischow, Dawn 4.64KW Bid Proposal.pdf', 'E2 Solar phone meeting',\n",
       "       'Federal energy tax credit', 'Solar net metering schedule',\n",
       "       'Ground Mount array', 'Inverter with small battery storage',\n",
       "       'Well pumps off-grid', 'Importance of Efficiency',\n",
       "       'Update on expiration of Oregon Residential energy tax credit',\n",
       "       'Listing of tax credit certified technicians',\n",
       "       'So you want to go off-grid....',\n",
       "       'Net Metering Agreement (Sample Only)',\n",
       "       'Pacific Power Schedule 135 for Frank Mungeam',\n",
       "       'Energy Trust Incentive Application - Mungeam',\n",
       "       'Mungeam E2 Solar Contract',\n",
       "       'Mungeam, Frank 10.44KW Preliminary Estimate.pdf',\n",
       "       'Mungeam, Frank 8.12KW Preliminary Estimate.pdf',\n",
       "       'Mungeam, Frank 5.22KW Preliminary Estimate.pdf',\n",
       "       'Estimate the benefits of solar',\n",
       "       'E2 Solar Contracts - Jon Fogarty',\n",
       "       'Pacific Power Schedule 135 - Fogarty',\n",
       "       'Energy Trust Incentive Application - Fogarty',\n",
       "       'Request your site assessment',\n",
       "       'Fogarty, Jon 7.84KW Preliminary Estimate.pdf',\n",
       "       'SolarEdge performance under shaded conditions',\n",
       "       'SolarEdge performance monitoring',\n",
       "       'Skinner, Leah 3.92KW Preliminary Bid Proposal.pdf',\n",
       "       'Skinner, Leah 4.48KW Preliminary Bid Proposal.pdf',\n",
       "       'Your comments:', 'Skinner, Leah Prelim Roof Layout.png',\n",
       "       'Resale value for solar homes', 'Choosing a contractor',\n",
       "       'Williamson, Lori Prelim Roof Layout.png',\n",
       "       'Cross, Perry 7.68KW Bid Proposal.pdf',\n",
       "       'Cross, Perry 7.08KW Bid Proposal.pdf',\n",
       "       'Cross, Perry 6.72KW Bid Proposal.pdf',\n",
       "       'Cross, Perry 5.04KW Bid Proposal .pdf',\n",
       "       'Cross, Perry 6.16KW Shop Preliminary Bid Proposal.pdf',\n",
       "       'Cross, Perry 6.72KW House Preliminary Bid Proposal.pdf',\n",
       "       'Cross, Perry 10.08KW Ground Mount Preliminary Bid Proposal.pdf',\n",
       "       'Gross, Joe 10.44KW Preliminary Bid Proposal.pdf',\n",
       "       'Gross, Joe 5.22KW Preliminary Bid Proposal.pdf',\n",
       "       'Gross, Joe 8.12KW Preliminary Bid Proposal.pdf',\n",
       "       'Einstein, Brenda 5.04KW Preliminary Bid Proposal.pdf',\n",
       "       'Central Electric Co-op Net Metering',\n",
       "       'Einstein, Brenda Prelim Roof Layout.png',\n",
       "       'Doherty, Conan 5.04KW Preliminary Estimate.pdf',\n",
       "       'Listing of Energy Trust trade allies',\n",
       "       'Search CCB business history',\n",
       "       'Felder, Michael 5.04KW Preliminary Bid Proposal.pdf',\n",
       "       'Felder, Michael 5.04KW Preliminary Estimate.pdf',\n",
       "       'Felder, Michael Prelim Roof Layout.png',\n",
       "       'Polchinski, Jason 4.64KW Bid Proposal.pdf',\n",
       "       'Polchinski, Jason 4.48KW Bid Proposal.pdf',\n",
       "       'Handler, David Prelim Roof Layout.png',\n",
       "       'Lenz, Ryan 4.2KW Bid Proposal.pdf',\n",
       "       'Lenz, Ryan 4.76KW 022117 Preliminary Bid Proposal.pdf',\n",
       "       'Gale, Dakota 5.36KW Bid Proposal.pdf',\n",
       "       'Gale, Dakota 4.76KW Bid Proposal.pdf',\n",
       "       'Gale, Dakota 4.48KW Preliminary Bid Proposal.pdf',\n",
       "       'Gale, Dakota Prelim Roof Layout.png',\n",
       "       'Dudley, Cuyla 12.42KW Groundmount Preliminary Estimate.pdf',\n",
       "       'Dudley, Cuyla 5.04KW Preliminary Bid Proposal.pdf',\n",
       "       'Dudley, Cuyla 7.84KW Groundmount Preliminary Bid Proposal.pdf',\n",
       "       'Belles, Daniel 10.62KW with SW 295 watt panels Bid Proposal.pdf',\n",
       "       'Belles, Daniel 10.44KW with REC Panels Bid Proposal.pdf',\n",
       "       'Belles, Daniel 10.44KW with REC Panels and SolarEdge Bid Proposal.pdf',\n",
       "       'Remer, Jeff 5.8KW with 240 Voit outlet Bid Proposal.pdf',\n",
       "       'Remer, Jeff 5.22KW with 240 Voit outlet Bid Proposal.pdf',\n",
       "       'Remer, Jeff 4.64KW Preliminary Estimate.pdf',\n",
       "       'Nielsen, David Prelim Roof Layout.png',\n",
       "       'Kimple, Bret 2.8KW Preliminary Bid Proposal.pdf',\n",
       "       'Kimble, Bret 4.48KW Preliminary Bid Proposal.pdf',\n",
       "       'Cochenour, Devon 6.09KW Preliminary Bid Proposal.pdf',\n",
       "       'Making a difference with solar',\n",
       "       'Still, Christopher 4.06KW Preliminary Estimate.pdf',\n",
       "       'CEC - Schedule N',\n",
       "       'E2 Solar contract, Work Order, Consumer Protection Notices  ',\n",
       "       'CEC Net Metering Agreement',\n",
       "       'Willett, Ken and Debby 11.04KW GroundMount SolarEdge Battery Backup Ready.pdf',\n",
       "       'Willett, Ken and Debby 9.66KW GroundMount with 1 Battery Backup Bid Proposal.pdf',\n",
       "       'Willett, Ken and Debby 9.66KW GroundMount SolarEdge Battery Backup Ready.pdf',\n",
       "       'Willett, Ken and Debby 11.04KW GroundMount SolarEdge with 1 Battery Backup.pdf',\n",
       "       'Willett, Ken and Debby 11.04KW GroundMount SolarEdge Bid Proposal.pdf',\n",
       "       'Willett, Ken 11.04KW Groundmount Preliminary Bid Proposal.pdf',\n",
       "       'About E2 Solar', 'Shirley, Ben 4.64KW Preliminary Estimate.pdf',\n",
       "       'Creighton, Nancy 5.22KW with 290 watt Black SolarWorld Panels Preliminary Bid Proposal.pdf',\n",
       "       'Creighton, Nancy 5.04KW with 280 watt Silver SolarWorld Panels Preliminary Bid Proposal.pdf',\n",
       "       'Wismer, Nathan 6.96KW Preliminary Estimate.pdf',\n",
       "       'Wismer, Nathan 5.8KW Preliminary Estimate.pdf',\n",
       "       'Wismer, Nathan 7.54KW Preliminary Estimate.pdf',\n",
       "       'Beavers, Ted 10.08KW Groundmount Preliminary Bid Proposa.pdf',\n",
       "       'Beavers, Ted 10.08KW Preliminary Bid Proposal.pdf',\n",
       "       'Federal renewable energy tax credit',\n",
       "       'Plapp, Michael 4.64KW Preliminary Estimate.pdf',\n",
       "       'Swanson, Nikki 9.24KW Preliminary Bid Proposal.pdf',\n",
       "       'Swanson, Nikki 4.48KW Preliminary Bid Proposal.pdf',\n",
       "       'Garrett, Scott 4.48KW Preliminary Bid Proposal.pdf',\n",
       "       'Martin, Ruth 4.64KW Preliminary Estimate without Oregon State Tax Credit.pdf',\n",
       "       'Martin, Ruth 4.64KW Preliminary Estimate.pdf',\n",
       "       'Solar Cost Terminology',\n",
       "       'Hagg, Daniel 8.51KW LG 315 watt panels with SolarEdge Power Optimizers Bid Proposal.pdf',\n",
       "       'Hagg, Daniel 8.28KW SW 345 watt panels with SolarEdge Power Optimizers Bid Proposal.pdf',\n",
       "       'Hagg, Daniel 6.96KW Preliminary Bid Proposal.pdf',\n",
       "       'Hagg, Daniel Home Layout.png',\n",
       "       'Thompson, Barb 4.76KW Preliminary Estimate.pdf',\n",
       "       'Thompson, Barb Prelim Roof Layout.png',\n",
       "       'Hazen, Steve 11.04KW Groundmount Preliminary Estimate.pdf',\n",
       "       'Hazen, Steve 6.96KW Preliminary Estimate.pdf',\n",
       "       'Hazen preliminary solar assessment',\n",
       "       'Appel, Leah 6.08KW LG Panels Bid Proposal.pdf',\n",
       "       'Appel, Leah 5.51KW Solar World Panels Bid Proposal.pdf',\n",
       "       'Appel, Leah 7.54KW Preliminary Bid Proposal.pdf',\n",
       "       'Appel, Leah 6.96KW Preliminary Bid Proposal.pdf',\n",
       "       'Appel, Leah Prelim Roof Layout.png',\n",
       "       'Anderegg, Rowan 25.88KW Bid Proposal.pdf',\n",
       "       'Anderegg, Rowan 16.56KW Ground Mount Bid Proposal.pdf',\n",
       "       'Anderegg, Alicia 7.28KW Preliminary Bid Proposal.pdf',\n",
       "       'Anderegg, Alicia 5.04KW Preliminary Bid Proposal.pdf',\n",
       "       'Anderegg, Alicia Prelim Layout.png',\n",
       "       'Acarregui 8.12kW SolarEdge Preliminary Estimate .pdf',\n",
       "       'Solar Financing Via Umpqua Bank',\n",
       "       'Navarra, Mike 5.04KW Preliminary Bid Proposal.pdf',\n",
       "       'Thorburn, Matt 8.12KW Preliminary Estimate.pdf'], dtype=object)"
      ]
     },
     "execution_count": 125,
     "metadata": {},
     "output_type": "execute_result"
    }
   ],
   "source": [
    "conv_df.title_of_content.unique()"
   ]
  },
  {
   "cell_type": "code",
   "execution_count": 126,
   "metadata": {
    "collapsed": false
   },
   "outputs": [
    {
     "data": {
      "text/plain": [
       "449"
      ]
     },
     "execution_count": 126,
     "metadata": {},
     "output_type": "execute_result"
    }
   ],
   "source": [
    "len(conv_df)"
   ]
  },
  {
   "cell_type": "code",
   "execution_count": null,
   "metadata": {
    "collapsed": false
   },
   "outputs": [],
   "source": [
    "plt.bar(xrange(0,len(conv_df.groupby(\"browser\")[\"time_spent_mins\"].count())), conv_df.groupby(\"browser\")[\"time_spent_mins\"].sum())\n",
    "plt.xticks(xrange(0,9),['CHR',\"M-CH\",'EDGE', \"FF\", 'M-FF', 'IE', 'M-SAF', \"OP\",'SAF'])"
   ]
  },
  {
   "cell_type": "code",
   "execution_count": null,
   "metadata": {
    "collapsed": false
   },
   "outputs": [],
   "source": [
    "plt.bar(xrange(0,7), conv_df.groupby(\"weekday\")[\"time_spent_mins\"].count())\n",
    "plt.xticks(xrange(0,7),[\"Sun\", \"Mon\", \"Tue\", \"Wed\", \"Thu\", \"Fri\", \"Sat\"])"
   ]
  },
  {
   "cell_type": "code",
   "execution_count": null,
   "metadata": {
    "collapsed": false
   },
   "outputs": [],
   "source": [
    "plt.bar(xrange(0,4), conv_df.groupby(\"time_of_day\")[\"time_spent_mins\"].sum())\n",
    "plt.xticks(xrange(0,4),[\"Morning\", \"Afternoon\", \"Evening\", \"Night\"])"
   ]
  },
  {
   "cell_type": "code",
   "execution_count": null,
   "metadata": {
    "collapsed": false
   },
   "outputs": [],
   "source": [
    "plt.bar(xrange(0,3), conv_df.groupby(\"viewing_device\")[\"time_spent_mins\"].count())\n",
    "plt.xticks(xrange(0,3),[\"Laptop/Desktop\", \"Phone\", \"Tablet\"])"
   ]
  },
  {
   "cell_type": "code",
   "execution_count": null,
   "metadata": {
    "collapsed": false
   },
   "outputs": [],
   "source": [
    "plt.bar(xrange(0,7), conv_df.groupby(\"month\")[\"time_spent_mins\"].count())\n",
    "plt.xticks(xrange(0,7),[\"Feb\", \"Mar\", \"Apr\", \"May\", \"Jun\", \"Jul\", \"Aug\"])"
   ]
  },
  {
   "cell_type": "code",
   "execution_count": null,
   "metadata": {
    "collapsed": false
   },
   "outputs": [],
   "source": [
    "#### import pylab as pl\n",
    "new_view = view_df[view_df[\"time_spent_mins\"] <= 6]\n",
    "len(new_view) #(20 mins, 1874/2085, 10% reduced) (12 mins, 1746/2085, 16% reduced)(6 mins, 1607/2085, 23% reduced)\n",
    "# (4 mins, 1513/2085, 28% reduced)\n",
    "\n",
    "h = sorted(new_view[\"time_spent_mins\"])  #sorted\n",
    "\n",
    "fit = norm.pdf(h, np.mean(h), np.std(h))  #this is a fitting indeed\n",
    "\n",
    "pl.plot(h,fit,'-o')\n",
    "\n",
    "pl.hist(h, normed= True)\n",
    "\n",
    "pl.axvline(x = np.mean(h), linestyle='--')\n",
    "pl.axvline(x = np.mean(h) + np.std(h), linestyle='--')\n",
    "pl.axvline(x = np.mean(h) + 2*np.std(h), linestyle='--')\n"
   ]
  },
  {
   "cell_type": "code",
   "execution_count": null,
   "metadata": {
    "collapsed": false
   },
   "outputs": [],
   "source": [
    "new_view.describe()"
   ]
  },
  {
   "cell_type": "code",
   "execution_count": null,
   "metadata": {
    "collapsed": false
   },
   "outputs": [],
   "source": [
    "plt.hist(new_view[\"time_spent_mins\"])"
   ]
  },
  {
   "cell_type": "code",
   "execution_count": null,
   "metadata": {
    "collapsed": false
   },
   "outputs": [],
   "source": [
    "sorted(view_df.browser.unique())"
   ]
  },
  {
   "cell_type": "code",
   "execution_count": null,
   "metadata": {
    "collapsed": false
   },
   "outputs": [],
   "source": [
    "plt.bar(xrange(0,len(view_df.groupby(\"browser\")[\"time_spent_mins\"].sum())), view_df.groupby(\"browser\")[\"time_spent_mins\"].sum())\n",
    "plt.xticks(xrange(0,9),['CHR',\"M-CH\",'EDGE', \"FF\", 'M-FF', 'IE', 'M-SAF', \"OP\",'SAF'])\n",
    "# plt.xlabel(\"Viewing Application\")\n",
    "# plt.ylabel(\"Total View Time in Minutes\")\n",
    "# plt.title(\"Time Spent Vs View App\")"
   ]
  },
  {
   "cell_type": "code",
   "execution_count": null,
   "metadata": {
    "collapsed": false
   },
   "outputs": [],
   "source": [
    "plt.bar(xrange(0,len(view_df.groupby(\"browser\")[\"time_spent_mins\"].sum())), new_view.groupby(\"browser\")[\"time_spent_mins\"].sum())\n",
    "plt.xticks(xrange(0,9),['CHR',\"M-CH\",'EDGE', \"FF\", 'M-FF', 'IE', 'M-SAF', \"OP\",'SAF'])"
   ]
  },
  {
   "cell_type": "code",
   "execution_count": null,
   "metadata": {
    "collapsed": false
   },
   "outputs": [],
   "source": [
    "plt.bar(xrange(0,4), view_df.groupby(\"time_of_day\")[\"time_spent_mins\"].sum())\n",
    "plt.xticks(xrange(0,4),[\"Night\", \"Morning\", \"Afternoon\", \"Evening\"])\n",
    "# plt.xlabel(\"Time of Day\")\n",
    "# plt.ylabel(\"Total View Time in Minutes\")\n",
    "# plt.title(\"TW - Time Spent Vs Time of Day\")"
   ]
  },
  {
   "cell_type": "code",
   "execution_count": null,
   "metadata": {
    "collapsed": false
   },
   "outputs": [],
   "source": [
    "plt.bar(xrange(0,4), new_view.groupby(\"time_of_day\")[\"time_spent_mins\"].sum())\n",
    "plt.xticks(xrange(0,4),[\"Night\", \"Morning\", \"Afternoon\", \"Evening\"])"
   ]
  },
  {
   "cell_type": "code",
   "execution_count": null,
   "metadata": {
    "collapsed": false
   },
   "outputs": [],
   "source": [
    "def get_view_time_per_user(unique_users, view_df):\n",
    "    for user in unique_users:\n",
    "        temp_time = view_df[\"user_id\"]"
   ]
  },
  {
   "cell_type": "code",
   "execution_count": null,
   "metadata": {
    "collapsed": false
   },
   "outputs": [],
   "source": [
    "plt.bar(xrange(0,7), view_df.groupby(\"weekday\")[\"time_spent_mins\"].count())\n",
    "plt.xticks(xrange(0,7),[\"Sun\", \"Mon\", \"Tue\", \"Wed\", \"Thu\", \"Fri\", \"Sat\"])\n",
    "#plt.xlabel(\"Day of Week\")\n",
    "#plt.ylabel(\"Total View Time in Minutes\")\n",
    "#plt.title(\"TW - Time Spent Vs Day of Week\")"
   ]
  },
  {
   "cell_type": "code",
   "execution_count": null,
   "metadata": {
    "collapsed": false
   },
   "outputs": [],
   "source": [
    "plt.bar(xrange(0,7), new_view.groupby(\"weekday\")[\"time_spent_mins\"].count())\n",
    "plt.xticks(xrange(0,7),[\"Sun\", \"Mon\", \"Tue\", \"Wed\", \"Thu\", \"Fri\", \"Sat\"])"
   ]
  },
  {
   "cell_type": "code",
   "execution_count": null,
   "metadata": {
    "collapsed": false
   },
   "outputs": [],
   "source": [
    "# Get the time spent on different apps\n",
    "# def get_time_spent(view_df):\n",
    "#     time_spent_secs = view_df[\"time_spent_in_seconds\"].sum()\n",
    "#     view_apps = view_df[\"view_app_group\"].unique()\n",
    "\n",
    "#     time_spent_dict = {}\n",
    "#     for v in view_apps:\n",
    "#         temp_time = view_df[view_df.view_app_group == v][\"time_spent_in_seconds\"].sum()\n",
    "#         time_spent_dict[v] = [temp_time, float(temp_time)*100/time_spent_secs]\n",
    "#     return time_spent_dict\n",
    "\n",
    "# get_time_spent(view_df)"
   ]
  },
  {
   "cell_type": "code",
   "execution_count": null,
   "metadata": {
    "collapsed": false
   },
   "outputs": [],
   "source": [
    "plt.bar(xrange(0,3), view_df.groupby(\"viewing_device\")[\"time_spent_mins\"].sum())\n",
    "plt.xticks(xrange(0,3),[\"Laptop/Desktop\", \"Phone\", \"Tablet\"])"
   ]
  },
  {
   "cell_type": "code",
   "execution_count": null,
   "metadata": {
    "collapsed": false
   },
   "outputs": [],
   "source": [
    "plt.bar(xrange(0,3), new_view.groupby(\"viewing_device\")[\"time_spent_mins\"].sum())\n",
    "plt.xticks(xrange(0,3),[\"Laptop/Desktop\", \"Phone\", \"Tablet\"])"
   ]
  },
  {
   "cell_type": "code",
   "execution_count": null,
   "metadata": {
    "collapsed": false
   },
   "outputs": [],
   "source": [
    "plt.bar(xrange(0,3), new_view.groupby(\"viewing_device\")[\"time_spent_mins\"].count())\n",
    "plt.xticks(xrange(0,3),[\"Laptop/Desktop\", \"Phone\", \"Tablet\"])"
   ]
  },
  {
   "cell_type": "code",
   "execution_count": null,
   "metadata": {
    "collapsed": false
   },
   "outputs": [],
   "source": [
    "#sns.stripplot(x=\"view_app_group\", y=\"time_spent_mins\", data=view_df)\n",
    "#plt.bar(xrange(0,8), view_df.groupby(\"view_app_group\")[\"time_spent_mins\"].sum())"
   ]
  },
  {
   "cell_type": "code",
   "execution_count": null,
   "metadata": {
    "collapsed": false
   },
   "outputs": [],
   "source": [
    "#sns.boxplot(x=\"view_app_group\", y=\"time_spent_mins\", data=view_df, hue = \"view_app_group\")\n"
   ]
  },
  {
   "cell_type": "code",
   "execution_count": null,
   "metadata": {
    "collapsed": false
   },
   "outputs": [],
   "source": [
    "#sns.barplot(x=\"view_app_group\", y=\"time_spent_mins\", data=view_df, hue = \"view_app_group\")\n"
   ]
  },
  {
   "cell_type": "code",
   "execution_count": null,
   "metadata": {
    "collapsed": false
   },
   "outputs": [],
   "source": [
    "#sns.countplot(x=\"view_app_group\", data=view_df, hue = \"view_app_group\")\n"
   ]
  },
  {
   "cell_type": "code",
   "execution_count": null,
   "metadata": {
    "collapsed": false
   },
   "outputs": [],
   "source": [
    "#plt.bar(xrange(0,9),view_df.groupby(\"view_app_group\")[\"time_spent_mins\"].sum())"
   ]
  },
  {
   "cell_type": "code",
   "execution_count": null,
   "metadata": {
    "collapsed": false
   },
   "outputs": [],
   "source": [
    "#sns.stripplot(x=view_df[\"view_app_group\"], y=view_df[\"time_spent_mins\"], data=view_df, jitter=True)\n"
   ]
  },
  {
   "cell_type": "code",
   "execution_count": null,
   "metadata": {
    "collapsed": false
   },
   "outputs": [],
   "source": [
    "#sns.stripplot(x=view_df[\"weekday\"], y=view_df[\"time_spent_mins\"], data=view_df, jitter=True)\n",
    "\n"
   ]
  },
  {
   "cell_type": "code",
   "execution_count": null,
   "metadata": {
    "collapsed": false
   },
   "outputs": [],
   "source": [
    "plt.bar(xrange(0,7), view_df.groupby(\"month\")[\"time_spent_mins\"].sum())\n",
    "plt.xticks(xrange(0,7),[\"Feb\", \"Mar\", \"Apr\", \"May\", \"Jun\", \"Jul\", \"Aug\"])"
   ]
  },
  {
   "cell_type": "code",
   "execution_count": null,
   "metadata": {
    "collapsed": false
   },
   "outputs": [],
   "source": [
    "plt.bar(xrange(0,7), new_view.groupby(\"month\")[\"time_spent_mins\"].sum())\n",
    "plt.xticks(xrange(0,7),[\"Feb\", \"Mar\", \"Apr\", \"May\", \"Jun\", \"Jul\", \"Aug\"])"
   ]
  },
  {
   "cell_type": "code",
   "execution_count": null,
   "metadata": {
    "collapsed": false
   },
   "outputs": [],
   "source": [
    "plt.bar(xrange(0,7), view_df.groupby(\"month\")[\"time_spent_mins\"].count())\n",
    "plt.xticks(xrange(0,7),[\"Feb\", \"Mar\", \"Apr\", \"May\", \"Jun\", \"Jul\", \"Aug\"])"
   ]
  },
  {
   "cell_type": "code",
   "execution_count": null,
   "metadata": {
    "collapsed": false
   },
   "outputs": [],
   "source": [
    "# clusterer = KMeans(n_clusters=7, random_state=10)\n",
    "# clusterer.fit(X)\n",
    "\n"
   ]
  },
  {
   "cell_type": "code",
   "execution_count": null,
   "metadata": {
    "collapsed": true
   },
   "outputs": [],
   "source": []
  }
 ],
 "metadata": {
  "kernelspec": {
   "display_name": "Python [conda root]",
   "language": "python",
   "name": "conda-root-py"
  },
  "language_info": {
   "codemirror_mode": {
    "name": "ipython",
    "version": 2
   },
   "file_extension": ".py",
   "mimetype": "text/x-python",
   "name": "python",
   "nbconvert_exporter": "python",
   "pygments_lexer": "ipython2",
   "version": "2.7.13"
  }
 },
 "nbformat": 4,
 "nbformat_minor": 2
}
