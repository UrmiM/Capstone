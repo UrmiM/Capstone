{
 "cells": [
  {
   "cell_type": "code",
   "execution_count": 24,
   "metadata": {
    "collapsed": true
   },
   "outputs": [],
   "source": [
    "import pandas as pd\n",
    "import numpy as np\n",
    "import datetime as dt\n",
    "import matplotlib.pyplot as plt\n",
    "%matplotlib inline\n",
    "import seaborn as sns\n",
    "import itertools\n",
    "import scipy.stats as scs\n",
    "from scipy.spatial.distance import pdist, squareform\n",
    "from sklearn.cluster import KMeans \n",
    "from sklearn.metrics import silhouette_score, silhouette_samples\n",
    "import matplotlib.cm as cm\n",
    "from IPython.display import HTML, display"
   ]
  },
  {
   "cell_type": "code",
   "execution_count": 25,
   "metadata": {
    "collapsed": true
   },
   "outputs": [],
   "source": [
    "df = pd.read_csv(\"shareViewDataRM-ext.csv\")"
   ]
  },
  {
   "cell_type": "code",
   "execution_count": 26,
   "metadata": {
    "collapsed": false
   },
   "outputs": [],
   "source": [
    "df.columns = df.columns.str.lstrip()"
   ]
  },
  {
   "cell_type": "code",
   "execution_count": 27,
   "metadata": {
    "collapsed": false
   },
   "outputs": [],
   "source": [
    "df.columns = df.columns.str.lower()"
   ]
  },
  {
   "cell_type": "code",
   "execution_count": 28,
   "metadata": {
    "collapsed": false
   },
   "outputs": [],
   "source": [
    "df.columns = df.columns.str.replace(\" \", \"_\")"
   ]
  },
  {
   "cell_type": "code",
   "execution_count": 29,
   "metadata": {
    "collapsed": false
   },
   "outputs": [
    {
     "data": {
      "text/html": [
       "<div>\n",
       "<style>\n",
       "    .dataframe thead tr:only-child th {\n",
       "        text-align: right;\n",
       "    }\n",
       "\n",
       "    .dataframe thead th {\n",
       "        text-align: left;\n",
       "    }\n",
       "\n",
       "    .dataframe tbody tr th {\n",
       "        vertical-align: top;\n",
       "    }\n",
       "</style>\n",
       "<table border=\"1\" class=\"dataframe\">\n",
       "  <thead>\n",
       "    <tr style=\"text-align: right;\">\n",
       "      <th></th>\n",
       "      <th>activity_type</th>\n",
       "      <th>user_id</th>\n",
       "      <th>rm_id</th>\n",
       "      <th>user_os</th>\n",
       "      <th>viewing_app</th>\n",
       "      <th>view_app_group</th>\n",
       "      <th>user_groups</th>\n",
       "      <th>shared_date</th>\n",
       "      <th>shared_hour</th>\n",
       "      <th>shared_time</th>\n",
       "      <th>title_of_content</th>\n",
       "      <th>share_channel</th>\n",
       "      <th>viewed</th>\n",
       "      <th>time_spent_in_seconds</th>\n",
       "      <th>last_activity_date</th>\n",
       "      <th>last_activity_time</th>\n",
       "    </tr>\n",
       "  </thead>\n",
       "  <tbody>\n",
       "    <tr>\n",
       "      <th>0</th>\n",
       "      <td>SHARE</td>\n",
       "      <td>5931852</td>\n",
       "      <td>197521.0</td>\n",
       "      <td>NaN</td>\n",
       "      <td>NaN</td>\n",
       "      <td>NaN</td>\n",
       "      <td>Client Solutions</td>\n",
       "      <td>18-Aug-2017</td>\n",
       "      <td>0.0</td>\n",
       "      <td>0:53:39</td>\n",
       "      <td>English/Writing GameScapes and Games</td>\n",
       "      <td>WEB</td>\n",
       "      <td>1</td>\n",
       "      <td>5505</td>\n",
       "      <td>18-Aug-2017</td>\n",
       "      <td>22:43:00</td>\n",
       "    </tr>\n",
       "    <tr>\n",
       "      <th>1</th>\n",
       "      <td>VIEW</td>\n",
       "      <td>5931852</td>\n",
       "      <td>NaN</td>\n",
       "      <td>WINDOWS_7</td>\n",
       "      <td>CHROME</td>\n",
       "      <td>CHROME</td>\n",
       "      <td>NaN</td>\n",
       "      <td>NaN</td>\n",
       "      <td>NaN</td>\n",
       "      <td>NaN</td>\n",
       "      <td>Introductions and Conclusions: Set the Stage</td>\n",
       "      <td>NaN</td>\n",
       "      <td>1</td>\n",
       "      <td>285</td>\n",
       "      <td>18-Aug-2017</td>\n",
       "      <td>22:37:45</td>\n",
       "    </tr>\n",
       "    <tr>\n",
       "      <th>2</th>\n",
       "      <td>VIEW</td>\n",
       "      <td>5931852</td>\n",
       "      <td>NaN</td>\n",
       "      <td>WINDOWS_7</td>\n",
       "      <td>CHROME</td>\n",
       "      <td>CHROME</td>\n",
       "      <td>NaN</td>\n",
       "      <td>NaN</td>\n",
       "      <td>NaN</td>\n",
       "      <td>NaN</td>\n",
       "      <td>Paragraph Structure: Find the Balance</td>\n",
       "      <td>NaN</td>\n",
       "      <td>1</td>\n",
       "      <td>1635</td>\n",
       "      <td>18-Aug-2017</td>\n",
       "      <td>22:00:03</td>\n",
       "    </tr>\n",
       "    <tr>\n",
       "      <th>3</th>\n",
       "      <td>VIEW</td>\n",
       "      <td>5931852</td>\n",
       "      <td>NaN</td>\n",
       "      <td>WINDOWS_7</td>\n",
       "      <td>CHROME</td>\n",
       "      <td>CHROME</td>\n",
       "      <td>NaN</td>\n",
       "      <td>NaN</td>\n",
       "      <td>NaN</td>\n",
       "      <td>NaN</td>\n",
       "      <td>Paragraph Structure: Find the Balance</td>\n",
       "      <td>NaN</td>\n",
       "      <td>1</td>\n",
       "      <td>3555</td>\n",
       "      <td>18-Aug-2017</td>\n",
       "      <td>21:00:01</td>\n",
       "    </tr>\n",
       "    <tr>\n",
       "      <th>4</th>\n",
       "      <td>VIEW</td>\n",
       "      <td>5931852</td>\n",
       "      <td>NaN</td>\n",
       "      <td>WINDOWS_7</td>\n",
       "      <td>CHROME</td>\n",
       "      <td>CHROME</td>\n",
       "      <td>NaN</td>\n",
       "      <td>NaN</td>\n",
       "      <td>NaN</td>\n",
       "      <td>NaN</td>\n",
       "      <td>Paragraph Structure: Find the Balance</td>\n",
       "      <td>NaN</td>\n",
       "      <td>1</td>\n",
       "      <td>30</td>\n",
       "      <td>18-Aug-2017</td>\n",
       "      <td>20:59:28</td>\n",
       "    </tr>\n",
       "  </tbody>\n",
       "</table>\n",
       "</div>"
      ],
      "text/plain": [
       "  activity_type  user_id     rm_id    user_os viewing_app view_app_group  \\\n",
       "0         SHARE  5931852  197521.0        NaN         NaN            NaN   \n",
       "1          VIEW  5931852       NaN  WINDOWS_7      CHROME         CHROME   \n",
       "2          VIEW  5931852       NaN  WINDOWS_7      CHROME         CHROME   \n",
       "3          VIEW  5931852       NaN  WINDOWS_7      CHROME         CHROME   \n",
       "4          VIEW  5931852       NaN  WINDOWS_7      CHROME         CHROME   \n",
       "\n",
       "        user_groups  shared_date  shared_hour shared_time  \\\n",
       "0  Client Solutions  18-Aug-2017          0.0     0:53:39   \n",
       "1               NaN          NaN          NaN         NaN   \n",
       "2               NaN          NaN          NaN         NaN   \n",
       "3               NaN          NaN          NaN         NaN   \n",
       "4               NaN          NaN          NaN         NaN   \n",
       "\n",
       "                               title_of_content share_channel  viewed  \\\n",
       "0          English/Writing GameScapes and Games           WEB       1   \n",
       "1  Introductions and Conclusions: Set the Stage           NaN       1   \n",
       "2         Paragraph Structure: Find the Balance           NaN       1   \n",
       "3         Paragraph Structure: Find the Balance           NaN       1   \n",
       "4         Paragraph Structure: Find the Balance           NaN       1   \n",
       "\n",
       "   time_spent_in_seconds last_activity_date last_activity_time  \n",
       "0                   5505        18-Aug-2017           22:43:00  \n",
       "1                    285        18-Aug-2017           22:37:45  \n",
       "2                   1635        18-Aug-2017           22:00:03  \n",
       "3                   3555        18-Aug-2017           21:00:01  \n",
       "4                     30        18-Aug-2017           20:59:28  "
      ]
     },
     "execution_count": 29,
     "metadata": {},
     "output_type": "execute_result"
    }
   ],
   "source": [
    "df.head()"
   ]
  },
  {
   "cell_type": "code",
   "execution_count": 30,
   "metadata": {
    "collapsed": false
   },
   "outputs": [],
   "source": [
    "df[\"last_activity_date\"] = pd.to_datetime(df[\"last_activity_date\"], format=\"%d-%b-%Y\")"
   ]
  },
  {
   "cell_type": "code",
   "execution_count": 31,
   "metadata": {
    "collapsed": false
   },
   "outputs": [],
   "source": [
    "df['weekday'] = df['last_activity_date'].dt.dayofweek"
   ]
  },
  {
   "cell_type": "code",
   "execution_count": 32,
   "metadata": {
    "collapsed": false
   },
   "outputs": [
    {
     "data": {
      "text/html": [
       "<div>\n",
       "<style>\n",
       "    .dataframe thead tr:only-child th {\n",
       "        text-align: right;\n",
       "    }\n",
       "\n",
       "    .dataframe thead th {\n",
       "        text-align: left;\n",
       "    }\n",
       "\n",
       "    .dataframe tbody tr th {\n",
       "        vertical-align: top;\n",
       "    }\n",
       "</style>\n",
       "<table border=\"1\" class=\"dataframe\">\n",
       "  <thead>\n",
       "    <tr style=\"text-align: right;\">\n",
       "      <th></th>\n",
       "      <th>activity_type</th>\n",
       "      <th>user_id</th>\n",
       "      <th>rm_id</th>\n",
       "      <th>user_os</th>\n",
       "      <th>viewing_app</th>\n",
       "      <th>view_app_group</th>\n",
       "      <th>user_groups</th>\n",
       "      <th>shared_date</th>\n",
       "      <th>shared_hour</th>\n",
       "      <th>shared_time</th>\n",
       "      <th>title_of_content</th>\n",
       "      <th>share_channel</th>\n",
       "      <th>viewed</th>\n",
       "      <th>time_spent_in_seconds</th>\n",
       "      <th>last_activity_date</th>\n",
       "      <th>last_activity_time</th>\n",
       "      <th>weekday</th>\n",
       "    </tr>\n",
       "  </thead>\n",
       "  <tbody>\n",
       "    <tr>\n",
       "      <th>0</th>\n",
       "      <td>SHARE</td>\n",
       "      <td>5931852</td>\n",
       "      <td>197521.0</td>\n",
       "      <td>NaN</td>\n",
       "      <td>NaN</td>\n",
       "      <td>NaN</td>\n",
       "      <td>Client Solutions</td>\n",
       "      <td>18-Aug-2017</td>\n",
       "      <td>0.0</td>\n",
       "      <td>0:53:39</td>\n",
       "      <td>English/Writing GameScapes and Games</td>\n",
       "      <td>WEB</td>\n",
       "      <td>1</td>\n",
       "      <td>5505</td>\n",
       "      <td>2017-08-18</td>\n",
       "      <td>22:43:00</td>\n",
       "      <td>4</td>\n",
       "    </tr>\n",
       "    <tr>\n",
       "      <th>1</th>\n",
       "      <td>VIEW</td>\n",
       "      <td>5931852</td>\n",
       "      <td>NaN</td>\n",
       "      <td>WINDOWS_7</td>\n",
       "      <td>CHROME</td>\n",
       "      <td>CHROME</td>\n",
       "      <td>NaN</td>\n",
       "      <td>NaN</td>\n",
       "      <td>NaN</td>\n",
       "      <td>NaN</td>\n",
       "      <td>Introductions and Conclusions: Set the Stage</td>\n",
       "      <td>NaN</td>\n",
       "      <td>1</td>\n",
       "      <td>285</td>\n",
       "      <td>2017-08-18</td>\n",
       "      <td>22:37:45</td>\n",
       "      <td>4</td>\n",
       "    </tr>\n",
       "    <tr>\n",
       "      <th>2</th>\n",
       "      <td>VIEW</td>\n",
       "      <td>5931852</td>\n",
       "      <td>NaN</td>\n",
       "      <td>WINDOWS_7</td>\n",
       "      <td>CHROME</td>\n",
       "      <td>CHROME</td>\n",
       "      <td>NaN</td>\n",
       "      <td>NaN</td>\n",
       "      <td>NaN</td>\n",
       "      <td>NaN</td>\n",
       "      <td>Paragraph Structure: Find the Balance</td>\n",
       "      <td>NaN</td>\n",
       "      <td>1</td>\n",
       "      <td>1635</td>\n",
       "      <td>2017-08-18</td>\n",
       "      <td>22:00:03</td>\n",
       "      <td>4</td>\n",
       "    </tr>\n",
       "    <tr>\n",
       "      <th>3</th>\n",
       "      <td>VIEW</td>\n",
       "      <td>5931852</td>\n",
       "      <td>NaN</td>\n",
       "      <td>WINDOWS_7</td>\n",
       "      <td>CHROME</td>\n",
       "      <td>CHROME</td>\n",
       "      <td>NaN</td>\n",
       "      <td>NaN</td>\n",
       "      <td>NaN</td>\n",
       "      <td>NaN</td>\n",
       "      <td>Paragraph Structure: Find the Balance</td>\n",
       "      <td>NaN</td>\n",
       "      <td>1</td>\n",
       "      <td>3555</td>\n",
       "      <td>2017-08-18</td>\n",
       "      <td>21:00:01</td>\n",
       "      <td>4</td>\n",
       "    </tr>\n",
       "    <tr>\n",
       "      <th>4</th>\n",
       "      <td>VIEW</td>\n",
       "      <td>5931852</td>\n",
       "      <td>NaN</td>\n",
       "      <td>WINDOWS_7</td>\n",
       "      <td>CHROME</td>\n",
       "      <td>CHROME</td>\n",
       "      <td>NaN</td>\n",
       "      <td>NaN</td>\n",
       "      <td>NaN</td>\n",
       "      <td>NaN</td>\n",
       "      <td>Paragraph Structure: Find the Balance</td>\n",
       "      <td>NaN</td>\n",
       "      <td>1</td>\n",
       "      <td>30</td>\n",
       "      <td>2017-08-18</td>\n",
       "      <td>20:59:28</td>\n",
       "      <td>4</td>\n",
       "    </tr>\n",
       "    <tr>\n",
       "      <th>5</th>\n",
       "      <td>SHARE</td>\n",
       "      <td>5864595</td>\n",
       "      <td>197521.0</td>\n",
       "      <td>NaN</td>\n",
       "      <td>NaN</td>\n",
       "      <td>NaN</td>\n",
       "      <td>Client Solutions</td>\n",
       "      <td>10-Aug-2017</td>\n",
       "      <td>3.0</td>\n",
       "      <td>3:27:06</td>\n",
       "      <td>English/Writing GameScapes and Games</td>\n",
       "      <td>WEB</td>\n",
       "      <td>1</td>\n",
       "      <td>1240</td>\n",
       "      <td>2017-08-18</td>\n",
       "      <td>20:56:00</td>\n",
       "      <td>4</td>\n",
       "    </tr>\n",
       "    <tr>\n",
       "      <th>6</th>\n",
       "      <td>VIEW</td>\n",
       "      <td>5864595</td>\n",
       "      <td>NaN</td>\n",
       "      <td>WINDOWS_7</td>\n",
       "      <td>IE11</td>\n",
       "      <td>IE11</td>\n",
       "      <td>NaN</td>\n",
       "      <td>NaN</td>\n",
       "      <td>NaN</td>\n",
       "      <td>NaN</td>\n",
       "      <td>Thesis Statements: What's the Point?</td>\n",
       "      <td>NaN</td>\n",
       "      <td>1</td>\n",
       "      <td>5</td>\n",
       "      <td>2017-08-18</td>\n",
       "      <td>20:55:11</td>\n",
       "      <td>4</td>\n",
       "    </tr>\n",
       "    <tr>\n",
       "      <th>7</th>\n",
       "      <td>SHARE</td>\n",
       "      <td>5926033</td>\n",
       "      <td>197521.0</td>\n",
       "      <td>NaN</td>\n",
       "      <td>NaN</td>\n",
       "      <td>NaN</td>\n",
       "      <td>Client Solutions</td>\n",
       "      <td>17-Aug-2017</td>\n",
       "      <td>21.0</td>\n",
       "      <td>21:41:24</td>\n",
       "      <td>Business Foundations</td>\n",
       "      <td>WEB</td>\n",
       "      <td>0</td>\n",
       "      <td>0</td>\n",
       "      <td>2017-08-17</td>\n",
       "      <td>21:41:24</td>\n",
       "      <td>3</td>\n",
       "    </tr>\n",
       "    <tr>\n",
       "      <th>8</th>\n",
       "      <td>SHARE</td>\n",
       "      <td>3837716</td>\n",
       "      <td>197521.0</td>\n",
       "      <td>NaN</td>\n",
       "      <td>NaN</td>\n",
       "      <td>NaN</td>\n",
       "      <td>Client Solutions</td>\n",
       "      <td>17-Aug-2017</td>\n",
       "      <td>21.0</td>\n",
       "      <td>21:33:05</td>\n",
       "      <td>Business Foundations</td>\n",
       "      <td>WEB</td>\n",
       "      <td>1</td>\n",
       "      <td>51490</td>\n",
       "      <td>2017-08-17</td>\n",
       "      <td>21:33:05</td>\n",
       "      <td>3</td>\n",
       "    </tr>\n",
       "    <tr>\n",
       "      <th>9</th>\n",
       "      <td>VIEW</td>\n",
       "      <td>197521</td>\n",
       "      <td>NaN</td>\n",
       "      <td>WINDOWS_10</td>\n",
       "      <td>CHROME</td>\n",
       "      <td>CHROME</td>\n",
       "      <td>NaN</td>\n",
       "      <td>NaN</td>\n",
       "      <td>NaN</td>\n",
       "      <td>NaN</td>\n",
       "      <td>DEMO - Planning and Writing</td>\n",
       "      <td>NaN</td>\n",
       "      <td>1</td>\n",
       "      <td>350</td>\n",
       "      <td>2017-08-17</td>\n",
       "      <td>3:11:48</td>\n",
       "      <td>3</td>\n",
       "    </tr>\n",
       "  </tbody>\n",
       "</table>\n",
       "</div>"
      ],
      "text/plain": [
       "  activity_type  user_id     rm_id     user_os viewing_app view_app_group  \\\n",
       "0         SHARE  5931852  197521.0         NaN         NaN            NaN   \n",
       "1          VIEW  5931852       NaN   WINDOWS_7      CHROME         CHROME   \n",
       "2          VIEW  5931852       NaN   WINDOWS_7      CHROME         CHROME   \n",
       "3          VIEW  5931852       NaN   WINDOWS_7      CHROME         CHROME   \n",
       "4          VIEW  5931852       NaN   WINDOWS_7      CHROME         CHROME   \n",
       "5         SHARE  5864595  197521.0         NaN         NaN            NaN   \n",
       "6          VIEW  5864595       NaN   WINDOWS_7        IE11           IE11   \n",
       "7         SHARE  5926033  197521.0         NaN         NaN            NaN   \n",
       "8         SHARE  3837716  197521.0         NaN         NaN            NaN   \n",
       "9          VIEW   197521       NaN  WINDOWS_10      CHROME         CHROME   \n",
       "\n",
       "        user_groups  shared_date  shared_hour shared_time  \\\n",
       "0  Client Solutions  18-Aug-2017          0.0     0:53:39   \n",
       "1               NaN          NaN          NaN         NaN   \n",
       "2               NaN          NaN          NaN         NaN   \n",
       "3               NaN          NaN          NaN         NaN   \n",
       "4               NaN          NaN          NaN         NaN   \n",
       "5  Client Solutions  10-Aug-2017          3.0     3:27:06   \n",
       "6               NaN          NaN          NaN         NaN   \n",
       "7  Client Solutions  17-Aug-2017         21.0    21:41:24   \n",
       "8  Client Solutions  17-Aug-2017         21.0    21:33:05   \n",
       "9               NaN          NaN          NaN         NaN   \n",
       "\n",
       "                               title_of_content share_channel  viewed  \\\n",
       "0          English/Writing GameScapes and Games           WEB       1   \n",
       "1  Introductions and Conclusions: Set the Stage           NaN       1   \n",
       "2         Paragraph Structure: Find the Balance           NaN       1   \n",
       "3         Paragraph Structure: Find the Balance           NaN       1   \n",
       "4         Paragraph Structure: Find the Balance           NaN       1   \n",
       "5          English/Writing GameScapes and Games           WEB       1   \n",
       "6          Thesis Statements: What's the Point?           NaN       1   \n",
       "7                          Business Foundations           WEB       0   \n",
       "8                          Business Foundations           WEB       1   \n",
       "9                   DEMO - Planning and Writing           NaN       1   \n",
       "\n",
       "   time_spent_in_seconds last_activity_date last_activity_time  weekday  \n",
       "0                   5505         2017-08-18           22:43:00        4  \n",
       "1                    285         2017-08-18           22:37:45        4  \n",
       "2                   1635         2017-08-18           22:00:03        4  \n",
       "3                   3555         2017-08-18           21:00:01        4  \n",
       "4                     30         2017-08-18           20:59:28        4  \n",
       "5                   1240         2017-08-18           20:56:00        4  \n",
       "6                      5         2017-08-18           20:55:11        4  \n",
       "7                      0         2017-08-17           21:41:24        3  \n",
       "8                  51490         2017-08-17           21:33:05        3  \n",
       "9                    350         2017-08-17            3:11:48        3  "
      ]
     },
     "execution_count": 32,
     "metadata": {},
     "output_type": "execute_result"
    }
   ],
   "source": [
    "df.head(10)"
   ]
  },
  {
   "cell_type": "code",
   "execution_count": 33,
   "metadata": {
    "collapsed": false
   },
   "outputs": [],
   "source": [
    "df['hour'] = pd.to_datetime(df['last_activity_time'], format='%H:%M:%S').dt.hour"
   ]
  },
  {
   "cell_type": "code",
   "execution_count": 34,
   "metadata": {
    "collapsed": false
   },
   "outputs": [
    {
     "data": {
      "text/plain": [
       "array([1, 0])"
      ]
     },
     "execution_count": 34,
     "metadata": {},
     "output_type": "execute_result"
    }
   ],
   "source": [
    "df.viewed.unique()"
   ]
  },
  {
   "cell_type": "code",
   "execution_count": 35,
   "metadata": {
    "collapsed": true
   },
   "outputs": [],
   "source": [
    "df[\"time_spent_mins\"] = df[\"time_spent_in_seconds\"]/60."
   ]
  },
  {
   "cell_type": "code",
   "execution_count": 36,
   "metadata": {
    "collapsed": false
   },
   "outputs": [
    {
     "data": {
      "text/plain": [
       "pandas.core.series.Series"
      ]
     },
     "execution_count": 36,
     "metadata": {},
     "output_type": "execute_result"
    }
   ],
   "source": [
    "hour_grouped = df.groupby(\"hour\")[\"time_spent_mins\"].sum()\n",
    "type(hour_grouped)"
   ]
  },
  {
   "cell_type": "code",
   "execution_count": 37,
   "metadata": {
    "collapsed": false
   },
   "outputs": [
    {
     "data": {
      "text/plain": [
       "<Container object of 24 artists>"
      ]
     },
     "execution_count": 37,
     "metadata": {},
     "output_type": "execute_result"
    },
    {
     "data": {
      "image/png": "[encoded data removed]",
      "text/plain": [
       "<matplotlib.figure.Figure at 0x113165b50>"
      ]
     },
     "metadata": {},
     "output_type": "display_data"
    }
   ],
   "source": [
    "plt.bar(xrange(0,24),hour_grouped)"
   ]
  },
  {
   "cell_type": "code",
   "execution_count": 38,
   "metadata": {
    "collapsed": true
   },
   "outputs": [],
   "source": [
    "users = df.user_id.unique()\n",
    "users = np.array(users)\n",
    "np.sort(users)\n",
    "df.loc[(df.user_id < 1000001),'user_id_group'] = 1\n",
    "df.loc[(df.user_id > 1000000) & (df.user_id < 1500001),'user_id_group'] = 2\n",
    "df.loc[(df.user_id > 1500000) & (df.user_id < 2000001),'user_id_group'] = 3\n",
    "df.loc[(df.user_id > 2000000) & (df.user_id < 2500001),'user_id_group'] = 4\n",
    "df.loc[(df.user_id > 2500000) & (df.user_id < 3000001),'user_id_group'] = 5\n",
    "df.loc[(df.user_id > 3000000) & (df.user_id < 3500001),'user_id_group'] = 6\n",
    "df.loc[(df.user_id > 3500000) & (df.user_id < 4000001),'user_id_group'] = 7\n",
    "df.loc[(df.user_id > 4000000) & (df.user_id < 4500001),'user_id_group'] = 8\n",
    "df.loc[(df.user_id > 4500000) & (df.user_id < 5000001),'user_id_group'] = 9\n",
    "df.loc[(df.user_id > 5000000) & (df.user_id < 5500001),'user_id_group'] = 10\n",
    "df.loc[(df.user_id > 5500000) & (df.user_id < 6000001),'user_id_group'] = 11\n"
   ]
  },
  {
   "cell_type": "code",
   "execution_count": 39,
   "metadata": {
    "collapsed": false
   },
   "outputs": [
    {
     "data": {
      "text/html": [
       "<div>\n",
       "<style>\n",
       "    .dataframe thead tr:only-child th {\n",
       "        text-align: right;\n",
       "    }\n",
       "\n",
       "    .dataframe thead th {\n",
       "        text-align: left;\n",
       "    }\n",
       "\n",
       "    .dataframe tbody tr th {\n",
       "        vertical-align: top;\n",
       "    }\n",
       "</style>\n",
       "<table border=\"1\" class=\"dataframe\">\n",
       "  <thead>\n",
       "    <tr style=\"text-align: right;\">\n",
       "      <th></th>\n",
       "      <th>activity_type</th>\n",
       "      <th>user_id</th>\n",
       "      <th>rm_id</th>\n",
       "      <th>user_os</th>\n",
       "      <th>viewing_app</th>\n",
       "      <th>view_app_group</th>\n",
       "      <th>user_groups</th>\n",
       "      <th>shared_date</th>\n",
       "      <th>shared_hour</th>\n",
       "      <th>shared_time</th>\n",
       "      <th>title_of_content</th>\n",
       "      <th>share_channel</th>\n",
       "      <th>viewed</th>\n",
       "      <th>time_spent_in_seconds</th>\n",
       "      <th>last_activity_date</th>\n",
       "      <th>last_activity_time</th>\n",
       "      <th>weekday</th>\n",
       "      <th>hour</th>\n",
       "      <th>time_spent_mins</th>\n",
       "      <th>user_id_group</th>\n",
       "    </tr>\n",
       "  </thead>\n",
       "  <tbody>\n",
       "    <tr>\n",
       "      <th>0</th>\n",
       "      <td>SHARE</td>\n",
       "      <td>5931852</td>\n",
       "      <td>197521.0</td>\n",
       "      <td>NaN</td>\n",
       "      <td>NaN</td>\n",
       "      <td>NaN</td>\n",
       "      <td>Client Solutions</td>\n",
       "      <td>18-Aug-2017</td>\n",
       "      <td>0.0</td>\n",
       "      <td>0:53:39</td>\n",
       "      <td>English/Writing GameScapes and Games</td>\n",
       "      <td>WEB</td>\n",
       "      <td>1</td>\n",
       "      <td>5505</td>\n",
       "      <td>2017-08-18</td>\n",
       "      <td>22:43:00</td>\n",
       "      <td>4</td>\n",
       "      <td>22</td>\n",
       "      <td>91.75</td>\n",
       "      <td>11.0</td>\n",
       "    </tr>\n",
       "    <tr>\n",
       "      <th>1</th>\n",
       "      <td>VIEW</td>\n",
       "      <td>5931852</td>\n",
       "      <td>NaN</td>\n",
       "      <td>WINDOWS_7</td>\n",
       "      <td>CHROME</td>\n",
       "      <td>CHROME</td>\n",
       "      <td>NaN</td>\n",
       "      <td>NaN</td>\n",
       "      <td>NaN</td>\n",
       "      <td>NaN</td>\n",
       "      <td>Introductions and Conclusions: Set the Stage</td>\n",
       "      <td>NaN</td>\n",
       "      <td>1</td>\n",
       "      <td>285</td>\n",
       "      <td>2017-08-18</td>\n",
       "      <td>22:37:45</td>\n",
       "      <td>4</td>\n",
       "      <td>22</td>\n",
       "      <td>4.75</td>\n",
       "      <td>11.0</td>\n",
       "    </tr>\n",
       "    <tr>\n",
       "      <th>2</th>\n",
       "      <td>VIEW</td>\n",
       "      <td>5931852</td>\n",
       "      <td>NaN</td>\n",
       "      <td>WINDOWS_7</td>\n",
       "      <td>CHROME</td>\n",
       "      <td>CHROME</td>\n",
       "      <td>NaN</td>\n",
       "      <td>NaN</td>\n",
       "      <td>NaN</td>\n",
       "      <td>NaN</td>\n",
       "      <td>Paragraph Structure: Find the Balance</td>\n",
       "      <td>NaN</td>\n",
       "      <td>1</td>\n",
       "      <td>1635</td>\n",
       "      <td>2017-08-18</td>\n",
       "      <td>22:00:03</td>\n",
       "      <td>4</td>\n",
       "      <td>22</td>\n",
       "      <td>27.25</td>\n",
       "      <td>11.0</td>\n",
       "    </tr>\n",
       "    <tr>\n",
       "      <th>3</th>\n",
       "      <td>VIEW</td>\n",
       "      <td>5931852</td>\n",
       "      <td>NaN</td>\n",
       "      <td>WINDOWS_7</td>\n",
       "      <td>CHROME</td>\n",
       "      <td>CHROME</td>\n",
       "      <td>NaN</td>\n",
       "      <td>NaN</td>\n",
       "      <td>NaN</td>\n",
       "      <td>NaN</td>\n",
       "      <td>Paragraph Structure: Find the Balance</td>\n",
       "      <td>NaN</td>\n",
       "      <td>1</td>\n",
       "      <td>3555</td>\n",
       "      <td>2017-08-18</td>\n",
       "      <td>21:00:01</td>\n",
       "      <td>4</td>\n",
       "      <td>21</td>\n",
       "      <td>59.25</td>\n",
       "      <td>11.0</td>\n",
       "    </tr>\n",
       "    <tr>\n",
       "      <th>4</th>\n",
       "      <td>VIEW</td>\n",
       "      <td>5931852</td>\n",
       "      <td>NaN</td>\n",
       "      <td>WINDOWS_7</td>\n",
       "      <td>CHROME</td>\n",
       "      <td>CHROME</td>\n",
       "      <td>NaN</td>\n",
       "      <td>NaN</td>\n",
       "      <td>NaN</td>\n",
       "      <td>NaN</td>\n",
       "      <td>Paragraph Structure: Find the Balance</td>\n",
       "      <td>NaN</td>\n",
       "      <td>1</td>\n",
       "      <td>30</td>\n",
       "      <td>2017-08-18</td>\n",
       "      <td>20:59:28</td>\n",
       "      <td>4</td>\n",
       "      <td>20</td>\n",
       "      <td>0.50</td>\n",
       "      <td>11.0</td>\n",
       "    </tr>\n",
       "  </tbody>\n",
       "</table>\n",
       "</div>"
      ],
      "text/plain": [
       "  activity_type  user_id     rm_id    user_os viewing_app view_app_group  \\\n",
       "0         SHARE  5931852  197521.0        NaN         NaN            NaN   \n",
       "1          VIEW  5931852       NaN  WINDOWS_7      CHROME         CHROME   \n",
       "2          VIEW  5931852       NaN  WINDOWS_7      CHROME         CHROME   \n",
       "3          VIEW  5931852       NaN  WINDOWS_7      CHROME         CHROME   \n",
       "4          VIEW  5931852       NaN  WINDOWS_7      CHROME         CHROME   \n",
       "\n",
       "        user_groups  shared_date  shared_hour shared_time  \\\n",
       "0  Client Solutions  18-Aug-2017          0.0     0:53:39   \n",
       "1               NaN          NaN          NaN         NaN   \n",
       "2               NaN          NaN          NaN         NaN   \n",
       "3               NaN          NaN          NaN         NaN   \n",
       "4               NaN          NaN          NaN         NaN   \n",
       "\n",
       "                               title_of_content share_channel  viewed  \\\n",
       "0          English/Writing GameScapes and Games           WEB       1   \n",
       "1  Introductions and Conclusions: Set the Stage           NaN       1   \n",
       "2         Paragraph Structure: Find the Balance           NaN       1   \n",
       "3         Paragraph Structure: Find the Balance           NaN       1   \n",
       "4         Paragraph Structure: Find the Balance           NaN       1   \n",
       "\n",
       "   time_spent_in_seconds last_activity_date last_activity_time  weekday  hour  \\\n",
       "0                   5505         2017-08-18           22:43:00        4    22   \n",
       "1                    285         2017-08-18           22:37:45        4    22   \n",
       "2                   1635         2017-08-18           22:00:03        4    22   \n",
       "3                   3555         2017-08-18           21:00:01        4    21   \n",
       "4                     30         2017-08-18           20:59:28        4    20   \n",
       "\n",
       "   time_spent_mins  user_id_group  \n",
       "0            91.75           11.0  \n",
       "1             4.75           11.0  \n",
       "2            27.25           11.0  \n",
       "3            59.25           11.0  \n",
       "4             0.50           11.0  "
      ]
     },
     "execution_count": 39,
     "metadata": {},
     "output_type": "execute_result"
    }
   ],
   "source": [
    "df.head()"
   ]
  },
  {
   "cell_type": "code",
   "execution_count": 40,
   "metadata": {
    "collapsed": false
   },
   "outputs": [
    {
     "data": {
      "text/plain": [
       "array(['SHARE', 'VIEW'], dtype=object)"
      ]
     },
     "execution_count": 40,
     "metadata": {},
     "output_type": "execute_result"
    }
   ],
   "source": [
    "df.activity_type.unique()"
   ]
  },
  {
   "cell_type": "code",
   "execution_count": 46,
   "metadata": {
    "collapsed": false
   },
   "outputs": [
    {
     "data": {
      "text/plain": [
       "Index([u'activity_type', u'user_id', u'rm_id', u'user_os', u'viewing_app',\n",
       "       u'view_app_group', u'user_groups', u'shared_date', u'shared_hour',\n",
       "       u'shared_time', u'title_of_content', u'share_channel', u'viewed',\n",
       "       u'time_spent_in_seconds', u'last_activity_date', u'last_activity_time',\n",
       "       u'weekday', u'hour', u'time_spent_mins', u'user_id_group'],\n",
       "      dtype='object')"
      ]
     },
     "execution_count": 46,
     "metadata": {},
     "output_type": "execute_result"
    }
   ],
   "source": [
    "share_df = df[df.activity_type == \"SHARE\"]\n",
    "share_df.columns"
   ]
  },
  {
   "cell_type": "code",
   "execution_count": 47,
   "metadata": {
    "collapsed": false
   },
   "outputs": [],
   "source": [
    "share_df = share_df.drop([\"user_os\", \"viewing_app\"], axis=1)"
   ]
  },
  {
   "cell_type": "code",
   "execution_count": 48,
   "metadata": {
    "collapsed": false
   },
   "outputs": [
    {
     "data": {
      "text/plain": [
       "(array([ 5.,  1.,  0.,  0.,  1.,  2.,  0.,  1.,  0.,  1.]),\n",
       " array([   3. ,   12.7,   22.4,   32.1,   41.8,   51.5,   61.2,   70.9,\n",
       "          80.6,   90.3,  100. ]),\n",
       " <a list of 10 Patch objects>)"
      ]
     },
     "execution_count": 48,
     "metadata": {},
     "output_type": "execute_result"
    },
    {
     "data": {
      "image/png": "[encoded data removed]",
      "text/plain": [
       "<matplotlib.figure.Figure at 0x1138ff190>"
      ]
     },
     "metadata": {},
     "output_type": "display_data"
    }
   ],
   "source": [
    "plt.hist(share_df.groupby(\"user_id_group\")[\"user_id\"].count())\n"
   ]
  },
  {
   "cell_type": "code",
   "execution_count": 57,
   "metadata": {
    "collapsed": false
   },
   "outputs": [
    {
     "data": {
      "text/plain": [
       "<matplotlib.axes._subplots.AxesSubplot at 0x1142df850>"
      ]
     },
     "execution_count": 57,
     "metadata": {},
     "output_type": "execute_result"
    },
    {
     "data": {
      "image/png": "[encoded data removed]",
      "text/plain": [
       "<matplotlib.figure.Figure at 0x114123950>"
      ]
     },
     "metadata": {},
     "output_type": "display_data"
    }
   ],
   "source": [
    "sns.countplot(y=\"user_id_group\", hue=\"share_channel\", data=share_df, palette=\"Greens_d\")"
   ]
  },
  {
   "cell_type": "code",
   "execution_count": 83,
   "metadata": {
    "collapsed": false
   },
   "outputs": [
    {
     "data": {
      "text/plain": [
       "<matplotlib.axes._subplots.AxesSubplot at 0x115e89b50>"
      ]
     },
     "execution_count": 83,
     "metadata": {},
     "output_type": "execute_result"
    },
    {
     "data": {
      "image/png": "[encoded data removed]",
      "text/plain": [
       "<matplotlib.figure.Figure at 0x1150c5650>"
      ]
     },
     "metadata": {},
     "output_type": "display_data"
    }
   ],
   "source": [
    "sns.countplot(x=\"user_id_group\", hue=\"share_channel\", data=share_df, palette=\"Greens_d\")"
   ]
  },
  {
   "cell_type": "code",
   "execution_count": 58,
   "metadata": {
    "collapsed": false
   },
   "outputs": [
    {
     "data": {
      "text/plain": [
       "array([ 11.,   7.,   1.,   6.,   4.,   5.,   3.,  10.,   9.,   2.,   8.])"
      ]
     },
     "execution_count": 58,
     "metadata": {},
     "output_type": "execute_result"
    }
   ],
   "source": [
    "df.user_id_group.unique()"
   ]
  },
  {
   "cell_type": "code",
   "execution_count": 59,
   "metadata": {
    "collapsed": false
   },
   "outputs": [
    {
     "data": {
      "text/plain": [
       "(array([ 581.,    5.,   41.,   32.,   30.,   28.,   24.,  754.,  505.,\n",
       "         310.,  153.]),\n",
       " array([  1.        ,   1.90909091,   2.81818182,   3.72727273,\n",
       "          4.63636364,   5.54545455,   6.45454545,   7.36363636,\n",
       "          8.27272727,   9.18181818,  10.09090909,  11.        ]),\n",
       " <a list of 11 Patch objects>)"
      ]
     },
     "execution_count": 59,
     "metadata": {},
     "output_type": "execute_result"
    },
    {
     "data": {
      "image/png": "[encoded data removed]",
      "text/plain": [
       "<matplotlib.figure.Figure at 0x114123310>"
      ]
     },
     "metadata": {},
     "output_type": "display_data"
    }
   ],
   "source": [
    "plt.hist(df.user_id_group, bins = 11)"
   ]
  },
  {
   "cell_type": "code",
   "execution_count": 84,
   "metadata": {
    "collapsed": false
   },
   "outputs": [
    {
     "data": {
      "text/plain": [
       "(378, 263)"
      ]
     },
     "execution_count": 84,
     "metadata": {},
     "output_type": "execute_result"
    }
   ],
   "source": [
    "len(share_df), len(share_df.user_id.unique())"
   ]
  },
  {
   "cell_type": "code",
   "execution_count": 61,
   "metadata": {
    "collapsed": false
   },
   "outputs": [
    {
     "data": {
      "text/plain": [
       "<Container object of 11 artists>"
      ]
     },
     "execution_count": 61,
     "metadata": {},
     "output_type": "execute_result"
    },
    {
     "data": {
      "image/png": "[encoded data removed]",
      "text/plain": [
       "<matplotlib.figure.Figure at 0x113e3ab10>"
      ]
     },
     "metadata": {},
     "output_type": "display_data"
    }
   ],
   "source": [
    "plt.bar( xrange(1,12),share_df.groupby(\"user_id_group\")[\"time_spent_mins\"].count())"
   ]
  },
  {
   "cell_type": "code",
   "execution_count": 62,
   "metadata": {
    "collapsed": false
   },
   "outputs": [
    {
     "data": {
      "text/plain": [
       "<Container object of 11 artists>"
      ]
     },
     "execution_count": 62,
     "metadata": {},
     "output_type": "execute_result"
    },
    {
     "data": {
      "image/png": "[encoded data removed]",
      "text/plain": [
       "<matplotlib.figure.Figure at 0x11473ccd0>"
      ]
     },
     "metadata": {},
     "output_type": "display_data"
    }
   ],
   "source": [
    "plt.bar( xrange(1,12),share_df.groupby(\"user_id_group\")[\"time_spent_mins\"].sum())"
   ]
  },
  {
   "cell_type": "code",
   "execution_count": 64,
   "metadata": {
    "collapsed": false
   },
   "outputs": [],
   "source": [
    "# share_df_with_channel = pd.get_dummies(share_df, columns=[\"share_channel\"])\n",
    "# share_df.head()"
   ]
  },
  {
   "cell_type": "code",
   "execution_count": 86,
   "metadata": {
    "collapsed": false
   },
   "outputs": [
    {
     "data": {
      "image/png": "[encoded data removed]",
      "text/plain": [
       "<matplotlib.figure.Figure at 0x11617c550>"
      ]
     },
     "metadata": {},
     "output_type": "display_data"
    }
   ],
   "source": [
    "plt.hist(share_df[\"time_spent_in_seconds\"])\n",
    "plt.yscale(\"log\")"
   ]
  },
  {
   "cell_type": "code",
   "execution_count": 70,
   "metadata": {
    "collapsed": false
   },
   "outputs": [
    {
     "data": {
      "text/plain": [
       "<Container object of 7 artists>"
      ]
     },
     "execution_count": 70,
     "metadata": {},
     "output_type": "execute_result"
    },
    {
     "data": {
      "image/png": "[encoded data removed]",
      "text/plain": [
       "<matplotlib.figure.Figure at 0x113f24c50>"
      ]
     },
     "metadata": {},
     "output_type": "display_data"
    }
   ],
   "source": [
    "plt.bar(xrange(0,7),(share_df.groupby(\"weekday\")[\"time_spent_mins\"].sum()))"
   ]
  },
  {
   "cell_type": "code",
   "execution_count": 75,
   "metadata": {
    "collapsed": false
   },
   "outputs": [
    {
     "data": {
      "text/plain": [
       "<matplotlib.axes._subplots.AxesSubplot at 0x115094490>"
      ]
     },
     "execution_count": 75,
     "metadata": {},
     "output_type": "execute_result"
    },
    {
     "data": {
      "image/png": "[encoded data removed]",
      "text/plain": [
       "<matplotlib.figure.Figure at 0x114e151d0>"
      ]
     },
     "metadata": {},
     "output_type": "display_data"
    }
   ],
   "source": [
    "sns.countplot(y=\"user_id_group\", hue=\"weekday\", data=share_df, palette=\"Greens_d\")"
   ]
  },
  {
   "cell_type": "code",
   "execution_count": 77,
   "metadata": {
    "collapsed": false
   },
   "outputs": [
    {
     "data": {
      "text/plain": [
       "<matplotlib.axes._subplots.AxesSubplot at 0x114a2b2d0>"
      ]
     },
     "execution_count": 77,
     "metadata": {},
     "output_type": "execute_result"
    },
    {
     "data": {
      "image/png": "[encoded data removed]",
      "text/plain": [
       "<matplotlib.figure.Figure at 0x1148a9c90>"
      ]
     },
     "metadata": {},
     "output_type": "display_data"
    }
   ],
   "source": [
    "sns.barplot(x=\"user_id_group\", y=\"time_spent_mins\", hue=\"weekday\", data=share_df)"
   ]
  },
  {
   "cell_type": "code",
   "execution_count": 81,
   "metadata": {
    "collapsed": false
   },
   "outputs": [
    {
     "data": {
      "text/html": [
       "<div>\n",
       "<style>\n",
       "    .dataframe thead tr:only-child th {\n",
       "        text-align: right;\n",
       "    }\n",
       "\n",
       "    .dataframe thead th {\n",
       "        text-align: left;\n",
       "    }\n",
       "\n",
       "    .dataframe tbody tr th {\n",
       "        vertical-align: top;\n",
       "    }\n",
       "</style>\n",
       "<table border=\"1\" class=\"dataframe\">\n",
       "  <thead>\n",
       "    <tr style=\"text-align: right;\">\n",
       "      <th></th>\n",
       "      <th>activity_type</th>\n",
       "      <th>user_id</th>\n",
       "      <th>rm_id</th>\n",
       "      <th>view_app_group</th>\n",
       "      <th>user_groups</th>\n",
       "      <th>shared_date</th>\n",
       "      <th>shared_hour</th>\n",
       "      <th>shared_time</th>\n",
       "      <th>title_of_content</th>\n",
       "      <th>share_channel</th>\n",
       "      <th>viewed</th>\n",
       "      <th>time_spent_in_seconds</th>\n",
       "      <th>last_activity_date</th>\n",
       "      <th>last_activity_time</th>\n",
       "      <th>weekday</th>\n",
       "      <th>hour</th>\n",
       "      <th>time_spent_mins</th>\n",
       "      <th>user_id_group</th>\n",
       "    </tr>\n",
       "  </thead>\n",
       "  <tbody>\n",
       "    <tr>\n",
       "      <th>502</th>\n",
       "      <td>SHARE</td>\n",
       "      <td>4932020</td>\n",
       "      <td>2978304.0</td>\n",
       "      <td>NaN</td>\n",
       "      <td>Red River College</td>\n",
       "      <td>7-Mar-2017</td>\n",
       "      <td>19.0</td>\n",
       "      <td>19:50:02</td>\n",
       "      <td>RRC_EALN-1009 (1) Communication for Business a...</td>\n",
       "      <td>WEB</td>\n",
       "      <td>1</td>\n",
       "      <td>54240</td>\n",
       "      <td>2017-05-22</td>\n",
       "      <td>2:23:00</td>\n",
       "      <td>0</td>\n",
       "      <td>2</td>\n",
       "      <td>904.000000</td>\n",
       "      <td>9.0</td>\n",
       "    </tr>\n",
       "    <tr>\n",
       "      <th>508</th>\n",
       "      <td>SHARE</td>\n",
       "      <td>4932048</td>\n",
       "      <td>2978304.0</td>\n",
       "      <td>NaN</td>\n",
       "      <td>Red River College</td>\n",
       "      <td>7-Mar-2017</td>\n",
       "      <td>20.0</td>\n",
       "      <td>20:01:08</td>\n",
       "      <td>RRC_EALN-1009 (1) Communication for Business a...</td>\n",
       "      <td>WEB</td>\n",
       "      <td>1</td>\n",
       "      <td>18000</td>\n",
       "      <td>2017-05-21</td>\n",
       "      <td>9:46:00</td>\n",
       "      <td>6</td>\n",
       "      <td>9</td>\n",
       "      <td>300.000000</td>\n",
       "      <td>9.0</td>\n",
       "    </tr>\n",
       "    <tr>\n",
       "      <th>646</th>\n",
       "      <td>SHARE</td>\n",
       "      <td>4931956</td>\n",
       "      <td>2978304.0</td>\n",
       "      <td>NaN</td>\n",
       "      <td>Red River College</td>\n",
       "      <td>7-Mar-2017</td>\n",
       "      <td>19.0</td>\n",
       "      <td>19:38:28</td>\n",
       "      <td>RRC_EALN-1009 (1) Communication for Business a...</td>\n",
       "      <td>WEB</td>\n",
       "      <td>1</td>\n",
       "      <td>10375</td>\n",
       "      <td>2017-05-05</td>\n",
       "      <td>1:34:00</td>\n",
       "      <td>4</td>\n",
       "      <td>1</td>\n",
       "      <td>172.916667</td>\n",
       "      <td>9.0</td>\n",
       "    </tr>\n",
       "    <tr>\n",
       "      <th>661</th>\n",
       "      <td>SHARE</td>\n",
       "      <td>4350969</td>\n",
       "      <td>197521.0</td>\n",
       "      <td>NaN</td>\n",
       "      <td>Client Solutions</td>\n",
       "      <td>4-May-2017</td>\n",
       "      <td>3.0</td>\n",
       "      <td>3:49:29</td>\n",
       "      <td>Example Desktop with Nessus</td>\n",
       "      <td>WEB</td>\n",
       "      <td>0</td>\n",
       "      <td>0</td>\n",
       "      <td>2017-05-04</td>\n",
       "      <td>3:49:29</td>\n",
       "      <td>3</td>\n",
       "      <td>3</td>\n",
       "      <td>0.000000</td>\n",
       "      <td>8.0</td>\n",
       "    </tr>\n",
       "    <tr>\n",
       "      <th>704</th>\n",
       "      <td>SHARE</td>\n",
       "      <td>4369845</td>\n",
       "      <td>2978304.0</td>\n",
       "      <td>NaN</td>\n",
       "      <td>Red River College</td>\n",
       "      <td>26-Jan-2017</td>\n",
       "      <td>2.0</td>\n",
       "      <td>2:54:43</td>\n",
       "      <td>RRC_EALN-1009 (1) Communication for Business a...</td>\n",
       "      <td>WEB</td>\n",
       "      <td>1</td>\n",
       "      <td>20157</td>\n",
       "      <td>2017-04-26</td>\n",
       "      <td>3:46:00</td>\n",
       "      <td>2</td>\n",
       "      <td>3</td>\n",
       "      <td>335.950000</td>\n",
       "      <td>8.0</td>\n",
       "    </tr>\n",
       "  </tbody>\n",
       "</table>\n",
       "</div>"
      ],
      "text/plain": [
       "    activity_type  user_id      rm_id view_app_group        user_groups  \\\n",
       "502         SHARE  4932020  2978304.0            NaN  Red River College   \n",
       "508         SHARE  4932048  2978304.0            NaN  Red River College   \n",
       "646         SHARE  4931956  2978304.0            NaN  Red River College   \n",
       "661         SHARE  4350969   197521.0            NaN   Client Solutions   \n",
       "704         SHARE  4369845  2978304.0            NaN  Red River College   \n",
       "\n",
       "     shared_date  shared_hour shared_time  \\\n",
       "502   7-Mar-2017         19.0    19:50:02   \n",
       "508   7-Mar-2017         20.0    20:01:08   \n",
       "646   7-Mar-2017         19.0    19:38:28   \n",
       "661   4-May-2017          3.0     3:49:29   \n",
       "704  26-Jan-2017          2.0     2:54:43   \n",
       "\n",
       "                                      title_of_content share_channel  viewed  \\\n",
       "502  RRC_EALN-1009 (1) Communication for Business a...           WEB       1   \n",
       "508  RRC_EALN-1009 (1) Communication for Business a...           WEB       1   \n",
       "646  RRC_EALN-1009 (1) Communication for Business a...           WEB       1   \n",
       "661                        Example Desktop with Nessus           WEB       0   \n",
       "704  RRC_EALN-1009 (1) Communication for Business a...           WEB       1   \n",
       "\n",
       "     time_spent_in_seconds last_activity_date last_activity_time  weekday  \\\n",
       "502                  54240         2017-05-22            2:23:00        0   \n",
       "508                  18000         2017-05-21            9:46:00        6   \n",
       "646                  10375         2017-05-05            1:34:00        4   \n",
       "661                      0         2017-05-04            3:49:29        3   \n",
       "704                  20157         2017-04-26            3:46:00        2   \n",
       "\n",
       "     hour  time_spent_mins  user_id_group  \n",
       "502     2       904.000000            9.0  \n",
       "508     9       300.000000            9.0  \n",
       "646     1       172.916667            9.0  \n",
       "661     3         0.000000            8.0  \n",
       "704     3       335.950000            8.0  "
      ]
     },
     "execution_count": 81,
     "metadata": {},
     "output_type": "execute_result"
    }
   ],
   "source": [
    "new_share_df = share_df[(share_df[\"user_id_group\"] == 8) | (share_df[\"user_id_group\"] == 9)]\n",
    "new_share_df.head()"
   ]
  },
  {
   "cell_type": "code",
   "execution_count": 82,
   "metadata": {
    "collapsed": false
   },
   "outputs": [
    {
     "data": {
      "text/plain": [
       "<matplotlib.axes._subplots.AxesSubplot at 0x115cecf10>"
      ]
     },
     "execution_count": 82,
     "metadata": {},
     "output_type": "execute_result"
    },
    {
     "data": {
      "image/png": "[encoded data removed]",
      "text/plain": [
       "<matplotlib.figure.Figure at 0x1150c5c50>"
      ]
     },
     "metadata": {},
     "output_type": "display_data"
    }
   ],
   "source": [
    "sns.barplot(x=\"user_id_group\", y=\"time_spent_mins\", hue=\"weekday\", data=new_share_df)"
   ]
  },
  {
   "cell_type": "code",
   "execution_count": 72,
   "metadata": {
    "collapsed": false
   },
   "outputs": [
    {
     "data": {
      "image/png": "[encoded data removed]",
      "text/plain": [
       "<matplotlib.figure.Figure at 0x114b76d90>"
      ]
     },
     "metadata": {},
     "output_type": "display_data"
    }
   ],
   "source": [
    "h = plt.hist(share_df.time_spent_mins)"
   ]
  },
  {
   "cell_type": "code",
   "execution_count": 73,
   "metadata": {
    "collapsed": false
   },
   "outputs": [
    {
     "data": {
      "text/plain": [
       "<matplotlib.axes._subplots.AxesSubplot at 0x114d978d0>"
      ]
     },
     "execution_count": 73,
     "metadata": {},
     "output_type": "execute_result"
    },
    {
     "data": {
      "image/png": "[encoded data removed]",
      "text/plain": [
       "<matplotlib.figure.Figure at 0x114bcf4d0>"
      ]
     },
     "metadata": {},
     "output_type": "display_data"
    }
   ],
   "source": [
    "sns.stripplot(x=\"share_channel\", y=\"time_spent_mins\", data=share_df)\n"
   ]
  },
  {
   "cell_type": "code",
   "execution_count": 74,
   "metadata": {
    "collapsed": false
   },
   "outputs": [
    {
     "data": {
      "text/plain": [
       "<matplotlib.axes._subplots.AxesSubplot at 0x114df6b50>"
      ]
     },
     "execution_count": 74,
     "metadata": {},
     "output_type": "execute_result"
    },
    {
     "data": {
      "image/png": "[encoded data removed]",
      "text/plain": [
       "<matplotlib.figure.Figure at 0x114bc0d50>"
      ]
     },
     "metadata": {},
     "output_type": "display_data"
    }
   ],
   "source": [
    "sns.stripplot(x=\"hour\", y=\"time_spent_mins\", data=share_df)\n"
   ]
  },
  {
   "cell_type": "code",
   "execution_count": 87,
   "metadata": {
    "collapsed": false
   },
   "outputs": [],
   "source": [
    "view_df = df[(df.activity_type == \"VIEW\") & (df.user_os != \"NaN\")]\n",
    "view_df = view_df.drop([\"share_channel\", \"user_groups\", \"shared_date\", \"shared_time\", \"rm_id\", \"shared_hour\"], axis =1)\n"
   ]
  },
  {
   "cell_type": "code",
   "execution_count": 88,
   "metadata": {
    "collapsed": false
   },
   "outputs": [
    {
     "data": {
      "text/plain": [
       "369"
      ]
     },
     "execution_count": 88,
     "metadata": {},
     "output_type": "execute_result"
    }
   ],
   "source": [
    "view_df.title_of_content.unique()\n",
    "len(view_df.title_of_content.unique())"
   ]
  },
  {
   "cell_type": "code",
   "execution_count": 89,
   "metadata": {
    "collapsed": false
   },
   "outputs": [
    {
     "data": {
      "text/html": [
       "<div>\n",
       "<style>\n",
       "    .dataframe thead tr:only-child th {\n",
       "        text-align: right;\n",
       "    }\n",
       "\n",
       "    .dataframe thead th {\n",
       "        text-align: left;\n",
       "    }\n",
       "\n",
       "    .dataframe tbody tr th {\n",
       "        vertical-align: top;\n",
       "    }\n",
       "</style>\n",
       "<table border=\"1\" class=\"dataframe\">\n",
       "  <thead>\n",
       "    <tr style=\"text-align: right;\">\n",
       "      <th></th>\n",
       "      <th>activity_type</th>\n",
       "      <th>user_id</th>\n",
       "      <th>user_os</th>\n",
       "      <th>viewing_app</th>\n",
       "      <th>view_app_group</th>\n",
       "      <th>title_of_content</th>\n",
       "      <th>viewed</th>\n",
       "      <th>time_spent_in_seconds</th>\n",
       "      <th>last_activity_date</th>\n",
       "      <th>last_activity_time</th>\n",
       "      <th>weekday</th>\n",
       "      <th>hour</th>\n",
       "      <th>time_spent_mins</th>\n",
       "      <th>user_id_group</th>\n",
       "    </tr>\n",
       "  </thead>\n",
       "  <tbody>\n",
       "    <tr>\n",
       "      <th>1</th>\n",
       "      <td>VIEW</td>\n",
       "      <td>5931852</td>\n",
       "      <td>WINDOWS_7</td>\n",
       "      <td>CHROME</td>\n",
       "      <td>CHROME</td>\n",
       "      <td>Introductions and Conclusions: Set the Stage</td>\n",
       "      <td>1</td>\n",
       "      <td>285</td>\n",
       "      <td>2017-08-18</td>\n",
       "      <td>22:37:45</td>\n",
       "      <td>4</td>\n",
       "      <td>22</td>\n",
       "      <td>4.750000</td>\n",
       "      <td>11.0</td>\n",
       "    </tr>\n",
       "    <tr>\n",
       "      <th>2</th>\n",
       "      <td>VIEW</td>\n",
       "      <td>5931852</td>\n",
       "      <td>WINDOWS_7</td>\n",
       "      <td>CHROME</td>\n",
       "      <td>CHROME</td>\n",
       "      <td>Paragraph Structure: Find the Balance</td>\n",
       "      <td>1</td>\n",
       "      <td>1635</td>\n",
       "      <td>2017-08-18</td>\n",
       "      <td>22:00:03</td>\n",
       "      <td>4</td>\n",
       "      <td>22</td>\n",
       "      <td>27.250000</td>\n",
       "      <td>11.0</td>\n",
       "    </tr>\n",
       "    <tr>\n",
       "      <th>3</th>\n",
       "      <td>VIEW</td>\n",
       "      <td>5931852</td>\n",
       "      <td>WINDOWS_7</td>\n",
       "      <td>CHROME</td>\n",
       "      <td>CHROME</td>\n",
       "      <td>Paragraph Structure: Find the Balance</td>\n",
       "      <td>1</td>\n",
       "      <td>3555</td>\n",
       "      <td>2017-08-18</td>\n",
       "      <td>21:00:01</td>\n",
       "      <td>4</td>\n",
       "      <td>21</td>\n",
       "      <td>59.250000</td>\n",
       "      <td>11.0</td>\n",
       "    </tr>\n",
       "    <tr>\n",
       "      <th>4</th>\n",
       "      <td>VIEW</td>\n",
       "      <td>5931852</td>\n",
       "      <td>WINDOWS_7</td>\n",
       "      <td>CHROME</td>\n",
       "      <td>CHROME</td>\n",
       "      <td>Paragraph Structure: Find the Balance</td>\n",
       "      <td>1</td>\n",
       "      <td>30</td>\n",
       "      <td>2017-08-18</td>\n",
       "      <td>20:59:28</td>\n",
       "      <td>4</td>\n",
       "      <td>20</td>\n",
       "      <td>0.500000</td>\n",
       "      <td>11.0</td>\n",
       "    </tr>\n",
       "    <tr>\n",
       "      <th>6</th>\n",
       "      <td>VIEW</td>\n",
       "      <td>5864595</td>\n",
       "      <td>WINDOWS_7</td>\n",
       "      <td>IE11</td>\n",
       "      <td>IE11</td>\n",
       "      <td>Thesis Statements: What's the Point?</td>\n",
       "      <td>1</td>\n",
       "      <td>5</td>\n",
       "      <td>2017-08-18</td>\n",
       "      <td>20:55:11</td>\n",
       "      <td>4</td>\n",
       "      <td>20</td>\n",
       "      <td>0.083333</td>\n",
       "      <td>11.0</td>\n",
       "    </tr>\n",
       "  </tbody>\n",
       "</table>\n",
       "</div>"
      ],
      "text/plain": [
       "  activity_type  user_id    user_os viewing_app view_app_group  \\\n",
       "1          VIEW  5931852  WINDOWS_7      CHROME         CHROME   \n",
       "2          VIEW  5931852  WINDOWS_7      CHROME         CHROME   \n",
       "3          VIEW  5931852  WINDOWS_7      CHROME         CHROME   \n",
       "4          VIEW  5931852  WINDOWS_7      CHROME         CHROME   \n",
       "6          VIEW  5864595  WINDOWS_7        IE11           IE11   \n",
       "\n",
       "                               title_of_content  viewed  \\\n",
       "1  Introductions and Conclusions: Set the Stage       1   \n",
       "2         Paragraph Structure: Find the Balance       1   \n",
       "3         Paragraph Structure: Find the Balance       1   \n",
       "4         Paragraph Structure: Find the Balance       1   \n",
       "6          Thesis Statements: What's the Point?       1   \n",
       "\n",
       "   time_spent_in_seconds last_activity_date last_activity_time  weekday  hour  \\\n",
       "1                    285         2017-08-18           22:37:45        4    22   \n",
       "2                   1635         2017-08-18           22:00:03        4    22   \n",
       "3                   3555         2017-08-18           21:00:01        4    21   \n",
       "4                     30         2017-08-18           20:59:28        4    20   \n",
       "6                      5         2017-08-18           20:55:11        4    20   \n",
       "\n",
       "   time_spent_mins  user_id_group  \n",
       "1         4.750000           11.0  \n",
       "2        27.250000           11.0  \n",
       "3        59.250000           11.0  \n",
       "4         0.500000           11.0  \n",
       "6         0.083333           11.0  "
      ]
     },
     "execution_count": 89,
     "metadata": {},
     "output_type": "execute_result"
    }
   ],
   "source": [
    "view_df.head()"
   ]
  },
  {
   "cell_type": "code",
   "execution_count": 91,
   "metadata": {
    "collapsed": false
   },
   "outputs": [
    {
     "data": {
      "image/png": "[encoded data removed]",
      "text/plain": [
       "<matplotlib.figure.Figure at 0x116739050>"
      ]
     },
     "metadata": {},
     "output_type": "display_data"
    }
   ],
   "source": [
    "plt.hist(view_df.time_spent_mins)\n",
    "plt.yscale(\"log\")"
   ]
  },
  {
   "cell_type": "code",
   "execution_count": 97,
   "metadata": {
    "collapsed": false
   },
   "outputs": [
    {
     "data": {
      "text/plain": [
       "array(['CHROME', 'IE11', 'SAFARI', 'EDGE', 'FIREFOX', 'MOBILE_SAFARI', nan,\n",
       "       'CHROME_MOBILE'], dtype=object)"
      ]
     },
     "execution_count": 97,
     "metadata": {},
     "output_type": "execute_result"
    }
   ],
   "source": [
    "view_df.view_app_group.unique()"
   ]
  },
  {
   "cell_type": "code",
   "execution_count": 101,
   "metadata": {
    "collapsed": false
   },
   "outputs": [
    {
     "data": {
      "text/plain": [
       "<Container object of 7 artists>"
      ]
     },
     "execution_count": 101,
     "metadata": {},
     "output_type": "execute_result"
    },
    {
     "data": {
      "image/png": "[encoded data removed]",
      "text/plain": [
       "<matplotlib.figure.Figure at 0x1141271d0>"
      ]
     },
     "metadata": {},
     "output_type": "display_data"
    }
   ],
   "source": [
    "plt.bar(xrange(0,7), view_df.groupby(\"view_app_group\")[\"time_spent_in_seconds\"].sum())\n"
   ]
  },
  {
   "cell_type": "code",
   "execution_count": 102,
   "metadata": {
    "collapsed": false
   },
   "outputs": [
    {
     "data": {
      "text/plain": [
       "<Container object of 24 artists>"
      ]
     },
     "execution_count": 102,
     "metadata": {},
     "output_type": "execute_result"
    },
    {
     "data": {
      "image/png": "[encoded data removed]",
      "text/plain": [
       "<matplotlib.figure.Figure at 0x116915290>"
      ]
     },
     "metadata": {},
     "output_type": "display_data"
    }
   ],
   "source": [
    "plt.bar(xrange(0,24), view_df.groupby(\"hour\")[\"time_spent_in_seconds\"].sum())\n"
   ]
  },
  {
   "cell_type": "code",
   "execution_count": null,
   "metadata": {
    "collapsed": false
   },
   "outputs": [],
   "source": [
    "def get_view_time_per_user(unique_users, view_df):\n",
    "    for user in unique_users:\n",
    "        temp_time = view_df[\"user_id\"]"
   ]
  },
  {
   "cell_type": "code",
   "execution_count": 103,
   "metadata": {
    "collapsed": false
   },
   "outputs": [
    {
     "data": {
      "text/plain": [
       "<Container object of 7 artists>"
      ]
     },
     "execution_count": 103,
     "metadata": {},
     "output_type": "execute_result"
    },
    {
     "data": {
      "image/png": "[encoded data removed]",
      "text/plain": [
       "<matplotlib.figure.Figure at 0x116866250>"
      ]
     },
     "metadata": {},
     "output_type": "display_data"
    }
   ],
   "source": [
    "plt.bar(xrange(0,7), view_df.groupby(\"weekday\")[\"time_spent_in_seconds\"].sum())\n"
   ]
  },
  {
   "cell_type": "code",
   "execution_count": null,
   "metadata": {
    "collapsed": false
   },
   "outputs": [],
   "source": [
    "# Get the time spent on different apps\n",
    "def get_time_spent(view_df):\n",
    "    time_spent_secs = view_df[\"time_spent_in_seconds\"].sum()\n",
    "    view_apps = view_df[\"view_app_group\"].unique()\n",
    "\n",
    "    time_spent_dict = {}\n",
    "    for v in view_apps:\n",
    "        temp_time = view_df[view_df.view_app_group == v][\"time_spent_in_seconds\"].sum()\n",
    "        time_spent_dict[v] = [temp_time, float(temp_time)*100/time_spent_secs]\n",
    "    return time_spent_dict\n",
    "\n",
    "get_time_spent(view_df)"
   ]
  },
  {
   "cell_type": "code",
   "execution_count": null,
   "metadata": {
    "collapsed": false
   },
   "outputs": [],
   "source": [
    "view_df[\"viewing_app\"]"
   ]
  },
  {
   "cell_type": "code",
   "execution_count": 104,
   "metadata": {
    "collapsed": false
   },
   "outputs": [
    {
     "data": {
      "text/plain": [
       "<matplotlib.axes._subplots.AxesSubplot at 0x11603cad0>"
      ]
     },
     "execution_count": 104,
     "metadata": {},
     "output_type": "execute_result"
    },
    {
     "data": {
      "image/png": "[encoded data removed]",
      "text/plain": [
       "<matplotlib.figure.Figure at 0x116a90e90>"
      ]
     },
     "metadata": {},
     "output_type": "display_data"
    }
   ],
   "source": [
    "sns.stripplot(x=\"view_app_group\", y=\"time_spent_mins\", data=view_df)\n",
    "#plt.bar(xrange(0,8), view_df.groupby(\"view_app_group\")[\"time_spent_mins\"].sum())"
   ]
  },
  {
   "cell_type": "code",
   "execution_count": 105,
   "metadata": {
    "collapsed": false
   },
   "outputs": [
    {
     "data": {
      "text/plain": [
       "<matplotlib.axes._subplots.AxesSubplot at 0x116283d10>"
      ]
     },
     "execution_count": 105,
     "metadata": {},
     "output_type": "execute_result"
    },
    {
     "data": {
      "image/png": "[encoded data removed]",
      "text/plain": [
       "<matplotlib.figure.Figure at 0x116368950>"
      ]
     },
     "metadata": {},
     "output_type": "display_data"
    }
   ],
   "source": [
    "sns.boxplot(x=\"view_app_group\", y=\"time_spent_mins\", data=view_df, hue = \"view_app_group\")\n"
   ]
  },
  {
   "cell_type": "code",
   "execution_count": 106,
   "metadata": {
    "collapsed": false
   },
   "outputs": [
    {
     "data": {
      "text/plain": [
       "<matplotlib.axes._subplots.AxesSubplot at 0x116a32210>"
      ]
     },
     "execution_count": 106,
     "metadata": {},
     "output_type": "execute_result"
    },
    {
     "data": {
      "image/png": "[encoded data removed]",
      "text/plain": [
       "<matplotlib.figure.Figure at 0x1161ab6d0>"
      ]
     },
     "metadata": {},
     "output_type": "display_data"
    }
   ],
   "source": [
    "sns.barplot(x=\"view_app_group\", y=\"time_spent_mins\", data=view_df, hue = \"view_app_group\")\n"
   ]
  },
  {
   "cell_type": "code",
   "execution_count": 107,
   "metadata": {
    "collapsed": false
   },
   "outputs": [
    {
     "data": {
      "text/plain": [
       "<matplotlib.axes._subplots.AxesSubplot at 0x11720a3d0>"
      ]
     },
     "execution_count": 107,
     "metadata": {},
     "output_type": "execute_result"
    },
    {
     "data": {
      "image/png": "[encoded data removed]",
      "text/plain": [
       "<matplotlib.figure.Figure at 0x1161ab050>"
      ]
     },
     "metadata": {},
     "output_type": "display_data"
    }
   ],
   "source": [
    "sns.countplot(x=\"view_app_group\", data=view_df, hue = \"view_app_group\")\n"
   ]
  },
  {
   "cell_type": "code",
   "execution_count": 108,
   "metadata": {
    "collapsed": false
   },
   "outputs": [
    {
     "data": {
      "text/plain": [
       "21"
      ]
     },
     "execution_count": 108,
     "metadata": {},
     "output_type": "execute_result"
    }
   ],
   "source": [
    "unique_view_app = view_df[\"viewing_app\"].unique()\n",
    "len(unique_view_app)"
   ]
  },
  {
   "cell_type": "code",
   "execution_count": 109,
   "metadata": {
    "collapsed": false
   },
   "outputs": [
    {
     "data": {
      "text/plain": [
       "<Container object of 20 artists>"
      ]
     },
     "execution_count": 109,
     "metadata": {},
     "output_type": "execute_result"
    },
    {
     "data": {
      "image/png": "[encoded data removed]",
      "text/plain": [
       "<matplotlib.figure.Figure at 0x116e38b10>"
      ]
     },
     "metadata": {},
     "output_type": "display_data"
    }
   ],
   "source": [
    "plt.bar(xrange(0,20),view_df.groupby(\"viewing_app\")[\"time_spent_mins\"].sum())"
   ]
  },
  {
   "cell_type": "code",
   "execution_count": 114,
   "metadata": {
    "collapsed": false
   },
   "outputs": [
    {
     "data": {
      "text/plain": [
       "<matplotlib.axes._subplots.AxesSubplot at 0x117a86550>"
      ]
     },
     "execution_count": 114,
     "metadata": {},
     "output_type": "execute_result"
    },
    {
     "data": {
      "image/png": "[encoded data removed]",
      "text/plain": [
       "<matplotlib.figure.Figure at 0x1173d64d0>"
      ]
     },
     "metadata": {},
     "output_type": "display_data"
    }
   ],
   "source": [
    "sns.stripplot(x=view_df[\"view_app_group\"], y=view_df[\"time_spent_mins\"], data=view_df, jitter=True)\n"
   ]
  },
  {
   "cell_type": "code",
   "execution_count": 111,
   "metadata": {
    "collapsed": false
   },
   "outputs": [
    {
     "data": {
      "text/plain": [
       "<matplotlib.axes._subplots.AxesSubplot at 0x11786abd0>"
      ]
     },
     "execution_count": 111,
     "metadata": {},
     "output_type": "execute_result"
    },
    {
     "data": {
      "image/png": "[encoded data removed]",
      "text/plain": [
       "<matplotlib.figure.Figure at 0x11761b190>"
      ]
     },
     "metadata": {},
     "output_type": "display_data"
    }
   ],
   "source": [
    "sns.stripplot(x=view_df[\"weekday\"], y=view_df[\"time_spent_mins\"], data=view_df, jitter=True)\n",
    "\n"
   ]
  },
  {
   "cell_type": "code",
   "execution_count": 112,
   "metadata": {
    "collapsed": false
   },
   "outputs": [],
   "source": [
    "user_os_list = view_df.user_os.unique()\n",
    "X= view_df.as_matrix(columns = [\"user_id_group\",\"time_spent_mins\",\"view_app_num\"])"
   ]
  },
  {
   "cell_type": "code",
   "execution_count": 115,
   "metadata": {
    "collapsed": false
   },
   "outputs": [],
   "source": [
    "# clusterer = KMeans(n_clusters=7, random_state=10)\n",
    "# clusterer.fit(X)\n",
    "\n"
   ]
  },
  {
   "cell_type": "code",
   "execution_count": null,
   "metadata": {
    "collapsed": true
   },
   "outputs": [],
   "source": []
  }
 ],
 "metadata": {
  "kernelspec": {
   "display_name": "Python [conda root]",
   "language": "python",
   "name": "conda-root-py"
  },
  "language_info": {
   "codemirror_mode": {
    "name": "ipython",
    "version": 2
   },
   "file_extension": ".py",
   "mimetype": "text/x-python",
   "name": "python",
   "nbconvert_exporter": "python",
   "pygments_lexer": "ipython2",
   "version": "2.7.13"
  }
 },
 "nbformat": 4,
 "nbformat_minor": 2
}
